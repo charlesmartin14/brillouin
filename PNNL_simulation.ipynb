{
 "cells": [
  {
   "cell_type": "markdown",
   "metadata": {
    "ExecuteTime": {
     "end_time": "2016-07-29T12:55:37.282809",
     "start_time": "2016-07-29T12:55:37.278722"
    }
   },
   "source": [
    "# Reproduction of PNNL Simulations\n",
    "\n",
    "file:///Users/charlesmartin14/Downloads/TAP-BEC-02-08-13FinalReport%20(2).pdf\n",
    "\n",
    "For a review of the basic physics, see\n",
    "\n",
    "https://arxiv.org/pdf/0911.0058.pdf"
   ]
  },
  {
   "cell_type": "code",
   "execution_count": 2,
   "metadata": {
    "ExecuteTime": {
     "end_time": "2016-08-05T12:22:20.552674",
     "start_time": "2016-08-05T12:22:20.247710"
    },
    "collapsed": true
   },
   "outputs": [],
   "source": [
    "import numpy as np"
   ]
  },
  {
   "cell_type": "markdown",
   "metadata": {
    "ExecuteTime": {
     "end_time": "2016-07-29T13:18:01.216254",
     "start_time": "2016-07-29T13:18:01.212552"
    }
   },
   "source": [
    "may need to use arbitrary precision library\n",
    "\n",
    "http://stackoverflow.com/questions/29488213/handling-very-small-numbers-in-python"
   ]
  },
  {
   "cell_type": "markdown",
   "metadata": {
    "ExecuteTime": {
     "end_time": "2016-07-29T13:30:28.405463",
     "start_time": "2016-07-29T13:30:28.402986"
    }
   },
   "source": [
    "#### constants"
   ]
  },
  {
   "cell_type": "code",
   "execution_count": 9,
   "metadata": {
    "ExecuteTime": {
     "end_time": "2016-08-05T12:23:38.229594",
     "start_time": "2016-08-05T12:23:38.220175"
    },
    "collapsed": false
   },
   "outputs": [],
   "source": [
    "pi = np.pi\n",
    "\n",
    "# Hbar * c \n",
    "hbarc = 197.3269631 # MeV−fm\n",
    "\n",
    "# ?\n",
    "rc = 299792458 # m/s\n",
    "alpha = 7.2973525376*1e-3\n",
    "e = 1.602176487*1e-13 # J/MeV\n",
    "\n",
    "# Avagadro's number\n",
    "dN0 = 6.02214179*1e23 # molˆ−1\n",
    "\n",
    "# Masses of proton, neutron, elecron in MeV\n",
    "dMp = 938.272013 # MeV\n",
    "dMn = 939.565346 # MeV\n",
    "dme = 0.510998910 # MeV\n",
    "\n",
    "\n",
    "dmnu = 1.e-8 # MeV\n",
    "dMd = 1875.612793 # MeV\n",
    "GF = 1.16637*1e-11 # 1/MeVˆ2\n",
    "GV = 1.0 # 1.013 d0\n",
    "GA = -1.285*GV # −1.267\n",
    "gnpd = 10.6617553 #  11.3 in 9704031 v5 . pdf (pg 8−9)\n",
    "dkapp= 1.793 \n",
    "dkapn= -1.913\n",
    "dufac= 0.0"
   ]
  },
  {
   "cell_type": "markdown",
   "metadata": {
    "ExecuteTime": {
     "end_time": "2016-08-05T12:22:48.260040",
     "start_time": "2016-08-05T12:22:48.256867"
    }
   },
   "source": [
    "#### Mass of Neutron - Proton (in MeV)"
   ]
  },
  {
   "cell_type": "code",
   "execution_count": 16,
   "metadata": {
    "ExecuteTime": {
     "end_time": "2016-08-05T12:31:34.206701",
     "start_time": "2016-08-05T12:31:34.203220"
    },
    "collapsed": false
   },
   "outputs": [
    {
     "name": "stdout",
     "output_type": "stream",
     "text": [
      "-1.293333 MeV\n"
     ]
    }
   ],
   "source": [
    "print dMp - dMn, \"MeV\""
   ]
  },
  {
   "cell_type": "markdown",
   "metadata": {
    "ExecuteTime": {
     "end_time": "2016-08-05T12:23:33.871816",
     "start_time": "2016-08-05T12:23:33.869484"
    }
   },
   "source": [
    "#### Mass of Proton + Electron - Neutron (in MeV, KeV)\n",
    "\n",
    "782 KeV needed"
   ]
  },
  {
   "cell_type": "code",
   "execution_count": 32,
   "metadata": {
    "ExecuteTime": {
     "end_time": "2016-08-05T12:45:16.322746",
     "start_time": "2016-08-05T12:45:16.319166"
    },
    "collapsed": false
   },
   "outputs": [
    {
     "name": "stdout",
     "output_type": "stream",
     "text": [
      "-782.33409 KeV\n",
      "-0.78233409 MeV\n"
     ]
    }
   ],
   "source": [
    "Ediff = (dMp + dme - dMn)\n",
    "print Ediff*1000.0, \"KeV\"\n",
    "print Ediff, \"MeV\""
   ]
  },
  {
   "cell_type": "markdown",
   "metadata": {},
   "source": [
    "### Expected confinement by uncertainty principle\n",
    "\n",
    "$$\\Delta x\\Delta p\\geq\\dfrac{\\hbar}{2}$$\n",
    "\n",
    "\n",
    "see https://en.wikipedia.org/wiki/Planck_constant\n",
    "\n",
    "$$\\hbar=\\dfrac{h}{2\\pi}$$\n",
    "\n",
    "$$\\hbar c=197.3269631\\; MeV\\;fm$$\n",
    "\n",
    "$$1\\;fm=10^{−15}\\;m=10^{-5}\\;\\mathring{A}$$\n",
    "\n",
    "$$\\Delta p=E_{diff}=|M_{p}+M_{e}-M_{n}|=1.293333\\;MeV$$\n",
    "\n",
    "So the expected confinment is on the order of:\n",
    "\n",
    "\n",
    "$$\\Delta x\\geq \\dfrac{\\hbar}{2\\Delta p}$$\n",
    "\n",
    "$$\\Delta x\\sim\\mathcal{O}(\\dfrac{\\hbar}{2 E_{diff}})\\sim 0.00126\\;\\mathring{A}$$\n",
    "\n"
   ]
  },
  {
   "cell_type": "code",
   "execution_count": 60,
   "metadata": {
    "ExecuteTime": {
     "end_time": "2016-08-05T13:22:05.213122",
     "start_time": "2016-08-05T13:22:05.208973"
    },
    "collapsed": false
   },
   "outputs": [
    {
     "name": "stdout",
     "output_type": "stream",
     "text": [
      "0.00126114255803 Angstrom\n"
     ]
    }
   ],
   "source": [
    "print (-hbarc/(2.*Ediff))*10**(-5), \"Angstrom\""
   ]
  },
  {
   "cell_type": "markdown",
   "metadata": {
    "ExecuteTime": {
     "end_time": "2016-08-05T12:58:08.864970",
     "start_time": "2016-08-05T12:58:08.861869"
    }
   },
   "source": [
    "#### This seems 10X off from our last calculations ?\n",
    "\n",
    "And it turns out to be about 5X off "
   ]
  },
  {
   "cell_type": "markdown",
   "metadata": {
    "ExecuteTime": {
     "end_time": "2016-08-05T13:06:08.398903",
     "start_time": "2016-08-05T13:06:08.396616"
    }
   },
   "source": [
    "### We will find that the necessary confimement is 0.009 Angstrom\n",
    "\n",
    "$$\\Delta x=0.009\\;\\mathring{A}$$\n",
    "\n",
    "which yields\n",
    "\n",
    "$$\\Delta p\\geq \\dfrac{\\hbar}{2\\Delta x}$$\n",
    "\n",
    "$$\\Delta p\\geq \\dfrac{\\hbar}{2*0.009\\;\\mathring{A}}\\sim 123.3\\;MeV$$\n"
   ]
  },
  {
   "cell_type": "code",
   "execution_count": 61,
   "metadata": {
    "ExecuteTime": {
     "end_time": "2016-08-05T13:22:05.687104",
     "start_time": "2016-08-05T13:22:05.683949"
    },
    "collapsed": false
   },
   "outputs": [
    {
     "name": "stdout",
     "output_type": "stream",
     "text": [
      "energy lower bound 123.329351938 Mev\n"
     ]
    }
   ],
   "source": [
    "print \"energy lower bound\", 1000.0*(hbarc/(2.*0.008))*10**(-5), \"Mev\""
   ]
  },
  {
   "cell_type": "markdown",
   "metadata": {
    "ExecuteTime": {
     "end_time": "2016-08-05T13:10:01.631878",
     "start_time": "2016-08-05T13:10:01.629360"
    }
   },
   "source": [
    "#### So the ballpark calculation does not get the energetics right...we are off by a factor of 5\n",
    "\n",
    "That's ok...I'll review again after I get through more of Rick's code"
   ]
  },
  {
   "cell_type": "markdown",
   "metadata": {
    "ExecuteTime": {
     "end_time": "2016-08-05T13:12:13.011877",
     "start_time": "2016-08-05T13:12:13.009416"
    }
   },
   "source": [
    "#### Note: the Radius of the proton  is\n",
    "\n",
    "$$0.84–0.87\\;fm<0.9\\;x\\;10^{-15}m$$\n",
    "$$0.9\\;x\\;10^{-15}m\\;x\\;\\dfrac{1\\mathring{A}}{10^{-10}m}=9\\;x\\;10^{-5}\\;\\mathring{A}$$\n",
    "\n",
    "so we stil have a long ways to go"
   ]
  },
  {
   "cell_type": "code",
   "execution_count": 62,
   "metadata": {
    "ExecuteTime": {
     "end_time": "2016-08-05T13:22:06.378016",
     "start_time": "2016-08-05T13:22:06.374527"
    },
    "collapsed": false
   },
   "outputs": [
    {
     "data": {
      "text/plain": [
       "8.999999999999999e-05"
      ]
     },
     "execution_count": 62,
     "metadata": {},
     "output_type": "execute_result"
    }
   ],
   "source": [
    "0.9*10e-15/1e-10"
   ]
  },
  {
   "cell_type": "markdown",
   "metadata": {
    "ExecuteTime": {
     "end_time": "2016-08-05T13:19:37.671818",
     "start_time": "2016-08-05T13:19:37.669136"
    }
   },
   "source": [
    "### PNNL work\n",
    "\n",
    "##### Confinement of electron to a box (L) around the proton"
   ]
  },
  {
   "cell_type": "code",
   "execution_count": null,
   "metadata": {
    "collapsed": true
   },
   "outputs": [],
   "source": []
  },
  {
   "cell_type": "markdown",
   "metadata": {},
   "source": [
    "### Particle in the box wavefunction\n",
    "\n",
    "$$\\phi(x)=\\left(\\dfrac{2}{L}\\right)^{\\frac{3}{2}}cos\\left(\\dfrac{\\pi x}{L}\\right)cos\\left(\\dfrac{\\pi y}{L}\\right)cos\\left(\\dfrac{\\pi z}{L}\\right)$$\n",
    "\n",
    "The length L is presumably the lattice scale at a specified compression."
   ]
  },
  {
   "cell_type": "markdown",
   "metadata": {},
   "source": [
    "#### For the confined electron and proton\n",
    "\n",
    "$$E^{2}=M^{2}+p^{2}$$\n",
    "\n",
    "$$E^{2}_{e}=m^{2}_{e}+3\\left(\\dfrac{\\pi}{L}\\right)^{2}$$\n",
    "\n",
    "$$E^{2}_{p}=M^{2}_{p}+3\\left(\\dfrac{\\pi}{L}\\right)^{2}$$"
   ]
  },
  {
   "cell_type": "markdown",
   "metadata": {},
   "source": [
    "#### Relativistic energy calculation\n",
    "\n",
    "For the electron capture in the center-of-momentum (c.m.) frame, the threshold kinetic energy of the electron is given by\n",
    "\n",
    "$$K_{e}=E_{e}-m_{e}=\\dfrac{(M_{n}−m_{e}+m_{\\nu})^{2}−M^{2}_{p}}{2(M_{n}+m_{\\nu})}$$\n",
    "\n",
    "which is approximately 781.6 keV (or 783.1 keV in proton rest frame)\n",
    "\n",
    "#### This is pretty close to what we computed above using simpler arguments"
   ]
  },
  {
   "cell_type": "code",
   "execution_count": null,
   "metadata": {
    "collapsed": true
   },
   "outputs": [],
   "source": []
  },
  {
   "cell_type": "code",
   "execution_count": null,
   "metadata": {
    "collapsed": true
   },
   "outputs": [],
   "source": []
  },
  {
   "cell_type": "code",
   "execution_count": null,
   "metadata": {
    "collapsed": true
   },
   "outputs": [],
   "source": []
  },
  {
   "cell_type": "code",
   "execution_count": null,
   "metadata": {
    "collapsed": true
   },
   "outputs": [],
   "source": []
  },
  {
   "cell_type": "markdown",
   "metadata": {
    "ExecuteTime": {
     "end_time": "2016-07-29T13:31:44.590365",
     "start_time": "2016-07-29T13:31:44.586883"
    }
   },
   "source": [
    "#### Dirac Gamma matrices\n",
    "\n",
    "https://en.wikipedia.org/wiki/Gamma_matrices\n",
    "\n",
    "we can obtain from\n",
    "\n",
    "http://docs.sympy.org/dev/modules/physics/matrices.html"
   ]
  },
  {
   "cell_type": "markdown",
   "metadata": {
    "ExecuteTime": {
     "end_time": "2016-07-30T22:29:07.215037",
     "start_time": "2016-07-30T22:29:07.212295"
    }
   },
   "source": [
    "### Kinetic Energy"
   ]
  },
  {
   "cell_type": "code",
   "execution_count": null,
   "metadata": {
    "ExecuteTime": {
     "end_time": "2016-07-30T23:28:37.184801",
     "start_time": "2016-07-30T23:28:37.179699"
    },
    "collapsed": false
   },
   "outputs": [],
   "source": [
    "Ekemin = ((dMn + dmnu - dme)**2 - dMp**2)/(2.0*(dMn+dmnu))\n",
    "pmin = np.sqrt(( Ekemin+dme)**2 - dme**2)\n",
    "print \"Kinetic Energy terms\", Ekemin, pmin"
   ]
  },
  {
   "cell_type": "markdown",
   "metadata": {},
   "source": [
    "### NiH density parameters\n",
    "\n",
    "- densep = 7.0 # g/cc NiH density ??\n",
    "- dNiMW = 28.0 # g/mol NiH MW ??\n",
    "\n",
    "\n",
    "Number density of H in 1/(cm)ˆ3 or (MeV)ˆ3 ?\n",
    "\n",
    "- dndens = dN0∗densep/dNiMW\n",
    "\n",
    "Not used\n",
    "\n",
    "- rhoep = (( hbarc ∗ 1e−13)∗∗3)∗dndens\n",
    "- Vwire = pi ∗ ((0.031 d0 /2\n",
    "- protN = Vwire ∗dndens\n",
    "\n"
   ]
  },
  {
   "cell_type": "code",
   "execution_count": null,
   "metadata": {
    "ExecuteTime": {
     "end_time": "2016-07-30T23:29:09.158600",
     "start_time": "2016-07-30T23:29:09.155455"
    },
    "collapsed": false
   },
   "outputs": [],
   "source": [
    "densep = 7.0\n",
    "dNiMW = 28.0 \n",
    "dndens = dN0*densep/dNiMW"
   ]
  },
  {
   "cell_type": "markdown",
   "metadata": {
    "ExecuteTime": {
     "end_time": "2016-07-30T23:36:37.395399",
     "start_time": "2016-07-30T23:36:37.392720"
    }
   },
   "source": [
    "#### "
   ]
  },
  {
   "cell_type": "code",
   "execution_count": null,
   "metadata": {
    "ExecuteTime": {
     "end_time": "2016-07-30T23:36:49.106883",
     "start_time": "2016-07-30T23:36:49.103595"
    },
    "collapsed": false
   },
   "outputs": [],
   "source": [
    "print densep , dndens "
   ]
  },
  {
   "cell_type": "markdown",
   "metadata": {
    "ExecuteTime": {
     "end_time": "2016-07-31T00:03:58.990804",
     "start_time": "2016-07-31T00:03:58.988263"
    }
   },
   "source": [
    "### Matrix Elements \n",
    "\n",
    "#### electron capture cross section matrix elements in the V-A theory\n",
    "\n",
    "$$M_{fi}=\\dfrac{G_{F}}{\\sqrt{2}}\\bar{u}(p_{n},s_{n})(G_{V}-G_{A}\\gamma^{5})\\gamma^{\\mu}u(p_{p},s_{p})\\times\\bar{u}(k,s_{k})\\gamma_{u}(1-\\gamma^{5})u(s_{e},p_{e})$$\n",
    "\n",
    "where GF = 1.16637 × 10−5 GeV−2 and the neutron lifetime is reproduced with GA = 1\n",
    "and Gv = −1.285.7 , and \n",
    "$$s_{n}, s_{p},s_{k},s_{e}$$\n",
    "are 2-component spin vectors for the neutron, proton, nutrino, and electron, resp.\n",
    "\n",
    "#### proton collision cross section matrix elements in the V-A theory\n",
    "\n",
    "(more complicated due to internal nucleon structure)\n",
    "\n",
    "$$M_{fi}=\\dfrac{G_{F}}{\\sqrt{2}}g_{npd}\\bar{v}(v_{1},p_{1})\\mathcal{S}_{d}\\dfrac{p_{d}+p_{1}+M_{n}}{(p_{d}-p_{1})^{2}+M^{2}_{N}}(G_{V}-G_{A}\\gamma^{5})\\gamma^{\\mu}u(p_{2},s_{2})\\times\\bar{u}(k,s_{k})\\gamma_{u}(1-\\gamma^{5})v(s_{e},p_{e})-(1\\leftrightarrow 2)$$\n",
    "\n",
    "note: we only need spinv() and spinvbar() for the proton-proton collision term"
   ]
  },
  {
   "cell_type": "markdown",
   "metadata": {
    "ExecuteTime": {
     "end_time": "2016-07-30T23:37:15.220633",
     "start_time": "2016-07-30T23:37:15.216588"
    }
   },
   "source": [
    "### Dirac Gamma Matrices\n",
    "\n",
    "https://en.wikipedia.org/wiki/Gamma_matrices\n",
    "\n",
    "mgamma =  RSW cgamma, cgamma5\n",
    "\n",
    "If we need better performance, we can convert to numpy arrays\n",
    "\n",
    "http://stackoverflow.com/questions/17069864/what-is-the-best-way-to-convert-a-sympy-matrix-to-a-numpy-array-matrix\n",
    "\n",
    "np.array(g).astype(np.float64)\n"
   ]
  },
  {
   "cell_type": "code",
   "execution_count": null,
   "metadata": {
    "ExecuteTime": {
     "end_time": "2016-07-31T00:25:43.756710",
     "start_time": "2016-07-31T00:25:43.750730"
    },
    "collapsed": false
   },
   "outputs": [],
   "source": [
    "import sympy\n",
    "from sympy import *\n",
    "from sympy.physics.matrices import mgamma\n",
    "mgamma(0)"
   ]
  },
  {
   "cell_type": "markdown",
   "metadata": {
    "ExecuteTime": {
     "end_time": "2016-07-31T00:00:31.994875",
     "start_time": "2016-07-31T00:00:31.991133"
    }
   },
   "source": [
    "$$C_{left} = 1-\\gamma^{5}$$"
   ]
  },
  {
   "cell_type": "code",
   "execution_count": null,
   "metadata": {
    "ExecuteTime": {
     "end_time": "2016-07-31T00:25:44.045844",
     "start_time": "2016-07-31T00:25:44.038853"
    },
    "collapsed": false
   },
   "outputs": [],
   "source": [
    "cleft = diag(1,1,1,1) -mgamma(5)\n",
    "cleft"
   ]
  },
  {
   "cell_type": "markdown",
   "metadata": {},
   "source": [
    "$$C_{GVGA} = G_{V}-G_{A}\\gamma^{5}$$\n"
   ]
  },
  {
   "cell_type": "code",
   "execution_count": null,
   "metadata": {
    "ExecuteTime": {
     "end_time": "2016-07-31T00:25:45.604504",
     "start_time": "2016-07-31T00:25:45.598125"
    },
    "collapsed": false
   },
   "outputs": [],
   "source": [
    "cGVGA = diag(GV,GV,GV,GV) - GA*mgamma(5)\n",
    "cGVGA"
   ]
  },
  {
   "cell_type": "markdown",
   "metadata": {
    "ExecuteTime": {
     "end_time": "2016-07-31T00:27:49.277947",
     "start_time": "2016-07-31T00:27:49.275187"
    }
   },
   "source": [
    "### why do we need these diagonal 2x2 matrices ?"
   ]
  },
  {
   "cell_type": "code",
   "execution_count": null,
   "metadata": {
    "ExecuteTime": {
     "end_time": "2016-07-31T00:26:59.578120",
     "start_time": "2016-07-31T00:26:59.573868"
    },
    "collapsed": false
   },
   "outputs": [],
   "source": [
    "cs1 = diag(1,1)\n",
    "cs2 = diag(1,1)\n",
    "cse = diag(1,1)\n",
    "csk = diag(1,1)"
   ]
  },
  {
   "cell_type": "markdown",
   "metadata": {
    "ExecuteTime": {
     "end_time": "2016-07-31T00:28:03.242058",
     "start_time": "2016-07-31T00:28:03.239631"
    }
   },
   "source": [
    "### loop over iep ?\n",
    "\n",
    "Is this the size of the box ?"
   ]
  },
  {
   "cell_type": "code",
   "execution_count": null,
   "metadata": {
    "ExecuteTime": {
     "end_time": "2016-07-31T00:33:44.240143",
     "start_time": "2016-07-31T00:33:44.235394"
    },
    "collapsed": false
   },
   "outputs": [],
   "source": [
    "np.log(100.0)-np.log(1e-11)"
   ]
  },
  {
   "cell_type": "markdown",
   "metadata": {
    "ExecuteTime": {
     "end_time": "2016-07-31T00:51:41.401747",
     "start_time": "2016-07-31T00:51:41.399438"
    }
   },
   "source": [
    "### RLConf = Box confinment scale\n",
    "\n",
    "in units L (A°)"
   ]
  },
  {
   "cell_type": "code",
   "execution_count": null,
   "metadata": {
    "ExecuteTime": {
     "end_time": "2016-07-31T00:51:42.962466",
     "start_time": "2016-07-31T00:51:42.951667"
    },
    "collapsed": false
   },
   "outputs": [],
   "source": [
    "rlconfs = []\n",
    "peps = []\n",
    "for iep in range(500):\n",
    "    pgrid =  np.exp(np.log(1e-11)+(float(iep)/500.0)*(np.log(100.0)-np.log(1e-11)))\n",
    "    pep = ( pmin + pgrid )/np.sqrt(3.0)\n",
    "    peps.append(pep)\n",
    "    rlconf = (1e-5)*hbarc*np.pi/pep\n",
    "    rlconfs.append(rlconf)"
   ]
  },
  {
   "cell_type": "markdown",
   "metadata": {},
   "source": [
    "### Kinetic energy of each particle \n",
    "\n",
    "- EKn = p1 (0) − dMn\n",
    "- EKp = p2 (0) − dMp\n",
    "- EKe = pe (0) − dme\n",
    "- EKnu = pk(0) − dmnu\n",
    "\n"
   ]
  },
  {
   "cell_type": "markdown",
   "metadata": {},
   "source": [
    "For the electron capture in the center-of-momentum (c.m.) frame, the threshold kinetic energy of the electron is given by\n",
    "\n",
    "$$K_{e}=E_{e}-m_{e}=\\dfrac{(M_{n}−m_{e}+m_{\\nu})^{2}−M^{2}_{p}}{2(M_{n}+m_{\\nu})}$$\n",
    "\n",
    "which is approximately 781.6 keV (or 783.1 keV in proton rest frame)"
   ]
  },
  {
   "cell_type": "code",
   "execution_count": null,
   "metadata": {
    "collapsed": true
   },
   "outputs": [],
   "source": []
  },
  {
   "cell_type": "code",
   "execution_count": null,
   "metadata": {
    "collapsed": true
   },
   "outputs": [],
   "source": []
  },
  {
   "cell_type": "code",
   "execution_count": null,
   "metadata": {
    "collapsed": true
   },
   "outputs": [],
   "source": []
  },
  {
   "cell_type": "code",
   "execution_count": null,
   "metadata": {
    "ExecuteTime": {
     "end_time": "2016-07-31T08:22:02.988375",
     "start_time": "2016-07-31T08:22:02.968822"
    },
    "collapsed": false
   },
   "outputs": [],
   "source": [
    "#  returns 4 vectors:  p1 , p2 , pe, pk \n",
    "\n",
    "#  assumes exactly cubic lattic:  pep1 = pep2 = pep3 = +|- pep\n",
    "def pekin(x , phi , pep ):\n",
    "    \n",
    "    p1 = np.zeros(4)\n",
    "    p2 = np.zeros(4)\n",
    "    pe = np.zeros(4)\n",
    "    pk = np.zeros(4)\n",
    "    \n",
    "    # proton\n",
    "    p2[0] = dsqrt (dMp**2 + 3.0*pep**2)\n",
    "    p2[1] = -pep\n",
    "    p2[2] = -pep\n",
    "    p2[3] = -pep\n",
    "    \n",
    "    # electron\n",
    "    pe[0] = dsqrt (dme**2 + 3.0*pep**2)\n",
    "    pe[1] = pep\n",
    "    pe[2] = pep\n",
    "    pe[3] = pep\n",
    "    \n",
    "    Etot = p2[0] + pe[0]\n",
    "\n",
    "    Eknu = (( Etot-dmnu)**2 - dMn**2)/(2.0*Etot )\n",
    "    Ekn = (( Etot-dMn)**2 - dmnu**2)/(2.0*Etot )\n",
    "    pnu = np.sqrt((Eknu+dmnu)**2 - dmnu**2)\n",
    "    \n",
    "    pk[0] = Eknu + dmnu\n",
    "    pk[1] = pnu*np.sqrt(1.0 - x**2)*cos(phi)\n",
    "    pk[2] = pnu*np.sqrt(1.0 - x**2)*sin(phi)\n",
    "    pk[3] = pnu*x\n",
    "    \n",
    "    # vector element wise addition\n",
    "    # neutron\n",
    "    p1 = p2 + pe - pk\n",
    "    \n",
    "    return p1, p2, pe, pk"
   ]
  },
  {
   "cell_type": "markdown",
   "metadata": {},
   "source": [
    "### Dirac Spinors\n",
    "\n",
    "#### for particles\n",
    "$$u(\\overrightarrow{p},s=up)=\\sqrt{E+m}\\left[\\begin{array}{c}\n",
    "0\\\\\n",
    "1\\\\\n",
    "\\dfrac{p_{3}}{E+m}\\\\\n",
    "\\dfrac{p_{1}+ip_{2}}{E+m}\n",
    "\\end{array}\\right]\\;\\;u(\\overrightarrow{p},s=down)=\\sqrt{E+m}\\left[\\begin{array}{c}\n",
    "1\\\\\n",
    "0\\\\\n",
    "\\dfrac{p_{1}-ip_{2}}{E+m}\\\\\n",
    "\\dfrac{-p_{3}}{E+m}\n",
    "\\end{array}\\right]$$ "
   ]
  },
  {
   "cell_type": "code",
   "execution_count": null,
   "metadata": {
    "ExecuteTime": {
     "end_time": "2016-07-31T09:11:48.867837",
     "start_time": "2016-07-31T09:11:48.857420"
    },
    "collapsed": false
   },
   "outputs": [],
   "source": [
    "# dirac spinors \n",
    "def spinu(p ,mass):\n",
    "    s = np.diag([1,1])\n",
    "    \n",
    "    denom = p[0] + mass\n",
    "    \n",
    "    fac = np.sqrt(denom)\n",
    "    phi = fac*cs\n",
    "    \n",
    "    wu = np.zeros([4,2], dtype=np.complex_)\n",
    "    wu[0,0] = 1.0\n",
    "    wu[1,1] = 1.0\n",
    "\n",
    "    wu[2,0] = p[3] / denom\n",
    "    wu[2,1] = (p[1] - p[2]*1.j) / denom\n",
    "    wu[3,0] = (p[1] + p[2]*1.j) / denom\n",
    "    wu[3,1] = -(p[3]) / denom\n",
    "\n",
    "    u = wu*phi\n",
    "    \n",
    "    return u"
   ]
  },
  {
   "cell_type": "code",
   "execution_count": null,
   "metadata": {
    "ExecuteTime": {
     "end_time": "2016-07-31T21:08:35.108068",
     "start_time": "2016-07-31T21:08:35.103662"
    },
    "collapsed": true
   },
   "outputs": [],
   "source": [
    "def spinubar(p ,mass):\n",
    "    u = spinu(p, mass)\n",
    "    ubar = np.conjugate(u)\n",
    "    # why do we need this ?\n",
    "    ubar[2] = -ubar[2]\n",
    "    ubar[3] = -ubar[3]\n",
    "    \n",
    "    return ubar"
   ]
  },
  {
   "cell_type": "code",
   "execution_count": null,
   "metadata": {
    "collapsed": true
   },
   "outputs": [],
   "source": []
  },
  {
   "cell_type": "code",
   "execution_count": null,
   "metadata": {
    "collapsed": true
   },
   "outputs": [],
   "source": []
  },
  {
   "cell_type": "code",
   "execution_count": null,
   "metadata": {
    "ExecuteTime": {
     "end_time": "2016-07-31T01:07:12.122082",
     "start_time": "2016-07-31T01:07:12.118726"
    },
    "collapsed": false
   },
   "outputs": [],
   "source": [
    "# p:  4-vector\n",
    "def spinv(p ,mass):\n",
    "   \n",
    "    \n",
    "    "
   ]
  },
  {
   "cell_type": "code",
   "execution_count": null,
   "metadata": {
    "ExecuteTime": {
     "end_time": "2016-07-31T01:05:17.577851",
     "start_time": "2016-07-31T01:05:17.574570"
    },
    "collapsed": false
   },
   "outputs": [],
   "source": [
    "# p:  4-vector\n",
    "def spinubar(p ,mass):\n",
    "    cs = np.diag([1,1])\n",
    "    \n",
    "    "
   ]
  },
  {
   "cell_type": "code",
   "execution_count": null,
   "metadata": {
    "ExecuteTime": {
     "end_time": "2016-07-31T01:07:28.698763",
     "start_time": "2016-07-31T01:07:28.694616"
    },
    "collapsed": false
   },
   "outputs": [],
   "source": [
    "# p:  4-vector\n",
    "def spinvbar(p ,mass):\n",
    "    cs = np.diag([1,1])\n",
    "    \n",
    "    "
   ]
  },
  {
   "cell_type": "code",
   "execution_count": null,
   "metadata": {
    "collapsed": true
   },
   "outputs": [],
   "source": []
  },
  {
   "cell_type": "code",
   "execution_count": null,
   "metadata": {
    "ExecuteTime": {
     "end_time": "2016-07-29T13:17:32.132103",
     "start_time": "2016-07-29T13:17:32.127459"
    },
    "collapsed": false
   },
   "outputs": [],
   "source": [
    "def dgprod(ekn):\n",
    "    dgprod = (5.2828)*(1e-5)/np.sqrt(ekn)\n",
    "    dgprod = dgprod*1e-24 # cmˆ2\n",
    "    return dgprod"
   ]
  },
  {
   "cell_type": "code",
   "execution_count": null,
   "metadata": {
    "ExecuteTime": {
     "end_time": "2016-07-29T13:24:14.504377",
     "start_time": "2016-07-29T13:24:14.499880"
    },
    "collapsed": false
   },
   "outputs": [],
   "source": [
    "#\n",
    "#  redo as ?\n",
    "#   cubar.dot(ca).dot(cu)\n",
    "#\n",
    "def ubaru( cubar , ca , cu , cscal ):\n",
    "    cscal = 0.0\n",
    "    for i1 in range(4):\n",
    "        for i2 in range(4):\n",
    "            cscal += cubar[i1]*ca[i1,i2]*cu[i2]\n",
    "            \n"
   ]
  },
  {
   "cell_type": "code",
   "execution_count": null,
   "metadata": {
    "collapsed": true
   },
   "outputs": [],
   "source": []
  },
  {
   "cell_type": "code",
   "execution_count": null,
   "metadata": {
    "collapsed": true
   },
   "outputs": [],
   "source": []
  }
 ],
 "metadata": {
  "anaconda-cloud": {},
  "kernelspec": {
   "display_name": "Python [Root]",
   "language": "python",
   "name": "Python [Root]"
  },
  "language_info": {
   "codemirror_mode": {
    "name": "ipython",
    "version": 2
   },
   "file_extension": ".py",
   "mimetype": "text/x-python",
   "name": "python",
   "nbconvert_exporter": "python",
   "pygments_lexer": "ipython2",
   "version": "2.7.12"
  }
 },
 "nbformat": 4,
 "nbformat_minor": 0
}
