{
 "cells": [
  {
   "cell_type": "markdown",
   "metadata": {
    "ExecuteTime": {
     "end_time": "2016-07-29T12:55:37.282809",
     "start_time": "2016-07-29T12:55:37.278722"
    }
   },
   "source": [
    "# Reproduction of PNNL Simulations\n",
    "\n",
    "file:///Users/charlesmartin14/Downloads/TAP-BEC-02-08-13FinalReport%20(2).pdf\n",
    "\n",
    "For a review of the basic physics, see\n",
    "\n",
    "https://arxiv.org/pdf/0911.0058.pdf"
   ]
  },
  {
   "cell_type": "code",
   "execution_count": 69,
   "metadata": {
    "ExecuteTime": {
     "end_time": "2016-08-05T14:09:30.395786",
     "start_time": "2016-08-05T14:09:28.498725"
    },
    "collapsed": false
   },
   "outputs": [
    {
     "name": "stderr",
     "output_type": "stream",
     "text": [
      "/Users/charlesmartin14/anaconda/lib/python2.7/site-packages/matplotlib/font_manager.py:273: UserWarning: Matplotlib is building the font cache using fc-list. This may take a moment.\n",
      "  warnings.warn('Matplotlib is building the font cache using fc-list. This may take a moment.')\n"
     ]
    }
   ],
   "source": [
    "import matplotlib\n",
    "import numpy as np\n",
    "import matplotlib.pyplot as plt\n",
    "%matplotlib inline "
   ]
  },
  {
   "cell_type": "markdown",
   "metadata": {
    "ExecuteTime": {
     "end_time": "2016-07-29T13:18:01.216254",
     "start_time": "2016-07-29T13:18:01.212552"
    }
   },
   "source": [
    "may need to use arbitrary precision library\n",
    "\n",
    "http://stackoverflow.com/questions/29488213/handling-very-small-numbers-in-python"
   ]
  },
  {
   "cell_type": "markdown",
   "metadata": {
    "ExecuteTime": {
     "end_time": "2016-07-29T13:30:28.405463",
     "start_time": "2016-07-29T13:30:28.402986"
    }
   },
   "source": [
    "#### constants"
   ]
  },
  {
   "cell_type": "code",
   "execution_count": 70,
   "metadata": {
    "ExecuteTime": {
     "end_time": "2016-08-05T14:09:30.407923",
     "start_time": "2016-08-05T14:09:30.397686"
    },
    "collapsed": false
   },
   "outputs": [],
   "source": [
    "pi = np.pi\n",
    "\n",
    "# Hbar * c \n",
    "hbarc = 197.3269631 # MeV−fm\n",
    "\n",
    "# ?\n",
    "rc = 299792458 # m/s\n",
    "alpha = 7.2973525376*1e-3\n",
    "e = 1.602176487*1e-13 # J/MeV\n",
    "\n",
    "# Avagadro's number\n",
    "dN0 = 6.02214179*1e23 # molˆ−1\n",
    "\n",
    "# Masses of proton, neutron, elecron in MeV\n",
    "dMp = 938.272013 # MeV\n",
    "dMn = 939.565346 # MeV\n",
    "dme = 0.510998910 # MeV\n",
    "\n",
    "\n",
    "dmnu = 1.e-8 # MeV\n",
    "dMd = 1875.612793 # MeV\n",
    "GF = 1.16637*1e-11 # 1/MeVˆ2\n",
    "GV = 1.0 # 1.013 d0\n",
    "GA = -1.285*GV # −1.267\n",
    "gnpd = 10.6617553 #  11.3 in 9704031 v5 . pdf (pg 8−9)\n",
    "dkapp= 1.793 \n",
    "dkapn= -1.913\n",
    "dufac= 0.0"
   ]
  },
  {
   "cell_type": "markdown",
   "metadata": {
    "ExecuteTime": {
     "end_time": "2016-08-05T12:22:48.260040",
     "start_time": "2016-08-05T12:22:48.256867"
    }
   },
   "source": [
    "#### Mass of Neutron - Proton (in MeV)"
   ]
  },
  {
   "cell_type": "code",
   "execution_count": 71,
   "metadata": {
    "ExecuteTime": {
     "end_time": "2016-08-05T14:09:30.413774",
     "start_time": "2016-08-05T14:09:30.409957"
    },
    "collapsed": false
   },
   "outputs": [
    {
     "name": "stdout",
     "output_type": "stream",
     "text": [
      "-1.293333 MeV\n"
     ]
    }
   ],
   "source": [
    "print dMp - dMn, \"MeV\""
   ]
  },
  {
   "cell_type": "markdown",
   "metadata": {
    "ExecuteTime": {
     "end_time": "2016-08-05T12:23:33.871816",
     "start_time": "2016-08-05T12:23:33.869484"
    }
   },
   "source": [
    "#### Mass of Proton + Electron - Neutron (in MeV, KeV)\n",
    "\n",
    "782 KeV needed"
   ]
  },
  {
   "cell_type": "code",
   "execution_count": 72,
   "metadata": {
    "ExecuteTime": {
     "end_time": "2016-08-05T14:09:30.419335",
     "start_time": "2016-08-05T14:09:30.415258"
    },
    "collapsed": false
   },
   "outputs": [
    {
     "name": "stdout",
     "output_type": "stream",
     "text": [
      "-782.33409 KeV\n",
      "-0.78233409 MeV\n"
     ]
    }
   ],
   "source": [
    "Ediff = (dMp + dme - dMn)\n",
    "print Ediff*1000.0, \"KeV\"\n",
    "print Ediff, \"MeV\""
   ]
  },
  {
   "cell_type": "markdown",
   "metadata": {},
   "source": [
    "### Expected confinement by uncertainty principle\n",
    "\n",
    "$$\\Delta x\\Delta p\\geq\\dfrac{\\hbar}{2}$$\n",
    "\n",
    "\n",
    "see https://en.wikipedia.org/wiki/Planck_constant\n",
    "\n",
    "$$\\hbar=\\dfrac{h}{2\\pi}$$\n",
    "\n",
    "$$\\hbar c=197.3269631\\; MeV\\;fm$$\n",
    "\n",
    "$$1\\;fm=10^{−15}\\;m=10^{-5}\\;\\mathring{A}$$\n",
    "\n",
    "$$\\Delta p=E_{diff}=|M_{p}+M_{e}-M_{n}|=1.293333\\;MeV$$\n",
    "\n",
    "So the expected confinment is on the order of:\n",
    "\n",
    "\n",
    "$$\\Delta x\\geq \\dfrac{\\hbar}{2\\Delta p}$$\n",
    "\n",
    "$$\\Delta x\\sim\\mathcal{O}(\\dfrac{\\hbar}{2 E_{diff}})\\sim 0.00126\\;\\mathring{A}$$\n",
    "\n"
   ]
  },
  {
   "cell_type": "code",
   "execution_count": 73,
   "metadata": {
    "ExecuteTime": {
     "end_time": "2016-08-05T14:09:30.715388",
     "start_time": "2016-08-05T14:09:30.712106"
    },
    "collapsed": false
   },
   "outputs": [
    {
     "name": "stdout",
     "output_type": "stream",
     "text": [
      "0.00126114255803 Angstrom\n"
     ]
    }
   ],
   "source": [
    "print (-hbarc/(2.*Ediff))*10**(-5), \"Angstrom\""
   ]
  },
  {
   "cell_type": "markdown",
   "metadata": {
    "ExecuteTime": {
     "end_time": "2016-08-05T12:58:08.864970",
     "start_time": "2016-08-05T12:58:08.861869"
    }
   },
   "source": [
    "#### This seems 10X off from our last calculations ?\n",
    "\n",
    "And it turns out to be about 5X off "
   ]
  },
  {
   "cell_type": "markdown",
   "metadata": {
    "ExecuteTime": {
     "end_time": "2016-08-05T13:06:08.398903",
     "start_time": "2016-08-05T13:06:08.396616"
    }
   },
   "source": [
    "### We will find that the necessary confimement is 0.009 Angstrom\n",
    "\n",
    "$$\\Delta x=0.009\\;\\mathring{A}$$\n",
    "\n",
    "which yields\n",
    "\n",
    "$$\\Delta p\\geq \\dfrac{\\hbar}{2\\Delta x}$$\n",
    "\n",
    "$$\\Delta p\\geq \\dfrac{\\hbar}{2*0.009\\;\\mathring{A}}\\sim 123.3\\;MeV$$\n"
   ]
  },
  {
   "cell_type": "code",
   "execution_count": 74,
   "metadata": {
    "ExecuteTime": {
     "end_time": "2016-08-05T14:09:31.251117",
     "start_time": "2016-08-05T14:09:31.247394"
    },
    "collapsed": false
   },
   "outputs": [
    {
     "name": "stdout",
     "output_type": "stream",
     "text": [
      "energy lower bound 123.329351938 Mev\n"
     ]
    }
   ],
   "source": [
    "print \"energy lower bound\", 1000.0*(hbarc/(2.*0.008))*10**(-5), \"Mev\""
   ]
  },
  {
   "cell_type": "markdown",
   "metadata": {
    "ExecuteTime": {
     "end_time": "2016-08-05T13:10:01.631878",
     "start_time": "2016-08-05T13:10:01.629360"
    }
   },
   "source": [
    "#### So the ballpark calculation does not get the energetics right...we are off by a factor of 5\n",
    "\n",
    "That's ok...I'll review again after I get through more of Rick's code"
   ]
  },
  {
   "cell_type": "markdown",
   "metadata": {
    "ExecuteTime": {
     "end_time": "2016-08-05T13:12:13.011877",
     "start_time": "2016-08-05T13:12:13.009416"
    }
   },
   "source": [
    "#### Note: the Radius of the proton  is\n",
    "\n",
    "$$0.84–0.87\\;fm<0.9\\;x\\;10^{-15}m$$\n",
    "$$0.9\\;x\\;10^{-15}m\\;x\\;\\dfrac{1\\mathring{A}}{10^{-10}m}=9\\;x\\;10^{-5}\\;\\mathring{A}$$\n",
    "\n",
    "so we stil have a long ways to go"
   ]
  },
  {
   "cell_type": "code",
   "execution_count": 75,
   "metadata": {
    "ExecuteTime": {
     "end_time": "2016-08-05T14:09:31.862658",
     "start_time": "2016-08-05T14:09:31.858025"
    },
    "collapsed": false
   },
   "outputs": [
    {
     "data": {
      "text/plain": [
       "8.999999999999999e-05"
      ]
     },
     "execution_count": 75,
     "metadata": {},
     "output_type": "execute_result"
    }
   ],
   "source": [
    "0.9*10e-15/1e-10"
   ]
  },
  {
   "cell_type": "markdown",
   "metadata": {
    "ExecuteTime": {
     "end_time": "2016-08-05T13:19:37.671818",
     "start_time": "2016-08-05T13:19:37.669136"
    }
   },
   "source": [
    "### PNNL work\n",
    "\n",
    "##### Confinement of electron to a box (L) around the proton"
   ]
  },
  {
   "cell_type": "code",
   "execution_count": null,
   "metadata": {
    "collapsed": true
   },
   "outputs": [],
   "source": []
  },
  {
   "cell_type": "markdown",
   "metadata": {},
   "source": [
    "### Particle in the box wavefunction\n",
    "\n",
    "$$\\phi(x)=\\left(\\dfrac{2}{L}\\right)^{\\frac{3}{2}}cos\\left(\\dfrac{\\pi x}{L}\\right)cos\\left(\\dfrac{\\pi y}{L}\\right)cos\\left(\\dfrac{\\pi z}{L}\\right)$$\n",
    "\n",
    "The length L is presumably the lattice scale at a specified compression."
   ]
  },
  {
   "cell_type": "markdown",
   "metadata": {},
   "source": [
    "#### For the confined electron and proton\n",
    "\n",
    "$$E^{2}=M^{2}+p^{2}$$\n",
    "\n",
    "$$E^{2}_{e}=m^{2}_{e}+3\\left(\\dfrac{\\pi}{L}\\right)^{2}$$\n",
    "\n",
    "$$E^{2}_{p}=M^{2}_{p}+3\\left(\\dfrac{\\pi}{L}\\right)^{2}$$"
   ]
  },
  {
   "cell_type": "markdown",
   "metadata": {},
   "source": [
    "### Relativistic energy calculation\n",
    "\n",
    "For the electron capture in the center-of-momentum (c.m.) frame, the threshold kinetic energy of the electron is given by\n",
    "\n",
    "$$K_{e}=E_{e}-m_{e}=\\dfrac{(M_{n}−m_{e}+m_{\\nu})^{2}−M^{2}_{p}}{2(M_{n}+m_{\\nu})}$$\n",
    "\n",
    "which is approximately 781.6 keV (or 783.1 keV in proton rest frame)\n",
    "\n",
    "#### This is pretty close to what we computed above using simpler arguments"
   ]
  },
  {
   "cell_type": "code",
   "execution_count": 76,
   "metadata": {
    "ExecuteTime": {
     "end_time": "2016-08-05T14:09:33.499120",
     "start_time": "2016-08-05T14:09:33.495473"
    },
    "collapsed": false
   },
   "outputs": [
    {
     "name": "stdout",
     "output_type": "stream",
     "text": [
      "Kinetic Energy terms 0.781582906698 1.18728592464 MeV\n"
     ]
    }
   ],
   "source": [
    "Ekemin = ((dMn + dmnu - dme)**2 - dMp**2)/(2.0*(dMn+dmnu))\n",
    "pmin = np.sqrt(( Ekemin+dme)**2 - dme**2)\n",
    "print \"Kinetic Energy terms\", Ekemin, pmin, \"MeV\""
   ]
  },
  {
   "cell_type": "markdown",
   "metadata": {
    "ExecuteTime": {
     "end_time": "2016-08-05T14:06:57.952445",
     "start_time": "2016-08-05T14:06:57.950077"
    }
   },
   "source": [
    "### PNNL Parameters for Ni-H"
   ]
  },
  {
   "cell_type": "code",
   "execution_count": null,
   "metadata": {
    "collapsed": true
   },
   "outputs": [],
   "source": [
    "densep = 7.0\n",
    "dNiMW = 28.0 \n",
    "dndens = dN0*densep/dNiMW\n",
    "print densep , dndens "
   ]
  },
  {
   "cell_type": "code",
   "execution_count": null,
   "metadata": {
    "collapsed": true
   },
   "outputs": [],
   "source": []
  },
  {
   "cell_type": "markdown",
   "metadata": {
    "ExecuteTime": {
     "end_time": "2016-07-31T00:51:41.401747",
     "start_time": "2016-07-31T00:51:41.399438"
    }
   },
   "source": [
    "### (I think) we compute boxes of increasing size\n",
    "\n",
    "#### RLConf = Box confinment scale\n",
    "\n",
    "in units L (A°)"
   ]
  },
  {
   "cell_type": "code",
   "execution_count": 77,
   "metadata": {
    "ExecuteTime": {
     "end_time": "2016-08-05T14:09:43.202736",
     "start_time": "2016-08-05T14:09:43.193598"
    },
    "collapsed": true
   },
   "outputs": [],
   "source": [
    "rlconfs = []\n",
    "peps = []\n",
    "for iep in range(500):\n",
    "    pgrid =  np.exp(np.log(1e-11)+(float(iep)/500.0)*(np.log(100.0)-np.log(1e-11)))\n",
    "    pep = ( pmin + pgrid )/np.sqrt(3.0)\n",
    "    peps.append(pep)\n",
    "    rlconf = (1e-5)*hbarc*np.pi/pep\n",
    "    rlconfs.append(rlconf)"
   ]
  },
  {
   "cell_type": "code",
   "execution_count": null,
   "metadata": {
    "collapsed": true
   },
   "outputs": [],
   "source": []
  },
  {
   "cell_type": "code",
   "execution_count": 88,
   "metadata": {
    "ExecuteTime": {
     "end_time": "2016-08-05T14:12:08.795631",
     "start_time": "2016-08-05T14:12:08.630943"
    },
    "collapsed": false,
    "scrolled": false
   },
   "outputs": [
    {
     "data": {
      "text/plain": [
       "<matplotlib.text.Text at 0x1136b0e10>"
      ]
     },
     "execution_count": 88,
     "metadata": {},
     "output_type": "execute_result"
    },
    {
     "data": {
      "image/png": "[encoded data removed]",
      "text/plain": [
       "<matplotlib.figure.Figure at 0x1136dc110>"
      ]
     },
     "metadata": {},
     "output_type": "display_data"
    }
   ],
   "source": [
    "plt.plot(rlconfs)\n",
    "plt.ylabel(\"RLConf :  L (Angstrom)\")"
   ]
  },
  {
   "cell_type": "code",
   "execution_count": 112,
   "metadata": {
    "ExecuteTime": {
     "end_time": "2016-08-05T15:10:57.686978",
     "start_time": "2016-08-05T15:10:57.282733"
    },
    "collapsed": false,
    "scrolled": true
   },
   "outputs": [
    {
     "data": {
      "text/plain": [
       "<matplotlib.text.Text at 0x115f354d0>"
      ]
     },
     "execution_count": 112,
     "metadata": {},
     "output_type": "execute_result"
    },
    {
     "data": {
      "image/png": "[encoded data removed]",
      "text/plain": [
       "<matplotlib.figure.Figure at 0x11640fa90>"
      ]
     },
     "metadata": {},
     "output_type": "display_data"
    }
   ],
   "source": [
    "fig = plt.figure()\n",
    "ax = fig.add_subplot(1,1,1)\n",
    "ax.plot(rlconfs)\n",
    "ax.set_yscale('log')\n",
    "ax.set_ylabel(\"rlconfs:  log (L) Angstrom\")"
   ]
  },
  {
   "cell_type": "code",
   "execution_count": 115,
   "metadata": {
    "ExecuteTime": {
     "end_time": "2016-08-05T15:12:04.711251",
     "start_time": "2016-08-05T15:12:04.527752"
    },
    "collapsed": false,
    "scrolled": false
   },
   "outputs": [
    {
     "data": {
      "text/plain": [
       "[<matplotlib.lines.Line2D at 0x117054e90>]"
      ]
     },
     "execution_count": 115,
     "metadata": {},
     "output_type": "execute_result"
    },
    {
     "data": {
      "image/png": "[encoded data removed]",
      "text/plain": [
       "<matplotlib.figure.Figure at 0x117025410>"
      ]
     },
     "metadata": {},
     "output_type": "display_data"
    }
   ],
   "source": [
    "plt.plot(np.log(rlconfs))"
   ]
  },
  {
   "cell_type": "markdown",
   "metadata": {
    "ExecuteTime": {
     "end_time": "2016-08-05T14:11:59.600241",
     "start_time": "2016-08-05T14:11:59.597845"
    }
   },
   "source": []
  },
  {
   "cell_type": "code",
   "execution_count": null,
   "metadata": {
    "collapsed": true
   },
   "outputs": [],
   "source": []
  },
  {
   "cell_type": "markdown",
   "metadata": {
    "ExecuteTime": {
     "end_time": "2016-07-31T00:03:58.990804",
     "start_time": "2016-07-31T00:03:58.988263"
    }
   },
   "source": [
    "### V-A theory of the Weak Interaction\n",
    "\n",
    "The V-A theory provides a way to compute the cross section for orbital (K) electron capture by the proton\n",
    "\n",
    "This is just the quantum mechanical Golden Rule fomula, using the Dirac spinors (relativistic 4-vectors) and the associated (4x4) Gamma matrices, and the 'fundamental' constants \n",
    "\n",
    "The V-A theory contains specific corrections but is not the most complete theory.  Still, these minor corrections likely have no effect for our purposes.\n",
    "\n",
    "#### electron capture cross section matrix elements in the V-A theory\n",
    "\n",
    "$$M_{fi}=\\dfrac{G_{F}}{\\sqrt{2}}\\bar{u}(p_{n},s_{n})(G_{V}-G_{A}\\gamma^{5})\\gamma^{\\mu}u(p_{p},s_{p})\\times\\bar{u}(k,s_{k})\\gamma_{u}(1-\\gamma^{5})u(s_{e},p_{e})$$\n",
    "\n",
    "where GF = 1.16637 × 10−5 GeV−2 and the neutron lifetime is reproduced with GA = 1\n",
    "and Gv = −1.285.7 , and \n",
    "$$s_{n}, s_{p},s_{k},s_{e}$$\n",
    "are 2-component spin vectors for the neutron, proton, nutrino, and electron, resp.\n",
    "\n"
   ]
  },
  {
   "cell_type": "markdown",
   "metadata": {},
   "source": [
    "#### Implementing the calculations\n",
    "\n",
    "We can use an open source physics packages to generate the Dirac Gamma Matrices"
   ]
  },
  {
   "cell_type": "markdown",
   "metadata": {},
   "source": [
    "### Dirac Spinors\n",
    "\n",
    "#### Relativistic 4-vectors for particles\n",
    "$$u(\\overrightarrow{p},s=up)=\\sqrt{E+m}\\left[\\begin{array}{c}\n",
    "0\\\\\n",
    "1\\\\\n",
    "\\dfrac{p_{3}}{E+m}\\\\\n",
    "\\dfrac{p_{1}+ip_{2}}{E+m}\n",
    "\\end{array}\\right]\\;\\;u(\\overrightarrow{p},s=down)=\\sqrt{E+m}\\left[\\begin{array}{c}\n",
    "1\\\\\n",
    "0\\\\\n",
    "\\dfrac{p_{1}-ip_{2}}{E+m}\\\\\n",
    "\\dfrac{-p_{3}}{E+m}\n",
    "\\end{array}\\right]$$ \n",
    "\n",
    "#### Complex conjugates\n"
   ]
  },
  {
   "cell_type": "code",
   "execution_count": null,
   "metadata": {
    "ExecuteTime": {
     "end_time": "2016-07-31T09:11:48.867837",
     "start_time": "2016-07-31T09:11:48.857420"
    },
    "collapsed": false
   },
   "outputs": [],
   "source": [
    "# dirac spinors \n",
    "def spinu(p ,mass):\n",
    "    s = np.diag([1,1])\n",
    "    \n",
    "    denom = p[0] + mass\n",
    "    \n",
    "    fac = np.sqrt(denom)\n",
    "    phi = fac*cs\n",
    "    \n",
    "    wu = np.zeros([4,2], dtype=np.complex_)\n",
    "    wu[0,0] = 1.0\n",
    "    wu[1,1] = 1.0\n",
    "\n",
    "    wu[2,0] = p[3] / denom\n",
    "    wu[2,1] = (p[1] - p[2]*1.j) / denom\n",
    "    wu[3,0] = (p[1] + p[2]*1.j) / denom\n",
    "    wu[3,1] = -(p[3]) / denom\n",
    "\n",
    "    u = wu*phi\n",
    "    \n",
    "    return u"
   ]
  },
  {
   "cell_type": "code",
   "execution_count": null,
   "metadata": {
    "ExecuteTime": {
     "end_time": "2016-07-31T09:11:48.867837",
     "start_time": "2016-07-31T09:11:48.857420"
    },
    "collapsed": false
   },
   "outputs": [],
   "source": [
    "# dirac spinors \n",
    "def spinu(p ,mass):\n",
    "    s = np.diag([1,1])\n",
    "    \n",
    "    denom = p[0] + mass\n",
    "    \n",
    "    fac = np.sqrt(denom)\n",
    "    phi = fac*cs\n",
    "    \n",
    "    wu = np.zeros([4,2], dtype=np.complex_)\n",
    "    wu[0,0] = 1.0\n",
    "    wu[1,1] = 1.0\n",
    "\n",
    "    wu[2,0] = p[3] / denom\n",
    "    wu[2,1] = (p[1] - p[2]*1.j) / denom\n",
    "    wu[3,0] = (p[1] + p[2]*1.j) / denom\n",
    "    wu[3,1] = -(p[3]) / denom\n",
    "\n",
    "    u = wu*phi\n",
    "    \n",
    "    return u"
   ]
  },
  {
   "cell_type": "markdown",
   "metadata": {
    "ExecuteTime": {
     "end_time": "2016-07-30T23:37:15.220633",
     "start_time": "2016-07-30T23:37:15.216588"
    }
   },
   "source": [
    "### Dirac Gamma Matrices\n",
    "\n",
    "These are (4x4) matrices used to compute the matrix elements\n",
    "\n",
    "https://en.wikipedia.org/wiki/Gamma_matrices\n",
    "\n",
    "we can obtain them from\n",
    "\n",
    "http://docs.sympy.org/dev/modules/physics/matrices.html\n",
    "\n",
    "these are related to the PNNL code as\n",
    "\n",
    "<pre>\n",
    "mgamma =  RSW cgamma, cgamma5\n",
    "</pre>\n",
    "\n",
    "If we need better performance, we can convert to numpy arrays\n",
    "\n",
    "http://stackoverflow.com/questions/17069864/what-is-the-best-way-to-convert-a-sympy-matrix-to-a-numpy-array-matrix\n",
    "\n",
    "<pre>\n",
    "np.array(g).astype(np.float64)\n",
    "</pre>\n"
   ]
  },
  {
   "cell_type": "markdown",
   "metadata": {
    "ExecuteTime": {
     "end_time": "2016-07-30T23:29:09.158600",
     "start_time": "2016-07-30T23:29:09.155455"
    },
    "collapsed": false
   },
   "source": [
    "### Using SymPy"
   ]
  },
  {
   "cell_type": "code",
   "execution_count": 90,
   "metadata": {
    "ExecuteTime": {
     "end_time": "2016-08-05T14:12:39.608592",
     "start_time": "2016-08-05T14:12:38.876003"
    },
    "collapsed": false
   },
   "outputs": [
    {
     "data": {
      "text/plain": [
       "Matrix([\n",
       "[1, 0,  0,  0],\n",
       "[0, 1,  0,  0],\n",
       "[0, 0, -1,  0],\n",
       "[0, 0,  0, -1]])"
      ]
     },
     "execution_count": 90,
     "metadata": {},
     "output_type": "execute_result"
    }
   ],
   "source": [
    "import sympy\n",
    "from sympy import *\n",
    "from sympy.physics.matrices import mgamma\n",
    "mgamma(0)"
   ]
  },
  {
   "cell_type": "markdown",
   "metadata": {
    "ExecuteTime": {
     "end_time": "2016-07-31T00:00:31.994875",
     "start_time": "2016-07-31T00:00:31.991133"
    }
   },
   "source": [
    "$$C_{left} = 1-\\gamma^{5}$$"
   ]
  },
  {
   "cell_type": "code",
   "execution_count": 91,
   "metadata": {
    "ExecuteTime": {
     "end_time": "2016-08-05T14:12:39.836924",
     "start_time": "2016-08-05T14:12:39.831161"
    },
    "collapsed": false
   },
   "outputs": [
    {
     "data": {
      "text/plain": [
       "Matrix([\n",
       "[ 1,  0, -1,  0],\n",
       "[ 0,  1,  0, -1],\n",
       "[-1,  0,  1,  0],\n",
       "[ 0, -1,  0,  1]])"
      ]
     },
     "execution_count": 91,
     "metadata": {},
     "output_type": "execute_result"
    }
   ],
   "source": [
    "cleft = diag(1,1,1,1) -mgamma(5)\n",
    "cleft"
   ]
  },
  {
   "cell_type": "markdown",
   "metadata": {},
   "source": [
    "$$C_{GVGA} = G_{V}-G_{A}\\gamma^{5}$$\n"
   ]
  },
  {
   "cell_type": "code",
   "execution_count": 92,
   "metadata": {
    "ExecuteTime": {
     "end_time": "2016-08-05T14:12:40.835451",
     "start_time": "2016-08-05T14:12:40.828422"
    },
    "collapsed": false
   },
   "outputs": [
    {
     "data": {
      "text/plain": [
       "Matrix([\n",
       "[  1.0,     0, 1.285,     0],\n",
       "[    0,   1.0,     0, 1.285],\n",
       "[1.285,     0,   1.0,     0],\n",
       "[    0, 1.285,     0,   1.0]])"
      ]
     },
     "execution_count": 92,
     "metadata": {},
     "output_type": "execute_result"
    }
   ],
   "source": [
    "cGVGA = diag(GV,GV,GV,GV) - GA*mgamma(5)\n",
    "cGVGA"
   ]
  },
  {
   "cell_type": "markdown",
   "metadata": {
    "ExecuteTime": {
     "end_time": "2016-07-31T00:27:49.277947",
     "start_time": "2016-07-31T00:27:49.275187"
    }
   },
   "source": [
    "###  diagonal 2x2 matrices  used in PNNL code"
   ]
  },
  {
   "cell_type": "code",
   "execution_count": 93,
   "metadata": {
    "ExecuteTime": {
     "end_time": "2016-08-05T14:12:41.918763",
     "start_time": "2016-08-05T14:12:41.914642"
    },
    "collapsed": false
   },
   "outputs": [],
   "source": [
    "cs1 = diag(1,1)\n",
    "cs2 = diag(1,1)\n",
    "cse = diag(1,1)\n",
    "csk = diag(1,1)"
   ]
  },
  {
   "cell_type": "code",
   "execution_count": null,
   "metadata": {
    "collapsed": true
   },
   "outputs": [],
   "source": [
    "### Stopped Here"
   ]
  },
  {
   "cell_type": "code",
   "execution_count": null,
   "metadata": {
    "ExecuteTime": {
     "end_time": "2016-07-29T13:17:32.132103",
     "start_time": "2016-07-29T13:17:32.127459"
    },
    "collapsed": false
   },
   "outputs": [],
   "source": [
    "def dgprod(ekn):\n",
    "    dgprod = (5.2828)*(1e-5)/np.sqrt(ekn)\n",
    "    dgprod = dgprod*1e-24 # cmˆ2\n",
    "    return dgprod"
   ]
  },
  {
   "cell_type": "code",
   "execution_count": null,
   "metadata": {
    "ExecuteTime": {
     "end_time": "2016-07-29T13:24:14.504377",
     "start_time": "2016-07-29T13:24:14.499880"
    },
    "collapsed": false
   },
   "outputs": [],
   "source": [
    "#\n",
    "#  redo as ?\n",
    "#   cubar.dot(ca).dot(cu)\n",
    "#\n",
    "def ubaru( cubar , ca , cu , cscal ):\n",
    "    cscal = 0.0\n",
    "    for i1 in range(4):\n",
    "        for i2 in range(4):\n",
    "            cscal += cubar[i1]*ca[i1,i2]*cu[i2]\n",
    "            \n"
   ]
  },
  {
   "cell_type": "code",
   "execution_count": null,
   "metadata": {
    "collapsed": true
   },
   "outputs": [],
   "source": []
  },
  {
   "cell_type": "markdown",
   "metadata": {
    "ExecuteTime": {
     "end_time": "2016-08-05T14:13:20.702805",
     "start_time": "2016-08-05T14:13:20.700462"
    },
    "collapsed": true
   },
   "source": [
    "### Calculate Kinetic Energies of each particle \n",
    "\n",
    "- EKn = p1 (0) − dMn\n",
    "- EKp = p2 (0) − dMp\n",
    "- EKe = pe (0) − dme\n",
    "- EKnu = pk(0) − dmnu\n",
    "\n"
   ]
  },
  {
   "cell_type": "code",
   "execution_count": null,
   "metadata": {
    "collapsed": true
   },
   "outputs": [],
   "source": []
  },
  {
   "cell_type": "code",
   "execution_count": null,
   "metadata": {
    "ExecuteTime": {
     "end_time": "2016-07-31T08:22:02.988375",
     "start_time": "2016-07-31T08:22:02.968822"
    },
    "collapsed": false
   },
   "outputs": [],
   "source": [
    "#  returns 4 vectors:  p1 , p2 , pe, pk \n",
    "\n",
    "#  assumes exactly cubic lattic:  pep1 = pep2 = pep3 = +|- pep\n",
    "def pekin(x , phi , pep ):\n",
    "    \n",
    "    p1 = np.zeros(4)\n",
    "    p2 = np.zeros(4)\n",
    "    pe = np.zeros(4)\n",
    "    pk = np.zeros(4)\n",
    "    \n",
    "    # proton\n",
    "    p2[0] = dsqrt (dMp**2 + 3.0*pep**2)\n",
    "    p2[1] = -pep\n",
    "    p2[2] = -pep\n",
    "    p2[3] = -pep\n",
    "    \n",
    "    # electron\n",
    "    pe[0] = dsqrt (dme**2 + 3.0*pep**2)\n",
    "    pe[1] = pep\n",
    "    pe[2] = pep\n",
    "    pe[3] = pep\n",
    "    \n",
    "    Etot = p2[0] + pe[0]\n",
    "\n",
    "    Eknu = (( Etot-dmnu)**2 - dMn**2)/(2.0*Etot )\n",
    "    Ekn = (( Etot-dMn)**2 - dmnu**2)/(2.0*Etot )\n",
    "    pnu = np.sqrt((Eknu+dmnu)**2 - dmnu**2)\n",
    "    \n",
    "    pk[0] = Eknu + dmnu\n",
    "    pk[1] = pnu*np.sqrt(1.0 - x**2)*cos(phi)\n",
    "    pk[2] = pnu*np.sqrt(1.0 - x**2)*sin(phi)\n",
    "    pk[3] = pnu*x\n",
    "    \n",
    "    # vector element wise addition\n",
    "    # neutron\n",
    "    p1 = p2 + pe - pk\n",
    "    \n",
    "    return p1, p2, pe, pk"
   ]
  }
 ],
 "metadata": {
  "anaconda-cloud": {},
  "kernelspec": {
   "display_name": "Python [Root]",
   "language": "python",
   "name": "Python [Root]"
  },
  "language_info": {
   "codemirror_mode": {
    "name": "ipython",
    "version": 2
   },
   "file_extension": ".py",
   "mimetype": "text/x-python",
   "name": "python",
   "nbconvert_exporter": "python",
   "pygments_lexer": "ipython2",
   "version": "2.7.12"
  }
 },
 "nbformat": 4,
 "nbformat_minor": 0
}
