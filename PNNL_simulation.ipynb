{
 "cells": [
  {
   "cell_type": "markdown",
   "metadata": {
    "ExecuteTime": {
     "end_time": "2016-07-29T12:55:37.282809",
     "start_time": "2016-07-29T12:55:37.278722"
    }
   },
   "source": [
    "# Reproduction of PNNL Simulations\n",
    "\n",
    "file:///Users/charlesmartin14/Downloads/TAP-BEC-02-08-13FinalReport%20(2).pdf\n",
    "\n",
    "For a review of the basic physics, see\n",
    "\n",
    "https://arxiv.org/pdf/0911.0058.pdf"
   ]
  },
  {
   "cell_type": "code",
   "execution_count": 59,
   "metadata": {
    "ExecuteTime": {
     "end_time": "2016-08-12T20:21:35.645615",
     "start_time": "2016-08-12T20:21:35.640388"
    },
    "collapsed": false
   },
   "outputs": [],
   "source": [
    "import matplotlib\n",
    "import numpy as np\n",
    "import matplotlib.pyplot as plt\n",
    "%matplotlib inline "
   ]
  },
  {
   "cell_type": "markdown",
   "metadata": {
    "ExecuteTime": {
     "end_time": "2016-07-29T13:18:01.216254",
     "start_time": "2016-07-29T13:18:01.212552"
    }
   },
   "source": [
    "may need to use arbitrary precision library\n",
    "\n",
    "http://stackoverflow.com/questions/29488213/handling-very-small-numbers-in-python"
   ]
  },
  {
   "cell_type": "markdown",
   "metadata": {
    "ExecuteTime": {
     "end_time": "2016-07-29T13:30:28.405463",
     "start_time": "2016-07-29T13:30:28.402986"
    }
   },
   "source": [
    "#### constants"
   ]
  },
  {
   "cell_type": "code",
   "execution_count": 60,
   "metadata": {
    "ExecuteTime": {
     "end_time": "2016-08-12T20:21:36.112428",
     "start_time": "2016-08-12T20:21:36.103175"
    },
    "collapsed": false
   },
   "outputs": [],
   "source": [
    "pi = np.pi\n",
    "\n",
    "# Hbar * c \n",
    "hbarc = 197.3269631 # MeV−fm\n",
    "\n",
    "# ?\n",
    "rc = 299792458 # m/s\n",
    "alpha = 7.2973525376*1e-3\n",
    "e = 1.602176487*1e-13 # J/MeV\n",
    "\n",
    "# Avagadro's number\n",
    "dN0 = 6.02214179*1e23 # molˆ−1\n",
    "\n",
    "# Masses of proton, neutron, elecron in MeV\n",
    "dMp = 938.272013 # MeV\n",
    "dMn = 939.565346 # MeV\n",
    "dme = 0.510998910 # MeV\n",
    "\n",
    "\n",
    "dmnu = 1.e-8 # MeV\n",
    "dMd = 1875.612793 # MeV\n",
    "GF = 1.16637*1e-11 # 1/MeVˆ2\n",
    "GV = 1.0 # 1.013 d0\n",
    "GA = -1.285*GV # −1.267\n",
    "gnpd = 10.6617553 #  11.3 in 9704031 v5 . pdf (pg 8−9)\n",
    "dkapp= 1.793 \n",
    "dkapn= -1.913\n",
    "dufac= 0.0"
   ]
  },
  {
   "cell_type": "markdown",
   "metadata": {
    "ExecuteTime": {
     "end_time": "2016-08-05T12:22:48.260040",
     "start_time": "2016-08-05T12:22:48.256867"
    }
   },
   "source": [
    "#### Mass of Neutron - Proton (in MeV)"
   ]
  },
  {
   "cell_type": "code",
   "execution_count": 61,
   "metadata": {
    "ExecuteTime": {
     "end_time": "2016-08-12T20:21:36.433160",
     "start_time": "2016-08-12T20:21:36.430233"
    },
    "collapsed": false
   },
   "outputs": [
    {
     "name": "stdout",
     "output_type": "stream",
     "text": [
      "-1.293333 MeV\n"
     ]
    }
   ],
   "source": [
    "print dMp - dMn, \"MeV\""
   ]
  },
  {
   "cell_type": "markdown",
   "metadata": {
    "ExecuteTime": {
     "end_time": "2016-08-05T12:23:33.871816",
     "start_time": "2016-08-05T12:23:33.869484"
    }
   },
   "source": [
    "#### Mass of Proton + Electron - Neutron (in MeV, KeV)\n",
    "\n",
    "782 KeV needed"
   ]
  },
  {
   "cell_type": "code",
   "execution_count": 62,
   "metadata": {
    "ExecuteTime": {
     "end_time": "2016-08-12T20:21:36.749726",
     "start_time": "2016-08-12T20:21:36.746386"
    },
    "collapsed": false
   },
   "outputs": [
    {
     "name": "stdout",
     "output_type": "stream",
     "text": [
      "-782.33409 KeV\n",
      "-0.78233409 MeV\n"
     ]
    }
   ],
   "source": [
    "Ediff = (dMp + dme - dMn)\n",
    "print Ediff*1000.0, \"KeV\"\n",
    "print Ediff, \"MeV\""
   ]
  },
  {
   "cell_type": "markdown",
   "metadata": {},
   "source": [
    "### Expected confinement by uncertainty principle\n",
    "\n",
    "$$\\Delta x\\Delta p\\geq\\dfrac{\\hbar}{2}$$\n",
    "\n",
    "\n",
    "see https://en.wikipedia.org/wiki/Planck_constant\n",
    "\n",
    "$$\\hbar=\\dfrac{h}{2\\pi}$$\n",
    "\n",
    "$$\\hbar c=197.3269631\\; MeV\\;fm$$\n",
    "\n",
    "$$1\\;fm=10^{−15}\\;m=10^{-5}\\;\\mathring{A}$$\n",
    "\n",
    "$$\\Delta p=E_{diff}=|M_{p}+M_{e}-M_{n}|=1.293333\\;MeV$$\n",
    "\n",
    "So the expected confinment is on the order of:\n",
    "\n",
    "\n",
    "$$\\Delta x\\geq \\dfrac{\\hbar}{2\\Delta p}$$\n",
    "\n",
    "$$\\Delta x\\sim\\mathcal{O}(\\dfrac{\\hbar}{2 E_{diff}})\\sim 0.00126\\;\\mathring{A}$$\n",
    "\n"
   ]
  },
  {
   "cell_type": "code",
   "execution_count": 63,
   "metadata": {
    "ExecuteTime": {
     "end_time": "2016-08-12T20:21:37.083254",
     "start_time": "2016-08-12T20:21:37.080133"
    },
    "collapsed": false
   },
   "outputs": [
    {
     "name": "stdout",
     "output_type": "stream",
     "text": [
      "0.00126114255803 Angstrom\n"
     ]
    }
   ],
   "source": [
    "print (-hbarc/(2.*Ediff))*10**(-5), \"Angstrom\""
   ]
  },
  {
   "cell_type": "markdown",
   "metadata": {
    "ExecuteTime": {
     "end_time": "2016-08-05T12:58:08.864970",
     "start_time": "2016-08-05T12:58:08.861869"
    }
   },
   "source": [
    "#### This seems 10X off from our last calculations ?\n",
    "\n",
    "And it turns out to be about 5X off "
   ]
  },
  {
   "cell_type": "markdown",
   "metadata": {
    "ExecuteTime": {
     "end_time": "2016-08-05T13:06:08.398903",
     "start_time": "2016-08-05T13:06:08.396616"
    }
   },
   "source": [
    "### We will find that the necessary confimement is 0.009 Angstrom\n",
    "\n",
    "$$\\Delta x=0.009\\;\\mathring{A}$$\n",
    "\n",
    "which yields\n",
    "\n",
    "$$\\Delta p\\geq \\dfrac{\\hbar}{2\\Delta x}$$\n",
    "\n",
    "$$\\Delta p\\geq \\dfrac{\\hbar}{2*0.009\\;\\mathring{A}}\\sim 123.3\\;MeV$$\n"
   ]
  },
  {
   "cell_type": "code",
   "execution_count": 64,
   "metadata": {
    "ExecuteTime": {
     "end_time": "2016-08-12T20:21:38.168320",
     "start_time": "2016-08-12T20:21:38.165258"
    },
    "collapsed": false
   },
   "outputs": [
    {
     "name": "stdout",
     "output_type": "stream",
     "text": [
      "energy lower bound 123.329351938 Mev\n"
     ]
    }
   ],
   "source": [
    "print \"energy lower bound\", 1000.0*(hbarc/(2.*0.008))*10**(-5), \"Mev\""
   ]
  },
  {
   "cell_type": "code",
   "execution_count": 106,
   "metadata": {
    "ExecuteTime": {
     "end_time": "2016-08-14T22:11:37.553209",
     "start_time": "2016-08-14T22:11:37.549894"
    },
    "collapsed": false
   },
   "outputs": [
    {
     "name": "stdout",
     "output_type": "stream",
     "text": [
      "X_max crude = 0.00332400071466\n"
     ]
    }
   ],
   "source": [
    "x_max = 1e-5*hbarc*2/pmin\n",
    "print \"X_max crude =\", x_max"
   ]
  },
  {
   "cell_type": "markdown",
   "metadata": {},
   "source": [
    "#### Note: the Radius of the proton  is\n",
    "\n",
    "$$0.84–0.87\\;fm<0.9\\;x\\;10^{-15}m$$\n",
    "$$0.9\\;x\\;10^{-15}m\\;x\\;\\dfrac{1\\mathring{A}}{10^{-10}m}=9\\;x\\;10^{-5}\\;\\mathring{A}$$\n",
    "\n",
    "so we stil have a long ways to go"
   ]
  },
  {
   "cell_type": "markdown",
   "metadata": {
    "ExecuteTime": {
     "end_time": "2016-08-05T13:10:01.631878",
     "start_time": "2016-08-05T13:10:01.629360"
    }
   },
   "source": [
    "### But the ballpark calculation does not get the energetics right\n",
    "\n",
    "#### we are off by a factor of 2.7"
   ]
  },
  {
   "cell_type": "code",
   "execution_count": 176,
   "metadata": {
    "ExecuteTime": {
     "end_time": "2016-08-14T22:48:42.212462",
     "start_time": "2016-08-14T22:48:42.209776"
    },
    "collapsed": true
   },
   "outputs": [],
   "source": [
    "rlconf_max = 9.0436055743778263e-3"
   ]
  },
  {
   "cell_type": "code",
   "execution_count": 177,
   "metadata": {
    "ExecuteTime": {
     "end_time": "2016-08-14T22:48:42.341098",
     "start_time": "2016-08-14T22:48:42.337989"
    },
    "collapsed": false,
    "scrolled": true
   },
   "outputs": [
    {
     "name": "stdout",
     "output_type": "stream",
     "text": [
      "factor off from Rick: 2.72069904633\n"
     ]
    }
   ],
   "source": [
    "print \"factor off from Rick:\", rlconf_max/x_max"
   ]
  },
  {
   "cell_type": "markdown",
   "metadata": {
    "ExecuteTime": {
     "end_time": "2016-08-05T13:19:37.671818",
     "start_time": "2016-08-05T13:19:37.669136"
    }
   },
   "source": [
    "### PNNL work\n",
    "\n",
    "##### We confinement the proton and electron together in a box of size rlconf=(L) "
   ]
  },
  {
   "cell_type": "markdown",
   "metadata": {
    "collapsed": true
   },
   "source": [
    "\n",
    "The basic idea is the confinement of the (H^{+},e^{-}) pairs  causes the momentum of the proton and electon to be unusually high, thereby enhancing the probability of an collision, leading to electron capture by the proton\n",
    "\n",
    "But first, we need a quick review of Relativistic Kinematics"
   ]
  },
  {
   "cell_type": "markdown",
   "metadata": {},
   "source": [
    "### Relativistic energy calculations\n",
    "\n",
    "We need the Relativisitic Kinematics\n",
    "\n",
    "http://www.phys.ufl.edu/~avery/course/4390/f2015/lectures/relativistic_kinematics_2.pdf\n",
    "\n",
    "Which means working with energy-momentum 4 vectors\n",
    "\n",
    "This is tricky, so it is helpful to first list a couple of basic relations\n",
    "\n",
    "##### Relativistic Energy Relation\n",
    "\n",
    "http://socrates.berkeley.edu/~phylabs/adv/ReprintsPDF/BRA%20Reprints/03%20-%20Beta%20Decay.pdf\n",
    "\n",
    "$$ E_{e} = KE_{e} + m_{0}c^{2} $$\n",
    "\n",
    "\n",
    "#### Energy-Momentum Relation\n",
    "\n",
    "https://en.wikipedia.org/wiki/Energy%E2%80%93momentum_relation\n",
    "\n",
    "$$ E^{2}=(pc)^{2}+(m_{0}c^{2})^{2} $$\n",
    "\n",
    "Note that at rest, or in the center-of-mass frame, we recover the familiar Einstein relation\n",
    "\n",
    "$$ E^{2}=mc^{2} $$\n",
    "\n",
    "\n",
    "Set c=1 and just assume rest masses (M,m)\n",
    "\n",
    "$$ E^{2}=p^{2}+m^{2} $$\n",
    "\n",
    "We use capital M for protons and neutrons and small m for electrons and neutrinos. \n",
    "\n"
   ]
  },
  {
   "cell_type": "markdown",
   "metadata": {},
   "source": [
    "### Electron capture:  \n",
    "\n",
    "$$ p+e\\rightarrow n+\\nu $$\n",
    "\n",
    "$$\\overrightarrow{P}_{n}+\\overrightarrow{P}_{e}=\\overrightarrow{P}_{n}+\\overrightarrow{P}_{\\nu} $$"
   ]
  },
  {
   "cell_type": "markdown",
   "metadata": {},
   "source": [
    "### The threshold kinetic energy of the electron is \n",
    "\n",
    " $$EKemin:\\;\\;K_{e}=E_{e}-m_{e}=\\dfrac{(M_{n}−m_{e}+m_{\\nu})^{2}−M^{2}_{p}}{2(M_{n}+m_{\\nu})}$$\n",
    " \n"
   ]
  },
  {
   "cell_type": "markdown",
   "metadata": {},
   "source": [
    "How did we get this?\n",
    "\n",
    "We treat this similrly to 3-body decay, described in\n",
    "\n",
    " http://www.phys.ufl.edu/~avery/course/4390/f2015/lectures/relativistic_kinematics_2.pdf\n",
    "\n",
    "Let Q be the combined neutron, neutrino products\n",
    "\n",
    "$$ p+e\\rightarrow Q $$\n",
    "\n",
    "Treat electron capture similary to the 2-body decay (below Figure 1), giving\n",
    "\n",
    "$$E_{e}=\\dfrac{M^{2}+M^{2}_{n}-m^{2}_{e}}{2M_{Q}}$$\n",
    "\n",
    "where M is the combined mass \n",
    "\n",
    "$$Q_{M}=M_{n}+m_{\\nu}$$\n",
    "\n"
   ]
  },
  {
   "cell_type": "markdown",
   "metadata": {
    "ExecuteTime": {
     "end_time": "2016-08-14T09:39:29.850670",
     "start_time": "2016-08-14T09:39:29.841103"
    }
   },
   "source": [
    "### We use EKEmin to compute the maximum box size for confined electon capture"
   ]
  },
  {
   "cell_type": "markdown",
   "metadata": {
    "ExecuteTime": {
     "end_time": "2016-08-13T14:58:47.808849",
     "start_time": "2016-08-13T14:58:47.806037"
    }
   },
   "source": [
    "#### Using the Heisenberg Uncertantity principle\n",
    "\n",
    "We use the uncertainty principle to obtain\n",
    "\n",
    "$$ \\Delta x\\Delta p\\ge \\dfrac{\\hbar}{2} $$\n",
    "\n",
    "\n",
    "$$ x_{max}\\sim \\dfrac{\\hbar}{2p_{min}} $$\n",
    "\n",
    "Where we use EKEmin to compute pmin\n",
    "\n"
   ]
  },
  {
   "cell_type": "markdown",
   "metadata": {
    "ExecuteTime": {
     "end_time": "2016-08-14T09:43:14.970510",
     "start_time": "2016-08-14T09:43:14.938607"
    }
   },
   "source": [
    "#### Recompute X min for Relativisitic case\n",
    "\n",
    "Since\n",
    "\n",
    "$$E^{2}=M^{2}+p^{2}$$ \n",
    "\n",
    "$$p^{2}=E^{2}-M^{2}$$ \n",
    "\n",
    "$$p=\\sqrt{E^{2}-M^{2}}$$ \n",
    "\n",
    "\n",
    "So we can define the minimum p\n",
    "\n",
    "\n",
    "$$ pmin:\\;\\;\\sqrt{E_{e}^{2}-m_{e}^{2}} $$\n",
    "\n",
    "which becomes, in the PNNL code, \n",
    "\n",
    "$$ pmin:\\;\\;\\sqrt{(K_{e}+m_{e})^{2}-m_{e}^{2}} $$"
   ]
  },
  {
   "cell_type": "code",
   "execution_count": 88,
   "metadata": {
    "ExecuteTime": {
     "end_time": "2016-08-14T22:01:24.165974",
     "start_time": "2016-08-14T22:01:24.121179"
    },
    "collapsed": false,
    "scrolled": true
   },
   "outputs": [
    {
     "name": "stdout",
     "output_type": "stream",
     "text": [
      "Kinetic Energy terms (EKemin, pmin) 0.781582906698 1.18728592464 MeV\n"
     ]
    }
   ],
   "source": [
    "Ekemin = ((dMn + dmnu - dme)**2 - dMp**2)/(2.0*(dMn+dmnu))\n",
    "pmin = np.sqrt(( Ekemin+dme)**2 - dme**2)\n",
    "print \"Kinetic Energy terms (EKemin, pmin)\", Ekemin, pmin, \"MeV\""
   ]
  },
  {
   "cell_type": "code",
   "execution_count": 178,
   "metadata": {
    "ExecuteTime": {
     "end_time": "2016-08-14T22:49:14.155746",
     "start_time": "2016-08-14T22:49:14.152830"
    },
    "collapsed": true
   },
   "outputs": [],
   "source": [
    "x_max_rel = 1.e-5*hbarc/(2.0*pmin)"
   ]
  },
  {
   "cell_type": "code",
   "execution_count": 179,
   "metadata": {
    "ExecuteTime": {
     "end_time": "2016-08-14T22:49:14.307329",
     "start_time": "2016-08-14T22:49:14.303582"
    },
    "collapsed": false
   },
   "outputs": [
    {
     "name": "stdout",
     "output_type": "stream",
     "text": [
      "X_max, relativistic = 0.000831000178666  Angstrom\n"
     ]
    }
   ],
   "source": [
    "print \"X_max, relativistic =\" , x_max_rel, \" Angstrom\""
   ]
  },
  {
   "cell_type": "markdown",
   "metadata": {
    "ExecuteTime": {
     "end_time": "2016-08-14T22:42:34.995080",
     "start_time": "2016-08-14T22:42:34.992540"
    }
   },
   "source": [
    "### This is off by a factor of 10.8\n",
    "We need to adjust for the particle in the box to fix this\n"
   ]
  },
  {
   "cell_type": "code",
   "execution_count": 180,
   "metadata": {
    "ExecuteTime": {
     "end_time": "2016-08-14T22:49:20.588226",
     "start_time": "2016-08-14T22:49:20.584592"
    },
    "collapsed": false
   },
   "outputs": [
    {
     "name": "stdout",
     "output_type": "stream",
     "text": [
      "factor off by  10.8827961853\n",
      "this is 2*PI*Sqrt(3) 10.8827961854\n"
     ]
    }
   ],
   "source": [
    "print \"factor off by \",rlconf_max/x_max_rel\n",
    "print \"this is 2*PI*Sqrt(3)\",np.pi*2*np.sqrt(3)"
   ]
  },
  {
   "cell_type": "code",
   "execution_count": null,
   "metadata": {
    "collapsed": true
   },
   "outputs": [],
   "source": []
  },
  {
   "cell_type": "markdown",
   "metadata": {
    "ExecuteTime": {
     "end_time": "2016-08-14T22:16:11.069834",
     "start_time": "2016-08-14T22:16:11.056042"
    }
   },
   "source": [
    "### Particle in the box wavefunction\n",
    "\n",
    "\n",
    "$$\\phi_{p,e}(x)=\\left(\\dfrac{2}{L}\\right)^{\\frac{2}{3}}cos\\left(\\dfrac{x\\pi}{L}\\right)cos\\left(\\dfrac{y\\pi}{L}\\right)cos\\left(\\dfrac{z\\pi}{L}\\right)$$\n",
    "\n",
    "The length L is the lattice scale at a specified compression."
   ]
  },
  {
   "cell_type": "markdown",
   "metadata": {},
   "source": [
    "#### Using our relativisitic relations from above, lets try to get rick's factor\n",
    "\n",
    " For the confined electron and proton\n",
    "\n",
    "$$E^{2}=M^{2}+p^{2}$$\n",
    "\n",
    "$$E^{2}_{e}=m^{2}_{e}+3\\left(\\dfrac{\\pi}{L}\\right)^{2}$$\n",
    "\n",
    "$$E^{2}_{p}=M^{2}_{p}+3\\left(\\dfrac{\\pi}{L}\\right)^{2}$$"
   ]
  },
  {
   "cell_type": "markdown",
   "metadata": {
    "ExecuteTime": {
     "end_time": "2016-08-12T18:04:41.505784",
     "start_time": "2016-08-12T18:04:41.498820"
    }
   },
   "source": [
    "#### We define the box rlconf=(L) \n",
    "\n",
    "orginal Fortran code:  \n",
    "<pre>\n",
    "do iep =1,500\n",
    "   pep =(pmin + dexp(dlog(1.d-11)+dfloat(iep)*\n",
    "   (dlog(100.d0)-dlog(1.d-11))/500.d0))/ dsqrt(3.d0)\n",
    " \n",
    "   rlconf = 1.d-5*hbarc*pi/pep \n",
    "</pre>\n",
    "\n",
    "We need a grid from 0.0001 to 0.01 on a log scale\n",
    "\n",
    "But we cut the grid off at ~ 0.009 because the Energies diverge\n"
   ]
  },
  {
   "cell_type": "markdown",
   "metadata": {
    "ExecuteTime": {
     "end_time": "2016-08-12T18:25:44.925747",
     "start_time": "2016-08-12T18:25:44.922205"
    }
   },
   "source": [
    "##### explaining the above code\n",
    "\n",
    "We obtain the box size similar to what we did in the classical case, above\n",
    "\n"
   ]
  },
  {
   "cell_type": "markdown",
   "metadata": {},
   "source": [
    "#### To get Rick's result, we have to adjust for the size of the box\n",
    "\n",
    "He notes\n",
    "\n",
    "$$E^{2}_{e}=m^{2}_{e}+3\\left(\\dfrac{\\pi}{L}\\right)^{2}$$\n",
    "\n",
    "$$E^{2}_{e}-m^{2}_{e}=3\\left(\\dfrac{\\pi}{L}\\right)^{2}$$\n",
    "\n",
    "$$\\sqrt{(E^{2}_{e}-m^{2}_{e})}=\\dfrac{\\sqrt{3}\\pi}{L}$$\n",
    "\n",
    "$$p_{e}=p_{p}=\\dfrac{\\sqrt{3}\\pi}{L}$$"
   ]
  },
  {
   "cell_type": "code",
   "execution_count": 172,
   "metadata": {
    "ExecuteTime": {
     "end_time": "2016-08-14T22:46:50.125363",
     "start_time": "2016-08-14T22:46:50.121235"
    },
    "collapsed": false
   },
   "outputs": [
    {
     "data": {
      "text/plain": [
       "10.882796185405306"
      ]
     },
     "execution_count": 172,
     "metadata": {},
     "output_type": "execute_result"
    }
   ],
   "source": [
    "np.sqrt(3)*np.pi*2"
   ]
  },
  {
   "cell_type": "markdown",
   "metadata": {
    "ExecuteTime": {
     "end_time": "2016-08-14T22:30:33.721159",
     "start_time": "2016-08-14T22:30:33.718864"
    }
   },
   "source": [
    "### We have to adjust pmin by a factor \n",
    "\n",
    "$$\\sqrt{3}\\pi$$"
   ]
  },
  {
   "cell_type": "code",
   "execution_count": 162,
   "metadata": {
    "ExecuteTime": {
     "end_time": "2016-08-14T22:29:53.864354",
     "start_time": "2016-08-14T22:29:53.860393"
    },
    "collapsed": false
   },
   "outputs": [
    {
     "name": "stdout",
     "output_type": "stream",
     "text": [
      "X_max , relativisitic, in box= 0.00904360557446  Angstrom\n"
     ]
    }
   ],
   "source": [
    "rlconf_max = (1e-5)*hbarc*np.pi*np.sqrt(3.0)/pmin\n",
    "print \"X_max , relativisitic, in box=\", rlconf, \" Angstrom\""
   ]
  },
  {
   "cell_type": "code",
   "execution_count": null,
   "metadata": {
    "collapsed": true
   },
   "outputs": [],
   "source": []
  },
  {
   "cell_type": "code",
   "execution_count": null,
   "metadata": {
    "collapsed": true
   },
   "outputs": [],
   "source": []
  },
  {
   "cell_type": "code",
   "execution_count": null,
   "metadata": {
    "collapsed": true
   },
   "outputs": [],
   "source": []
  },
  {
   "cell_type": "markdown",
   "metadata": {
    "ExecuteTime": {
     "end_time": "2016-08-05T14:06:57.952445",
     "start_time": "2016-08-05T14:06:57.950077"
    }
   },
   "source": [
    "### PNNL Parameters for Ni-H"
   ]
  },
  {
   "cell_type": "code",
   "execution_count": 67,
   "metadata": {
    "ExecuteTime": {
     "end_time": "2016-08-12T20:23:56.244684",
     "start_time": "2016-08-12T20:23:56.241055"
    },
    "collapsed": false
   },
   "outputs": [
    {
     "name": "stdout",
     "output_type": "stream",
     "text": [
      "7.0 1.5055354475e+23\n"
     ]
    }
   ],
   "source": [
    "densep = 7.0\n",
    "dNiMW = 28.0 \n",
    "dndens = dN0*densep/dNiMW\n",
    "print densep , dndens "
   ]
  },
  {
   "cell_type": "code",
   "execution_count": null,
   "metadata": {
    "collapsed": true
   },
   "outputs": [],
   "source": []
  },
  {
   "cell_type": "markdown",
   "metadata": {
    "ExecuteTime": {
     "end_time": "2016-07-31T00:51:41.401747",
     "start_time": "2016-07-31T00:51:41.399438"
    }
   },
   "source": [
    "### (I think) we compute boxes of increasing size\n",
    "\n",
    "#### RLConf = Box confinment scale\n",
    "\n",
    "in units L (A°)"
   ]
  },
  {
   "cell_type": "code",
   "execution_count": 68,
   "metadata": {
    "ExecuteTime": {
     "end_time": "2016-08-12T20:23:56.697990",
     "start_time": "2016-08-12T20:23:56.688726"
    },
    "collapsed": true
   },
   "outputs": [],
   "source": [
    "rlconfs = []\n",
    "peps = []\n",
    "for iep in range(500):\n",
    "    pgrid =  np.exp(np.log(1e-11)+(float(iep)/500.0)*(np.log(100.0)-np.log(1e-11)))\n",
    "    pep = ( pmin + pgrid )/np.sqrt(3.0)\n",
    "    peps.append(pep)\n",
    "    rlconf = (1e-5)*hbarc*np.pi/pep\n",
    "    rlconfs.append(rlconf)"
   ]
  },
  {
   "cell_type": "code",
   "execution_count": 133,
   "metadata": {
    "ExecuteTime": {
     "end_time": "2016-08-14T22:18:55.280999",
     "start_time": "2016-08-14T22:18:55.277654"
    },
    "collapsed": false
   },
   "outputs": [
    {
     "name": "stdout",
     "output_type": "stream",
     "text": [
      "Box dimensions: X_max = 0.00904360557438  , X_min = 0.00011257882444\n"
     ]
    }
   ],
   "source": [
    "print \"Box dimensions: X_max =\",rlconfs[0], \" , X_min =\",rlconfs[-1]"
   ]
  },
  {
   "cell_type": "code",
   "execution_count": 158,
   "metadata": {
    "ExecuteTime": {
     "end_time": "2016-08-14T22:28:57.098413",
     "start_time": "2016-08-14T22:28:57.094883"
    },
    "collapsed": false,
    "scrolled": true
   },
   "outputs": [
    {
     "name": "stdout",
     "output_type": "stream",
     "text": [
      "0.00904360557446\n"
     ]
    }
   ],
   "source": [
    "\n"
   ]
  },
  {
   "cell_type": "code",
   "execution_count": 144,
   "metadata": {
    "ExecuteTime": {
     "end_time": "2016-08-14T22:21:06.424002",
     "start_time": "2016-08-14T22:21:06.043026"
    },
    "collapsed": false,
    "scrolled": true
   },
   "outputs": [
    {
     "data": {
      "text/plain": [
       "<matplotlib.text.Text at 0x1155afc90>"
      ]
     },
     "execution_count": 144,
     "metadata": {},
     "output_type": "execute_result"
    },
    {
     "data": {
      "image/png": "[encoded data removed]",
      "text/plain": [
       "<matplotlib.figure.Figure at 0x115644bd0>"
      ]
     },
     "metadata": {},
     "output_type": "display_data"
    }
   ],
   "source": [
    "plt.semilogx(np.array(rlconfs), np.arange(0,500))\n",
    "plt.xlabel(\"RLConf :  L (Angstrom)\")"
   ]
  },
  {
   "cell_type": "markdown",
   "metadata": {
    "ExecuteTime": {
     "end_time": "2016-08-14T22:24:48.281150",
     "start_time": "2016-08-14T22:24:48.278582"
    }
   },
   "source": [
    "### Pep:  momentum of the (e,p) pair in the CM frame\n",
    "\n",
    "I think"
   ]
  },
  {
   "cell_type": "code",
   "execution_count": 146,
   "metadata": {
    "ExecuteTime": {
     "end_time": "2016-08-14T22:22:27.455666",
     "start_time": "2016-08-14T22:22:27.073069"
    },
    "collapsed": false,
    "scrolled": true
   },
   "outputs": [
    {
     "data": {
      "text/plain": [
       "<matplotlib.text.Text at 0x116eacd50>"
      ]
     },
     "execution_count": 146,
     "metadata": {},
     "output_type": "execute_result"
    },
    {
     "data": {
      "image/png": "[encoded data removed]",
      "text/plain": [
       "<matplotlib.figure.Figure at 0x115684550>"
      ]
     },
     "metadata": {},
     "output_type": "display_data"
    }
   ],
   "source": [
    "plt.semilogx(np.array(rlconfs), np.array(peps))\n",
    "plt.xlabel(\"RLConf :  L (Angstrom)\")\n",
    "plt.ylabel(\"Pep (?)\")"
   ]
  },
  {
   "cell_type": "markdown",
   "metadata": {
    "ExecuteTime": {
     "end_time": "2016-08-05T14:11:59.600241",
     "start_time": "2016-08-05T14:11:59.597845"
    }
   },
   "source": []
  },
  {
   "cell_type": "code",
   "execution_count": null,
   "metadata": {
    "collapsed": true
   },
   "outputs": [],
   "source": []
  },
  {
   "cell_type": "markdown",
   "metadata": {
    "ExecuteTime": {
     "end_time": "2016-07-31T00:03:58.990804",
     "start_time": "2016-07-31T00:03:58.988263"
    }
   },
   "source": [
    "### V-A theory of the Weak Interaction\n",
    "\n",
    "The V-A theory provides a way to compute the cross section for orbital (K) electron capture by the proton\n",
    "\n",
    "This is just the quantum mechanical Golden Rule fomula, using the Dirac spinors (relativistic 4-vectors) and the associated (4x4) Gamma matrices, and the 'fundamental' constants \n",
    "\n",
    "The V-A theory contains specific corrections but is not the most complete theory.  Still, these minor corrections likely have no effect for our purposes.\n",
    "\n",
    "#### electron capture cross section matrix elements in the V-A theory\n",
    "\n",
    "$$M_{fi}=\\dfrac{G_{F}}{\\sqrt{2}}\\bar{u}(p_{n},s_{n})(G_{V}-G_{A}\\gamma^{5})\\gamma^{\\mu}u(p_{p},s_{p})\\times\\bar{u}(k,s_{k})\\gamma_{u}(1-\\gamma^{5})u(s_{e},p_{e})$$\n",
    "\n",
    "where GF = 1.16637 × 10−5 GeV−2 and the neutron lifetime is reproduced with GA = 1\n",
    "and Gv = −1.285.7 , and \n",
    "$$s_{n}, s_{p},s_{k},s_{e}$$\n",
    "are 2-component spin vectors for the neutron, proton, nutrino, and electron, resp.\n",
    "\n"
   ]
  },
  {
   "cell_type": "markdown",
   "metadata": {},
   "source": [
    "#### Implementing the calculations\n",
    "\n",
    "We can use an open source physics packages to generate the Dirac Gamma Matrices"
   ]
  },
  {
   "cell_type": "markdown",
   "metadata": {},
   "source": [
    "### Dirac Spinors\n",
    "\n",
    "#### Relativistic 4-vectors for particles\n",
    "$$u(\\overrightarrow{p},s=up)=\\sqrt{E+m}\\left[\\begin{array}{c}\n",
    "0\\\\\n",
    "1\\\\\n",
    "\\dfrac{p_{3}}{E+m}\\\\\n",
    "\\dfrac{p_{1}+ip_{2}}{E+m}\n",
    "\\end{array}\\right]\\;\\;u(\\overrightarrow{p},s=down)=\\sqrt{E+m}\\left[\\begin{array}{c}\n",
    "1\\\\\n",
    "0\\\\\n",
    "\\dfrac{p_{1}-ip_{2}}{E+m}\\\\\n",
    "\\dfrac{-p_{3}}{E+m}\n",
    "\\end{array}\\right]$$ \n",
    "\n",
    "#### Complex conjugates\n"
   ]
  },
  {
   "cell_type": "code",
   "execution_count": 72,
   "metadata": {
    "ExecuteTime": {
     "end_time": "2016-08-12T20:23:58.242439",
     "start_time": "2016-08-12T20:23:58.226816"
    },
    "collapsed": false
   },
   "outputs": [],
   "source": [
    "# dirac spinors \n",
    "def spinu(p ,mass):\n",
    "    s = np.diag([1,1])\n",
    "    \n",
    "    denom = p[0] + mass\n",
    "    \n",
    "    fac = np.sqrt(denom)\n",
    "    phi = fac*cs\n",
    "    \n",
    "    wu = np.zeros([4,2], dtype=np.complex_)\n",
    "    wu[0,0] = 1.0\n",
    "    wu[1,1] = 1.0\n",
    "\n",
    "    wu[2,0] = p[3] / denom\n",
    "    wu[2,1] = (p[1] - p[2]*1.j) / denom\n",
    "    wu[3,0] = (p[1] + p[2]*1.j) / denom\n",
    "    wu[3,1] = -(p[3]) / denom\n",
    "\n",
    "    u = wu*phi\n",
    "    \n",
    "    return u"
   ]
  },
  {
   "cell_type": "code",
   "execution_count": 73,
   "metadata": {
    "ExecuteTime": {
     "end_time": "2016-08-12T20:23:58.412546",
     "start_time": "2016-08-12T20:23:58.402512"
    },
    "collapsed": false
   },
   "outputs": [],
   "source": [
    "# dirac spinors \n",
    "def spinu(p ,mass):\n",
    "    s = np.diag([1,1])\n",
    "    \n",
    "    denom = p[0] + mass\n",
    "    \n",
    "    fac = np.sqrt(denom)\n",
    "    phi = fac*cs\n",
    "    \n",
    "    wu = np.zeros([4,2], dtype=np.complex_)\n",
    "    wu[0,0] = 1.0\n",
    "    wu[1,1] = 1.0\n",
    "\n",
    "    wu[2,0] = p[3] / denom\n",
    "    wu[2,1] = (p[1] - p[2]*1.j) / denom\n",
    "    wu[3,0] = (p[1] + p[2]*1.j) / denom\n",
    "    wu[3,1] = -(p[3]) / denom\n",
    "\n",
    "    u = wu*phi\n",
    "    \n",
    "    return u"
   ]
  },
  {
   "cell_type": "markdown",
   "metadata": {
    "ExecuteTime": {
     "end_time": "2016-07-30T23:37:15.220633",
     "start_time": "2016-07-30T23:37:15.216588"
    }
   },
   "source": [
    "### Dirac Gamma Matrices\n",
    "\n",
    "These are (4x4) matrices used to compute the matrix elements\n",
    "\n",
    "https://en.wikipedia.org/wiki/Gamma_matrices\n",
    "\n",
    "we can obtain them from\n",
    "\n",
    "http://docs.sympy.org/dev/modules/physics/matrices.html\n",
    "\n",
    "these are related to the PNNL code as\n",
    "\n",
    "<pre>\n",
    "mgamma =  RSW cgamma, cgamma5\n",
    "</pre>\n",
    "\n",
    "If we need better performance, we can convert to numpy arrays\n",
    "\n",
    "http://stackoverflow.com/questions/17069864/what-is-the-best-way-to-convert-a-sympy-matrix-to-a-numpy-array-matrix\n",
    "\n",
    "<pre>\n",
    "np.array(g).astype(np.float64)\n",
    "</pre>\n"
   ]
  },
  {
   "cell_type": "markdown",
   "metadata": {
    "ExecuteTime": {
     "end_time": "2016-07-30T23:29:09.158600",
     "start_time": "2016-07-30T23:29:09.155455"
    },
    "collapsed": false
   },
   "source": [
    "### Using SymPy"
   ]
  },
  {
   "cell_type": "code",
   "execution_count": 74,
   "metadata": {
    "ExecuteTime": {
     "end_time": "2016-08-12T20:23:59.414200",
     "start_time": "2016-08-12T20:23:58.857427"
    },
    "collapsed": false
   },
   "outputs": [
    {
     "data": {
      "text/plain": [
       "Matrix([\n",
       "[1, 0,  0,  0],\n",
       "[0, 1,  0,  0],\n",
       "[0, 0, -1,  0],\n",
       "[0, 0,  0, -1]])"
      ]
     },
     "execution_count": 74,
     "metadata": {},
     "output_type": "execute_result"
    }
   ],
   "source": [
    "import sympy\n",
    "from sympy import *\n",
    "from sympy.physics.matrices import mgamma\n",
    "mgamma(0)"
   ]
  },
  {
   "cell_type": "markdown",
   "metadata": {
    "ExecuteTime": {
     "end_time": "2016-07-31T00:00:31.994875",
     "start_time": "2016-07-31T00:00:31.991133"
    }
   },
   "source": [
    "$$C_{left} = 1-\\gamma^{5}$$"
   ]
  },
  {
   "cell_type": "code",
   "execution_count": 75,
   "metadata": {
    "ExecuteTime": {
     "end_time": "2016-08-12T20:23:59.421083",
     "start_time": "2016-08-12T20:23:59.415696"
    },
    "collapsed": false
   },
   "outputs": [
    {
     "data": {
      "text/plain": [
       "Matrix([\n",
       "[ 1,  0, -1,  0],\n",
       "[ 0,  1,  0, -1],\n",
       "[-1,  0,  1,  0],\n",
       "[ 0, -1,  0,  1]])"
      ]
     },
     "execution_count": 75,
     "metadata": {},
     "output_type": "execute_result"
    }
   ],
   "source": [
    "cleft = diag(1,1,1,1) -mgamma(5)\n",
    "cleft"
   ]
  },
  {
   "cell_type": "markdown",
   "metadata": {},
   "source": [
    "$$C_{GVGA} = G_{V}-G_{A}\\gamma^{5}$$\n"
   ]
  },
  {
   "cell_type": "code",
   "execution_count": 76,
   "metadata": {
    "ExecuteTime": {
     "end_time": "2016-08-12T20:23:59.507472",
     "start_time": "2016-08-12T20:23:59.500190"
    },
    "collapsed": false
   },
   "outputs": [
    {
     "data": {
      "text/plain": [
       "Matrix([\n",
       "[  1.0,     0, 1.285,     0],\n",
       "[    0,   1.0,     0, 1.285],\n",
       "[1.285,     0,   1.0,     0],\n",
       "[    0, 1.285,     0,   1.0]])"
      ]
     },
     "execution_count": 76,
     "metadata": {},
     "output_type": "execute_result"
    }
   ],
   "source": [
    "cGVGA = diag(GV,GV,GV,GV) - GA*mgamma(5)\n",
    "cGVGA"
   ]
  },
  {
   "cell_type": "markdown",
   "metadata": {
    "ExecuteTime": {
     "end_time": "2016-07-31T00:27:49.277947",
     "start_time": "2016-07-31T00:27:49.275187"
    }
   },
   "source": [
    "###  diagonal 2x2 matrices  used in PNNL code"
   ]
  },
  {
   "cell_type": "code",
   "execution_count": 77,
   "metadata": {
    "ExecuteTime": {
     "end_time": "2016-08-12T20:23:59.796829",
     "start_time": "2016-08-12T20:23:59.792937"
    },
    "collapsed": false
   },
   "outputs": [],
   "source": [
    "cs1 = diag(1,1)\n",
    "cs2 = diag(1,1)\n",
    "cse = diag(1,1)\n",
    "csk = diag(1,1)"
   ]
  },
  {
   "cell_type": "code",
   "execution_count": 78,
   "metadata": {
    "ExecuteTime": {
     "end_time": "2016-08-12T20:23:59.948944",
     "start_time": "2016-08-12T20:23:59.946239"
    },
    "collapsed": true
   },
   "outputs": [],
   "source": [
    "### Stopped Here"
   ]
  },
  {
   "cell_type": "code",
   "execution_count": 79,
   "metadata": {
    "ExecuteTime": {
     "end_time": "2016-08-12T20:24:00.103806",
     "start_time": "2016-08-12T20:24:00.100454"
    },
    "collapsed": false
   },
   "outputs": [],
   "source": [
    "def dgprod(ekn):\n",
    "    dgprod = (5.2828)*(1e-5)/np.sqrt(ekn)\n",
    "    dgprod = dgprod*1e-24 # cmˆ2\n",
    "    return dgprod"
   ]
  },
  {
   "cell_type": "code",
   "execution_count": 80,
   "metadata": {
    "ExecuteTime": {
     "end_time": "2016-08-12T20:24:00.262908",
     "start_time": "2016-08-12T20:24:00.257780"
    },
    "collapsed": false
   },
   "outputs": [],
   "source": [
    "#\n",
    "#  redo as ?\n",
    "#   cubar.dot(ca).dot(cu)\n",
    "#\n",
    "def ubaru( cubar , ca , cu , cscal ):\n",
    "    cscal = 0.0\n",
    "    for i1 in range(4):\n",
    "        for i2 in range(4):\n",
    "            cscal += cubar[i1]*ca[i1,i2]*cu[i2]\n",
    "            \n"
   ]
  },
  {
   "cell_type": "code",
   "execution_count": null,
   "metadata": {
    "collapsed": true
   },
   "outputs": [],
   "source": []
  },
  {
   "cell_type": "markdown",
   "metadata": {
    "ExecuteTime": {
     "end_time": "2016-08-05T14:13:20.702805",
     "start_time": "2016-08-05T14:13:20.700462"
    },
    "collapsed": true
   },
   "source": [
    "### Calculate Kinetic Energies of each particle \n",
    "\n",
    "- EKn = p1 (0) − dMn\n",
    "- EKp = p2 (0) − dMp\n",
    "- EKe = pe (0) − dme\n",
    "- EKnu = pk(0) − dmnu\n",
    "\n"
   ]
  },
  {
   "cell_type": "code",
   "execution_count": null,
   "metadata": {
    "collapsed": true
   },
   "outputs": [],
   "source": []
  },
  {
   "cell_type": "code",
   "execution_count": 81,
   "metadata": {
    "ExecuteTime": {
     "end_time": "2016-08-12T20:24:00.902355",
     "start_time": "2016-08-12T20:24:00.882008"
    },
    "collapsed": false
   },
   "outputs": [],
   "source": [
    "#  returns 4 vectors:  p1 , p2 , pe, pk \n",
    "\n",
    "#  assumes exactly cubic lattic:  pep1 = pep2 = pep3 = +|- pep\n",
    "def pekin(x , phi , pep ):\n",
    "    \n",
    "    p1 = np.zeros(4)\n",
    "    p2 = np.zeros(4)\n",
    "    pe = np.zeros(4)\n",
    "    pk = np.zeros(4)\n",
    "    \n",
    "    # proton\n",
    "    p2[0] = dsqrt (dMp**2 + 3.0*pep**2)\n",
    "    p2[1] = -pep\n",
    "    p2[2] = -pep\n",
    "    p2[3] = -pep\n",
    "    \n",
    "    # electron\n",
    "    pe[0] = dsqrt (dme**2 + 3.0*pep**2)\n",
    "    pe[1] = pep\n",
    "    pe[2] = pep\n",
    "    pe[3] = pep\n",
    "    \n",
    "    Etot = p2[0] + pe[0]\n",
    "\n",
    "    Eknu = (( Etot-dmnu)**2 - dMn**2)/(2.0*Etot )\n",
    "    Ekn = (( Etot-dMn)**2 - dmnu**2)/(2.0*Etot )\n",
    "    pnu = np.sqrt((Eknu+dmnu)**2 - dmnu**2)\n",
    "    \n",
    "    pk[0] = Eknu + dmnu\n",
    "    pk[1] = pnu*np.sqrt(1.0 - x**2)*cos(phi)\n",
    "    pk[2] = pnu*np.sqrt(1.0 - x**2)*sin(phi)\n",
    "    pk[3] = pnu*x\n",
    "    \n",
    "    # vector element wise addition\n",
    "    # neutron\n",
    "    p1 = p2 + pe - pk\n",
    "    \n",
    "    return p1, p2, pe, pk"
   ]
  },
  {
   "cell_type": "code",
   "execution_count": null,
   "metadata": {
    "collapsed": true
   },
   "outputs": [],
   "source": []
  },
  {
   "cell_type": "code",
   "execution_count": null,
   "metadata": {
    "collapsed": true
   },
   "outputs": [],
   "source": []
  },
  {
   "cell_type": "code",
   "execution_count": null,
   "metadata": {
    "collapsed": true
   },
   "outputs": [],
   "source": []
  },
  {
   "cell_type": "code",
   "execution_count": null,
   "metadata": {
    "collapsed": true
   },
   "outputs": [],
   "source": []
  }
 ],
 "metadata": {
  "anaconda-cloud": {},
  "kernelspec": {
   "display_name": "Python [Root]",
   "language": "python",
   "name": "Python [Root]"
  },
  "language_info": {
   "codemirror_mode": {
    "name": "ipython",
    "version": 2
   },
   "file_extension": ".py",
   "mimetype": "text/x-python",
   "name": "python",
   "nbconvert_exporter": "python",
   "pygments_lexer": "ipython2",
   "version": "2.7.12"
  }
 },
 "nbformat": 4,
 "nbformat_minor": 0
}
