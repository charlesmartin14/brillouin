{
 "cells": [
  {
   "cell_type": "markdown",
   "metadata": {},
   "source": [
    "### Only computes Relativistic Kinematics for E (not p)\n",
    "\n",
    "#### No Guassian Quadrature"
   ]
  },
  {
   "cell_type": "code",
   "execution_count": 20,
   "metadata": {
    "ExecuteTime": {
     "end_time": "2016-09-13T14:35:07.920690",
     "start_time": "2016-09-13T14:35:07.916085"
    },
    "collapsed": false
   },
   "outputs": [],
   "source": [
    "import matplotlib\n",
    "import numpy as np\n",
    "import matplotlib.pyplot as plt\n",
    "import matplotlib.patches as mpatches\n",
    "\n",
    "%matplotlib inline "
   ]
  },
  {
   "cell_type": "code",
   "execution_count": 23,
   "metadata": {
    "ExecuteTime": {
     "end_time": "2016-09-13T14:35:23.581138",
     "start_time": "2016-09-13T14:35:23.460121"
    },
    "collapsed": false
   },
   "outputs": [],
   "source": [
    "!./Eke.out > Eke.data"
   ]
  },
  {
   "cell_type": "code",
   "execution_count": 24,
   "metadata": {
    "ExecuteTime": {
     "end_time": "2016-09-13T14:35:24.215570",
     "start_time": "2016-09-13T14:35:24.204078"
    },
    "collapsed": false
   },
   "outputs": [
    {
     "data": {
      "text/plain": [
       "(500, 5)"
      ]
     },
     "execution_count": 24,
     "metadata": {},
     "output_type": "execute_result"
    }
   ],
   "source": [
    "data = np.loadtxt('Eke.data')\n",
    "data.shape"
   ]
  },
  {
   "cell_type": "code",
   "execution_count": 25,
   "metadata": {
    "ExecuteTime": {
     "end_time": "2016-09-13T14:35:24.816001",
     "start_time": "2016-09-13T14:35:24.812078"
    },
    "collapsed": true
   },
   "outputs": [],
   "source": [
    "rlconf = data[:,0]\n",
    "EKe =  (data[:,1])\n",
    "EKn = (data[:,2])\n",
    "EKnu = (data[:,3])\n",
    "EKp =(data[:,4])\n"
   ]
  },
  {
   "cell_type": "code",
   "execution_count": 26,
   "metadata": {
    "ExecuteTime": {
     "end_time": "2016-09-13T14:35:25.629907",
     "start_time": "2016-09-13T14:35:25.075286"
    },
    "collapsed": false,
    "scrolled": true
   },
   "outputs": [
    {
     "data": {
      "image/png": "[encoded data removed]",
      "text/plain": [
       "<matplotlib.figure.Figure at 0x113646bd0>"
      ]
     },
     "metadata": {},
     "output_type": "display_data"
    }
   ],
   "source": [
    "plt.semilogy(rlconf, EKe , color='magenta')\n",
    "plt.semilogy(rlconf, EKnu, color='red' )\n",
    "plt.semilogy(rlconf, EKn, color='blue')\n",
    "plt.semilogy(rlconf, EKp, color='green')\n",
    "\n",
    "patches = [ mpatches.Patch(color='magenta', label='EKe'),\n",
    "            mpatches.Patch(color='red', label='EKnu'),\n",
    "            mpatches.Patch(color='blue', label='EKn'),\n",
    "            mpatches.Patch(color='green', label='EKp')          ]\n",
    "plt.legend(handles=patches)\n",
    "\n",
    "plt.xlabel(\"Box confinment (Angstrom)\")\n",
    "plt.ylim(ymin=0.000001)\n",
    "plt.ylim(ymax=100.0) \n",
    "\n",
    "\n",
    "from pylab import rcParams\n",
    "rcParams['figure.figsize'] = 10,10\n",
    "plt.show()"
   ]
  },
  {
   "cell_type": "code",
   "execution_count": null,
   "metadata": {
    "collapsed": true
   },
   "outputs": [],
   "source": []
  },
  {
   "cell_type": "code",
   "execution_count": null,
   "metadata": {
    "collapsed": true
   },
   "outputs": [],
   "source": []
  },
  {
   "cell_type": "code",
   "execution_count": null,
   "metadata": {
    "collapsed": true
   },
   "outputs": [],
   "source": []
  }
 ],
 "metadata": {
  "anaconda-cloud": {},
  "kernelspec": {
   "display_name": "Python [Root]",
   "language": "python",
   "name": "Python [Root]"
  },
  "language_info": {
   "codemirror_mode": {
    "name": "ipython",
    "version": 2
   },
   "file_extension": ".py",
   "mimetype": "text/x-python",
   "name": "python",
   "nbconvert_exporter": "python",
   "pygments_lexer": "ipython2",
   "version": "2.7.12"
  }
 },
 "nbformat": 4,
 "nbformat_minor": 0
}
