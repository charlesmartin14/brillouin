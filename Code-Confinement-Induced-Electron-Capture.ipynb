{
 "cells": [
  {
   "cell_type": "markdown",
   "metadata": {
    "ExecuteTime": {
     "end_time": "2016-09-05T21:26:37.768269",
     "start_time": "2016-09-05T21:26:37.763464"
    }
   },
   "source": [
    "# Confinement Induced Electron Capture\n",
    "## Brillouin Energy Corporation\n"
   ]
  },
  {
   "cell_type": "markdown",
   "metadata": {
    "ExecuteTime": {
     "end_time": "2016-09-13T17:03:13.712979",
     "start_time": "2016-09-13T17:03:13.708719"
    }
   },
   "source": [
    "### Calculations\n",
    "\n",
    "#### Physical Constants\n",
    "see: http://pdg.lbl.gov/2015/reviews/rpp2015-rev-phys-constants.pdf"
   ]
  },
  {
   "cell_type": "code",
   "execution_count": 1,
   "metadata": {
    "ExecuteTime": {
     "end_time": "2017-03-03T00:06:23.027514",
     "start_time": "2017-03-03T00:06:21.257474"
    },
    "collapsed": false
   },
   "outputs": [
    {
     "name": "stderr",
     "output_type": "stream",
     "text": [
      "/Users/charlesmartin14/anaconda/lib/python2.7/site-packages/matplotlib/font_manager.py:273: UserWarning: Matplotlib is building the font cache using fc-list. This may take a moment.\n",
      "  warnings.warn('Matplotlib is building the font cache using fc-list. This may take a moment.')\n"
     ]
    }
   ],
   "source": [
    "import numpy as np\n",
    "import matplotlib\n",
    "import numpy as np\n",
    "import matplotlib.pyplot as plt\n",
    "import matplotlib.patches as mpatches\n",
    "\n",
    "%matplotlib inline "
   ]
  },
  {
   "cell_type": "code",
   "execution_count": 2,
   "metadata": {
    "ExecuteTime": {
     "end_time": "2017-03-03T00:06:23.637659",
     "start_time": "2017-03-03T00:06:23.029271"
    },
    "collapsed": true
   },
   "outputs": [],
   "source": [
    "# scipy contains mant of the basic units\n",
    "# in meters\n",
    "\n",
    "# http://docs.scipy.org/doc/scipy/reference/constants.html\n",
    "import scipy\n",
    "from scipy import constants\n",
    "\n",
    "# we use the python physics library sympy do to our calculations;\n",
    "#  we use the units module, and the Gamma matrices \n",
    "#  but we do not (yet) use the Tensor module\n",
    "import sympy\n",
    "from sympy import *\n",
    "from sympy.physics import units\n",
    "from sympy.physics.matrices import mgamma"
   ]
  },
  {
   "cell_type": "markdown",
   "metadata": {
    "ExecuteTime": {
     "end_time": "2016-09-13T17:05:31.048509",
     "start_time": "2016-09-13T17:05:31.045993"
    }
   },
   "source": [
    "### Define constants and units \n",
    "\n",
    "Examples shown"
   ]
  },
  {
   "cell_type": "code",
   "execution_count": 3,
   "metadata": {
    "ExecuteTime": {
     "end_time": "2017-03-03T00:06:23.645747",
     "start_time": "2017-03-03T00:06:23.639300"
    },
    "collapsed": false
   },
   "outputs": [
    {
     "name": "stdout",
     "output_type": "stream",
     "text": [
      "speed of light in meters / sec  299792458.0\n",
      "hbar in m2 kg / s  1.05457180014e-34\n",
      "angstrom in meters 1e-10\n",
      "angstrom in fm  100000.000000000\n"
     ]
    }
   ],
   "source": [
    "print \"speed of light in meters / sec \",constants.c\n",
    "print \"hbar in m2 kg / s \",constants.hbar\n",
    "\n",
    "print \"angstrom in meters\", constants.angstrom\n",
    "print \"angstrom in fm \",constants.angstrom/units.femto"
   ]
  },
  {
   "cell_type": "code",
   "execution_count": 4,
   "metadata": {
    "ExecuteTime": {
     "end_time": "2017-03-03T00:06:23.651104",
     "start_time": "2017-03-03T00:06:23.647550"
    },
    "collapsed": false
   },
   "outputs": [
    {
     "name": "stdout",
     "output_type": "stream",
     "text": [
      "197.3269788 MeV fm\n"
     ]
    }
   ],
   "source": [
    "hbarc =  constants.value('Planck constant over 2 pi times c in MeV fm')\n",
    "print hbarc, \"MeV fm\""
   ]
  },
  {
   "cell_type": "code",
   "execution_count": 5,
   "metadata": {
    "ExecuteTime": {
     "end_time": "2017-03-03T00:06:23.658679",
     "start_time": "2017-03-03T00:06:23.653226"
    },
    "collapsed": false,
    "scrolled": true
   },
   "outputs": [
    {
     "name": "stdout",
     "output_type": "stream",
     "text": [
      "Mass proton, neutron, electon (in MeV)\n",
      "938.2720813 939.5654133 0.5109989461\n"
     ]
    }
   ],
   "source": [
    "Mn =  constants.value('neutron mass energy equivalent in MeV')\n",
    "Mp = constants.value('proton mass energy equivalent in MeV')\n",
    "me = constants.value('electron mass energy equivalent in MeV')\n",
    "\n",
    "print \"Mass proton, neutron, electon (in MeV)\"\n",
    "print Mp, Mn, me"
   ]
  },
  {
   "cell_type": "code",
   "execution_count": 6,
   "metadata": {
    "ExecuteTime": {
     "end_time": "2017-03-03T00:06:23.663901",
     "start_time": "2017-03-03T00:06:23.660145"
    },
    "collapsed": false
   },
   "outputs": [
    {
     "name": "stdout",
     "output_type": "stream",
     "text": [
      "mass electron neutrino 1e-08\n"
     ]
    }
   ],
   "source": [
    "# useful constants: not in scypi (or sympy)\n",
    "# electron neutrino mass in MeV\n",
    "mnu = 1.e-8 # MeV\n",
    "print \"mass electron neutrino\", mnu"
   ]
  },
  {
   "cell_type": "markdown",
   "metadata": {},
   "source": [
    "## <font color='red'>Using PNLL values of constants for debugging</font>\n"
   ]
  },
  {
   "cell_type": "code",
   "execution_count": 7,
   "metadata": {
    "ExecuteTime": {
     "end_time": "2017-03-03T00:06:23.668478",
     "start_time": "2017-03-03T00:06:23.665221"
    },
    "collapsed": true
   },
   "outputs": [],
   "source": [
    "Mp = 938.272013                                                                                                          \n",
    "Mn = 939.565346                                                                                         \n",
    "me = 0.510998910\n",
    "# use old hbarc, pmin to double check calculations\n",
    "pmin = 1.1872859246356673 # MeV\n",
    "hbarc = 197.3269631"
   ]
  },
  {
   "cell_type": "markdown",
   "metadata": {
    "ExecuteTime": {
     "end_time": "2016-09-28T15:04:54.975918",
     "start_time": "2016-09-28T15:04:54.971905"
    }
   },
   "source": [
    "#### <font color='red'> comment out above for final calculations </font>"
   ]
  },
  {
   "cell_type": "code",
   "execution_count": 8,
   "metadata": {
    "ExecuteTime": {
     "end_time": "2017-03-03T00:06:23.674896",
     "start_time": "2017-03-03T00:06:23.670104"
    },
    "collapsed": false,
    "scrolled": true
   },
   "outputs": [
    {
     "name": "stdout",
     "output_type": "stream",
     "text": [
      "EKemin =  0.781582906698 MeV\n",
      "  pmin =  1.18728592464 MeV\n"
     ]
    }
   ],
   "source": [
    "Ekemin = (((Mn + mnu - me)**2) - (Mp**2))/(2.0*(Mn+mnu))\n",
    "pmin = np.sqrt(( Ekemin+me)**2 - me**2)\n",
    "print \"EKemin = \", Ekemin, \"MeV\"\n",
    "print \"  pmin = \", pmin, \"MeV\""
   ]
  },
  {
   "cell_type": "markdown",
   "metadata": {},
   "source": [
    "$$E(KE)_{min}\\simeq 0.782\\;\\mathring{A}$$\n",
    "$$\\;\\;\\;\\;\\;\\;{p}_{min}\\simeq 1.188\\;\\mathring{A}$$"
   ]
  },
  {
   "cell_type": "markdown",
   "metadata": {
    "ExecuteTime": {
     "end_time": "2016-09-06T14:15:50.492282",
     "start_time": "2016-09-06T14:15:50.488580"
    }
   },
   "source": [
    "#### Maximum Allowed Confinment\n",
    "\n",
    "We can estimate of the maximum box size using some relativistic kinematics.\n",
    "\n",
    "For a classical 3-D particle-in-a-box, in units of $\\hbar c$,  we have [13]\n",
    "\n",
    "$$\\mathbf{p}_{n}=\\dfrac{3n\\pi}{L}$$\n",
    "\n",
    "so that for n=0, \n",
    "\n",
    "$$L_{max}=\\dfrac{3\\pi}{p_{min}}$$\n",
    "\n",
    "We can use the relativistic ${p}_{min}$ to get the maximum box size"
   ]
  },
  {
   "cell_type": "code",
   "execution_count": 9,
   "metadata": {
    "ExecuteTime": {
     "end_time": "2017-03-03T00:06:23.683216",
     "start_time": "2017-03-03T00:06:23.677034"
    },
    "collapsed": false,
    "scrolled": true
   },
   "outputs": [
    {
     "name": "stdout",
     "output_type": "stream",
     "text": [
      "The maximum box size is LMax =  0.00904360557445870 in Angstroms\n"
     ]
    }
   ],
   "source": [
    "Lmax =(np.sqrt(3.0)*np.pi*hbarc/pmin)*units.femto/constants.angstrom\n",
    "print \"The maximum box size is LMax = \",Lmax, \"in Angstroms\""
   ]
  },
  {
   "cell_type": "markdown",
   "metadata": {
    "ExecuteTime": {
     "end_time": "2016-09-06T16:11:54.552734",
     "start_time": "2016-09-06T16:11:54.548782"
    }
   },
   "source": [
    "$$L_{max}=0.0090\\;\\mathring{A}$$"
   ]
  },
  {
   "cell_type": "markdown",
   "metadata": {},
   "source": [
    "For a range size  $L\\in[L_{min},L_{\\max}]$,\n",
    "$$0.004\\le L \\le0.009\\;\\mathring{A},$$\n",
    "\n",
    "we will compute the relativistic Kinetic energies, the rate of electron capture, and the effective power (ratio) for our box-induced electron capture.\n"
   ]
  },
  {
   "cell_type": "markdown",
   "metadata": {
    "ExecuteTime": {
     "end_time": "2016-09-13T15:16:44.145497",
     "start_time": "2016-09-13T15:16:44.141270"
    }
   },
   "source": [
    "### Relatvisitic Kinematics\n",
    "\n",
    "Before we do the full VA-theory calcualtions of confined electron capture, we can compute the Relativistic Kinematics to examine the Kinetetic Energy for the particles involves\n",
    "\n"
   ]
  },
  {
   "cell_type": "markdown",
   "metadata": {
    "ExecuteTime": {
     "end_time": "2016-09-13T15:20:35.529245",
     "start_time": "2016-09-13T15:20:35.524882"
    }
   },
   "source": [
    "####  RLConf = Box confinment lengths\n",
    "Define the box sizes L, in units L (A°) for a classical particle-in-the-box\n",
    "\n",
    "(for completeness, we will use $ 0.0001\\le L \\le0.009\\;\\mathring{A} $, including boxes smaller than the Compton scale)\n",
    "\n"
   ]
  },
  {
   "cell_type": "code",
   "execution_count": 10,
   "metadata": {
    "ExecuteTime": {
     "end_time": "2017-03-03T00:06:24.531688",
     "start_time": "2017-03-03T00:06:24.519640"
    },
    "collapsed": false
   },
   "outputs": [
    {
     "name": "stdout",
     "output_type": "stream",
     "text": [
      "The box size range in [] 0.00011257882444 0.00904360557438 ] Angstroms\n"
     ]
    }
   ],
   "source": [
    "# we may simplify this code\n",
    "rlconfs = []\n",
    "peps = []\n",
    "for iep in range(1,500):\n",
    "    pgrid =  np.exp(np.log(1e-11)+(float(iep)/500.0)*(np.log(100.0)-np.log(1e-11)))\n",
    "    pep = ( pmin + pgrid )/np.sqrt(3.0)\n",
    "    peps.append(pep)\n",
    "    rlconf = (1e-5)*hbarc*np.pi/pep\n",
    "    rlconfs.append(rlconf)\n",
    "    \n",
    "print \"The box size range in []\",min(rlconfs), max(rlconfs),\"] Angstroms\""
   ]
  },
  {
   "cell_type": "markdown",
   "metadata": {
    "ExecuteTime": {
     "end_time": "2016-09-13T15:24:26.256037",
     "start_time": "2016-09-13T15:24:26.252875"
    }
   },
   "source": [
    "### $ \\mathbf{p}_{min} $ vs L\n",
    "\n",
    "We  see how confinement causes the (proton/electon) $ \\mathbf{p}_{min} $to increase"
   ]
  },
  {
   "cell_type": "markdown",
   "metadata": {
    "ExecuteTime": {
     "end_time": "2017-01-23T15:25:13.012569",
     "start_time": "2017-01-23T15:25:13.006287"
    }
   },
   "source": [
    "#### We add in the box sizes L < $0.004 \\mathring{A}$, below the Compton Length\n",
    "\n",
    "We present these results for completeness only, in order to help visualize the results.\n"
   ]
  },
  {
   "cell_type": "code",
   "execution_count": 11,
   "metadata": {
    "ExecuteTime": {
     "end_time": "2017-03-03T00:06:25.730796",
     "start_time": "2017-03-03T00:06:25.087588"
    },
    "collapsed": false,
    "scrolled": true
   },
   "outputs": [
    {
     "data": {
      "image/png": "[encoded data removed]",
      "text/plain": [
       "<matplotlib.figure.Figure at 0x10c371110>"
      ]
     },
     "metadata": {},
     "output_type": "display_data"
    }
   ],
   "source": [
    "plt.semilogx(np.array(rlconfs), np.array(peps))\n",
    "plt.xlabel(\"RLConf :  L (Angstrom)\")\n",
    "plt.ylabel(\"Pep\")\n",
    "\n",
    "from pylab import rcParams\n",
    "rcParams['figure.figsize'] = 5,5\n",
    "plt.show()"
   ]
  },
  {
   "cell_type": "markdown",
   "metadata": {
    "ExecuteTime": {
     "end_time": "2016-09-13T14:17:43.413047",
     "start_time": "2016-09-13T14:17:42.813234"
    },
    "collapsed": false,
    "scrolled": true
   },
   "source": [
    "#### Kinetic Energy Calculations\n",
    "\n",
    "We now calculate and plot the all the Kinetic energies\n",
    "\n",
    "That is, we compute $ \\mathbf{p}^{0}_{ep} $ as well as $ K_{n},K_{p},K_{e},and\\;K_{\\nu} $ \n",
    "\n",
    "We will compute the full $ \\mathbf{p}_{ep} $ in the next section, below"
   ]
  },
  {
   "cell_type": "code",
   "execution_count": 12,
   "metadata": {
    "ExecuteTime": {
     "end_time": "2017-03-03T00:06:25.742731",
     "start_time": "2017-03-03T00:06:25.732524"
    },
    "collapsed": false
   },
   "outputs": [],
   "source": [
    "#  compute the [0] component of the 4 vectors:  p1 , p2 , pe, pk \n",
    "# p1 neutron\n",
    "# p2 proton\n",
    "# pe electron\n",
    "# pk neutrino\n",
    "#\n",
    "#  assumes exactly cubic lattic:  pep1 = pep2 = pep3 = +|- pep\n",
    "#  we may change this later for additional calculations\n",
    "def pepKE(pep):\n",
    "    \n",
    "    p2 = np.sqrt((Mp**2) + 3.0*(pep**2) )\n",
    "    pe = np.sqrt((me**2) + 3.0*(pep**2) )\n",
    "    Etot = p2 + pe\n",
    "\n",
    "    Eknu = ( (Etot-mnu)**2 - (Mn**2) )/(2.0*Etot)\n",
    "    Ekn = ( (Etot-Mn)**2 - (mnu**2) )/(2.0*Etot)\n",
    "    pnu = np.sqrt( (Eknu+mnu)**2 - (mnu**2) ) \n",
    "    \n",
    "    pk = Eknu + mnu\n",
    "    p1 = p2 + pe - pk\n",
    "    \n",
    "    return p1, p2, pe, pk"
   ]
  },
  {
   "cell_type": "code",
   "execution_count": 13,
   "metadata": {
    "ExecuteTime": {
     "end_time": "2017-03-03T00:06:25.749694",
     "start_time": "2017-03-03T00:06:25.744678"
    },
    "collapsed": false,
    "scrolled": false
   },
   "outputs": [],
   "source": [
    "num = len(peps)\n",
    "EKn = np.zeros(num)\n",
    "EKp = np.zeros(num)\n",
    "EKe = np.zeros(num)\n",
    "EKnu = np.zeros(num)\n",
    "Etot = np.zeros(num)"
   ]
  },
  {
   "cell_type": "code",
   "execution_count": 14,
   "metadata": {
    "ExecuteTime": {
     "end_time": "2017-03-03T00:06:25.866995",
     "start_time": "2017-03-03T00:06:25.857429"
    },
    "collapsed": false,
    "scrolled": false
   },
   "outputs": [],
   "source": [
    "for i, pep in enumerate(peps):\n",
    "    p1, p2, pe, pk = pepKE(pep)\n",
    "    EKn[i] = p1 - Mn\n",
    "    EKp[i] = p2 - Mp\n",
    "    EKe[i] = pe - me\n",
    "    EKnu[i] = pk - mnu"
   ]
  },
  {
   "cell_type": "code",
   "execution_count": 15,
   "metadata": {
    "ExecuteTime": {
     "end_time": "2017-03-03T00:06:27.138656",
     "start_time": "2017-03-03T00:06:26.032635"
    },
    "collapsed": false,
    "scrolled": false
   },
   "outputs": [
    {
     "data": {
      "image/png": "[encoded data removed]",
      "text/plain": [
       "<matplotlib.figure.Figure at 0x10c377390>"
      ]
     },
     "metadata": {},
     "output_type": "display_data"
    }
   ],
   "source": [
    "plt.semilogy(rlconfs, EKe , color='magenta')\n",
    "plt.semilogy(rlconfs, EKnu, color='red' )\n",
    "plt.semilogy(rlconfs, EKn, color='blue')\n",
    "plt.semilogy(rlconfs, EKp, color='green')\n",
    "\n",
    "patches = [ mpatches.Patch(color='magenta', label='EKe'),\n",
    "            mpatches.Patch(color='red', label='EKnu'),\n",
    "            mpatches.Patch(color='blue', label='EKn'),\n",
    "            mpatches.Patch(color='green', label='EKp')          ]\n",
    "plt.legend(handles=patches)\n",
    "\n",
    "plt.xlabel(\"Box confinment (Angstrom)\")\n",
    "#plt.ylim(ymin=0.004)\n",
    "#plt.ylim(ymax=100.0) \n",
    "\n",
    "from pylab import rcParams\n",
    "rcParams['figure.figsize'] = 10,10\n",
    "plt.show()"
   ]
  },
  {
   "cell_type": "markdown",
   "metadata": {},
   "source": [
    "The electron and proton energies are failry constant, slighly descreasing, as the box size increases.\n",
    "\n",
    "In contrast, the energy of the neutron drops slowly as the box increases, and the electron neutrino energy drops marketed as the box approaches 0.009 $\\mathring{A}$"
   ]
  },
  {
   "cell_type": "markdown",
   "metadata": {},
   "source": [
    "For $L < 0.004 \\mathring{A}$, the proton and electron energies are no longer constant, and, instead increase marketedly.  Likewise, the neutron and electron neutrino energies also blow up.\n",
    "\n",
    "The complete calculations should include the electron capture rates and associated power. To get there, we need "
   ]
  },
  {
   "cell_type": "markdown",
   "metadata": {},
   "source": [
    "### Full Relativisitc Kinematic Calculations\n",
    "\n",
    "To compute the full Dirac 4-vectors, we need to we integrate over the solid angle  $ k^{3}\\Omega $.  We treat the electron neutrino as a particle scattering, and represent the $\\overrightarrow{p_{\\nu}}$ momentum (x,y,z) components\n",
    "\n",
    "<img src=\"img/solid-angle.png\" width=\"400\" height=\"400\" />\n",
    "<center>neutrino scattering</center>\n",
    "\n",
    "where r = 1\n",
    "\n",
    "We integrate over $z, \\theta$ (instead of $\\phi, \\theta$), where the $\\mathbf{p}_{\\nu}$ 4-vector given as"
   ]
  },
  {
   "cell_type": "markdown",
   "metadata": {},
   "source": [
    "\n",
    "$$\\mathbf{p}_{\\nu}\\sim\\left[\\begin{array}{c}\n",
    "E_{\\nu}+m_{\\nu}\\\\\n",
    "|p_{\\nu}|\\;\\sqrt{(1-z^{2})}cos(\\phi)\\\\\n",
    "|p_{\\nu}|\\;\\sqrt{(1-z^{2})}sin(\\phi)\\\\\n",
    "|p_{\\nu}|\\;z\\end{array}\\right]\\;$$ \n",
    "\n",
    "where\n",
    " \n",
    "\n",
    "$$ |p_{\\nu}|=\\sqrt{(E_{\\nu}+m_{\\nu})^{2}-m_{\\nu}^{2}}$$\n",
    "\n"
   ]
  },
  {
   "cell_type": "markdown",
   "metadata": {},
   "source": [
    "Applying the change of variables\n",
    "\n",
    "$$ sin(\\theta)=z $$\n",
    "$$ cos(\\theta)=\\sqrt{(1-z^{2})} $$\n",
    "\n",
    "with Jacobian\n",
    "\n",
    "$$ J = ?? $$ <font color='red'> need Jacobian </font>\n",
    "\n",
    "the new limits are\n",
    "$$  z\\in[-1,1]$$\n",
    "\n",
    "\n",
    "$$  \\theta\\in[0,2\\pi]$$\n",
    "\n"
   ]
  },
  {
   "cell_type": "markdown",
   "metadata": {
    "ExecuteTime": {
     "end_time": "2016-09-13T18:19:50.599387",
     "start_time": "2016-09-13T18:19:50.596753"
    }
   },
   "source": [
    "#### Gaussian Quadrature\n",
    "\n",
    "\n",
    "We integrate over the momenta using an 8-point Gaussian quadrature \n",
    "\n",
    "Note the quadrature points and weights for $\\theta$ are rescaled so that:\n",
    "\n",
    "$$  lg_{\\phi}: [-1,1]\\rightarrow [0, 2\\pi] $$\n",
    "\n",
    "$$ w_{phi}: w\\pi $$\n"
   ]
  },
  {
   "cell_type": "code",
   "execution_count": 16,
   "metadata": {
    "ExecuteTime": {
     "end_time": "2017-03-03T00:06:27.368229",
     "start_time": "2017-03-03T00:06:27.359495"
    },
    "collapsed": false
   },
   "outputs": [],
   "source": [
    "import numpy as np\n",
    "\n",
    "from numpy.polynomial.legendre import leggauss\n",
    "lg_x, lg_wx = leggauss(8)\n",
    "lg_phi, lg_wphi = leggauss(8)\n",
    "\n",
    "lg_phi = (lg_phi+1.0)*np.pi\n",
    "lg_wphi = lg_wphi*np.pi"
   ]
  },
  {
   "cell_type": "markdown",
   "metadata": {},
   "source": [
    "Actual: \n",
    "\n",
    "<pre>\n",
    " 0.10122853629037618       0.22238103445337445       0.31370664587788660       0.36268378337836199       0.36268378337836199       0.31370664587788660       0.22238103445337445       0.10122853629037618     \n",
    "    \n",
    "\n",
    "0.31801882594349357       0.69863062413641985       0.98553849407226335        1.1394047094376138        1.1394047094376138       0.98553849407226335       0.69863062413641985       0.31801882594349357    \n",
    "</pre>"
   ]
  },
  {
   "cell_type": "code",
   "execution_count": 17,
   "metadata": {
    "ExecuteTime": {
     "end_time": "2017-03-03T00:06:27.781155",
     "start_time": "2017-03-03T00:06:27.775087"
    },
    "collapsed": false
   },
   "outputs": [
    {
     "name": "stdout",
     "output_type": "stream",
     "text": [
      "[ 0.10122854  0.22238103  0.31370665  0.36268378  0.36268378  0.31370665\n",
      "  0.22238103  0.10122854]\n",
      "\n",
      "[ 0.31801883  0.69863062  0.98553849  1.13940471  1.13940471  0.98553849\n",
      "  0.69863062  0.31801883]\n"
     ]
    }
   ],
   "source": [
    "print lg_wx\n",
    "print \n",
    "print lg_wphi"
   ]
  },
  {
   "cell_type": "markdown",
   "metadata": {
    "ExecuteTime": {
     "end_time": "2016-09-14T21:57:34.624949",
     "start_time": "2016-09-14T21:57:34.621885"
    }
   },
   "source": [
    "###  this section needs more work"
   ]
  },
  {
   "cell_type": "code",
   "execution_count": 18,
   "metadata": {
    "ExecuteTime": {
     "end_time": "2017-03-03T00:06:29.769103",
     "start_time": "2017-03-03T00:06:29.743305"
    },
    "collapsed": false
   },
   "outputs": [],
   "source": [
    "#  full computation of 4 vectors:  p1 , p2 , pe, pk \n",
    "def pekin(x , phi , pep_xyz):\n",
    "    \n",
    "    pep_x = pep_xyz[0]\n",
    "    pep_y = pep_xyz[1]\n",
    "    pep_z = pep_xyz[2]\n",
    "\n",
    "    \n",
    "    p1 = np.zeros(4)\n",
    "    p2 = np.zeros(4)\n",
    "    pe = np.zeros(4)\n",
    "    pk = np.zeros(4)\n",
    "    \n",
    "    # proton\n",
    "    p2[0] = np.sqrt(Mp**2 + pep_x**2  + pep_y**2  + pep_z**2 )\n",
    "    p2[1] = -pep_x\n",
    "    p2[2] = -pep_y\n",
    "    p2[3] = -pep_z\n",
    "    \n",
    "    # electron\n",
    "    pe[0] = np.sqrt(me**2 + pep_x**2  + pep_y**2  + pep_z**2 )\n",
    "    pe[1] = pep_x\n",
    "    pe[2] = pep_y\n",
    "    pe[3] = pep_z\n",
    "    \n",
    "    Etot = p2[0] + pe[0]\n",
    " \n",
    "\n",
    "    Eknu = ((Etot-mnu)**2 - (Mn)**2)/(2.0*Etot)\n",
    "    Ekn = ((Etot-Mn)**2 - mnu**2)/(2.0*Etot)\n",
    "    pnu = np.sqrt((Eknu+mnu)**2 - mnu**2)\n",
    "    \n",
    "    \n",
    "    pk[0] = Eknu + mnu\n",
    "    pk[1] = pnu*np.sqrt(1.0 - x**2)*np.cos(phi)\n",
    "    pk[2] = pnu*np.sqrt(1.0 - x**2)*np.sin(phi)\n",
    "    pk[3] = pnu*x\n",
    "    \n",
    "    # vector element wise addition\n",
    "    # neutron\n",
    "    p1 = p2 + pe - pk\n",
    "\n",
    "    return p1, p2, pe, pk"
   ]
  },
  {
   "cell_type": "markdown",
   "metadata": {
    "ExecuteTime": {
     "end_time": "2016-09-29T12:14:13.742560",
     "start_time": "2016-09-29T12:14:13.711835"
    }
   },
   "source": [
    "### <font color='red'>Like a  unit test</red>\n",
    "\n",
    "Compare to Fortran code from PNNL\n",
    "<code>\n",
    "pe-one.f \n",
    "</code>\n",
    "\n",
    "'pekin',x,phi,pep1,pep2,pep3\n",
    "\n",
    " pekin -0.96028985649753629       0.12475309510033646      -0.68547984819958607      -0.68547984819958607      -0.68547984819958607     \n",
    " \n",
    " p1   939.56534599999998       -1.2173944499465628E-010  -1.5266654875346383E-011   4.2229031599413131E-010  \n",
    " p2   938.27276419330155       0.68547984819958607       0.68547984819958607       0.68547984819958607       \n",
    " pe   1.2925818167080840      -0.68547984819958607      -0.68547984819958607      -0.68547984819958607       \n",
    " pk   1.0009664463617206E-008   1.2173944499465628E-010   1.5266654875346383E-011  -4.2229031599413131E-010  \n",
    "\n"
   ]
  },
  {
   "cell_type": "code",
   "execution_count": 19,
   "metadata": {
    "ExecuteTime": {
     "end_time": "2017-03-03T00:06:30.720420",
     "start_time": "2017-03-03T00:06:30.712215"
    },
    "collapsed": false,
    "scrolled": true
   },
   "outputs": [
    {
     "name": "stdout",
     "output_type": "stream",
     "text": [
      "-0.960289856498 0.1247530951 0.6854798482\n",
      "p1 [  9.39565346e+02  -1.21739445e-10  -1.52666549e-11   4.22290316e-10]\n",
      "p2 [  9.38272764e+02   6.85479848e-01   6.85479848e-01   6.85479848e-01]\n",
      "pe [ 1.29258182 -0.68547985 -0.68547985 -0.68547985]\n",
      "pk [  1.00096645e-08   1.21739445e-10   1.52666549e-11  -4.22290316e-10]\n"
     ]
    }
   ],
   "source": [
    "pep_xyz = peps[0]*np.array([-1.0,-1.0,-1.0])\n",
    "print lg_x[0],lg_phi[0],peps[0]\n",
    "p1, p2, pe, pk  = pekin(lg_x[0] , lg_phi[0] , pep_xyz)\n",
    "print 'p1', p1\n",
    "print 'p2', p2\n",
    "print 'pe', pe\n",
    "print 'pk', pk"
   ]
  },
  {
   "cell_type": "markdown",
   "metadata": {
    "ExecuteTime": {
     "end_time": "2016-09-29T12:41:12.771347",
     "start_time": "2016-09-29T12:41:12.769007"
    },
    "collapsed": false
   },
   "source": [
    "### <font color='green'>Looks correct</red>"
   ]
  },
  {
   "cell_type": "code",
   "execution_count": null,
   "metadata": {
    "collapsed": true
   },
   "outputs": [],
   "source": []
  },
  {
   "cell_type": "markdown",
   "metadata": {
    "ExecuteTime": {
     "end_time": "2016-09-05T23:36:55.786355",
     "start_time": "2016-09-05T23:36:55.782136"
    },
    "collapsed": true
   },
   "source": [
    "\n",
    "### Rate of Confined Electron Capture\n",
    "\n",
    "Given the computed Dirac 4-vectors, we can compute the rate of electron capture using the VA-theory, for a given set of vectors\n",
    "\n",
    "For the process\n",
    "\n",
    "$$E_{box}+p^{+}+e^{-}\\rightarrow n^{0}+\\nu_{e}$$\n",
    "\n",
    "The rate $\\Gamma_{EC}$ of electron capture is determined by multiplying the cross section by the incident velocity $\\mathbf{v}_{in}$ and the the electronic wavefunction at the origin \n",
    "\n",
    "$$\\Gamma_{EC}=\\big\\vert\\Psi(0)\\big\\vert^{2}\\mathbf{v}_{in}\\sigma_{EC}$$\n",
    "\n",
    "This gives us an expression of the form (see Appendix):\n",
    "\n",
    "$$d\\lambda_{ep}=\\left(\\dfrac{1}{2\\pi}\\right)^{2}\\dfrac{\\sum_{fi}\\big\\vert\\mathcal{M}_{fi}\\left[\\mathcal{p}_{ep}\\rightarrow i\\nabla)\\right]\\psi_{ep}(\\mathbf{x})\\big\\vert_{\\mathbf{x}=0}\\big\\vert^{2}}{16E_{p}E_{e}\\;\\big\\vert\\mathbf{k}\\cdot(E{_n}\\mathbf{k}-k^{0}\\mathbf{p}_{n})\\big\\vert}k^{3}d\\Omega_{k}$$\n",
    "\n"
   ]
  },
  {
   "cell_type": "markdown",
   "metadata": {},
   "source": [
    "###  High Energy Physics(HEP) Calculations\n"
   ]
  },
  {
   "cell_type": "markdown",
   "metadata": {
    "ExecuteTime": {
     "end_time": "2016-11-07T04:14:45.490768",
     "start_time": "2016-11-07T04:14:45.479679"
    }
   },
   "source": [
    "#### Hadronic and Leptonic Currents\n",
    "\n",
    "To compute the matrix elements $\\mathcal{M_EC}$, we need the Hadron and Lepton currents as an function of the box size L, using the relativistic 4-momenta determined by the relativistic kinematics (described above).\n",
    "\n",
    "Let $\\mathbf{J}_{had}$ and $\\mathbf{L}_{lep}$ be the 4-vectors representing the Hadron and Lepton (current) matrix elements, respectively, such that\n",
    "\n",
    "$$\\mathbf{J}_{had}=\\bar{u}(p_{n},s_{n})(G_{V}-G_{A}\\gamma^{5})\\gamma^{\\mu}u(p_{p},s_{p})$$\n",
    "\n",
    "$$\\mathbf{L}_{lep}=\\bar{u}(k,s_{k})\\gamma_{u}(1-\\gamma^{5})u(s_{e},p_{e})$$\n",
    "\n"
   ]
  },
  {
   "cell_type": "markdown",
   "metadata": {},
   "source": [
    "#### python sympy package\n",
    "\n",
    "We use the python sympy physics module to obtain the Gamma matrices\n",
    "\n",
    "We do not use the Tensor module to do the matrix calculations since it would be more complicated to explain how to use it than just code up the dirac 4-vector matrix elements -- the Hadron and Lepton currents -- explicitly\n"
   ]
  },
  {
   "cell_type": "markdown",
   "metadata": {},
   "source": [
    "#### Constants\n",
    "\n",
    "We need the most recent versions of the Fermi coupling constant $ G_{F} $ and the (ratio of) the Vector-Axial coupling coffecients.\n"
   ]
  },
  {
   "cell_type": "code",
   "execution_count": 20,
   "metadata": {
    "ExecuteTime": {
     "end_time": "2017-03-03T00:06:34.488019",
     "start_time": "2017-03-03T00:06:34.481079"
    },
    "collapsed": false
   },
   "outputs": [
    {
     "name": "stdout",
     "output_type": "stream",
     "text": [
      "GF =  1.16637870000000e-11 1/MeV^2\n",
      "GV, GA =  1.0 -1.285\n"
     ]
    }
   ],
   "source": [
    "GF = constants.value('Fermi coupling constant')*((units.mega/units.giga)**2)\n",
    "print \"GF = \", GF, \"1/MeV^2\"\n",
    "\n",
    "# Vector Axial Couplings of the weak current to the nucleons\n",
    "# The currently accepted value of ga/gv is (2010?)\n",
    "# http://arxiv.org/pdf/1007.3790v2.pdf\n",
    "# (Im still looking for the most recent constant)\n",
    "GV = 1.0 \n",
    "#GA = -1.27590*GV \n",
    "GA = -1.285*GV  # ricks value\n",
    "\n",
    "print \"GV, GA = \", GV, GA"
   ]
  },
  {
   "cell_type": "markdown",
   "metadata": {
    "ExecuteTime": {
     "end_time": "2016-09-06T17:29:48.133743",
     "start_time": "2016-09-06T17:29:48.129576"
    },
    "collapsed": true
   },
   "source": [
    "Let us define the matrics:\n",
    "\n",
    "$$C_{left} = 1-\\gamma^{5}$$\n",
    "$$C_{GVGA} = G_{V}-G_{A}\\gamma^{5}$$\n",
    "\n",
    "and use the python module to compute them, and then convert them to numpy arrays"
   ]
  },
  {
   "cell_type": "code",
   "execution_count": 21,
   "metadata": {
    "ExecuteTime": {
     "end_time": "2017-03-03T00:06:35.030492",
     "start_time": "2017-03-03T00:06:35.023654"
    },
    "collapsed": false
   },
   "outputs": [
    {
     "name": "stdout",
     "output_type": "stream",
     "text": [
      "[[ 1.  0. -1.  0.]\n",
      " [ 0.  1.  0. -1.]\n",
      " [-1.  0.  1.  0.]\n",
      " [ 0. -1.  0.  1.]]\n"
     ]
    }
   ],
   "source": [
    "cLEFT = diag(1.0,1.0,1.0,1.0) - mgamma(5)\n",
    "cLEFT = np.array(cLEFT).astype(np.float64)\n",
    "print cLEFT"
   ]
  },
  {
   "cell_type": "code",
   "execution_count": 22,
   "metadata": {
    "ExecuteTime": {
     "end_time": "2017-03-03T00:06:35.272262",
     "start_time": "2017-03-03T00:06:35.264738"
    },
    "collapsed": false,
    "scrolled": true
   },
   "outputs": [
    {
     "data": {
      "text/plain": [
       "array([[ 1.   ,  0.   ,  1.285,  0.   ],\n",
       "       [ 0.   ,  1.   ,  0.   ,  1.285],\n",
       "       [ 1.285,  0.   ,  1.   ,  0.   ],\n",
       "       [ 0.   ,  1.285,  0.   ,  1.   ]])"
      ]
     },
     "execution_count": 22,
     "metadata": {},
     "output_type": "execute_result"
    }
   ],
   "source": [
    "cGVGA = diag(GV,GV,GV,GV) - GA*mgamma(5)\n",
    "cGVGA = np.array(cGVGA).astype(np.float64)\n",
    "cGVGA"
   ]
  },
  {
   "cell_type": "code",
   "execution_count": 23,
   "metadata": {
    "ExecuteTime": {
     "end_time": "2017-03-03T00:06:35.491184",
     "start_time": "2017-03-03T00:06:35.488384"
    },
    "collapsed": true
   },
   "outputs": [],
   "source": [
    "def gamma(i):\n",
    "    return np.array(mgamma(i)).astype(np.complex64)"
   ]
  },
  {
   "cell_type": "code",
   "execution_count": 24,
   "metadata": {
    "ExecuteTime": {
     "end_time": "2017-03-03T00:06:35.746800",
     "start_time": "2017-03-03T00:06:35.738441"
    },
    "collapsed": false
   },
   "outputs": [
    {
     "name": "stdout",
     "output_type": "stream",
     "text": [
      "[[ 1.+0.j  0.+0.j  0.+0.j  0.+0.j]\n",
      " [ 0.+0.j  1.+0.j  0.+0.j  0.+0.j]\n",
      " [ 0.+0.j  0.+0.j -1.+0.j  0.+0.j]\n",
      " [ 0.+0.j  0.+0.j  0.+0.j -1.+0.j]]\n"
     ]
    }
   ],
   "source": [
    "GAMMA_0 = gamma(0)\n",
    "print GAMMA_0"
   ]
  },
  {
   "cell_type": "markdown",
   "metadata": {
    "ExecuteTime": {
     "end_time": "2016-09-07T13:55:21.378805",
     "start_time": "2016-09-07T13:55:21.375086"
    },
    "collapsed": true
   },
   "source": []
  },
  {
   "cell_type": "markdown",
   "metadata": {},
   "source": [
    "### sympy does not have a great module for Relativistic 4-vectors\n",
    "\n",
    "At least not something that is easy to use, so we just code this up.\n"
   ]
  },
  {
   "cell_type": "markdown",
   "metadata": {},
   "source": [
    "#### Dirac Spinors (again)\n",
    "\n",
    "##### Recall the  Relativistic four-vectors for particles are\n",
    "\n",
    "$$u(\\overrightarrow{p},s=up)=\\sqrt{E+m}\\left[\\begin{array}{c}\n",
    "0\\\\\n",
    "1\\\\\n",
    "\\dfrac{p_{3}}{E+m}\\\\\n",
    "\\dfrac{p_{1}+ip_{2}}{E+m}\n",
    "\\end{array}\\right]\\;\\;u(\\overrightarrow{p},s=down)=\\sqrt{E+m}\\left[\\begin{array}{c}\n",
    "1\\\\\n",
    "0\\\\\n",
    "\\dfrac{p_{1}-ip_{2}}{E+m}\\\\\n",
    "\\dfrac{-p_{3}}{E+m}\n",
    "\\end{array}\\right]$$ \n",
    "\n",
    "##### The Dirac Adjoint is given by\n",
    "\n",
    "https://en.wikipedia.org/wiki/Dirac_adjoint\n",
    "\n",
    "$$\\bar{u}=u^{\\dagger}\\gamma^{0}$$\n",
    "\n",
    "where $u^{\\dagger}$ is the complex conjugate of $u$, and $\\gamma^{0}$ is defined above (in given in sympy package)\n",
    "\n",
    "##### The four-vector norm uses the standard (west) convention\n",
    "\n",
    "$$\\langle\\bar{u}|u\\rangle=\\bar{u}_{0}u_{0}-\\bar{u}_{1}u_{1}-\\bar{u}_{2}u_{2}-\\bar{u}_{3}u_{3}$$\n",
    "\n"
   ]
  },
  {
   "cell_type": "code",
   "execution_count": 25,
   "metadata": {
    "ExecuteTime": {
     "end_time": "2017-03-03T00:06:36.624669",
     "start_time": "2017-03-03T00:06:36.615010"
    },
    "collapsed": false
   },
   "outputs": [],
   "source": [
    "def u_spinors(p ,mass):\n",
    "    \n",
    "    Em = p[0] + mass\n",
    "    fac = np.sqrt(Em)    \n",
    "    \n",
    "    u = np.zeros([2,4], dtype=np.complex64)\n",
    "    u[0,0] = 1.0\n",
    "    u[0,1] = 0.0\n",
    "    u[0,2] = p[3] / Em\n",
    "    u[0,3] = (p[1] + p[2]*1.j) / Em\n",
    "\n",
    "    u[1,0] = 0.0\n",
    "    u[1,1] = 1.0\n",
    "    u[1,2] = (p[1] - p[2]*1.j) / Em\n",
    "    u[1,3] = -(p[3]) / Em\n",
    "\n",
    "    u = fac*u\n",
    "    \n",
    "    return u"
   ]
  },
  {
   "cell_type": "code",
   "execution_count": 26,
   "metadata": {
    "ExecuteTime": {
     "end_time": "2017-03-03T00:06:36.803971",
     "start_time": "2017-03-03T00:06:36.801057"
    },
    "collapsed": true
   },
   "outputs": [],
   "source": [
    "def dirac_adjoint(u):\n",
    "    return np.conj(u).dot(GAMMA_0)"
   ]
  },
  {
   "cell_type": "code",
   "execution_count": 27,
   "metadata": {
    "ExecuteTime": {
     "end_time": "2017-03-03T00:06:37.002835",
     "start_time": "2017-03-03T00:06:36.999881"
    },
    "collapsed": true
   },
   "outputs": [],
   "source": [
    "def four_vector_norm(v,w):\n",
    "    return v[0]*w[0]-(v[1]*w[1]+v[2]*w[2]+v[3]*w[3])"
   ]
  },
  {
   "cell_type": "markdown",
   "metadata": {},
   "source": []
  },
  {
   "cell_type": "markdown",
   "metadata": {
    "collapsed": true
   },
   "source": [
    "## Full Calculation\n",
    "\n",
    " The full calculations sums of over all 6 possible $(\\pm\\mathbf{p}_{ep}(1),\\pm\\mathbf{p}_{ep}(2),\\pm\\mathbf{p}_{ep}(3) )$ combinations, and the 16 allowed spin transitions (see figure below), and averaging over the outbound neutrino momenta ($k^{3}d\\Omega_k$) using an 8-point gaussian quadrature. "
   ]
  },
  {
   "cell_type": "markdown",
   "metadata": {
    "ExecuteTime": {
     "end_time": "2016-09-16T20:39:19.945271",
     "start_time": "2016-09-16T20:39:19.943027"
    }
   },
   "source": [
    "\n",
    "I would like a diagram like this, showing the 16 all possible spin combinations for electron capture; this diagram is for Beta decay\n",
    "<img src=\"16-allowed.png\"  width=\"400\" height=\"400\">\n",
    "\n",
    "\n",
    "In fact, only 4 terms really contribute "
   ]
  },
  {
   "cell_type": "markdown",
   "metadata": {},
   "source": [
    "## <font color='red'>Test: Convert to unit tests</font>"
   ]
  },
  {
   "cell_type": "code",
   "execution_count": 28,
   "metadata": {
    "ExecuteTime": {
     "end_time": "2017-03-03T00:06:37.926246",
     "start_time": "2017-03-03T00:06:37.903515"
    },
    "collapsed": false,
    "scrolled": true
   },
   "outputs": [],
   "source": [
    "C_hadron = np.zeros([4], np.complex64)\n",
    "C_lepton = np.zeros([4], np.complex64)\n",
    "\n",
    "pep_xyz = -peps[0]*np.array([1.0,1.0,1.0])\n",
    "pn, pp, pe, pk = pekin(lg_x[0], lg_phi[0], pep_xyz )\n",
    "\n",
    "u_n = dirac_adjoint(u_spinors(pn,Mn))\n",
    "u_p = u_spinors(pp,Mp)\n",
    "\n",
    "u_k = dirac_adjoint(u_spinors(pk,mnu))\n",
    "u_e = u_spinors(pe,me)\n",
    "\n",
    "for i in range(4):\n",
    "    C_hadron[i] = u_n[0].dot(cGVGA).dot(gamma(i)).dot(u_p[0])\n",
    "    C_lepton[i] = u_k[0].dot(gamma(i)).dot(cLEFT).dot(u_e[0])\n",
    "\n",
    "C_amplitude = four_vector_norm(C_hadron,C_lepton)\n",
    "     "
   ]
  },
  {
   "cell_type": "markdown",
   "metadata": {},
   "source": [
    " <code>\n",
    " pe-one.f\n",
    " </code>\n",
    " \n",
    " chad0 (  1876.9558411683693     , -3.8866494140631290E-014)  \n",
    " chad1 ( 0.68595198768896293     , 0.68595198782581046     )  \n",
    " chad2 ( 0.68595198779531263     ,-0.68595198793216017     )  \n",
    " chad3 ( -2412.3349649848910     , -4.9943444970711202E-014)  \n",
    " \n",
    " clep0 (  2.6721137933833104E-004, -3.8418962344619817E-007)  \n",
    " clep1 ( -7.2130294594350693E-005, -7.3925390570866875E-005)  \n",
    " clep2 ( -7.3525333773868798E-005,  7.5320429750384981E-005)  \n",
    " clep3 ( -2.6820010747929376E-004, -3.8418962344619817E-007)  \n",
    " \n",
    " camp2:  (-0.14544700030859581     , -1.6498148794794943E-003)\n"
   ]
  },
  {
   "cell_type": "code",
   "execution_count": 29,
   "metadata": {
    "ExecuteTime": {
     "end_time": "2017-03-03T00:06:38.588714",
     "start_time": "2017-03-03T00:06:38.582909"
    },
    "collapsed": false,
    "scrolled": true
   },
   "outputs": [
    {
     "name": "stdout",
     "output_type": "stream",
     "text": [
      "(1876.96-3.88665e-14j)\n",
      "(0.685952+0.685952j)\n",
      "(0.685952-0.685952j)\n",
      "(-2412.33-4.99434e-14j)\n",
      "   \n",
      "(0.000267211-3.8419e-07j)\n",
      "(-7.21303e-05-7.39254e-05j)\n",
      "(-7.35253e-05+7.53204e-05j)\n",
      "(-0.0002682-3.8419e-07j)\n",
      "   \n",
      "(-0.145447-0.00164981j)\n"
     ]
    }
   ],
   "source": [
    "print C_hadron[0]\n",
    "print C_hadron[1]\n",
    "print C_hadron[2]\n",
    "print C_hadron[3]\n",
    "\n",
    "print \"   \"\n",
    "print C_lepton[0]\n",
    "print C_lepton[1]\n",
    "print C_lepton[2]\n",
    "print C_lepton[3]\n",
    "\n",
    "print \"   \"\n",
    "print C_amplitude"
   ]
  },
  {
   "cell_type": "markdown",
   "metadata": {},
   "source": [
    "## <font color='green'>Looks good</font> \n",
    "#### although the results are not exactly the same -- \n",
    "\n",
    "I beleive Rick has a bug in his code"
   ]
  },
  {
   "cell_type": "markdown",
   "metadata": {},
   "source": [
    "### Power \n",
    "\n",
    "<font color='red'> redo this </font>\n",
    "\n",
    "Once I figure this out I can move it to the top\n",
    "Recall that the capture rate is\n",
    "\n",
    "$$d\\lambda_{ep}=\\left(\\dfrac{1}{2\\pi}\\right)^{2}\\dfrac{\\sum_{fi}\\big\\vert\\mathcal{M}_{fi}\\left[\\mathcal{p}_{ep}\\rightarrow i\\nabla)\\right]\\psi_{ep}(\\mathbf{x})\\big\\vert_{\\mathbf{x}=0}\\big\\vert^{2}}{16E_{p}E_{e}\\;\\big\\vert\\mathbf{k}\\cdot(E{_n}\\mathbf{k}-k^{0}\\mathbf{p}_{n})\\big\\vert}k^{3}d\\Omega_{k}$$\n",
    "\n",
    "\n",
    "\n",
    "I think the Power comes from the integral of the rate equation  over all momentum terms (the solid angle of momentum), taking into account the subsequent neutron reaction.  I think we only need P2, not P1.  \n",
    "\n",
    "\n",
    "\n",
    "(I need to be careful to get the reference frame correctly)\n",
    "\n",
    "$$P1 = P_{pe}=C^{2}_{Re}\\left[(\\mathbf{E}_{e}-m_{e})+(\\mathbf{E}_{p}-M_{p})\\right]\\left(frac\\right)$$\n",
    "\n",
    "where does the 2.2 come from ?  the neutrino ?\n",
    "\n",
    "$$P2 = P_{n}=C^{2}_{Re}\\left[2.2+(\\mathbf{E}_{n}-M_{n})\\right]\\left(frac\\right)$$\n",
    "\n",
    "where \n",
    "\n",
    "$$frac=r_{c}\\left(\\dfrac{p_{ep}}{2\\pi}\\right)^{3}\\left(\\dfrac{G_{F}^{2}(E_{\\nu}^{2}-m_{\\nu}^{2})^{3}}{512\\pi^{2}\\;E_{p}E_{e}\\hbar c\\;\\big\\vert\\; \\mathbf{k}(E_{n}p_{\\nu}-E_{\\nu}p_{n})\\;\\big\\vert}\\right)$$\n",
    "\n",
    "make clear:\n",
    "$$E_{\\nu}=k^{0}$$\n",
    "\n",
    "what is $r_c$ ?\n",
    "\n",
    "\n",
    "\n",
    "Where the Real part of the the total (4-vector) current amplitude is given by\n",
    "\n",
    "$$C^{2}_{Re}=Re(\\bar{C}^{2}_{amp}{C}^{2}_{amp})$$\n",
    "\n",
    "and \n",
    "\n",
    "$$C^{2}_{amp}=(\\mathbf{J}_{had})^{\\mu}(\\mathbf{L}_{lep})_{\\mu}=J^{0}_{had}L^{0}_{lep}-J^{1}_{had}C^{1}_{lep}-J^{2}_{had}L^{2}_{lep}-J^{3}_{had}L^{3}_{lep}$$\n",
    "\n",
    "\n",
    "\n"
   ]
  },
  {
   "cell_type": "code",
   "execution_count": 30,
   "metadata": {
    "ExecuteTime": {
     "end_time": "2017-03-03T00:06:39.271341",
     "start_time": "2017-03-03T00:06:39.264026"
    },
    "collapsed": true
   },
   "outputs": [],
   "source": [
    "rc = 299792458.0#   ! m/s    \n",
    "def matrix_element_factor(pep,pn,pp,pk,pe):\n",
    "    \n",
    "    ftop = (rc*((pep/(2.0*np.pi))**3)*(GF**2)*(np.sqrt(pk[0]**2-mnu**2))**3 )\n",
    "\n",
    "    fbot = (512.0 *(np.pi **2)* pp[0]* pe[0]* hbarc * 1.e-15)* \\\n",
    "        np.absolute((pk[1]*(pn[0]*pk[1]-pk[0]*pn[1])) + \\\n",
    "                    (pk[2]*(pn[0]*pk[2]-pk[0]*pn[2])) + \\\n",
    "                    (pk[3]*(pn[0]*pk[3]-pk[0]*pn[3])) ) \n",
    "        \n",
    "    fac = ftop/fbot\n",
    "    return fac, ftop, fbot\n"
   ]
  },
  {
   "cell_type": "markdown",
   "metadata": {
    "ExecuteTime": {
     "end_time": "2016-09-29T14:23:02.940900",
     "start_time": "2016-09-29T14:23:02.908441"
    }
   },
   "source": [
    "<code>pe-one.f\n",
    "</code>\n",
    "\n",
    "this is hard to get exactly...may need better precision\n",
    "\n",
    " ftop   4.5036454915307286E-045  \n",
    " fbot   2.1972923442022533E-022  \n",
    " fact   2.0496341797276035E-023  "
   ]
  },
  {
   "cell_type": "code",
   "execution_count": 31,
   "metadata": {
    "ExecuteTime": {
     "end_time": "2017-03-03T00:06:39.794969",
     "start_time": "2017-03-03T00:06:39.791465"
    },
    "collapsed": false
   },
   "outputs": [],
   "source": [
    "pep = peps[0]\n",
    "fact, ftop, fbot = matrix_element_factor(pep,pn,pp,pk,pe)"
   ]
  },
  {
   "cell_type": "code",
   "execution_count": 32,
   "metadata": {
    "ExecuteTime": {
     "end_time": "2017-03-03T00:06:40.043888",
     "start_time": "2017-03-03T00:06:40.040290"
    },
    "collapsed": false
   },
   "outputs": [
    {
     "name": "stdout",
     "output_type": "stream",
     "text": [
      "ftop 4.50371267752129e-45\n",
      "fbot 2.1972923442e-22\n",
      "fact 2.04966475644660e-23\n"
     ]
    }
   ],
   "source": [
    "print 'ftop', ftop\n",
    "print 'fbot', fbot\n",
    "print 'fact', fact"
   ]
  },
  {
   "cell_type": "markdown",
   "metadata": {
    "ExecuteTime": {
     "end_time": "2016-09-29T13:24:21.974464",
     "start_time": "2016-09-29T13:24:21.972164"
    }
   },
   "source": [
    "## <font color='green'>Looks good</font>\n",
    "\n",
    "Only 4 terms really contribute\n",
    "\n",
    "- n, p, e, k  \n",
    "- 1, 1, 2, 2  up up down down\n",
    "- 1, 2, 1, 2  up down up down\n",
    "- 2, 1, 2, 1  down up down up\n",
    "- 2, 2, 1, 1, down down up up\n",
    "\n",
    "\n",
    "<pre>\n",
    "print(n_spn+1,p_spn+1,e_spn+1,k_spn+1, campR)\n",
    "\n",
    "(1, 1, 1, 1, 0.68995655172419479)\n",
    "(1, 1, 1, 2, 2.4878742951983668e-05)\n",
    "(1, 1, 2, 1, 0.0016000513606400091)\n",
    "(1, 1, 2, 2, 40.780081813622715)\n",
    "(1, 2, 1, 1, 0.0020239698407603524)\n",
    "(1, 2, 1, 2, 51.584417437266495)\n",
    "(1, 2, 2, 1, 1.2197274440461925e-19)\n",
    "(1, 2, 2, 2, 0.0)\n",
    "(2, 1, 1, 1, 0.0)\n",
    "(2, 1, 1, 2, 1.3552527156068805e-20)\n",
    "(2, 1, 2, 1, 56.128815187854343)\n",
    "(2, 1, 2, 2, 0.0020239697550071566)\n",
    "(2, 2, 1, 1, 44.372659658512021)\n",
    "(2, 2, 1, 2, 0.0016000537263360926)\n",
    "(2, 2, 2, 1, 2.4879332933380738e-05)\n",
    "(2, 2, 2, 2, 0.63409508059595532)\n",
    "</pre>"
   ]
  },
  {
   "cell_type": "code",
   "execution_count": 33,
   "metadata": {
    "ExecuteTime": {
     "end_time": "2017-03-03T00:06:59.168621",
     "start_time": "2017-03-03T00:06:40.455178"
    },
    "collapsed": false,
    "scrolled": true
   },
   "outputs": [],
   "source": [
    "#### TODO  recode main loop\n",
    "num = len(peps)\n",
    "num = 21\n",
    "\n",
    "\n",
    "EKn = np.zeros(num)\n",
    "EKp = np.zeros(num)\n",
    "EKe = np.zeros(num)\n",
    "EKnu = np.zeros(num)\n",
    "Etot = np.zeros(num)\n",
    "box_size = np.zeros(num)\n",
    "\n",
    "signs = [-1.0,1.0]\n",
    "spins = [0,1]\n",
    "\n",
    "C_hadron = np.zeros([4], np.complex64)\n",
    "C_lepton = np.zeros([4], np.complex64)\n",
    "\n",
    "tran = 0.0+0.0j\n",
    "tran2 = np.zeros(num, np.complex64)\n",
    "\n",
    "N_QUAD = 1\n",
    "\n",
    "#for iep, pep in enumerate(peps):\n",
    "iep = 0\n",
    "for idx in range(0,500,25):\n",
    "#for idx in range(1):\n",
    "    iep += 1\n",
    "    pep = peps[idx]\n",
    "    box_size[iep] = rlconfs[idx]\n",
    "    \n",
    "    # gaussian quadrature\n",
    "    for ix in range(N_QUAD):                  \n",
    "        for ip in range(N_QUAD):\n",
    "            # neutrino momentum loop\n",
    "            \n",
    "            \n",
    "            # 16 spin combinations\n",
    "            for n_spn in spins:\n",
    "                for p_spn in spins:\n",
    "                    for e_spn in spins:\n",
    "                        for k_spn in spins:\n",
    "                                                    \n",
    "                            tran = 0.0\n",
    "                            C_amplitude = 0.0+0.0j\n",
    "            \n",
    "                            # +/- pep momentum combinations\n",
    "                            for s1 in signs:\n",
    "                                for s2 in signs:\n",
    "                                    for s3 in signs:\n",
    "                                              \n",
    "                                        p_xyz = pep*np.array([s1,s2,s3])\n",
    "                                        pn, pp, pe, pk = pekin(lg_x[ix], lg_phi[ip], p_xyz )\n",
    "\n",
    "                                        u_n = dirac_adjoint(u_spinors(pn,Mn)[n_spn])\n",
    "                                        u_p = u_spinors(pp,Mp)[p_spn]\n",
    "                                        u_k = dirac_adjoint(u_spinors(pk,mnu))[k_spn]\n",
    "                                        u_e = u_spinors(pe,me)[e_spn]\n",
    "\n",
    "                                        for i in range(4):\n",
    "                                            C_hadron[i] = u_n.dot(cGVGA).dot(gamma(i)).dot(u_p)\n",
    "                                            C_lepton[i] = u_k.dot(gamma(i)).dot(cLEFT).dot(u_e)\n",
    "\n",
    "                                        C_amplitude  += four_vector_norm(C_hadron,C_lepton)\n",
    "\n",
    "            \n",
    "                            tran+= lg_wx[ix]*lg_wphi[ip]*((np.conj(C_amplitude)*C_amplitude).real)\n",
    "                            tran2[iep] += tran*matrix_element_factor(pep,pn,pp,pk,pe)[0]\n",
    "                            \n",
    "                            campR = (np.conj(C_amplitude)*C_amplitude).real\n",
    "                            fact = matrix_element_factor(pep,pn,pp,pk,pe)[0]\n",
    "                            #print(n_spn+1,p_spn+1,e_spn+1,k_spn+1, campR)\n",
    "\n",
    "    EKn[iep] = pn[0] - Mn\n",
    "    EKp[iep] = pp[0] - Mp\n",
    "    EKe[iep] = pe[0] - me\n",
    "    EKnu[iep] = pk[0] - mnu\n",
    "    #print(\"iep, tran2 \", iep, tran2[iep])\n"
   ]
  },
  {
   "cell_type": "code",
   "execution_count": 34,
   "metadata": {
    "ExecuteTime": {
     "end_time": "2017-03-03T00:06:59.174630",
     "start_time": "2017-03-03T00:06:59.170147"
    },
    "collapsed": false
   },
   "outputs": [
    {
     "data": {
      "text/plain": [
       "(0.0090436055743778263, 0j, 0j)"
      ]
     },
     "execution_count": 34,
     "metadata": {},
     "output_type": "execute_result"
    }
   ],
   "source": [
    "# conversions for power density\n",
    "#dN0 = 6.02214179e23      # molˆ-1                                                                                                 \n",
    "dN0 = scipy.constants.Avogadro\n",
    "rlconfs[0],tran2[0]*dN0*0.25, tran2[0]"
   ]
  },
  {
   "cell_type": "markdown",
   "metadata": {},
   "source": [
    "### I am off by factor of 2.434 ?"
   ]
  },
  {
   "cell_type": "code",
   "execution_count": 35,
   "metadata": {
    "ExecuteTime": {
     "end_time": "2017-03-03T00:12:56.347598",
     "start_time": "2017-03-03T00:12:56.343547"
    },
    "collapsed": false
   },
   "outputs": [
    {
     "data": {
      "text/plain": [
       "2.4340940731600966"
      ]
     },
     "execution_count": 35,
     "metadata": {},
     "output_type": "execute_result"
    }
   ],
   "source": [
    "2.7275/1.1205400933658186"
   ]
  },
  {
   "cell_type": "code",
   "execution_count": 36,
   "metadata": {
    "ExecuteTime": {
     "end_time": "2017-03-03T00:12:56.500135",
     "start_time": "2017-03-03T00:12:56.496352"
    },
    "collapsed": false
   },
   "outputs": [
    {
     "data": {
      "text/plain": [
       "0.4108304650287144"
      ]
     },
     "execution_count": 36,
     "metadata": {},
     "output_type": "execute_result"
    }
   ],
   "source": [
    "1.1205400933658186/2.7275"
   ]
  },
  {
   "cell_type": "code",
   "execution_count": 37,
   "metadata": {
    "ExecuteTime": {
     "end_time": "2017-03-03T00:12:56.682487",
     "start_time": "2017-03-03T00:12:56.678342"
    },
    "collapsed": false
   },
   "outputs": [
    {
     "data": {
      "text/plain": [
       "(0.29887538294940441,\n",
       " 0.33182077764854512,\n",
       " 24.449921003206285,\n",
       " 23.700532297905468)"
      ]
     },
     "execution_count": 37,
     "metadata": {},
     "output_type": "execute_result"
    }
   ],
   "source": [
    "EKn.max(),     EKp.max(),    EKe.max(),    EKnu.max()"
   ]
  },
  {
   "cell_type": "code",
   "execution_count": 38,
   "metadata": {
    "ExecuteTime": {
     "end_time": "2017-03-03T00:12:57.726794",
     "start_time": "2017-03-03T00:12:56.840558"
    },
    "collapsed": false,
    "scrolled": true
   },
   "outputs": [
    {
     "name": "stderr",
     "output_type": "stream",
     "text": [
      "/Users/charlesmartin14/anaconda/lib/python2.7/site-packages/numpy/core/numeric.py:531: ComplexWarning: Casting complex values to real discards the imaginary part\n",
      "  return array(a, dtype, copy=False, order=order)\n"
     ]
    },
    {
     "data": {
      "image/png": "[encoded data removed]",
      "text/plain": [
       "<matplotlib.figure.Figure at 0x10c4524d0>"
      ]
     },
     "metadata": {},
     "output_type": "display_data"
    }
   ],
   "source": [
    "plt.semilogy(box_size, EKe , color='magenta')\n",
    "plt.semilogy(box_size, EKnu, color='red' )\n",
    "plt.semilogy(box_size, EKn, color='blue')\n",
    "plt.semilogy(box_size, EKp, color='green')\n",
    "\n",
    "plt.semilogy(box_size, tran2, color='black')\n",
    "\n",
    "\n",
    "patches = [ mpatches.Patch(color='magenta', label='EKe'),\n",
    "            mpatches.Patch(color='red', label='EKnu'),\n",
    "            mpatches.Patch(color='blue', label='EKn'),\n",
    "            mpatches.Patch(color='green', label='EKp'),\n",
    "            mpatches.Patch(color='black', label='tran2')          ]\n",
    "\n",
    "plt.legend(handles=patches)\n",
    "\n",
    "plt.xlabel(\"Box confinment (Angstrom)\")\n",
    "plt.ylim(ymin=0.000001)\n",
    "plt.ylim(ymax=100.0) \n",
    "\n",
    "from pylab import rcParams\n",
    "rcParams['figure.figsize'] = 5,5\n",
    "plt.show()"
   ]
  },
  {
   "cell_type": "code",
   "execution_count": 39,
   "metadata": {
    "ExecuteTime": {
     "end_time": "2017-03-03T00:12:58.577644",
     "start_time": "2017-03-03T00:12:57.728677"
    },
    "collapsed": false,
    "scrolled": false
   },
   "outputs": [
    {
     "data": {
      "image/png": "[encoded data removed]",
      "text/plain": [
       "<matplotlib.figure.Figure at 0x10c45ba50>"
      ]
     },
     "metadata": {},
     "output_type": "display_data"
    }
   ],
   "source": [
    "\n",
    "plt.semilogy(box_size, tran2*dN0*0.25, color='black')\n",
    "\n",
    "\n",
    "from pylab import rcParams\n",
    "rcParams['figure.figsize'] = 5,5\n",
    "plt.show()"
   ]
  },
  {
   "cell_type": "markdown",
   "metadata": {},
   "source": [
    "## Discussion\n",
    "\n",
    "The black curve is the power consumed by the confined electron capture; the red curve is the power from the outbound neutron combining with another proton (a confined neutron capture). The orange curve is the power ratio.  The power ratio is positive throughout the box, and increasing with box size L. \n"
   ]
  },
  {
   "cell_type": "code",
   "execution_count": 40,
   "metadata": {
    "ExecuteTime": {
     "end_time": "2017-03-03T00:12:58.582920",
     "start_time": "2017-03-03T00:12:58.579310"
    },
    "collapsed": false
   },
   "outputs": [
    {
     "data": {
      "text/plain": [
       "(0.0090436055743778263, 499)"
      ]
     },
     "execution_count": 40,
     "metadata": {},
     "output_type": "execute_result"
    }
   ],
   "source": [
    "max(rlconfs), len(rlconfs)"
   ]
  },
  {
   "cell_type": "code",
   "execution_count": 41,
   "metadata": {
    "ExecuteTime": {
     "end_time": "2017-03-03T00:12:58.589749",
     "start_time": "2017-03-03T00:12:58.585234"
    },
    "collapsed": false
   },
   "outputs": [
    {
     "data": {
      "text/plain": [
       "(0.0090436055743778263, 0.00011257882443959182)"
      ]
     },
     "execution_count": 41,
     "metadata": {},
     "output_type": "execute_result"
    }
   ],
   "source": [
    "rlconfs[0], rlconfs[-1]"
   ]
  },
  {
   "cell_type": "code",
   "execution_count": null,
   "metadata": {
    "collapsed": true
   },
   "outputs": [],
   "source": []
  },
  {
   "cell_type": "code",
   "execution_count": null,
   "metadata": {
    "collapsed": true
   },
   "outputs": [],
   "source": []
  }
 ],
 "metadata": {
  "anaconda-cloud": {},
  "kernelspec": {
   "display_name": "Python [Root]",
   "language": "python",
   "name": "Python [Root]"
  },
  "language_info": {
   "codemirror_mode": {
    "name": "ipython",
    "version": 2
   },
   "file_extension": ".py",
   "mimetype": "text/x-python",
   "name": "python",
   "nbconvert_exporter": "python",
   "pygments_lexer": "ipython2",
   "version": "2.7.12"
  }
 },
 "nbformat": 4,
 "nbformat_minor": 0
}
