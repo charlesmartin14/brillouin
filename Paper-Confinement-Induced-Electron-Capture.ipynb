{
 "cells": [
  {
   "cell_type": "markdown",
   "metadata": {
    "ExecuteTime": {
     "end_time": "2016-09-05T21:26:37.768269",
     "start_time": "2016-09-05T21:26:37.763464"
    }
   },
   "source": [
    "# Confinement Induced Electron Capture\n",
    "## Brillouin Energy Corporation\n"
   ]
  },
  {
   "cell_type": "markdown",
   "metadata": {},
   "source": [
    "#### Abstract: \n",
    "\n",
    "We describe a Gedandkenexperiment in which a bare proton can capture an electron due soley to confinement.  We provide numerical solution of the Fermi VA-Theory for K-electron capture for an electron-proton pair  confined in a classical box of size L.  Interestingly, we find that the capture is most likely for L=0.004-0.009 Angstroms, and unlikely for L < 0.004 Angstroms."
   ]
  },
  {
   "cell_type": "markdown",
   "metadata": {},
   "source": [
    "### Background:\n",
    "    \n",
    "#### Proton Decay\n",
    "Protons do not decay. At least, no experiment has observed a proton decay.  In the Standard Model, protons are the lightest baryon and therefore it has to decay to something other than a baryon. \n",
    "\n",
    "Current candidates for proton decay [1] place the proton lifetime at $~10^{30} - 10^{34}$ years, all of which are longer than the known lifetime of the universe.\n",
    "\n",
    "Indeed, most theoreticians beleive they must decay to have a matter-imbalance difference in the early universe. For example, the g the Georgi-Glashow Grand Unified Theory (GUT) predicts a proton would decay into an positron and a pion\n",
    "\n",
    "$$p^{+}\\rightarrow\\;e^{+}\\;+\\;\\pi^{0}$$\n",
    "\n",
    "(with a lifetime of $10^{30} - 10^{31}$ years)\n",
    "\n",
    "In contrast, neutrons readily decay \n",
    "\n",
    "$$n^{0}\\rightarrow\\;p^{+}+\\;e^{-}\\;+\\;\\bar{\\nu}^{e}$$\n",
    "\n",
    "with a halflife of ~15min."
   ]
  },
  {
   "cell_type": "markdown",
   "metadata": {},
   "source": [
    "The search for proton decay has lead to many advances.  For example, Masatoshi Koshiba shared the 2002 Nobel Prize for detecting solar neutrinos--and founding field of neutrino astronomy-- but he was originally searching for the decay of a proton into a positron and a neutral) pion."
   ]
  },
  {
   "cell_type": "markdown",
   "metadata": {},
   "source": [
    "#### K Electon Capture\n",
    "\n",
    "Protons do transform into neutrons in some light atoms, in a process called K-electron capture [2]. The proton, bound in the nucleus, captures a low lying, bound, atomic electon, forming a neutron and an electron neutrino\n",
    "\n",
    "$$p^{+}+\\;e^{-}\\rightarrow\\;n^{0}\\;+\\;\\bar{\\nu}^{e}$$\n",
    "\n",
    "K-electron capture (EC) usually occurs unstable radioisotopes which lack the (nuclear binding) energy to decay by positron emission (standard Beta decay).   \n",
    "\n",
    "The nucleus may absorb some energy, becoming excited.  It then undegoes internal conversion.  During this, a higher lying, bound atomic electron is aborbed, and an xray released.   In rare cases, a gamma ray photon is emitted with the neutrino; this is called Radiative Electron Capture (REC). \n",
    "\n",
    "Because electon capture occurs in (proton-rich) nuclei, and, subsequently, releases a xray photon, we may write reaction as\n",
    "\n",
    "$$^{Z}X_{A}+\\;e^{-}\\rightarrow\\;^{Z+1}X_{A-1}\\;+\\;h\\nu$$\n",
    "\n",
    "(where Z is the number of protons, A the number of neutons, and $h\\nu$ is an xray photon)\n",
    "\n",
    "The lightest element EC has been observed in is 7Be [3].  Curiously, being so light, the EC rate in 7Be can be  affected, by ~%1, by it's chemical environment [4].  \n",
    "\n",
    "The rate of EC can be computed using the Fermi VA-Theory [5]"
   ]
  },
  {
   "cell_type": "markdown",
   "metadata": {
    "ExecuteTime": {
     "end_time": "2016-09-05T22:06:14.989661",
     "start_time": "2016-09-05T22:06:14.987032"
    }
   },
   "source": [
    "#### Stellar Nucleosynthesis\n",
    "\n",
    "Electron Capture is also thought to occur in stars [expand here]\n",
    "\n",
    "For example, Bahcall and coworkers have studied the EC in stellar media [6], and have computed the rate of EC of 7Be in the Sun [7].\n",
    "\n",
    "It is beleived that a Hydrogen undergoes EC is in a collapsing star [8,8b]; in fact, EC is thought to create stellar instability. [8]  While we usually characterize a start by it's temperature, these are also very dense systems, with $\\rho\\sim 10^6\\;g\\;cm^{-3}$.  In contrast, the smallest star has density $\\rho\\sim 10^{2}-10^{3}\\;g\\;cm^{-3}$ [?]\n",
    "\n",
    "\n"
   ]
  },
  {
   "cell_type": "markdown",
   "metadata": {
    "ExecuteTime": {
     "end_time": "2016-09-05T23:51:57.433615",
     "start_time": "2016-09-05T23:51:57.430924"
    }
   },
   "source": [
    "#### Confinement Induced Electron Capture\n",
    "\n",
    "We pose the following Gedankenexperiment:  \n",
    "\n",
    "Suppose we confine an electron, proton pair as a classical particle-in-a-box of volumne $L^3$.  What box size (L) will 'induce' electron confinment ?\n",
    "\n",
    "The first obvious question is, should we use a classical or a relativisitic box?   We can safely use a classical box as long as $L_{min} \\ge \\dfrac{1}{2\\pi}\\lambda_{C,e}$, where $\\lambda_{C}$ is Compton wavelength of an electron [13,14, 16].  The Compton wavelength sets the scale, accounting for both quantum mechanics and special relativity. [15]\n",
    "\n",
    "$$\\lambda_{C}=\\dfrac{h}{m_{e}c}=\\dfrac{e^{2}}{m_{e}c^{2}}$$\n",
    "\n",
    "$$\\lambda_{C}\\approx2.426\\times 10^{-12}\\;m$$\n",
    "\n",
    "which sets the minimum L on the order of 0.004 Angstrom [13]\n",
    "$$L_{min,e}\\sim0.004\\;\\mathring{A}$$ \n",
    "\n",
    "So we use a classicial box, with minimum size $L_{min,e}$; we compute the maximum size below."
   ]
  },
  {
   "cell_type": "markdown",
   "metadata": {
    "ExecuteTime": {
     "end_time": "2016-09-05T23:36:55.786355",
     "start_time": "2016-09-05T23:36:55.782136"
    },
    "collapsed": true
   },
   "source": [
    "### Theory\n"
   ]
  },
  {
   "cell_type": "markdown",
   "metadata": {},
   "source": [
    "#### Particle production under the Weak interaction\n",
    "\n",
    "Electron capture is mediated by the Weak Interaction.  The particle production processes, for particles in a box, may  include electron capture and proton capture by protons. We only treat on electron capture here.  "
   ]
  },
  {
   "cell_type": "markdown",
   "metadata": {
    "ExecuteTime": {
     "end_time": "2016-09-06T13:46:51.757250",
     "start_time": "2016-09-06T13:46:51.752407"
    }
   },
   "source": [
    "<img src=\"img/feynman.png\" width=\"400\" height=\"400\" />\n",
    "<center>particle production process</center>"
   ]
  },
  {
   "cell_type": "markdown",
   "metadata": {},
   "source": [
    "The Lagrangian for the V-A theory is given by\n",
    "\n",
    "[fill in]\n",
    "\n",
    "\n",
    "\n"
   ]
  },
  {
   "cell_type": "markdown",
   "metadata": {},
   "source": [
    "The V-A theory provides a way to compute the cross section for orbital (K) Electron Capture.\n",
    "\n",
    "\n",
    "The cross section for the process\n",
    "\n",
    "$$p^{+}+e^{-}\\rightarrow n^{0}+\\nu_{e}$$\n",
    "\n",
    "is given by the Golden rule\n",
    "\n",
    "$$d\\sigma_{ep}=\\left(\\dfrac{1}{2\\pi}\\right)^{2}\\dfrac{\\sum_{fi}\\big\\vert\\mathcal{M}_{fi}\\big\\vert^{2}}{16\\;\\big\\vert\\mathbf{k}\\cdot(E{_n}\\mathbf{k}-k^{0}\\mathbf{p}_{n})\\big\\vert}\\dfrac{k^{3}p_{e}d\\Omega_{k}}{\\big\\vert\\mathbf{p}_{e}\\cdot(E_{p}\\mathbf{p}_{e}-E_{e}\\mathbf{p}_{e})\\big\\vert}$$\n",
    "\n",
    "Notice that when applying the VA theory this way, we assume that the electron-proton interaction is a contact potential, operating at the surface of the nucleus, and that the underlying quantum process is incoherent.  \n",
    "\n",
    "[explain k, other terms]\n"
   ]
  },
  {
   "cell_type": "markdown",
   "metadata": {
    "ExecuteTime": {
     "end_time": "2016-09-05T23:36:55.786355",
     "start_time": "2016-09-05T23:36:55.782136"
    },
    "collapsed": true
   },
   "source": [
    "\n",
    "#### VA Matrix Elements \n",
    "\n",
    "The matrix elements $\\mathcal{M}_{fi}$ are\n",
    "\n",
    "$$\\mathcal{M}_{fi}=\\dfrac{G_{F}}{\\sqrt{2}}\\bar{u}(p_{n},s_{n})(G_{V}-G_{A}\\gamma^{5})\\gamma^{\\mu}u(p_{p},s_{p})\\times\\bar{u}(k,s_{k})\\gamma_{u}(1-\\gamma^{5})u(s_{e},p_{e})$$\n",
    "\n",
    "where $G_{F}=1.16637\\times 10^{-5}\\;GeV$, the neutron lifetime is reproduced with $G_{A}=1$, and $G_{V}=-1.2857$.\n",
    "\n",
    "$$\\bar{u}(p_{n},s_{n}),u(p_{p},s_{p}),\\bar{u}(k,s_{k}),u(s_{e},p_{e})$$\n",
    "\n",
    "are Dirac spinors (see above), and\n",
    "\n",
    "$$s_{n}, s_{p},s_{e},s_{k}$$ \n",
    "\n",
    "are 2-component spin vectors for the neutron, proton, electron, and electron neutrino, resp. \n",
    "\n",
    "The $\\gamma$ are 4-component Gamma matrices, and  $(\\cdots\\gamma^{\\mu}\\cdots\\gamma_{u}\\cdots)$ is the Einstein summation convention.\n"
   ]
  },
  {
   "cell_type": "markdown",
   "metadata": {
    "ExecuteTime": {
     "end_time": "2016-09-06T00:20:30.931873",
     "start_time": "2016-09-06T00:20:30.927166"
    },
    "collapsed": true
   },
   "source": [
    "#### Particle-in-the-box Wavefunctions\n",
    "\n",
    "We treat the electron, proton pair as classical particle-in-a-box.\n",
    "\n",
    "$$\\psi_{ep}(\\mathbf{x})=\\left(\\dfrac{2}{L}\\right)^{\\frac{3}{2}}cos\\left(\\dfrac{\\pi x}{L}\\right)cos\\left(\\dfrac{\\pi y}{L}\\right)cos\\left(\\dfrac{\\pi z}{L}\\right)$$\n",
    "\n",
    "expressions for momentum\n",
    "\n",
    "Because the VA theory assumes an incoherent process, the electron, proton wavefunction is usually factored as an electron wavefunction, with a point-particle in the center\n",
    "\n",
    "$$\\psi_{ep}(\\mathbf{x})=\\psi_{p}(0)\\psi_{e}(\\mathbf{x})$$\n",
    "\n",
    "We only consider the  ground state $\\psi_{ep}^{0}$ wavefunction.\n",
    "\n",
    "\n",
    "We note, in *ab initio* electronic structure calculations, it is now generally possible to treat the Hydrogen prton wavefunction explicitly, and to treat the electron-proton coupling at the level of Hartree Fock (i.e. variational mean field) [12] This has proved useful for describing isotope effects on electronic structure\n",
    "\n",
    "Here, we treat the confined electron, proton pair in the c.m. frame so that the 3-momentum of the electron and proton related\n",
    "$$\\mathbf{p}_{e}=\\mathbf{p}_{pe}$$\n",
    "$$\\mathbf{p}_{p}=-\\mathbf{p}_{pe}$$\n"
   ]
  },
  {
   "cell_type": "markdown",
   "metadata": {},
   "source": [
    "#### Dirac Spinors\n",
    "\n",
    "We effectively represent the relativistic electronic wavefunctions in a form similar to plane wave solutions of the Dirac Equations\n",
    "\n",
    "$$\\Psi_{e}=u(\\overrightarrow{p},s)\\psi_{e}$$\n",
    "\n",
    "where $\\psi_{e}$ is the classical particle-in-the-box wavefunction.\n",
    "\n",
    "where the Dirac Spinors convention used is given by\n",
    "\n",
    "$$u(\\overrightarrow{p},s=up)=\\sqrt{E+m}\\left[\\begin{array}{c}\n",
    "0\\\\\n",
    "1\\\\\n",
    "\\dfrac{p_{3}}{E+m}\\\\\n",
    "\\dfrac{p_{1}+ip_{2}}{E+m}\n",
    "\\end{array}\\right]\\;\\;u(\\overrightarrow{p},s=down)=\\sqrt{E+m}\\left[\\begin{array}{c}\n",
    "1\\\\\n",
    "0\\\\\n",
    "\\dfrac{p_{1}-ip_{2}}{E+m}\\\\ \n",
    "\\dfrac{-p_{3}}{E+m} \n",
    "\\end{array}\\right]$$ \n",
    "\n",
    "See below for the implementation\n",
    "\n",
    "<font color='red'> redo here using simplified notation since we repeat this below ? </font>\n",
    "\n"
   ]
  },
  {
   "cell_type": "markdown",
   "metadata": {},
   "source": [
    "##### comment on our approach\n",
    "\n",
    "We note that Blatt and Weisskopf describe the fermi VA theory in the non-relativisitic limit.  Here, they use classical plane wave solutions $(e^{i\\mathbf{p}\\mathbf{x}})$, with just box normalization $(\\frac{1}{L^{3}})$.  In contrast, we use the full classical particle-in-the-box wavefunctions, and analyze the problem just above the Componton scale using the low order VA theory.\n"
   ]
  },
  {
   "cell_type": "markdown",
   "metadata": {},
   "source": [
    "#### Relativistic Kinematics and Energetics\n",
    "\n",
    "\n",
    "For consistancy with the particle production process,\n",
    "\n",
    "$$ p+e\\rightarrow n+\\nu_{e} $$\n",
    "\n",
    "we treat all kinematics and energetics relativisitcally, such that\n",
    "\n",
    "$$\\overrightarrow{P}_{n}+\\overrightarrow{P}_{e}=\\overrightarrow{P}_{n}+\\overrightarrow{P}_{\\nu_{e}} $$\n",
    "\n",
    "$$E^{2}=M^{2}+p^{2}$$\n",
    "\n",
    "This gives\n",
    "\n",
    "$$E^{2}_{e}=m^{2}_{e}+3\\left(\\dfrac{\\pi}{L}\\right)^{2}$$ \n",
    "\n",
    "$$E^{2}_{p}=M^{2}_{p}+3\\left(\\dfrac{\\pi}{L}\\right)^{2}$$"
   ]
  },
  {
   "cell_type": "markdown",
   "metadata": {},
   "source": [
    "The threshold Kinetic energy in the center of momentum (c.m.) frame is given as\n",
    "\n",
    "$$EKe_{min}:\\;\\;K_{e}=E_{e}-m_{e}=\\dfrac{(M_{n}-m_{e}+m_{\\nu})^{2}-M^{2}_{p}}{2(M_{n}+m_{\\nu})}$$\n",
    " \n",
    "Giving the minimum momentum as\n",
    "\n",
    "$$pmin:\\;\\;\\mathbf{p}_{min}=\\sqrt{(K_{e}+m_{e})^{2}-m_{e}^{2}} $$\n",
    "\n",
    "(for the jupyter notebook, I will derive the results in the appendix)"
   ]
  },
  {
   "cell_type": "markdown",
   "metadata": {},
   "source": [
    "Of course, the proton rest frame is approximately the electron rest frame, but it should be mentioned that the in the electron rest frame, the threshold kinetic energy is 2000X greater.  \n",
    "\n",
    "Therefore, it is assumed that the energy transfer to induce electron capture is in the c.m. frame of the (e,p) pair."
   ]
  },
  {
   "cell_type": "markdown",
   "metadata": {},
   "source": [
    "The total energy in the c.m. frame is\n",
    "\n",
    "$$E_{tot}=E_{n}-E_{e}$$\n",
    "\n",
    "For the final state, the neutrino kinetic energy is\n",
    "\n",
    "$$K_{\\nu}=k^{0}-m_{\\nu}=\\dfrac{(E_{p}+E_{e}-m_{\\nu})^{2}-M^{2}_{n}}{2(E_{p}+E_{e})}$$\n",
    "\n",
    "and the neutron kinetic energy is\n",
    "\n",
    "$$K_{n}=E_{n}-M_{n}=\\dfrac{(E_{p}+E_{e}-M_{n})^{2}-m^{2}_{\\nu}}{2(E_{p}+E_{e})}$$\n",
    "\n",
    "\n"
   ]
  },
  {
   "cell_type": "markdown",
   "metadata": {
    "ExecuteTime": {
     "end_time": "2016-09-13T17:03:13.712979",
     "start_time": "2016-09-13T17:03:13.708719"
    }
   },
   "source": [
    "### Calculations\n",
    "\n",
    "#### Physical Constants\n",
    "see: http://pdg.lbl.gov/2015/reviews/rpp2015-rev-phys-constants.pdf"
   ]
  },
  {
   "cell_type": "code",
   "execution_count": 1,
   "metadata": {
    "ExecuteTime": {
     "end_time": "2016-09-29T12:30:53.108796",
     "start_time": "2016-09-29T12:30:50.982933"
    },
    "collapsed": false
   },
   "outputs": [
    {
     "name": "stderr",
     "output_type": "stream",
     "text": [
      "/Users/charlesmartin14/anaconda/lib/python2.7/site-packages/matplotlib/font_manager.py:273: UserWarning: Matplotlib is building the font cache using fc-list. This may take a moment.\n",
      "  warnings.warn('Matplotlib is building the font cache using fc-list. This may take a moment.')\n"
     ]
    }
   ],
   "source": [
    "import numpy as np\n",
    "import matplotlib\n",
    "import numpy as np\n",
    "import matplotlib.pyplot as plt\n",
    "import matplotlib.patches as mpatches\n",
    "\n",
    "%matplotlib inline "
   ]
  },
  {
   "cell_type": "code",
   "execution_count": 2,
   "metadata": {
    "ExecuteTime": {
     "end_time": "2016-09-29T12:30:53.684167",
     "start_time": "2016-09-29T12:30:53.110905"
    },
    "collapsed": true
   },
   "outputs": [],
   "source": [
    "# scipy contains mant of the basic units\n",
    "# in meters\n",
    "\n",
    "# http://docs.scipy.org/doc/scipy/reference/constants.html\n",
    "import scipy\n",
    "from scipy import constants\n",
    "\n",
    "# we use the python physics library sympy do to our calculations;\n",
    "#  we use the units module, and the Gamma matrices \n",
    "#  but we do not (yet) use the Tensor module\n",
    "import sympy\n",
    "from sympy import *\n",
    "from sympy.physics import units\n",
    "from sympy.physics.matrices import mgamma"
   ]
  },
  {
   "cell_type": "markdown",
   "metadata": {
    "ExecuteTime": {
     "end_time": "2016-09-13T17:05:31.048509",
     "start_time": "2016-09-13T17:05:31.045993"
    }
   },
   "source": [
    "#### Example use of constants and units imports"
   ]
  },
  {
   "cell_type": "code",
   "execution_count": 3,
   "metadata": {
    "ExecuteTime": {
     "end_time": "2016-09-29T12:30:53.691302",
     "start_time": "2016-09-29T12:30:53.685863"
    },
    "collapsed": false
   },
   "outputs": [
    {
     "name": "stdout",
     "output_type": "stream",
     "text": [
      "speed of light in meters / sec  299792458.0\n",
      "hbar in m2 kg / s  1.05457180014e-34\n",
      "angstrom in meters 1e-10\n",
      "angstrom in fm  100000.000000000\n"
     ]
    }
   ],
   "source": [
    "print \"speed of light in meters / sec \",constants.c\n",
    "print \"hbar in m2 kg / s \",constants.hbar\n",
    "\n",
    "print \"angstrom in meters\", constants.angstrom\n",
    "print \"angstrom in fm \",constants.angstrom/units.femto"
   ]
  },
  {
   "cell_type": "code",
   "execution_count": 4,
   "metadata": {
    "ExecuteTime": {
     "end_time": "2016-09-29T12:30:53.695803",
     "start_time": "2016-09-29T12:30:53.692931"
    },
    "collapsed": false
   },
   "outputs": [
    {
     "name": "stdout",
     "output_type": "stream",
     "text": [
      "197.3269788 MeV fm\n"
     ]
    }
   ],
   "source": [
    "hbarc =  constants.value('Planck constant over 2 pi times c in MeV fm')\n",
    "print hbarc, \"MeV fm\""
   ]
  },
  {
   "cell_type": "code",
   "execution_count": 5,
   "metadata": {
    "ExecuteTime": {
     "end_time": "2016-09-29T12:30:53.701858",
     "start_time": "2016-09-29T12:30:53.697130"
    },
    "collapsed": false,
    "scrolled": true
   },
   "outputs": [
    {
     "name": "stdout",
     "output_type": "stream",
     "text": [
      "Mass proton, neutron, electon (in MeV)\n",
      "938.2720813 939.5654133 0.5109989461\n"
     ]
    }
   ],
   "source": [
    "Mn =  constants.value('neutron mass energy equivalent in MeV')\n",
    "Mp = constants.value('proton mass energy equivalent in MeV')\n",
    "me = constants.value('electron mass energy equivalent in MeV')\n",
    "\n",
    "print \"Mass proton, neutron, electon (in MeV)\"\n",
    "print Mp, Mn, me"
   ]
  },
  {
   "cell_type": "code",
   "execution_count": 6,
   "metadata": {
    "ExecuteTime": {
     "end_time": "2016-09-29T12:30:53.706273",
     "start_time": "2016-09-29T12:30:53.703227"
    },
    "collapsed": false
   },
   "outputs": [
    {
     "name": "stdout",
     "output_type": "stream",
     "text": [
      "mass electron neutrino 1e-08\n"
     ]
    }
   ],
   "source": [
    "# useful constants: not in scypi (or sympy)\n",
    "# electron neutrino mass in MeV\n",
    "mnu = 1.e-8 # MeV\n",
    "print \"mass electron neutrino\", mnu"
   ]
  },
  {
   "cell_type": "markdown",
   "metadata": {},
   "source": [
    "## <font color='red'>Using PNLL values of constants for debugging</font>"
   ]
  },
  {
   "cell_type": "code",
   "execution_count": 7,
   "metadata": {
    "ExecuteTime": {
     "end_time": "2016-09-29T12:30:53.710936",
     "start_time": "2016-09-29T12:30:53.707557"
    },
    "collapsed": true
   },
   "outputs": [],
   "source": [
    "Mp = 938.272013                                                                                                          \n",
    "Mn = 939.565346                                                                                         \n",
    "me = 0.510998910\n",
    "# use old hbarc, pmin to double check calculations\n",
    "pmin = 1.1872859246356673 # MeV\n",
    "hbarc = 197.3269631"
   ]
  },
  {
   "cell_type": "markdown",
   "metadata": {
    "ExecuteTime": {
     "end_time": "2016-09-28T15:04:54.975918",
     "start_time": "2016-09-28T15:04:54.971905"
    }
   },
   "source": [
    "#### <font color='red'> comment out above for final calculations </font>"
   ]
  },
  {
   "cell_type": "code",
   "execution_count": 8,
   "metadata": {
    "ExecuteTime": {
     "end_time": "2016-09-29T12:30:53.716410",
     "start_time": "2016-09-29T12:30:53.712423"
    },
    "collapsed": false,
    "scrolled": true
   },
   "outputs": [
    {
     "name": "stdout",
     "output_type": "stream",
     "text": [
      "EKemin =  0.781582906698 MeV\n",
      "  pmin =  1.18728592464 MeV\n"
     ]
    }
   ],
   "source": [
    "Ekemin = (((Mn + mnu - me)**2) - (Mp**2))/(2.0*(Mn+mnu))\n",
    "pmin = np.sqrt(( Ekemin+me)**2 - me**2)\n",
    "print \"EKemin = \", Ekemin, \"MeV\"\n",
    "print \"  pmin = \", pmin, \"MeV\""
   ]
  },
  {
   "cell_type": "markdown",
   "metadata": {},
   "source": [
    "We find $EKe_{min}~782\\;KeV$ and $p_{min}~1.187MeV$"
   ]
  },
  {
   "cell_type": "markdown",
   "metadata": {
    "ExecuteTime": {
     "end_time": "2016-09-06T14:15:50.492282",
     "start_time": "2016-09-06T14:15:50.488580"
    }
   },
   "source": [
    "#### Maximum Allowed Confinment\n",
    "\n",
    "We can estimate of the maximum box size using some relativistic kinematics.\n",
    "\n",
    "For a classical 3-D particle-in-a-box, in units of $\\hbar c$,  we have [13]\n",
    "\n",
    "$$\\mathbf{p}_{n}=\\dfrac{3n\\pi}{L}$$\n",
    "\n",
    "so that for n=0, \n",
    "\n",
    "$$L_{max}=\\dfrac{3\\pi}{\\mathbf{p}_{min}}$$\n",
    "\n",
    "We can use the relativistic $\\mathbf{p}_{min}$ to get the maximum box size"
   ]
  },
  {
   "cell_type": "code",
   "execution_count": 9,
   "metadata": {
    "ExecuteTime": {
     "end_time": "2016-09-29T12:30:53.721417",
     "start_time": "2016-09-29T12:30:53.717885"
    },
    "collapsed": false,
    "scrolled": true
   },
   "outputs": [
    {
     "name": "stdout",
     "output_type": "stream",
     "text": [
      "The maximum box size is LMax =  0.00904360557445870 in Angstroms\n"
     ]
    }
   ],
   "source": [
    "Lmax =(np.sqrt(3.0)*np.pi*hbarc/pmin)*units.femto/constants.angstrom\n",
    "print \"The maximum box size is LMax = \",Lmax, \"in Angstroms\""
   ]
  },
  {
   "cell_type": "markdown",
   "metadata": {
    "ExecuteTime": {
     "end_time": "2016-09-06T16:11:54.552734",
     "start_time": "2016-09-06T16:11:54.548782"
    }
   },
   "source": [
    "$$L_{max}=0.0090\\;\\mathring{A}$$"
   ]
  },
  {
   "cell_type": "markdown",
   "metadata": {},
   "source": [
    "For a range size  $L\\in[L_{min},L_{\\max}]$,\n",
    "$$0.004\\le L \\le0.009\\;\\mathring{A},$$\n",
    "\n",
    "we will compute the relativistic Kinetic energies, the rate of electron capture, and the effective power (ratio) for our box-induced electron capture.\n"
   ]
  },
  {
   "cell_type": "markdown",
   "metadata": {
    "ExecuteTime": {
     "end_time": "2016-09-13T15:16:44.145497",
     "start_time": "2016-09-13T15:16:44.141270"
    }
   },
   "source": [
    "### Relatvisitic Kinematics\n",
    "\n",
    "Before we do the full VA-theory calcualtions of confined electron capture, we can compute the Relativistic Kinematics to examine the Kinetetic Energy for the particles involves\n",
    "\n"
   ]
  },
  {
   "cell_type": "markdown",
   "metadata": {
    "ExecuteTime": {
     "end_time": "2016-09-13T15:20:35.529245",
     "start_time": "2016-09-13T15:20:35.524882"
    }
   },
   "source": [
    "####  RLConf = Box confinment lengths\n",
    "Define the box sizes L, in units L (A°) for a classical particle-in-the-box\n",
    "\n",
    "(for completeness, we will use $ 0.0001\\le L \\le0.009\\;\\mathring{A} $, including boxes smaller than the Compton scale)\n",
    "\n"
   ]
  },
  {
   "cell_type": "code",
   "execution_count": null,
   "metadata": {
    "ExecuteTime": {
     "end_time": "2016-09-28T11:00:57.580360",
     "start_time": "2016-09-28T11:00:57.576581"
    },
    "collapsed": true
   },
   "outputs": [],
   "source": []
  },
  {
   "cell_type": "code",
   "execution_count": 10,
   "metadata": {
    "ExecuteTime": {
     "end_time": "2016-09-29T12:30:54.823076",
     "start_time": "2016-09-29T12:30:54.812998"
    },
    "collapsed": false
   },
   "outputs": [
    {
     "name": "stdout",
     "output_type": "stream",
     "text": [
      "The box size range in [] 0.00011257882444 0.00904360557438 ] Angstroms\n"
     ]
    }
   ],
   "source": [
    "# we may simplify this code\n",
    "rlconfs = []\n",
    "peps = []\n",
    "for iep in range(1,500):\n",
    "    pgrid =  np.exp(np.log(1e-11)+(float(iep)/500.0)*(np.log(100.0)-np.log(1e-11)))\n",
    "    pep = ( pmin + pgrid )/np.sqrt(3.0)\n",
    "    peps.append(pep)\n",
    "    rlconf = (1e-5)*hbarc*np.pi/pep\n",
    "    rlconfs.append(rlconf)\n",
    "    \n",
    "print \"The box size range in []\",min(rlconfs), max(rlconfs),\"] Angstroms\""
   ]
  },
  {
   "cell_type": "markdown",
   "metadata": {
    "ExecuteTime": {
     "end_time": "2016-09-13T15:24:26.256037",
     "start_time": "2016-09-13T15:24:26.252875"
    }
   },
   "source": [
    "### $ \\mathbf{p}_{min} $ vs L\n",
    "\n",
    "We can see how confinement causes the (proton/electon) $ \\mathbf{p}_{min} $ to increase"
   ]
  },
  {
   "cell_type": "code",
   "execution_count": 11,
   "metadata": {
    "ExecuteTime": {
     "end_time": "2016-09-29T12:30:55.850390",
     "start_time": "2016-09-29T12:30:55.242402"
    },
    "collapsed": false,
    "scrolled": false
   },
   "outputs": [
    {
     "data": {
      "image/png": "[encoded data removed]",
      "text/plain": [
       "<matplotlib.figure.Figure at 0x110f18e10>"
      ]
     },
     "metadata": {},
     "output_type": "display_data"
    }
   ],
   "source": [
    "plt.semilogx(np.array(rlconfs), np.array(peps))\n",
    "plt.xlabel(\"RLConf :  L (Angstrom)\")\n",
    "plt.ylabel(\"Pep (?)\")\n",
    "\n",
    "from pylab import rcParams\n",
    "rcParams['figure.figsize'] = 5,5\n",
    "plt.show()"
   ]
  },
  {
   "cell_type": "markdown",
   "metadata": {
    "ExecuteTime": {
     "end_time": "2016-09-13T14:17:43.413047",
     "start_time": "2016-09-13T14:17:42.813234"
    },
    "collapsed": false,
    "scrolled": true
   },
   "source": [
    "#### Kinetic Energy Calculations\n",
    "\n",
    "We now calculate and plot the all the Kinetic energies\n",
    "\n",
    "That is, we compute $ \\mathbf{p}^{0}_{ep} $ and $ K_{n},K_{p},K_{e},and\\;K_{\\nu} $ \n",
    "\n",
    "We will the full $ \\mathbf{p}_{ep} $ in the next section, below"
   ]
  },
  {
   "cell_type": "code",
   "execution_count": 12,
   "metadata": {
    "ExecuteTime": {
     "end_time": "2016-09-29T12:30:55.860495",
     "start_time": "2016-09-29T12:30:55.852098"
    },
    "collapsed": false
   },
   "outputs": [],
   "source": [
    "#  compute the [0] component of the 4 vectors:  p1 , p2 , pe, pk \n",
    "# p1 neutron\n",
    "# p2 proton\n",
    "# pe electron\n",
    "# pk neutrino\n",
    "#\n",
    "#  assumes exactly cubic lattic:  pep1 = pep2 = pep3 = +|- pep\n",
    "def pepKE(pep):\n",
    "    \n",
    "    p2 = np.sqrt((Mp**2) + 3.0*(pep**2) )\n",
    "    pe = np.sqrt((me**2) + 3.0*(pep**2) )\n",
    "    Etot = p2 + pe\n",
    "\n",
    "    Eknu = ( (Etot-mnu)**2 - (Mn**2) )/(2.0*Etot)\n",
    "    Ekn = ( (Etot-Mn)**2 - (mnu**2) )/(2.0*Etot)\n",
    "    pnu = np.sqrt( (Eknu+mnu)**2 - (mnu**2) ) \n",
    "    \n",
    "    pk = Eknu + mnu\n",
    "    p1 = p2 + pe - pk\n",
    "    \n",
    "    return p1, p2, pe, pk"
   ]
  },
  {
   "cell_type": "code",
   "execution_count": 13,
   "metadata": {
    "ExecuteTime": {
     "end_time": "2016-09-29T12:30:55.934174",
     "start_time": "2016-09-29T12:30:55.929924"
    },
    "collapsed": false,
    "scrolled": false
   },
   "outputs": [],
   "source": [
    "num = len(peps)\n",
    "EKn = np.zeros(num)\n",
    "EKp = np.zeros(num)\n",
    "EKe = np.zeros(num)\n",
    "EKnu = np.zeros(num)\n",
    "Etot = np.zeros(num)"
   ]
  },
  {
   "cell_type": "code",
   "execution_count": 14,
   "metadata": {
    "ExecuteTime": {
     "end_time": "2016-09-29T12:30:56.120623",
     "start_time": "2016-09-29T12:30:56.111955"
    },
    "collapsed": false,
    "scrolled": false
   },
   "outputs": [],
   "source": [
    "for i, pep in enumerate(peps):\n",
    "    p1, p2, pe, pk = pepKE(pep)\n",
    "    EKn[i] = p1 - Mn\n",
    "    EKp[i] = p2 - Mp\n",
    "    EKe[i] = pe - me\n",
    "    EKnu[i] = pk - mnu"
   ]
  },
  {
   "cell_type": "markdown",
   "metadata": {},
   "source": [
    "#### First, we restrict the box to L > 0.004"
   ]
  },
  {
   "cell_type": "code",
   "execution_count": 15,
   "metadata": {
    "ExecuteTime": {
     "end_time": "2016-09-29T12:30:57.111874",
     "start_time": "2016-09-29T12:30:56.548373"
    },
    "collapsed": false,
    "scrolled": false
   },
   "outputs": [
    {
     "data": {
      "image/png": "[encoded data removed]",
      "text/plain": [
       "<matplotlib.figure.Figure at 0x11473f090>"
      ]
     },
     "metadata": {},
     "output_type": "display_data"
    }
   ],
   "source": [
    "plt.semilogy(rlconfs, EKe , color='magenta')\n",
    "plt.semilogy(rlconfs, EKnu, color='red' )\n",
    "plt.semilogy(rlconfs, EKn, color='blue')\n",
    "plt.semilogy(rlconfs, EKp, color='green')\n",
    "\n",
    "patches = [ mpatches.Patch(color='magenta', label='EKe'),\n",
    "            mpatches.Patch(color='red', label='EKnu'),\n",
    "            mpatches.Patch(color='blue', label='EKn'),\n",
    "            mpatches.Patch(color='green', label='EKp')          ]\n",
    "plt.legend(handles=patches)\n",
    "\n",
    "plt.xlabel(\"Box confinment (Angstrom)\")\n",
    "plt.ylim(ymin=0.000001)\n",
    "plt.ylim(ymax=100.0) \n",
    "\n",
    "from pylab import rcParams\n",
    "rcParams['figure.figsize'] = 5,5\n",
    "plt.show()"
   ]
  },
  {
   "cell_type": "code",
   "execution_count": 16,
   "metadata": {
    "ExecuteTime": {
     "end_time": "2016-09-29T12:33:35.797703",
     "start_time": "2016-09-29T12:33:35.207828"
    },
    "collapsed": false,
    "scrolled": false
   },
   "outputs": [
    {
     "data": {
      "image/png": "[encoded data removed]",
      "text/plain": [
       "<matplotlib.figure.Figure at 0x114732b90>"
      ]
     },
     "metadata": {},
     "output_type": "display_data"
    }
   ],
   "source": [
    "plt.semilogy(rlconfs, EKe , color='magenta')\n",
    "plt.semilogy(rlconfs, EKnu, color='red' )\n",
    "plt.semilogy(rlconfs, EKn, color='blue')\n",
    "plt.semilogy(rlconfs, EKp, color='green')\n",
    "\n",
    "patches = [ mpatches.Patch(color='magenta', label='EKe'),\n",
    "            mpatches.Patch(color='red', label='EKnu'),\n",
    "            mpatches.Patch(color='blue', label='EKn'),\n",
    "            mpatches.Patch(color='green', label='EKp')          ]\n",
    "plt.legend(handles=patches)\n",
    "\n",
    "plt.xlabel(\"Box confinment (Angstrom) L > 0.004\")\n",
    "plt.ylim(ymin=0.000001)\n",
    "plt.ylim(ymax=100.0) \n",
    "plt.xlim(xmin=0.004)\n",
    "\n",
    "from pylab import rcParams\n",
    "rcParams['figure.figsize'] = 5,5\n",
    "plt.show()"
   ]
  },
  {
   "cell_type": "markdown",
   "metadata": {},
   "source": [
    "The electron and proton energies are failry constant, slighly descreasing, as the box size increases.\n",
    "\n",
    "In contrast, the energy of the neutron drops slowly as the box increases, and the electron neutrino energy drops marketed as the box approaches 0.009 $\\mathring{A}$\n",
    "\n",
    "What will be more interesting is to compute the "
   ]
  },
  {
   "cell_type": "markdown",
   "metadata": {
    "ExecuteTime": {
     "end_time": "2016-09-14T21:31:43.987070",
     "start_time": "2016-09-14T21:31:43.984749"
    }
   },
   "source": [
    "#### Second, lets add in the box sizes L < $0.004 \\mathring{A}$, below the Compton Length"
   ]
  },
  {
   "cell_type": "code",
   "execution_count": 17,
   "metadata": {
    "ExecuteTime": {
     "end_time": "2016-09-29T12:33:36.626635",
     "start_time": "2016-09-29T12:33:36.072237"
    },
    "collapsed": false,
    "scrolled": false
   },
   "outputs": [
    {
     "data": {
      "image/png": "[encoded data removed]",
      "text/plain": [
       "<matplotlib.figure.Figure at 0x113c6d410>"
      ]
     },
     "metadata": {},
     "output_type": "display_data"
    }
   ],
   "source": [
    "plt.semilogy(rlconfs, EKe , color='magenta')\n",
    "plt.semilogy(rlconfs, EKnu, color='red' )\n",
    "plt.semilogy(rlconfs, EKn, color='blue')\n",
    "plt.semilogy(rlconfs, EKp, color='green')\n",
    "\n",
    "patches = [ mpatches.Patch(color='magenta', label='EKe'),\n",
    "            mpatches.Patch(color='red', label='EKnu'),\n",
    "            mpatches.Patch(color='blue', label='EKn'),\n",
    "            mpatches.Patch(color='green', label='EKp')          ]\n",
    "plt.legend(handles=patches)\n",
    "\n",
    "plt.xlabel(\"Box confinment (Angstrom)\")\n",
    "plt.ylim(ymin=0.000001)\n",
    "plt.ylim(ymax=100.0) \n",
    "\n",
    "from pylab import rcParams\n",
    "rcParams['figure.figsize'] = 5,5\n",
    "plt.show()"
   ]
  },
  {
   "cell_type": "markdown",
   "metadata": {},
   "source": [
    "For $L < 0.004 \\mathring{A}$, the proton and electron energies are no longer constant, and, instead increase marketedly.  Likewise, the neutron and electron neutrino energies also blow up.\n",
    "\n",
    "The complete calculations should include the electron capture rates and associated power.  to get there, we need "
   ]
  },
  {
   "cell_type": "markdown",
   "metadata": {},
   "source": [
    "### Full Relativisitc Kinematic Calculations\n",
    "\n",
    "To compute the full Dirac 4-vectors, we need to treat the electron neutrino as a particle scattering 'out of the box'\n",
    "\n",
    "The neutrino momentum is given as"
   ]
  },
  {
   "cell_type": "markdown",
   "metadata": {},
   "source": [
    "\n",
    "$$\\mathbf{p}_{\\nu}=\\sqrt{(E_{\\nu}-m_{\\nu})^{2}-m_{\\nu}^{2}}\\left[\\begin{array}{c}\n",
    "E_{\\nu}+m_{\\nu}\\\\\n",
    "sin(\\phi)cos(\\theta)\\\\\n",
    "sin(\\phi)sin(\\theta)\\\\\n",
    "\\phi\\end{array}\\right]\\;$$ \n"
   ]
  },
  {
   "cell_type": "markdown",
   "metadata": {
    "ExecuteTime": {
     "end_time": "2016-09-13T18:19:50.599387",
     "start_time": "2016-09-13T18:19:50.596753"
    }
   },
   "source": [
    "#### Gaussian Quadrature\n",
    "\n",
    "\n",
    "We integrate over the momenta solid angle  $ k^{3}\\Omega $ using an 8-point Gaussian quadrature\n",
    "\n",
    "Where the quadrature points represent on the circle, we rescale x and the weights \n",
    "\n",
    "$$  \\phi: [-1,1]\\rightarrow [0, 2\\pi] $$\n",
    "$$ w_{phi}: w\\pi $$"
   ]
  },
  {
   "cell_type": "code",
   "execution_count": 18,
   "metadata": {
    "ExecuteTime": {
     "end_time": "2016-09-29T12:33:37.534764",
     "start_time": "2016-09-29T12:33:37.528819"
    },
    "collapsed": true
   },
   "outputs": [],
   "source": [
    "import numpy as np\n",
    "\n",
    "from numpy.polynomial.legendre import leggauss\n",
    "lg_x, lg_wx = leggauss(8)\n",
    "lg_phi, lg_wphi = leggauss(8)\n",
    "\n",
    "lg_phi = (lg_phi+1.0)*np.pi\n",
    "lg_wphi = lg_wphi*np.pi"
   ]
  },
  {
   "cell_type": "markdown",
   "metadata": {},
   "source": []
  },
  {
   "cell_type": "markdown",
   "metadata": {
    "ExecuteTime": {
     "end_time": "2016-09-14T21:57:34.624949",
     "start_time": "2016-09-14T21:57:34.621885"
    }
   },
   "source": [
    "###  this section needs more work <font color='red'>explain why we integrated over pep1 and the solid angle</font> "
   ]
  },
  {
   "cell_type": "code",
   "execution_count": 33,
   "metadata": {
    "ExecuteTime": {
     "end_time": "2016-09-29T12:40:28.188771",
     "start_time": "2016-09-29T12:40:28.160459"
    },
    "collapsed": false
   },
   "outputs": [],
   "source": [
    "#  full computation of 4 vectors:  p1 , p2 , pe, pk \n",
    "def pekin(x , phi , pep_xyz):\n",
    "    \n",
    "    pep_x = pep_xyz[0]\n",
    "    pep_y = pep_xyz[1]\n",
    "    pep_z = pep_xyz[2]\n",
    "\n",
    "    \n",
    "    p1 = np.zeros(4)\n",
    "    p2 = np.zeros(4)\n",
    "    pe = np.zeros(4)\n",
    "    pk = np.zeros(4)\n",
    "    \n",
    "    # proton\n",
    "    p2[0] = np.sqrt(Mp**2 + pep_x**2  + pep_y**2  + pep_z**2 )\n",
    "    p2[1] = -pep_x\n",
    "    p2[2] = -pep_y\n",
    "    p2[3] = -pep_z\n",
    "    \n",
    "    # electron\n",
    "    pe[0] = np.sqrt(me**2 + pep_x**2  + pep_y**2  + pep_z**2 )\n",
    "    pe[1] = pep_x\n",
    "    pe[2] = pep_y\n",
    "    pe[3] = pep_z\n",
    "    \n",
    "    Etot = p2[0] + pe[0]\n",
    " \n",
    "\n",
    "    Eknu = ((Etot-mnu)**2 - (Mn)**2)/(2.0*Etot)\n",
    "    Ekn = ((Etot-Mn)**2 - mnu**2)/(2.0*Etot)\n",
    "    pnu = np.sqrt((Eknu+mnu)**2 - mnu**2)\n",
    "    \n",
    "    \n",
    "    pk[0] = Eknu + mnu\n",
    "    pk[1] = pnu*np.sqrt(1.0 - x**2)*np.cos(phi)\n",
    "    pk[2] = pnu*np.sqrt(1.0 - x**2)*np.sin(phi)\n",
    "    pk[3] = pnu*x\n",
    "    \n",
    "    # vector element wise addition\n",
    "    # neutron\n",
    "    p1 = p2 + pe - pk\n",
    "\n",
    "    return p1, p2, pe, pk"
   ]
  },
  {
   "cell_type": "markdown",
   "metadata": {
    "ExecuteTime": {
     "end_time": "2016-09-29T12:14:13.742560",
     "start_time": "2016-09-29T12:14:13.711835"
    }
   },
   "source": [
    "### <font color='red'>Test</red>\n",
    "\n",
    "Compare to Fortran code from PNNL\n",
    "<code>\n",
    "pe-one.f \n",
    "</code>\n",
    "\n",
    "'pekin',x,phi,pep1,pep2,pep3\n",
    "\n",
    " pekin -0.96028985649753629       0.12475309510033646      -0.68547984819958607      -0.68547984819958607      -0.68547984819958607     \n",
    " \n",
    " p1   939.56534599999998       -1.2173944499465628E-010  -1.5266654875346383E-011   4.2229031599413131E-010  \n",
    " p2   938.27276419330155       0.68547984819958607       0.68547984819958607       0.68547984819958607       \n",
    " pe   1.2925818167080840      -0.68547984819958607      -0.68547984819958607      -0.68547984819958607       \n",
    " pk   1.0009664463617206E-008   1.2173944499465628E-010   1.5266654875346383E-011  -4.2229031599413131E-010  \n",
    "\n"
   ]
  },
  {
   "cell_type": "code",
   "execution_count": 34,
   "metadata": {
    "ExecuteTime": {
     "end_time": "2016-09-29T12:40:29.247227",
     "start_time": "2016-09-29T12:40:29.240431"
    },
    "collapsed": false,
    "scrolled": true
   },
   "outputs": [
    {
     "name": "stdout",
     "output_type": "stream",
     "text": [
      "-0.960289856498 0.1247530951 0.6854798482\n",
      "p1 [  9.39565346e+02  -1.21739445e-10  -1.52666549e-11   4.22290316e-10]\n",
      "p2 [  9.38272764e+02   6.85479848e-01   6.85479848e-01   6.85479848e-01]\n",
      "pe [ 1.29258182 -0.68547985 -0.68547985 -0.68547985]\n",
      "pk [  1.00096645e-08   1.21739445e-10   1.52666549e-11  -4.22290316e-10]\n"
     ]
    }
   ],
   "source": [
    "pep_xyz = peps[0]*np.array([-1.0,-1.0,-1.0])\n",
    "print lg_x[0],lg_phi[0],peps[0]\n",
    "p1, p2, pe, pk  = pekin(lg_x[0] , lg_phi[0] , pep_xyz)\n",
    "print 'p1', p1\n",
    "print 'p2', p2\n",
    "print 'pe', pe\n",
    "print 'pk', pk"
   ]
  },
  {
   "cell_type": "markdown",
   "metadata": {
    "ExecuteTime": {
     "end_time": "2016-09-29T12:41:12.771347",
     "start_time": "2016-09-29T12:41:12.769007"
    },
    "collapsed": false
   },
   "source": [
    "### <font color='green'>Looks correct</red>"
   ]
  },
  {
   "cell_type": "code",
   "execution_count": null,
   "metadata": {
    "collapsed": true
   },
   "outputs": [],
   "source": []
  },
  {
   "cell_type": "markdown",
   "metadata": {
    "ExecuteTime": {
     "end_time": "2016-09-14T22:01:13.018595",
     "start_time": "2016-09-14T22:01:13.016097"
    }
   },
   "source": [
    "#### <font color='red'>write the full integral out, maybe give an example</font>"
   ]
  },
  {
   "cell_type": "markdown",
   "metadata": {
    "ExecuteTime": {
     "end_time": "2016-09-05T23:36:55.786355",
     "start_time": "2016-09-05T23:36:55.782136"
    },
    "collapsed": true
   },
   "source": [
    "\n",
    "### Rate of Confined Electron Capture\n",
    "\n",
    "Given the computed Dirac 4-vectors, we can compute the rate of electron capture using the VA-theory, for a given set of vectors\n",
    "\n",
    "Ror the process\n",
    "\n",
    "$$p^{+}+e^{-}\\rightarrow n^{0}+\\nu_{e}$$\n",
    "\n",
    "The rate is given by the Golden rule.\n",
    "\n",
    "We assume that the electron-proton interaction is a contact potential, operating at the surface of the nucleus, and that the underlying quantum process is incoherent.  \n",
    "\n",
    "So we simply evaluate the (electron,proton) wavefunction at the origin ($\\hbar c=1$ again)\n",
    "\n",
    "\n",
    "$$d\\lambda_{ep}=\\left(\\dfrac{1}{2\\pi}\\right)^{2}\\dfrac{\\sum_{fi}\\big\\vert\\mathcal{M}_{fi}\\left[\\mathcal{p}_{ep}\\rightarrow i\\nabla)\\right]\\psi_{ep}(\\mathbf{x})\\big\\vert_{\\mathbf{x}=0}\\big\\vert^{2}}{16E_{p}E_{e}\\;\\big\\vert\\mathbf{k}\\cdot(E{_n}\\mathbf{k}-k^{0}\\mathbf{p}_{n})\\big\\vert}k^{3}d\\Omega_{k}$$\n",
    "\n",
    "#### molecular side effects\n",
    "For very accurate calculations electron capture in an larger atom, we would need to treat the electronic wavefunction explicitly. Here, we could then include envrionmental effects, such as the atomic environment, and/or the effect of external fields.\n"
   ]
  },
  {
   "cell_type": "markdown",
   "metadata": {},
   "source": [
    "### Power\n",
    "\n",
    "We have to integrate over the phase space momentum $k^{3}d\\Omega_{k}$. \n",
    "\n",
    "We use the gaussian quadrature (above) to  evaluate the neutrino momentum in spherical momentum coordinates, integrating over both the pitch and the gyrophase of the outgoing neutrino.\n",
    "\n",
    "## <font color='red'> See below </font>\n"
   ]
  },
  {
   "cell_type": "raw",
   "metadata": {},
   "source": []
  },
  {
   "cell_type": "markdown",
   "metadata": {},
   "source": [
    "#### Currents\n",
    "\n",
    "### [I need to finish this section and the power section]\n",
    "\n",
    "\n",
    "Let $\\mathbf{C}_{had}$ and $\\mathbf{C}_{lep}$ be the 4-vectors representing the Hadron and Lepton (current) matrix elements, respectively, such that\n",
    "\n",
    "$$\\mathbf{C}_{had}=\\bar{u}(p_{n},s_{n})(G_{V}-G_{A}\\gamma^{5})\\gamma^{\\mu}u(p_{p},s_{p})$$\n",
    "\n",
    "$$\\mathbf{C}_{lep}=\\bar{u}(k,s_{k})\\gamma_{u}(1-\\gamma^{5})u(s_{e},p_{e})$$\n",
    "\n",
    "The total (4-vector) current amplitude is given by\n",
    "\n",
    "$$C^{2}_{amp}=(\\mathbf{C}_{had})^{\\mu}(\\mathbf{C}_{lep})_{\\mu}=C^{0}_{had}C^{0}_{lep}-C^{1}_{had}C^{1}_{lep}-C^{2}_{had}C^{2}_{lep}-C^{3}_{had}C^{3}_{lep}$$\n",
    "\n",
    "To compute the power, we will need the Real part of the amplitude\n",
    "\n",
    "$$C^{2}_{Re}=Re(\\bar{C}^{2}_{amp}{C}^{2}_{amp})$$\n",
    "\n",
    "which will we need to compute by Guassian quadrature\n",
    "\n",
    "[redo this, add more details of where power comes from..why we integrate over the neutrino solid angle]\n",
    "\n",
    "\n"
   ]
  },
  {
   "cell_type": "code",
   "execution_count": null,
   "metadata": {
    "collapsed": true
   },
   "outputs": [],
   "source": [
    "\n"
   ]
  },
  {
   "cell_type": "markdown",
   "metadata": {
    "ExecuteTime": {
     "end_time": "2016-09-06T00:23:41.048398",
     "start_time": "2016-09-06T00:23:41.046002"
    }
   },
   "source": []
  },
  {
   "cell_type": "markdown",
   "metadata": {},
   "source": []
  },
  {
   "cell_type": "code",
   "execution_count": null,
   "metadata": {
    "collapsed": true
   },
   "outputs": [],
   "source": []
  },
  {
   "cell_type": "markdown",
   "metadata": {},
   "source": [
    "###  High Energy Physics(HEP) Calculations\n",
    "\n",
    "We use the python sympy physics module to obtain the Gamma matrices\n",
    "\n",
    "We do not use the Tensor module to do the matrix calculations since it would be more complicated to explain how to use it than just code up the dirac 4-vector matrix elements -- the Hadron and Lepton currents -- explicitly\n"
   ]
  },
  {
   "cell_type": "markdown",
   "metadata": {},
   "source": [
    "#### Constants\n",
    "\n",
    "We need the most recent versions of the Fermi coupling constant $ G_{F} $ and the (ratio of) the Vector-Axial coupling coffecients.\n"
   ]
  },
  {
   "cell_type": "code",
   "execution_count": 144,
   "metadata": {
    "ExecuteTime": {
     "end_time": "2016-09-30T14:57:48.792738",
     "start_time": "2016-09-30T14:57:48.686105"
    },
    "collapsed": false
   },
   "outputs": [
    {
     "name": "stdout",
     "output_type": "stream",
     "text": [
      "1.16637870000000e-11 1/MeV^2\n",
      "1.0 -1.285\n"
     ]
    }
   ],
   "source": [
    "GF = GF = constants.value('Fermi coupling constant')*((units.mega/units.giga)**2)\n",
    "print GF, \"1/MeV^2\"\n",
    "\n",
    "# Vector Axial Couplings of the weak current to the nucleons\n",
    "# The currently accepted value of ga/gv is (2010?)\n",
    "# http://arxiv.org/pdf/1007.3790v2.pdf\n",
    "# (Im still looking for the most recent constant)\n",
    "GV = 1.0 \n",
    "#GA = -1.27590*GV \n",
    "GA = -1.285*GV  # ricks value\n",
    "\n",
    "print GV, GA"
   ]
  },
  {
   "cell_type": "markdown",
   "metadata": {
    "ExecuteTime": {
     "end_time": "2016-09-06T17:29:48.133743",
     "start_time": "2016-09-06T17:29:48.129576"
    },
    "collapsed": true
   },
   "source": [
    "Let us define the matrics:\n",
    "\n",
    "$$C_{left} = 1-\\gamma^{5}$$\n",
    "$$C_{GVGA} = G_{V}-G_{A}\\gamma^{5}$$\n",
    "\n",
    "and use the python module to compute them, and then convert them to numpy arrays"
   ]
  },
  {
   "cell_type": "code",
   "execution_count": 145,
   "metadata": {
    "ExecuteTime": {
     "end_time": "2016-09-30T14:57:48.873934",
     "start_time": "2016-09-30T14:57:48.832699"
    },
    "collapsed": false
   },
   "outputs": [
    {
     "name": "stdout",
     "output_type": "stream",
     "text": [
      "[[ 1.  0. -1.  0.]\n",
      " [ 0.  1.  0. -1.]\n",
      " [-1.  0.  1.  0.]\n",
      " [ 0. -1.  0.  1.]]\n"
     ]
    }
   ],
   "source": [
    "cLEFT = diag(1.0,1.0,1.0,1.0) - mgamma(5)\n",
    "cLEFT = np.array(cLEFT).astype(np.float64)\n",
    "print cLEFT"
   ]
  },
  {
   "cell_type": "code",
   "execution_count": 146,
   "metadata": {
    "ExecuteTime": {
     "end_time": "2016-09-30T14:57:48.919538",
     "start_time": "2016-09-30T14:57:48.896623"
    },
    "collapsed": false,
    "scrolled": true
   },
   "outputs": [
    {
     "data": {
      "text/plain": [
       "array([[ 1.   ,  0.   ,  1.285,  0.   ],\n",
       "       [ 0.   ,  1.   ,  0.   ,  1.285],\n",
       "       [ 1.285,  0.   ,  1.   ,  0.   ],\n",
       "       [ 0.   ,  1.285,  0.   ,  1.   ]])"
      ]
     },
     "execution_count": 146,
     "metadata": {},
     "output_type": "execute_result"
    }
   ],
   "source": [
    "cGVGA = diag(GV,GV,GV,GV) - GA*mgamma(5)\n",
    "cGVGA = np.array(cGVGA).astype(np.float64)\n",
    "cGVGA"
   ]
  },
  {
   "cell_type": "code",
   "execution_count": 147,
   "metadata": {
    "ExecuteTime": {
     "end_time": "2016-09-30T14:57:49.123530",
     "start_time": "2016-09-30T14:57:49.112247"
    },
    "collapsed": true
   },
   "outputs": [],
   "source": [
    "def gamma(i):\n",
    "    return np.array(mgamma(i)).astype(np.complex64)"
   ]
  },
  {
   "cell_type": "code",
   "execution_count": 148,
   "metadata": {
    "ExecuteTime": {
     "end_time": "2016-09-30T14:57:49.223163",
     "start_time": "2016-09-30T14:57:49.213374"
    },
    "collapsed": false
   },
   "outputs": [
    {
     "name": "stdout",
     "output_type": "stream",
     "text": [
      "[[ 1.+0.j  0.+0.j  0.+0.j  0.+0.j]\n",
      " [ 0.+0.j  1.+0.j  0.+0.j  0.+0.j]\n",
      " [ 0.+0.j  0.+0.j -1.+0.j  0.+0.j]\n",
      " [ 0.+0.j  0.+0.j  0.+0.j -1.+0.j]]\n"
     ]
    }
   ],
   "source": [
    "GAMMA_0 = gamma(0)\n",
    "print GAMMA_0"
   ]
  },
  {
   "cell_type": "markdown",
   "metadata": {
    "ExecuteTime": {
     "end_time": "2016-09-07T13:55:21.378805",
     "start_time": "2016-09-07T13:55:21.375086"
    },
    "collapsed": true
   },
   "source": []
  },
  {
   "cell_type": "markdown",
   "metadata": {},
   "source": [
    "### sympy does not have a great module for Relativistic 4-vectors\n",
    "\n",
    "At least not something that is easy to read\n"
   ]
  },
  {
   "cell_type": "markdown",
   "metadata": {
    "ExecuteTime": {
     "end_time": "2016-09-12T15:05:48.320559",
     "start_time": "2016-09-12T15:05:48.270071"
    },
    "collapsed": true
   },
   "source": [
    "#### for now, I'll write up some basic classes, similar to Ricks\n",
    "\n",
    "If I can replace them I will"
   ]
  },
  {
   "cell_type": "markdown",
   "metadata": {},
   "source": [
    "### Dirac Spinors (again)\n",
    "\n",
    "https://en.wikipedia.org/wiki/Dirac_spinor#Four-spinors\n",
    "\n",
    "##### The Relativistic four-vectors for particles are\n",
    "\n",
    "$$u(\\overrightarrow{p},s=up)=\\sqrt{E+m}\\left[\\begin{array}{c}\n",
    "0\\\\\n",
    "1\\\\\n",
    "\\dfrac{p_{3}}{E+m}\\\\\n",
    "\\dfrac{p_{1}+ip_{2}}{E+m}\n",
    "\\end{array}\\right]\\;\\;u(\\overrightarrow{p},s=down)=\\sqrt{E+m}\\left[\\begin{array}{c}\n",
    "1\\\\\n",
    "0\\\\\n",
    "\\dfrac{p_{1}-ip_{2}}{E+m}\\\\\n",
    "\\dfrac{-p_{3}}{E+m}\n",
    "\\end{array}\\right]$$ \n",
    "\n",
    "##### The Dirac Adjoint is given by\n",
    "\n",
    "https://en.wikipedia.org/wiki/Dirac_adjoint\n",
    "\n",
    "$$\\bar{u}=u^{\\dagger}\\gamma^{0}$$\n",
    "\n",
    "where $u^{\\dagger}$ is the complex conjugate of $u$, and $\\gamma^{0}$ is defined above (in given in sympy package)\n",
    "\n",
    "##### The four-vector norm uses the standard (west) convention\n",
    "\n",
    "$$\\langle\\bar{u}|u\\rangle=\\bar{u}_{0}u_{0}-\\bar{u}_{1}u_{1}-\\bar{u}_{2}u_{2}-\\bar{u}_{3}u_{3}$$\n",
    "\n"
   ]
  },
  {
   "cell_type": "code",
   "execution_count": 41,
   "metadata": {
    "ExecuteTime": {
     "end_time": "2016-09-29T12:43:19.091365",
     "start_time": "2016-09-29T12:43:19.080341"
    },
    "collapsed": false
   },
   "outputs": [],
   "source": [
    "def u_spinors(p ,mass):\n",
    "    \n",
    "    Em = p[0] + mass\n",
    "    fac = np.sqrt(Em)    \n",
    "    \n",
    "    u = np.zeros([2,4], dtype=np.complex64)\n",
    "    u[0,0] = 1.0\n",
    "    u[0,1] = 0.0\n",
    "    u[0,2] = p[3] / Em\n",
    "    u[0,3] = (p[1] + p[2]*1.j) / Em\n",
    "\n",
    "    u[1,0] = 0.0\n",
    "    u[1,1] = 1.0\n",
    "    u[1,2] = (p[1] - p[2]*1.j) / Em\n",
    "    u[1,3] = -(p[3]) / Em\n",
    "\n",
    "    u = fac*u\n",
    "    \n",
    "    return u"
   ]
  },
  {
   "cell_type": "code",
   "execution_count": 42,
   "metadata": {
    "ExecuteTime": {
     "end_time": "2016-09-29T12:43:19.473157",
     "start_time": "2016-09-29T12:43:19.469286"
    },
    "collapsed": true
   },
   "outputs": [],
   "source": [
    "def four_vector_norm(v,w):\n",
    "    return v[0]*w[0]-(v[1]*w[1]+v[2]*w[2]+v[3]*w[3])"
   ]
  },
  {
   "cell_type": "code",
   "execution_count": 43,
   "metadata": {
    "ExecuteTime": {
     "end_time": "2016-09-29T12:43:19.854235",
     "start_time": "2016-09-29T12:43:19.851494"
    },
    "collapsed": true
   },
   "outputs": [],
   "source": [
    "def dirac_adjoint(u):\n",
    "    return np.conj(u).dot(GAMMA_0)"
   ]
  },
  {
   "cell_type": "markdown",
   "metadata": {},
   "source": []
  },
  {
   "cell_type": "markdown",
   "metadata": {
    "collapsed": true
   },
   "source": [
    "## full calculation\n",
    "\n",
    "skeleton code, without outer loops yet"
   ]
  },
  {
   "cell_type": "markdown",
   "metadata": {
    "ExecuteTime": {
     "end_time": "2016-09-16T20:39:19.945271",
     "start_time": "2016-09-16T20:39:19.943027"
    }
   },
   "source": [
    "# <font color='red'>Debugging the matrix elements</font>\n",
    "\n",
    "I would like a diagram like this, explaining that we sum over all possible spin combinations\n",
    "<img src=\"16-allowed.png\"  width=\"400\" height=\"400\">"
   ]
  },
  {
   "cell_type": "markdown",
   "metadata": {},
   "source": [
    "## <font color='red'>Test</font>"
   ]
  },
  {
   "cell_type": "code",
   "execution_count": 45,
   "metadata": {
    "ExecuteTime": {
     "end_time": "2016-09-29T13:03:10.660351",
     "start_time": "2016-09-29T13:03:10.639960"
    },
    "collapsed": false,
    "scrolled": true
   },
   "outputs": [],
   "source": [
    "C_hadron = np.zeros([4], np.complex64)\n",
    "C_lepton = np.zeros([4], np.complex64)\n",
    "\n",
    "pep_xyz = -peps[0]*np.array([1.0,1.0,1.0])\n",
    "pn, pp, pe, pk = pekin(lg_x[0], lg_phi[0], pep_xyz )\n",
    "\n",
    "u_n = dirac_adjoint(u_spinors(pn,Mn))\n",
    "u_p = u_spinors(pp,Mp)\n",
    "\n",
    "u_k = dirac_adjoint(u_spinors(pk,mnu))\n",
    "u_e = u_spinors(pe,me)\n",
    "\n",
    "for i in range(4):\n",
    "    C_hadron[i] = u_n[0].dot(cGVGA).dot(gamma(i)).dot(u_p[0])\n",
    "    C_lepton[i] = u_k[0].dot(gamma(i)).dot(cLEFT).dot(u_e[0])\n",
    "\n",
    "C_amplitude = four_vector_norm(C_hadron,C_lepton)\n",
    "     "
   ]
  },
  {
   "cell_type": "markdown",
   "metadata": {},
   "source": [
    " <code>\n",
    " pe-one.f\n",
    " </code>\n",
    " \n",
    " chad0 (  1876.9558411683693     , -3.8866494140631290E-014)  \n",
    " chad1 ( 0.68595198768896293     , 0.68595198782581046     )  \n",
    " chad2 ( 0.68595198779531263     ,-0.68595198793216017     )  \n",
    " chad3 ( -2412.3349649848910     , -4.9943444970711202E-014)  \n",
    " \n",
    " clep0 (  2.6721137933833104E-004, -3.8418962344619817E-007)  \n",
    " clep1 ( -7.2130294594350693E-005, -7.3925390570866875E-005)  \n",
    " clep2 ( -7.3525333773868798E-005,  7.5320429750384981E-005)  \n",
    " clep3 ( -2.6820010747929376E-004, -3.8418962344619817E-007)  \n",
    " \n",
    " camp2:  (-0.14544700030859581     , -1.6498148794794943E-003)\n"
   ]
  },
  {
   "cell_type": "code",
   "execution_count": 47,
   "metadata": {
    "ExecuteTime": {
     "end_time": "2016-09-29T13:20:15.460342",
     "start_time": "2016-09-29T13:20:15.452300"
    },
    "collapsed": false,
    "scrolled": true
   },
   "outputs": [
    {
     "name": "stdout",
     "output_type": "stream",
     "text": [
      "(1876.96-3.88665e-14j)\n",
      "(0.685952+0.685952j)\n",
      "(0.685952-0.685952j)\n",
      "(-2412.33-4.99434e-14j)\n",
      "   \n",
      "(0.000267211-3.8419e-07j)\n",
      "(-7.21303e-05-7.39254e-05j)\n",
      "(-7.35253e-05+7.53204e-05j)\n",
      "(-0.0002682-3.8419e-07j)\n",
      "   \n",
      "(-0.145447-0.00164981j)\n"
     ]
    }
   ],
   "source": [
    "print C_hadron[0]\n",
    "print C_hadron[1]\n",
    "print C_hadron[2]\n",
    "print C_hadron[3]\n",
    "\n",
    "print \"   \"\n",
    "print C_lepton[0]\n",
    "print C_lepton[1]\n",
    "print C_lepton[2]\n",
    "print C_lepton[3]\n",
    "\n",
    "print \"   \"\n",
    "print C_amplitude"
   ]
  },
  {
   "cell_type": "markdown",
   "metadata": {},
   "source": [
    "## <font color='green'>Looks good</font> \n",
    "#### although the results are not exactly the same -- we may have some floating point issues"
   ]
  },
  {
   "cell_type": "markdown",
   "metadata": {
    "ExecuteTime": {
     "end_time": "2016-09-20T15:30:24.475715",
     "start_time": "2016-09-20T15:30:24.473040"
    }
   },
   "source": [
    "# <font color='red'> Document and Test</font>"
   ]
  },
  {
   "cell_type": "markdown",
   "metadata": {},
   "source": [
    "### Recall \n",
    "\n",
    "$$d\\lambda_{ep}=\\left(\\dfrac{1}{2\\pi}\\right)^{2}\\dfrac{\\sum_{fi}\\big\\vert\\mathcal{M}_{fi}\\left[\\mathcal{p}_{ep}\\rightarrow i\\nabla)\\right]\\psi_{ep}(\\mathbf{x})\\big\\vert_{\\mathbf{x}=0}\\big\\vert^{2}}{16E_{p}E_{e}\\;\\big\\vert\\mathbf{k}\\cdot(E{_n}\\mathbf{k}-k^{0}\\mathbf{p}_{n})\\big\\vert}k^{3}d\\Omega_{k}$$\n",
    "\n",
    "$$d\\sigma_{ep}=\\left(\\dfrac{1}{2\\pi}\\right)^{2}\\dfrac{\\sum_{fi}\\big\\vert\\mathcal{M}_{fi}\\big\\vert^{2}}{16\\;\\big\\vert\\mathbf{k}\\cdot(E{_n}\\mathbf{k}-k^{0}\\mathbf{p}_{n})\\big\\vert}\\dfrac{k^{3}p_{e}d\\Omega_{k}}{\\big\\vert\\mathbf{p}_{e}\\cdot(E_{p}\\mathbf{p}_{e}-E_{e}\\mathbf{p}_{e})\\big\\vert}$$\n",
    "\n",
    "\n",
    "### Power \n",
    "\n",
    "I think this comes from the integral of the rate equation (and not the cross-section directly) over all momentum terms (the solid angle of momentum)\n",
    "\n",
    "(I need to be careful to get the reference frame correctly)\n",
    "\n",
    "$$P1 = P_{pe}=C^{2}_{Re}\\left[(\\mathbf{E}_{e}-m_{e})+(\\mathbf{E}_{p}-M_{p})\\right]\\left(\\dfrac{f^{top}}{f_{bot}}\\right)$$\n",
    "\n",
    "where does the 2.2 come from ?  the neutrino ?\n",
    "\n",
    "$$P2 = P_{n}=C^{2}_{Re}\\left[2.2+(\\mathbf{E}_{n}-M_{n})\\right]\\left(\\dfrac{f^{top}}{f_{bot}}\\right)$$\n",
    "\n",
    "where f is\n",
    "\n",
    "$$f^{top} = \\left(\\dfrac{\\mathbf{p_{ep}}}{2\\pi}\\right)^{3}G_{F}^{2}(E_{\\nu}^{2}-m_{\\nu}^{2})^{3}$$\n",
    "\n",
    "(from the cross section above, and we need consistant notaiton and to derive this)\n",
    "\n",
    "make clear:\n",
    "$$E_{\\nu}=k^{0}$$\n",
    "\n",
    "break up, where does the 8 come from ?\n",
    "\n",
    "$$f_{bot}=8\\times(2\\pi)^{2}\\;16\\;E_{p}E_{e}\\hbar c\\;\\big\\vert\\; \\mathbf{k}(E_{n}p_{\\nu}-E_{\\nu}p_{n})\\;\\big\\vert$$\n"
   ]
  },
  {
   "cell_type": "code",
   "execution_count": 78,
   "metadata": {
    "ExecuteTime": {
     "end_time": "2016-09-29T14:53:10.696511",
     "start_time": "2016-09-29T14:53:10.683269"
    },
    "collapsed": true
   },
   "outputs": [],
   "source": [
    "rc = 299792458.0#   ! m/s    \n",
    "def matrix_element_factor(pep,pn,pp,pk,pe):\n",
    "    \n",
    "    ftop = (rc*((pep/(2.0*np.pi))**3)*(GF**2)*(np.sqrt(pk[0]**2-mnu**2))**3 )\n",
    "\n",
    "    fbot = (512.0 *(np.pi **2)* pp[0]* pe[0]* hbarc * 1.e-15)* \\\n",
    "        np.absolute((pk[1]*(pn[0]*pk[1]-pk[0]*pn[1])) + \\\n",
    "                (pk[2]*(pn[0]*pk[2]-pk[0]*pn[2])) + \\\n",
    "                (pk[3]*(pn[0]*pk[3]-pk[0]*pn[3])) ) \n",
    "        \n",
    "    fac = ftop/fbot\n",
    "    return fac, ftop, fbot\n"
   ]
  },
  {
   "cell_type": "markdown",
   "metadata": {
    "ExecuteTime": {
     "end_time": "2016-09-29T14:23:02.940900",
     "start_time": "2016-09-29T14:23:02.908441"
    }
   },
   "source": [
    "<code>pe-one.f\n",
    "</code>\n",
    "\n",
    "this is hard to get exactly...may need better precision\n",
    "\n",
    " ftop   4.5036454915307286E-045  \n",
    " fbot   2.1972923442022533E-022  \n",
    " fact   2.0496341797276035E-023  "
   ]
  },
  {
   "cell_type": "code",
   "execution_count": 79,
   "metadata": {
    "ExecuteTime": {
     "end_time": "2016-09-29T14:53:16.965133",
     "start_time": "2016-09-29T14:53:16.961925"
    },
    "collapsed": false
   },
   "outputs": [],
   "source": [
    "pep = peps[0]\n",
    "fact, ftop, fbot = matrix_element_factor(pep,pn,pp,pk,pe)"
   ]
  },
  {
   "cell_type": "code",
   "execution_count": 80,
   "metadata": {
    "ExecuteTime": {
     "end_time": "2016-09-29T14:53:17.200359",
     "start_time": "2016-09-29T14:53:17.195556"
    },
    "collapsed": false
   },
   "outputs": [
    {
     "name": "stdout",
     "output_type": "stream",
     "text": [
      "ftop 4.50371267752129e-45\n",
      "fbot 2.1972923442e-22\n",
      "fact 2.04966475644660e-23\n"
     ]
    }
   ],
   "source": [
    "print 'ftop', ftop\n",
    "print 'fbot', fbot\n",
    "print 'fact', fact"
   ]
  },
  {
   "cell_type": "markdown",
   "metadata": {
    "ExecuteTime": {
     "end_time": "2016-09-29T13:24:21.974464",
     "start_time": "2016-09-29T13:24:21.972164"
    }
   },
   "source": [
    "## <font color='green'>Looks good</font>"
   ]
  },
  {
   "cell_type": "code",
   "execution_count": 137,
   "metadata": {
    "ExecuteTime": {
     "end_time": "2016-09-30T02:08:24.011747",
     "start_time": "2016-09-29T17:50:37.309040"
    },
    "collapsed": false,
    "scrolled": true
   },
   "outputs": [
    {
     "name": "stdout",
     "output_type": "stream",
     "text": [
      "0 0.00904360557438 (2.7275e-21+0j)\n",
      "1 0.00904360557437 (2.80521e-21+0j)\n",
      "2 0.00904360557437 (2.89739e-21+0j)\n",
      "3 0.00904360557436 (2.98675e-21+0j)\n",
      "4 0.00904360557436 (3.07353e-21+0j)\n",
      "5 0.00904360557435 (3.17306e-21+0j)\n",
      "6 0.00904360557434 (3.26959e-21+0j)\n",
      "7 0.00904360557434 (3.37048e-21+0j)\n",
      "8 0.00904360557433 (3.47537e-21+0j)\n",
      "9 0.00904360557432 (3.57722e-21+0j)\n",
      "10 0.00904360557431 (3.68278e-21+0j)\n",
      "11 0.0090436055743 (3.80439e-21+0j)\n",
      "12 0.00904360557429 (3.91616e-21+0j)\n",
      "13 0.00904360557428 (4.03678e-21+0j)\n",
      "14 0.00904360557427 (4.15394e-21+0j)\n",
      "15 0.00904360557426 (4.29039e-21+0j)\n",
      "16 0.00904360557425 (4.42269e-21+0j)\n",
      "17 0.00904360557423 (4.55122e-21+0j)\n",
      "18 0.00904360557422 (4.71215e-21+0j)\n",
      "19 0.00904360557421 (4.85798e-21+0j)\n",
      "20 0.00904360557419 (5.00445e-21+0j)\n",
      "21 0.00904360557417 (5.16089e-21+0j)\n",
      "22 0.00904360557416 (5.31283e-21+0j)\n",
      "23 0.00904360557414 (5.47831e-21+0j)\n",
      "24 0.00904360557412 (5.64335e-21+0j)\n",
      "25 0.0090436055741 (5.81632e-21+0j)\n",
      "26 0.00904360557408 (5.99657e-21+0j)\n",
      "27 0.00904360557405 (6.17565e-21+0j)\n",
      "28 0.00904360557403 (6.36893e-21+0j)\n",
      "29 0.009043605574 (6.56043e-21+0j)\n",
      "30 0.00904360557397 (6.76111e-21+0j)\n",
      "31 0.00904360557394 (6.97022e-21+0j)\n",
      "32 0.00904360557391 (7.18709e-21+0j)\n",
      "33 0.00904360557388 (7.40779e-21+0j)\n",
      "34 0.00904360557384 (7.63204e-21+0j)\n",
      "35 0.0090436055738 (7.86581e-21+0j)\n",
      "36 0.00904360557376 (8.10834e-21+0j)\n",
      "37 0.00904360557372 (8.35896e-21+0j)\n",
      "38 0.00904360557367 (8.6199e-21+0j)\n",
      "39 0.00904360557362 (8.88479e-21+0j)\n",
      "40 0.00904360557357 (9.15876e-21+0j)\n",
      "41 0.00904360557352 (9.44376e-21+0j)\n",
      "42 0.00904360557346 (9.73384e-21+0j)\n",
      "43 0.0090436055734 (1.00386e-20+0j)\n",
      "44 0.00904360557333 (1.03496e-20+0j)\n",
      "45 0.00904360557326 (1.06713e-20+0j)\n",
      "46 0.00904360557319 (1.1005e-20+0j)\n",
      "47 0.00904360557311 (1.13522e-20+0j)\n",
      "48 0.00904360557303 (1.17096e-20+0j)\n",
      "49 0.00904360557294 (1.20746e-20+0j)\n",
      "50 0.00904360557285 (1.24548e-20+0j)\n",
      "51 0.00904360557275 (1.28452e-20+0j)\n",
      "52 0.00904360557264 (1.3249e-20+0j)\n",
      "53 0.00904360557253 (1.3669e-20+0j)\n",
      "54 0.00904360557241 (1.41044e-20+0j)\n",
      "55 0.00904360557228 (1.45521e-20+0j)\n",
      "56 0.00904360557215 (1.50133e-20+0j)\n",
      "57 0.00904360557201 (1.54958e-20+0j)\n",
      "58 0.00904360557185 (1.5998e-20+0j)\n",
      "59 0.00904360557169 (1.65125e-20+0j)\n",
      "60 0.00904360557152 (1.70447e-20+0j)\n",
      "61 0.00904360557134 (1.7597e-20+0j)\n",
      "62 0.00904360557115 (1.81681e-20+0j)\n",
      "63 0.00904360557094 (1.87601e-20+0j)\n",
      "64 0.00904360557073 (1.93791e-20+0j)\n",
      "65 0.0090436055705 (2.00165e-20+0j)\n",
      "66 0.00904360557025 (2.06799e-20+0j)\n",
      "67 0.00904360556999 (2.13667e-20+0j)\n",
      "68 0.00904360556972 (2.20824e-20+0j)\n",
      "69 0.00904360556943 (2.28219e-20+0j)\n",
      "70 0.00904360556912 (2.35944e-20+0j)\n",
      "71 0.00904360556879 (2.43936e-20+0j)\n",
      "72 0.00904360556844 (2.52319e-20+0j)\n",
      "73 0.00904360556806 (2.61019e-20+0j)\n",
      "74 0.00904360556767 (2.70049e-20+0j)\n",
      "75 0.00904360556725 (2.79502e-20+0j)\n",
      "76 0.00904360556681 (2.89333e-20+0j)\n",
      "77 0.00904360556633 (2.99619e-20+0j)\n",
      "78 0.00904360556583 (3.10306e-20+0j)\n",
      "79 0.0090436055653 (3.21503e-20+0j)\n",
      "80 0.00904360556474 (3.33233e-20+0j)\n",
      "81 0.00904360556414 (3.45483e-20+0j)\n",
      "82 0.0090436055635 (3.583e-20+0j)\n",
      "83 0.00904360556282 (3.71765e-20+0j)\n",
      "84 0.00904360556211 (3.85852e-20+0j)\n",
      "85 0.00904360556134 (4.00655e-20+0j)\n",
      "86 0.00904360556053 (4.16199e-20+0j)\n",
      "87 0.00904360555967 (4.32529e-20+0j)\n",
      "88 0.00904360555876 (4.49741e-20+0j)\n",
      "89 0.00904360555779 (4.67864e-20+0j)\n",
      "90 0.00904360555677 (4.86967e-20+0j)\n",
      "91 0.00904360555567 (5.0714e-20+0j)\n",
      "92 0.00904360555452 (5.28438e-20+0j)\n",
      "93 0.00904360555329 (5.50938e-20+0j)\n",
      "94 0.00904360555198 (5.74787e-20+0j)\n",
      "95 0.00904360555059 (6.00068e-20+0j)\n",
      "96 0.00904360554912 (6.2687e-20+0j)\n",
      "97 0.00904360554756 (6.55315e-20+0j)\n",
      "98 0.0090436055459 (6.85598e-20+0j)\n",
      "99 0.00904360554413 (7.17778e-20+0j)\n",
      "100 0.00904360554226 (7.5214e-20+0j)\n",
      "101 0.00904360554028 (7.88769e-20+0j)\n",
      "102 0.00904360553817 (8.27897e-20+0j)\n",
      "103 0.00904360553593 (8.69714e-20+0j)\n",
      "104 0.00904360553355 (9.14525e-20+0j)\n",
      "105 0.00904360553103 (9.62531e-20+0j)\n",
      "106 0.00904360552835 (1.01405e-19+0j)\n",
      "107 0.0090436055255 (1.06944e-19+0j)\n",
      "108 0.00904360552248 (1.12904e-19+0j)\n",
      "109 0.00904360551928 (1.19321e-19+0j)\n",
      "110 0.00904360551587 (1.26242e-19+0j)\n",
      "111 0.00904360551226 (1.33715e-19+0j)\n",
      "112 0.00904360550842 (1.41792e-19+0j)\n",
      "113 0.00904360550435 (1.50535e-19+0j)\n",
      "114 0.00904360550002 (1.60011e-19+0j)\n",
      "115 0.00904360549543 (1.70291e-19+0j)\n",
      "116 0.00904360549055 (1.81457e-19+0j)\n",
      "117 0.00904360548538 (1.93597e-19+0j)\n",
      "118 0.00904360547988 (2.06816e-19+0j)\n",
      "119 0.00904360547405 (2.21221e-19+0j)\n",
      "120 0.00904360546785 (2.36941e-19+0j)\n",
      "121 0.00904360546127 (2.54112e-19+0j)\n",
      "122 0.00904360545429 (2.72895e-19+0j)\n",
      "123 0.00904360544688 (2.93448e-19+0j)\n",
      "124 0.00904360543901 (3.15973e-19+0j)\n",
      "125 0.00904360543065 (3.40685e-19+0j)\n",
      "126 0.00904360542178 (3.6782e-19+0j)\n",
      "127 0.00904360541236 (3.97644e-19+0j)\n",
      "128 0.00904360540236 (4.30463e-19+0j)\n",
      "129 0.00904360539174 (4.66602e-19+0j)\n",
      "130 0.00904360538047 (5.06438e-19+0j)\n",
      "131 0.0090436053685 (5.5039e-19+0j)\n",
      "132 0.00904360535579 (5.98923e-19+0j)\n",
      "133 0.0090436053423 (6.52571e-19+0j)\n",
      "134 0.00904360532798 (7.119e-19+0j)\n",
      "135 0.00904360531277 (7.77586e-19+0j)\n",
      "136 0.00904360529662 (8.50358e-19+0j)\n",
      "137 0.00904360527948 (9.31046e-19+0j)\n",
      "138 0.00904360526128 (1.02057e-18+0j)\n",
      "139 0.00904360524196 (1.11996e-18+0j)\n",
      "140 0.00904360522145 (1.2304e-18+0j)\n",
      "141 0.00904360519967 (1.3532e-18+0j)\n",
      "142 0.00904360517655 (1.48981e-18+0j)\n",
      "143 0.009043605152 (1.64189e-18+0j)\n",
      "144 0.00904360512593 (1.8113e-18+0j)\n",
      "145 0.00904360509826 (2.0001e-18+0j)\n",
      "146 0.00904360506888 (2.21065e-18+0j)\n",
      "147 0.00904360503769 (2.44554e-18+0j)\n",
      "148 0.00904360500457 (2.70776e-18+0j)\n",
      "149 0.00904360496942 (3.00061e-18+0j)\n",
      "150 0.00904360493209 (3.32784e-18+0j)\n",
      "151 0.00904360489246 (3.6936e-18+0j)\n",
      "152 0.00904360485038 (4.10266e-18+0j)\n",
      "153 0.00904360480571 (4.5603e-18+0j)\n",
      "154 0.00904360475828 (5.07245e-18+0j)\n",
      "155 0.00904360470792 (5.6459e-18+0j)\n",
      "156 0.00904360465446 (6.28817e-18+0j)\n",
      "157 0.0090436045977 (7.00772e-18+0j)\n",
      "158 0.00904360453744 (7.81418e-18+0j)\n",
      "159 0.00904360447346 (8.71826e-18+0j)\n",
      "160 0.00904360440553 (9.73212e-18+0j)\n",
      "161 0.00904360433342 (1.08694e-17+0j)\n",
      "162 0.00904360425685 (1.21454e-17+0j)\n",
      "163 0.00904360417556 (1.35775e-17+0j)\n",
      "164 0.00904360408925 (1.5185e-17+0j)\n",
      "165 0.00904360399762 (1.699e-17+0j)\n",
      "166 0.00904360390034 (1.90171e-17+0j)\n",
      "167 0.00904360379705 (2.12941e-17+0j)\n",
      "168 0.0090436036874 (2.38522e-17+0j)\n",
      "169 0.00904360357097 (2.67268e-17+0j)\n",
      "170 0.00904360344737 (2.99575e-17+0j)\n",
      "171 0.00904360331614 (3.3589e-17+0j)\n",
      "172 0.00904360317681 (3.76717e-17+0j)\n",
      "173 0.00904360302888 (4.22624e-17+0j)\n",
      "174 0.00904360287183 (4.74248e-17+0j)\n",
      "175 0.00904360270509 (5.32311e-17+0j)\n",
      "176 0.00904360252806 (5.97623e-17+0j)\n",
      "177 0.00904360234012 (6.71098e-17+0j)\n",
      "178 0.00904360214057 (7.53765e-17+0j)\n",
      "179 0.00904360192872 (8.46784e-17+0j)\n",
      "180 0.00904360170379 (9.51462e-17+0j)\n",
      "181 0.00904360146499 (1.06927e-16+0j)\n",
      "182 0.00904360121145 (1.20187e-16+0j)\n",
      "183 0.00904360094227 (1.35113e-16+0j)\n",
      "184 0.00904360065649 (1.51915e-16+0j)\n",
      "185 0.00904360035307 (1.70831e-16+0j)\n",
      "186 0.00904360003093 (1.92129e-16+0j)\n",
      "187 0.00904359968892 (2.16109e-16+0j)\n",
      "188 0.00904359932581 (2.43111e-16+0j)\n",
      "189 0.0090435989403 (2.73518e-16+0j)\n",
      "190 0.009043598531 (3.07762e-16+0j)\n",
      "191 0.00904359809645 (3.46327e-16+0j)\n",
      "192 0.00904359763509 (3.89763e-16+0j)\n",
      "193 0.00904359714527 (4.38686e-16+0j)\n",
      "194 0.00904359662522 (4.93792e-16+0j)\n",
      "195 0.0090435960731 (5.55865e-16+0j)\n",
      "196 0.00904359548691 (6.25788e-16+0j)\n",
      "197 0.00904359486455 (7.04557e-16+0j)\n",
      "198 0.0090435942038 (7.93295e-16+0j)\n",
      "199 0.00904359350228 (8.93266e-16+0j)\n",
      "200 0.00904359275748 (1.0059e-15+0j)\n",
      "201 0.00904359196673 (1.13279e-15+0j)\n",
      "202 0.00904359112719 (1.27576e-15+0j)\n",
      "203 0.00904359023586 (1.43685e-15+0j)\n",
      "204 0.00904358928954 (1.61836e-15+0j)\n",
      "205 0.00904358828484 (1.82287e-15+0j)\n",
      "206 0.00904358721815 (2.05332e-15+0j)\n",
      "207 0.00904358608565 (2.31299e-15+0j)\n",
      "208 0.00904358488328 (2.6056e-15+0j)\n",
      "209 0.00904358360673 (2.93533e-15+0j)\n",
      "210 0.00904358225142 (3.3069e-15+0j)\n",
      "211 0.00904358081249 (3.72562e-15+0j)\n",
      "212 0.00904357928479 (4.19748e-15+0j)\n",
      "213 0.00904357766284 (4.72924e-15+0j)\n",
      "214 0.00904357594083 (5.32851e-15+0j)\n",
      "215 0.00904357411257 (6.00385e-15+0j)\n",
      "216 0.00904357217152 (6.76496e-15+0j)\n",
      "217 0.00904357011071 (7.62271e-15+0j)\n",
      "218 0.00904356792277 (8.58941e-15+0j)\n",
      "219 0.00904356559984 (9.67888e-15+0j)\n",
      "220 0.00904356313359 (1.09067e-14+0j)\n",
      "221 0.00904356051519 (1.22906e-14+0j)\n",
      "222 0.00904355773525 (1.38503e-14+0j)\n",
      "223 0.0090435547838 (1.56081e-14+0j)\n",
      "224 0.00904355165026 (1.75892e-14+0j)\n",
      "225 0.0090435483234 (1.98222e-14+0j)\n",
      "226 0.00904354479128 (2.23388e-14+0j)\n",
      "227 0.00904354104126 (2.51753e-14+0j)\n",
      "228 0.00904353705988 (2.83723e-14+0j)\n",
      "229 0.00904353283287 (3.19757e-14+0j)\n",
      "230 0.00904352834507 (3.6037e-14+0j)\n",
      "231 0.00904352358041 (4.06145e-14+0j)\n",
      "232 0.00904351852179 (4.5774e-14+0j)\n",
      "233 0.00904351315108 (5.15893e-14+0j)\n",
      "234 0.00904350744903 (5.81438e-14+0j)\n",
      "235 0.00904350139519 (6.55317e-14+0j)\n",
      "236 0.00904349496787 (7.38588e-14+0j)\n",
      "237 0.00904348814403 (8.32446e-14+0j)\n",
      "238 0.00904348089919 (9.38237e-14+0j)\n",
      "239 0.00904347320739 (1.05748e-13+0j)\n",
      "240 0.00904346504106 (1.19188e-13+0j)\n",
      "241 0.00904345637092 (1.34338e-13+0j)\n",
      "242 0.00904344716588 (1.51413e-13+0j)\n",
      "243 0.00904343739296 (1.7066e-13+0j)\n",
      "244 0.00904342701711 (1.92355e-13+0j)\n",
      "245 0.00904341600115 (2.16808e-13+0j)\n",
      "246 0.00904340430558 (2.44371e-13+0j)\n",
      "247 0.00904339188848 (2.75439e-13+0j)\n",
      "248 0.00904337870533 (3.10458e-13+0j)\n",
      "249 0.00904336470889 (3.4993e-13+0j)\n",
      "250 0.00904334984897 (3.94422e-13+0j)\n",
      "251 0.00904333407232 (4.44573e-13+0j)\n",
      "252 0.00904331732238 (5.01102e-13+0j)\n",
      "253 0.00904329953911 (5.64821e-13+0j)\n",
      "254 0.00904328065876 (6.36644e-13+0j)\n",
      "255 0.00904326061367 (7.17601e-13+0j)\n",
      "256 0.00904323933199 (8.08856e-13+0j)\n",
      "257 0.00904321673743 (9.11717e-13+0j)\n",
      "258 0.009043192749 (1.02766e-12+0j)\n",
      "259 0.00904316728074 (1.15835e-12+0j)\n",
      "260 0.00904314024136 (1.30567e-12+0j)\n",
      "261 0.00904311153394 (1.47172e-12+0j)\n",
      "262 0.0090430810556 (1.6589e-12+0j)\n",
      "263 0.00904304869711 (1.86988e-12+0j)\n",
      "264 0.0090430143425 (2.1077e-12+0j)\n",
      "265 0.00904297786865 (2.37578e-12+0j)\n",
      "266 0.00904293914484 (2.67795e-12+0j)\n",
      "267 0.00904289803231 (3.01856e-12+0j)\n",
      "268 0.00904285438373 (3.40251e-12+0j)\n",
      "269 0.00904280804269 (3.83529e-12+0j)\n",
      "270 0.00904275884313 (4.32314e-12+0j)\n",
      "271 0.00904270660876 (4.87304e-12+0j)\n",
      "272 0.00904265115242 (5.49291e-12+0j)\n",
      "273 0.00904259227542 (6.19163e-12+0j)\n",
      "274 0.00904252976681 (6.97925e-12+0j)\n",
      "275 0.00904246340264 (7.86707e-12+0j)\n",
      "276 0.00904239294516 (8.86785e-12+0j)\n",
      "277 0.00904231814197 (9.99596e-12+0j)\n",
      "278 0.00904223872511 (1.12676e-11+0j)\n",
      "279 0.00904215441011 (1.2701e-11+0j)\n",
      "280 0.00904206489497 (1.43169e-11+0j)\n",
      "281 0.00904196985908 (1.61383e-11+0j)\n",
      "282 0.00904186896209 (1.81915e-11+0j)\n",
      "283 0.00904176184267 (2.0506e-11+0j)\n",
      "284 0.00904164811723 (2.3115e-11+0j)\n",
      "285 0.00904152737856 (2.60561e-11+0j)\n",
      "286 0.00904139919439 (2.93714e-11+0j)\n",
      "287 0.0090412631058 (3.31086e-11+0j)\n",
      "288 0.00904111862564 (3.73215e-11+0j)\n",
      "289 0.00904096523674 (4.20706e-11+0j)\n",
      "290 0.00904080239012 (4.74241e-11+0j)\n",
      "291 0.00904062950302 (5.34591e-11+0j)\n",
      "292 0.00904044595678 (6.02623e-11+0j)\n",
      "293 0.00904025109471 (6.79315e-11+0j)\n",
      "294 0.00904004421971 (7.6577e-11+0j)\n",
      "295 0.00903982459181 (8.63232e-11+0j)\n",
      "296 0.00903959142552 (9.73104e-11+0j)\n",
      "297 0.00903934388707 (1.09696e-10+0j)\n",
      "298 0.00903908109143 (1.2366e-10+0j)\n",
      "299 0.0090388020992 (1.39401e-10+0j)\n",
      "300 0.00903850591322 (1.57147e-10+0j)\n",
      "301 0.00903819147514 (1.77153e-10+0j)\n",
      "302 0.00903785766156 (1.99708e-10+0j)\n",
      "303 0.00903750328016 (2.25136e-10+0j)\n",
      "304 0.00903712706541 (2.53803e-10+0j)\n",
      "305 0.00903672767417 (2.86122e-10+0j)\n",
      "306 0.00903630368089 (3.22559e-10+0j)\n",
      "307 0.00903585357265 (3.63641e-10+0j)\n",
      "308 0.00903537574381 (4.09957e-10+0j)\n",
      "309 0.00903486849036 (4.62178e-10+0j)\n",
      "310 0.00903433000395 (5.21056e-10+0j)\n",
      "311 0.00903375836557 (5.8744e-10+0j)\n",
      "312 0.00903315153881 (6.6229e-10+0j)\n",
      "313 0.00903250736275 (7.46686e-10+0j)\n",
      "314 0.00903182354444 (8.41847e-10+0j)\n",
      "315 0.00903109765088 (9.4915e-10+0j)\n",
      "316 0.00903032710061 (1.07014e-09+0j)\n",
      "317 0.0090295091547 (1.20658e-09+0j)\n",
      "318 0.00902864090732 (1.36044e-09+0j)\n",
      "319 0.00902771927566 (1.53394e-09+0j)\n",
      "320 0.00902674098933 (1.72959e-09+0j)\n",
      "321 0.0090257025791 (1.95025e-09+0j)\n",
      "322 0.00902460036502 (2.19909e-09+0j)\n",
      "323 0.00902343044381 (2.47975e-09+0j)\n",
      "324 0.0090221886756 (2.79629e-09+0j)\n",
      "325 0.0090208706698 (3.15331e-09+0j)\n",
      "326 0.00901947177029 (3.55601e-09+0j)\n",
      "327 0.00901798703966 (4.01025e-09+0j)\n",
      "328 0.00901641124263 (4.52265e-09+0j)\n",
      "329 0.00901473882853 (5.10067e-09+0j)\n",
      "330 0.00901296391279 (5.75277e-09+0j)\n",
      "331 0.00901108025742 (6.48846e-09+0j)\n",
      "332 0.00900908125039 (7.3185e-09+0j)\n",
      "333 0.00900695988397 (8.25506e-09+0j)\n",
      "334 0.00900470873178 (9.31187e-09+0j)\n",
      "335 0.00900231992473 (1.05044e-08+0j)\n",
      "336 0.00899978512565 (1.18503e-08+0j)\n",
      "337 0.00899709550252 (1.33693e-08+0j)\n",
      "338 0.00899424170049 (1.50838e-08+0j)\n",
      "339 0.00899121381227 (1.70191e-08+0j)\n",
      "340 0.00898800134721 (1.92039e-08+0j)\n",
      "341 0.00898459319874 (2.16705e-08+0j)\n",
      "342 0.00898097761029 (2.44556e-08+0j)\n",
      "343 0.00897714213955 (2.76007e-08+0j)\n",
      "344 0.00897307362108 (3.11526e-08+0j)\n",
      "345 0.00896875812723 (3.51644e-08+0j)\n",
      "346 0.00896418092729 (3.96963e-08+0j)\n",
      "347 0.00895932644486 (4.48163e-08+0j)\n",
      "348 0.00895417821353 (5.06015e-08+0j)\n",
      "349 0.00894871883062 (5.71395e-08+0j)\n",
      "350 0.00894292990928 (6.45291e-08+0j)\n",
      "351 0.00893679202867 (7.28829e-08+0j)\n",
      "352 0.00893028468244 (8.23281e-08+0j)\n",
      "353 0.00892338622558 (9.30094e-08+0j)\n",
      "354 0.00891607381943 (1.05091e-07+0j)\n",
      "355 0.00890832337534 (1.18759e-07+0j)\n",
      "356 0.00890010949669 (1.34225e-07+0j)\n",
      "357 0.00889140541974 (1.51731e-07+0j)\n",
      "358 0.00888218295325 (1.71549e-07+0j)\n",
      "359 0.00887241241714 (1.93991e-07+0j)\n",
      "360 0.00886206258056 (2.19412e-07+0j)\n",
      "361 0.00885110059948 (2.48215e-07+0j)\n",
      "362 0.00883949195421 (2.8086e-07+0j)\n",
      "363 0.00882720038731 (3.17872e-07+0j)\n",
      "364 0.00881418784226 (3.59849e-07+0j)\n",
      "365 0.00880041440346 (4.07474e-07+0j)\n",
      "366 0.00878583823816 (4.6153e-07+0j)\n",
      "367 0.00877041554094 (5.22907e-07+0j)\n",
      "368 0.00875410048164 (5.92627e-07+0j)\n",
      "369 0.00873684515739 (6.71862e-07+0j)\n",
      "370 0.00871859954988 (7.61951e-07+0j)\n",
      "371 0.00869931148887 (8.64432e-07+0j)\n",
      "372 0.00867892662306 (9.81073e-07+0j)\n",
      "373 0.00865738839966 (1.1139e-06+0j)\n",
      "374 0.00863463805407 (1.26525e-06+0j)\n",
      "375 0.00861061461117 (1.43782e-06+0j)\n",
      "376 0.0085852548999 (1.6347e-06+0j)\n",
      "377 0.00855849358292 (1.85948e-06+0j)\n",
      "378 0.0085302632032 (2.11628e-06+0j)\n",
      "379 0.00850049424966 (2.40989e-06+0j)\n",
      "380 0.00846911524387 (2.74586e-06+0j)\n",
      "381 0.00843605285016 (3.13061e-06+0j)\n",
      "382 0.00840123201132 (3.5716e-06+0j)\n",
      "383 0.00836457611238 (4.07752e-06+0j)\n",
      "384 0.00832600717472 (4.65849e-06+0j)\n",
      "385 0.00828544608305 (5.32628e-06+0j)\n",
      "386 0.00824281284751 (6.09469e-06+0j)\n",
      "387 0.00819802690304 (6.97982e-06+0j)\n",
      "388 0.00815100744836 (8.00058e-06+0j)\n",
      "389 0.00810167382621 (9.17912e-06+0j)\n",
      "390 0.00804994594649 (1.05415e-05+0j)\n",
      "391 0.00799574475361 (1.21185e-05+0j)\n",
      "392 0.00793899273869 (1.39463e-05+0j)\n",
      "393 0.00787961449688 (1.60677e-05+0j)\n",
      "394 0.00781753732929 (1.85334e-05+0j)\n",
      "395 0.00775269188849 (2.14037e-05+0j)\n",
      "396 0.00768501286529 (2.47501e-05+0j)\n",
      "397 0.00761443971402 (2.86577e-05+0j)\n",
      "398 0.00754091741213 (3.32284e-05+0j)\n",
      "399 0.00746439724898 (3.85837e-05+0j)\n",
      "400 0.00738483763738 (4.48695e-05+0j)\n",
      "401 0.00730220494038 (5.22609e-05+0j)\n",
      "402 0.00721647430434 (6.09686e-05+0j)\n",
      "403 0.00712763048809 (7.12468e-05+0j)\n",
      "404 0.00703566867712 (8.34028e-05+0j)\n",
      "405 0.00694059526992 (9.78088e-05+0j)\n",
      "406 0.00684242862358 (0.000114917+0j)\n",
      "407 0.00674119974397 (0.000135277+0j)\n",
      "408 0.00663695290608 (0.00015956+0j)\n",
      "409 0.00652974618942 (0.000188585+0j)\n",
      "410 0.00641965191343 (0.000223359+0j)\n",
      "411 0.00630675695859 (0.000265113+0j)\n",
      "412 0.00619116295941 (0.000315369+0j)\n",
      "413 0.00607298635706 (0.000375998+0j)\n",
      "414 0.00595235830081 (0.000449318+0j)\n",
      "415 0.00582942438992 (0.000538201+0j)\n",
      "416 0.00570434424977 (0.000646216+0j)\n",
      "417 0.00557729093925 (0.000777806+0j)\n",
      "418 0.00544845018942 (0.000938515+0j)\n",
      "419 0.00531801947677 (0.00113528+0j)\n",
      "420 0.0051862069382 (0.0013768+0j)\n",
      "421 0.00505323013804 (0.001674+0j)\n",
      "422 0.00491931470106 (0.00204065+0j)\n",
      "423 0.00478469282857 (0.00249413+0j)\n",
      "424 0.00464960171749 (0.0030564+0j)\n",
      "425 0.00451428190481 (0.00375534+0j)\n",
      "426 0.00437897556179 (0.00462635+0j)\n",
      "427 0.00424392476329 (0.0057145+0j)\n",
      "428 0.00410936975869 (0.00707729+0j)\n",
      "429 0.00397554727034 (0.00878823+0j)\n",
      "430 0.0038426888452 (0.0109415+0j)\n",
      "431 0.00371101928361 (0.013658+0j)\n",
      "432 0.00358075516744 (0.0170931+0j)\n",
      "433 0.0034521035072 (0.0214471+0j)\n",
      "434 0.00332526052488 (0.0269785+0j)\n",
      "435 0.00320041058609 (0.0340215+0j)\n",
      "436 0.0030777252914 (0.0430092+0j)\n",
      "437 0.00295736273365 (0.0545034+0j)\n",
      "438 0.00283946692414 (0.0692343+0j)\n",
      "439 0.00272416738741 (0.0881526+0j)\n",
      "440 0.00261157892119 (0.112498+0j)\n",
      "441 0.00250180151512 (0.143888+0j)\n",
      "442 0.00239492041955 (0.184441+0j)\n",
      "443 0.00229100635336 (0.236927+0j)\n",
      "444 0.00219011583852 (0.304982+0j)\n",
      "445 0.00209229164729 (0.393378+0j)\n",
      "446 0.00199756334787 (0.508391+0j)\n",
      "447 0.00190594793314 (0.65828+0j)\n",
      "448 0.00181745051784 (0.853931+0j)\n",
      "449 0.00173206508926 (1.10971+0j)\n",
      "450 0.00164977529744 (1.44458+0j)\n",
      "451 0.00157055527153 (1.88362+0j)\n",
      "452 0.00149437044996 (2.46003+0j)\n",
      "453 0.0014211784133 (3.21779+0j)\n",
      "454 0.00135092970973 (4.21519+0j)\n",
      "455 0.00128356866444 (5.52962+0j)\n",
      "456 0.00121903416548 (7.26384+0j)\n",
      "457 0.00115726041975 (9.55445+0j)\n",
      "458 0.00109817767416 (12.5832+0j)\n",
      "459 0.00104171289805 (16.5919+0j)\n",
      "460 0.000987790423793 (21.9028+0j)\n",
      "461 0.000936332543935 (28.9455+0j)\n",
      "462 0.000887260063449 (38.2928+0j)\n",
      "463 0.000840492806951 (50.7092+0j)\n",
      "464 0.000795950081061 (67.2155+0j)\n",
      "465 0.000753551092743 (89.1757+0j)\n",
      "466 0.000713215324871 (118.413+0j)\n",
      "467 0.000674862870667 (157.364+0j)\n",
      "468 0.000638414728884 (209.292+0j)\n",
      "469 0.000603793061867 (278.562+0j)\n",
      "470 0.000570921418737 (371.019+0j)\n",
      "471 0.000539724926046 (494.493+0j)\n",
      "472 0.000510130448297 (659.474+0j)\n",
      "473 0.000482066720707 (880.027+0j)\n",
      "474 0.000455464456577 (1175+0j)\n",
      "475 0.000430256431569 (1569.7+0j)\n",
      "476 0.0004063775471 (2098.03+0j)\n",
      "477 0.000383764874974 (2805.54+0j)\n",
      "478 0.000362357685262 (3753.32+0j)\n",
      "479 0.000342097459321 (5023.41+0j)\n",
      "480 0.00032292788972 (6725.99+0j)\n",
      "481 0.000304794868716 (9009.01+0j)\n",
      "482 0.000287646466792 (12071.2+0j)\n",
      "483 0.000271432902663 (16179.7+0j)\n",
      "484 0.000256106506013 (21693.2+0j)\n",
      "485 0.000241621674126 (29093.9+0j)\n",
      "486 0.000227934823459 (39030.1+0j)\n",
      "487 0.000215004337103 (52372.9+0j)\n",
      "488 0.000202790508966 (70293.6+0j)\n",
      "489 0.000191255485454 (94367+0j)\n",
      "490 0.000180363205286 (126710+0j)\n",
      "491 0.000170079338072 (170170+0j)\n",
      "492 0.000160371222126 (228576+0j)\n",
      "493 0.000151207802013 (307075+0j)\n",
      "494 0.000142559566176 (412592+0j)\n",
      "495 0.000134398485011 (554435+0j)\n",
      "496 0.000126697949663 (745127+0j)\n",
      "497 0.000119432711779 (1.00151e+06+0j)\n",
      "498 0.00011257882444 (1.34621e+06+0j)\n"
     ]
    }
   ],
   "source": [
    "#### TODO  recode main loop\n",
    "num = len(peps)\n",
    "EKn = np.zeros(num)\n",
    "EKp = np.zeros(num)\n",
    "EKe = np.zeros(num)\n",
    "EKnu = np.zeros(num)\n",
    "Etot = np.zeros(num)\n",
    "\n",
    "signs = [-1.0,1.0]\n",
    "spins = [0,1]\n",
    "\n",
    "C_hadron = np.zeros([4], np.complex64)\n",
    "C_lepton = np.zeros([4], np.complex64)\n",
    "\n",
    "tran = 0.0+0.0j\n",
    "tran2 = np.zeros(num, np.complex64)\n",
    "\n",
    "N_QUAD = 8\n",
    "# TODO:  collect enegiees\n",
    "for iep, pep in enumerate(peps):\n",
    "    #print iep, pep\n",
    "        \n",
    "    # gaussian quadrature\n",
    "    for ix in range(N_QUAD):                  \n",
    "        for ip in range(N_QUAD):\n",
    "            # neutrino momentum loop\n",
    "            tran = 0.0\n",
    "            C_amplitude = 0.0+0.0j\n",
    "            \n",
    "            # 16 spin combinations\n",
    "            for n_spn in spins:\n",
    "                for p_spn in spins:\n",
    "                    for k_spn in spins:\n",
    "                        for e_spn in spins:\n",
    "            \n",
    "                            # +/- pep momentum combinations\n",
    "                            for s1 in signs:\n",
    "                                for s2 in signs:\n",
    "                                    for s3 in signs:\n",
    "                                              \n",
    "                                        p_xyz = pep*np.array([s1,s2,s3])\n",
    "                                        pn, pp, pe, pk = pekin(lg_x[ix], lg_phi[ip], p_xyz )\n",
    "\n",
    "                                        u_n = dirac_adjoint(u_spinors(pn,Mn)[n_spn])\n",
    "                                        u_p = u_spinors(pp,Mp)[p_spn]\n",
    "                                        u_k = dirac_adjoint(u_spinors(pk,mnu))[k_spn]\n",
    "                                        u_e = u_spinors(pe,me)[e_spn]\n",
    "\n",
    "                                        for i in range(4):\n",
    "                                            C_hadron[i] = u_n.dot(cGVGA).dot(gamma(i)).dot(u_p)\n",
    "                                            C_lepton[i] = u_k.dot(gamma(i)).dot(cLEFT).dot(u_e)\n",
    "\n",
    "                                        C_amplitude  += four_vector_norm(C_hadron,C_lepton)\n",
    "\n",
    "            tran+= lg_wx[ix]*lg_wphi[ip]*np.real(np.conj(C_amplitude)*C_amplitude)\n",
    "                                        \n",
    "            tran2[iep] += tran*matrix_element_factor(pep,pn,pp,pk,pe)[0]\n",
    "                                    \n",
    "                                        #print ix,ip, n_spn,p_spn,k_spn,e_spn,s1,s2,s3, iep, tran2[iep]\n",
    "\n",
    "    EKn[iep] = pn[0] - Mn\n",
    "    EKp[iep] = pp[0] - Mp\n",
    "    EKe[iep] = pe[0] - me\n",
    "    EKnu[iep] = pk[0] - mnu\n",
    "    print iep, rlconfs[iep], tran2[iep]\n"
   ]
  },
  {
   "cell_type": "markdown",
   "metadata": {},
   "source": [
    "iep   rlconf    tran2*dndnes    tran2\n",
    "\n",
    "1   9.0436055743778263E-003   168.70128309071993        1.1205400933658186E-021"
   ]
  },
  {
   "cell_type": "code",
   "execution_count": 138,
   "metadata": {
    "ExecuteTime": {
     "end_time": "2016-09-30T02:08:24.072166",
     "start_time": "2016-09-30T02:08:24.026016"
    },
    "collapsed": false
   },
   "outputs": [
    {
     "data": {
      "text/plain": [
       "(0.0090436055743778263, (410.63406600892034+0j), (2.7274956e-21+0j))"
      ]
     },
     "execution_count": 138,
     "metadata": {},
     "output_type": "execute_result"
    }
   ],
   "source": [
    "# conversions for power density\n",
    "#dN0 = 6.02214179e23      # molˆ-1                                                                                                 \n",
    "dN0 = scipy.constants.Avogadro\n",
    "rlconfs[0],tran2[0]*dN0*0.25, tran2[0]"
   ]
  },
  {
   "cell_type": "code",
   "execution_count": 139,
   "metadata": {
    "ExecuteTime": {
     "end_time": "2016-09-30T02:08:24.186264",
     "start_time": "2016-09-30T02:08:24.081684"
    },
    "collapsed": false
   },
   "outputs": [
    {
     "data": {
      "text/plain": [
       "2.4340897620091004"
      ]
     },
     "execution_count": 139,
     "metadata": {},
     "output_type": "execute_result"
    }
   ],
   "source": [
    "410.63406600892034/168.70128309071993 "
   ]
  },
  {
   "cell_type": "code",
   "execution_count": null,
   "metadata": {
    "collapsed": true
   },
   "outputs": [],
   "source": []
  },
  {
   "cell_type": "code",
   "execution_count": 140,
   "metadata": {
    "ExecuteTime": {
     "end_time": "2016-09-30T08:59:19.691326",
     "start_time": "2016-09-30T08:59:18.189101"
    },
    "collapsed": false,
    "scrolled": false
   },
   "outputs": [
    {
     "name": "stderr",
     "output_type": "stream",
     "text": [
      "/Users/charlesmartin14/anaconda/lib/python2.7/site-packages/numpy/core/numeric.py:482: ComplexWarning: Casting complex values to real discards the imaginary part\n",
      "  return array(a, dtype, copy=False, order=order)\n"
     ]
    },
    {
     "data": {
      "image/png": "[encoded data removed]",
      "text/plain": [
       "<matplotlib.figure.Figure at 0x11516cb10>"
      ]
     },
     "metadata": {},
     "output_type": "display_data"
    }
   ],
   "source": [
    "plt.semilogy(rlconfs, EKe , color='magenta')\n",
    "plt.semilogy(rlconfs, EKnu, color='red' )\n",
    "plt.semilogy(rlconfs, EKn, color='blue')\n",
    "plt.semilogy(rlconfs, EKp, color='green')\n",
    "\n",
    "plt.semilogy(rlconfs, tran2, color='black')\n",
    "\n",
    "\n",
    "patches = [ mpatches.Patch(color='magenta', label='EKe'),\n",
    "            mpatches.Patch(color='red', label='EKnu'),\n",
    "            mpatches.Patch(color='blue', label='EKn'),\n",
    "            mpatches.Patch(color='green', label='EKp'),\n",
    "            mpatches.Patch(color='black', label='tran2')          ]\n",
    "\n",
    "plt.legend(handles=patches)\n",
    "\n",
    "plt.xlabel(\"Box confinment (Angstrom)\")\n",
    "plt.ylim(ymin=0.000001)\n",
    "plt.ylim(ymax=100.0) \n",
    "\n",
    "from pylab import rcParams\n",
    "rcParams['figure.figsize'] = 5,5\n",
    "plt.show()"
   ]
  },
  {
   "cell_type": "code",
   "execution_count": 143,
   "metadata": {
    "ExecuteTime": {
     "end_time": "2016-09-30T14:08:40.076899",
     "start_time": "2016-09-30T14:08:39.123746"
    },
    "collapsed": false,
    "scrolled": false
   },
   "outputs": [
    {
     "data": {
      "image/png": "[encoded data removed]",
      "text/plain": [
       "<matplotlib.figure.Figure at 0x114aeb9d0>"
      ]
     },
     "metadata": {},
     "output_type": "display_data"
    }
   ],
   "source": [
    "\n",
    "plt.semilogy(rlconfs, tran2*dN0*0.25, color='black')\n",
    "\n",
    "\n",
    "from pylab import rcParams\n",
    "rcParams['figure.figsize'] = 5,5\n",
    "plt.show()"
   ]
  },
  {
   "cell_type": "markdown",
   "metadata": {},
   "source": [
    "## "
   ]
  },
  {
   "cell_type": "markdown",
   "metadata": {
    "ExecuteTime": {
     "end_time": "2016-09-29T15:01:16.803009",
     "start_time": "2016-09-29T22:00:25.019Z"
    }
   },
   "source": [
    "## <font color='red'>tran2 is 2.43 ?? X too large...why ? </font>\n",
    "\n",
    "### The shape is correct, but the precise numbers are off\n",
    "\n",
    "### I can move forward here, and finish, but will need to go back and review all the math\n"
   ]
  },
  {
   "cell_type": "code",
   "execution_count": null,
   "metadata": {
    "collapsed": true
   },
   "outputs": [],
   "source": []
  },
  {
   "cell_type": "markdown",
   "metadata": {},
   "source": [
    "### References\n",
    "\n",
    "[1] http://pdg.lbl.gov/2012/listings/rpp2012-list-p.pdf\n",
    "\n",
    "[2] \n",
    "\n",
    "[3]  B. Wang; et al. (2006). \"Change of the 7Be electron capture half-life in metallic environments\". The European Physical Journal A. 28: 375–377.\n",
    "\n",
    "[3b] Enhanced orbital electron-capture nuclear decay rate in compact medium \n",
    "https://arxiv.org/pdf/0904.0326.pdf\n",
    "\n",
    "[4]\n",
    "\n",
    "[5] Feynmann and Gelmann\n",
    "\n",
    "[5b] Theoretical Nuclear Physics (Dover Books on Physics) \n",
    "John M. Blatt and  Victor F. Weisskopf \n",
    "\n",
    "[6]  Electron Capture and Nuclear Matrix Elements of Be7\n",
    "John N. Bahcall  Phys. Rev. 128, 1297 (1962)\n",
    "\n",
    "[7] THE 7Be ELECTRON CAPTURE RATE IN THE SUN\n",
    "Andrei V. Gruzinov & John N. Bahcall (1997)\n",
    "http://arxiv.org/pdf/astro-ph/9702065v1.pdf\n",
    "\n",
    "[8] Hydrogen Electron Capture in Accreting Neutron Stars and the Resulting\n",
    "g-Mode Oscillation Spectrum\n",
    "Lars Bildsten and Andrew Cumming\n",
    "http://cds.cern.ch/record/358732/files/9807012.pdf\n",
    "\n",
    "[8b] Effect of Electron Capture on Temperature\n",
    "and Chemical Composition in Collapsing Dense Stars\n",
    "Kiyoshi NAKAZAWA. \n",
    "Progress of Theoretical Physics, Vol. 49, No. 6, June 1973\n",
    "\n",
    "[9]\n",
    "\n",
    "[10]\n",
    "\n",
    "[11] Electronic Structure of Quantum Confined Atoms and Molecules\n",
    "edited by K.D. Sen\n",
    "\n",
    "[12] Multiconfigurational nuclear-electronic orbital approach: Incorporation\n",
    "of nuclear quantum effects in electronic structure calculations\n",
    "Simon P. Webb, Tzvetelin Iordanov, and Sharon Hammes-Schiffer\n",
    "JOURNAL OF CHEMICAL PHYSICS VOLUME 117, NUMBER 9 1 SEPTEMBER 2002\n",
    "\n",
    "[13]Relativistic particle in a box\n",
    "Eur. J. Phys. 17 (1996) 19–24. Printed in the UK\n",
    "https://estudogeral.sib.uc.pt/bitstream/10316/12349/1/Relativistic%20particle%20in%20a%20box.pdf\n",
    "\n",
    "[14] CODATA 2010 value for Compton wavelength for the electron from NIST\n",
    "http://physics.nist.gov/cgi-bin/cuu/Value?ecomwl%7Csearch_for=Compton+wavelength\n",
    "\n",
    "[15]Garay, Luis J. \"Quantum Gravity And Minimum Length.\" International Journal of Modern Physics A 10.02 (1995): 145-65. Arxiv.org. Web. 3 June 2014. <http://arxiv.org/pdf/gr-qc/9403008v2.pdf>.\n",
    "\n",
    "[16] PLANCK SCALE TO COMPTON SCALE\n",
    "B.G. Sidharth (2006)\n",
    "http://arxiv.org/pdf/physics/0608222v1.pdf\n",
    "\n",
    "[17] Theoretical Nuclear Physics, Blatt and Weisskopf"
   ]
  },
  {
   "cell_type": "code",
   "execution_count": null,
   "metadata": {
    "collapsed": true
   },
   "outputs": [],
   "source": []
  },
  {
   "cell_type": "code",
   "execution_count": null,
   "metadata": {
    "collapsed": true
   },
   "outputs": [],
   "source": []
  },
  {
   "cell_type": "markdown",
   "metadata": {
    "ExecuteTime": {
     "end_time": "2016-09-05T23:47:36.541848",
     "start_time": "2016-09-05T23:47:36.537349"
    },
    "collapsed": true
   },
   "source": [
    "Papers discussing aspects of the decay rate of 7Be.\n",
    "\n",
    "http://marvin.byu.edu/cgi-bin/res/Be7References?type=Decay\n",
    "\n",
    "Bachall\n",
    "http://www.sns.ias.edu/~jnb/Biblio/biblio/paperstech.html"
   ]
  },
  {
   "cell_type": "code",
   "execution_count": null,
   "metadata": {
    "collapsed": true
   },
   "outputs": [],
   "source": []
  },
  {
   "cell_type": "code",
   "execution_count": null,
   "metadata": {
    "collapsed": true
   },
   "outputs": [],
   "source": []
  },
  {
   "cell_type": "code",
   "execution_count": null,
   "metadata": {
    "collapsed": true
   },
   "outputs": [],
   "source": []
  },
  {
   "cell_type": "code",
   "execution_count": null,
   "metadata": {
    "collapsed": true
   },
   "outputs": [],
   "source": []
  }
 ],
 "metadata": {
  "anaconda-cloud": {},
  "kernelspec": {
   "display_name": "Python [Root]",
   "language": "python",
   "name": "Python [Root]"
  },
  "language_info": {
   "codemirror_mode": {
    "name": "ipython",
    "version": 2
   },
   "file_extension": ".py",
   "mimetype": "text/x-python",
   "name": "python",
   "nbconvert_exporter": "python",
   "pygments_lexer": "ipython2",
   "version": "2.7.12"
  }
 },
 "nbformat": 4,
 "nbformat_minor": 0
}
