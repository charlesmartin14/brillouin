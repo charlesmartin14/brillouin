{
 "cells": [
  {
   "cell_type": "markdown",
   "metadata": {
    "ExecuteTime": {
     "end_time": "2016-09-05T21:26:37.768269",
     "start_time": "2016-09-05T21:26:37.763464"
    }
   },
   "source": [
    "# Confinement Induced Electron Capture\n",
    "## Brillouin Energy Corporation\n"
   ]
  },
  {
   "cell_type": "markdown",
   "metadata": {},
   "source": [
    "#### Abstract: \n",
    "\n",
    "We describe a Gedandkenexperiment in which a bare proton can capture an electron due soley to confinement.  We provide numerical solution of the Fermi VA-Theory for K-electron capture for an electron-proton pair  confined in a classical box of size L.  Interestingly, we find that the capture is most likely for L=0.004-0.009 Angstroms, and unlikely for L < 0.004 Angstroms."
   ]
  },
  {
   "cell_type": "markdown",
   "metadata": {},
   "source": [
    "### Background:\n",
    "    \n",
    "#### Proton Decay\n",
    "Protons do not decay. At least, no experiment has observed a proton decay.  In the Standard Model, protons are the lightest baryon and therefore it has to decay to something other than a baryon. \n",
    "\n",
    "Current candidates for proton decay [1] place the proton lifetime at $~10^{30} - 10^{34}$ years, all of which are longer than the known lifetime of the universe.\n",
    "\n",
    "Indeed, most theoreticians beleive they must decay to have a matter-imbalance difference in the early universe. For example, the g the Georgi-Glashow Grand Unified Theory (GUT) predicts a proton would decay into an positron and a pion\n",
    "\n",
    "$$p^{+}\\rightarrow\\;e^{+}\\;+\\;\\pi^{0}$$\n",
    "\n",
    "(with a lifetime of $10^{30} - 10^{31}$ years)\n",
    "\n",
    "In contrast, neutrons readily decay \n",
    "\n",
    "$$n^{0}\\rightarrow\\;p^{+}+\\;e^{-}\\;+\\;\\bar{\\nu}^{e}$$\n",
    "\n",
    "with a halflife of ~15min."
   ]
  },
  {
   "cell_type": "markdown",
   "metadata": {},
   "source": [
    "#### K Electon Capture\n",
    "\n",
    "Protons do transform into neutrons in some light atoms, in a process called K-electron capture [2]. The proton, bound in the nucleus, captures a low lying, bound, atomic electon, forming a neutron and an electron neutrino\n",
    "\n",
    "$$p^{+}+\\;e^{-}\\rightarrow\\;n^{0}\\;+\\;\\bar{\\nu}^{e}$$\n",
    "\n",
    "K-electron capture (EC) usually occurs unstable radioisotopes which lack the (nuclear binding) energy to decay by positron emission (standard Beta decay).   \n",
    "\n",
    "The nucleus may absorb some energy, becoming excited.  It then undegoes internal conversion.  During this, a higher lying, bound atomic electron is aborbed, and an xray released.   In rare cases, a gamma ray photon is emitted with the neutrino; this is called Radiative Electron Capture (REC). \n",
    "\n",
    "Because electon capture occurs in (proton-rich) nuclei, and, subsequently, releases a xray photon, we may write reaction as\n",
    "\n",
    "$$^{Z}X_{A}+\\;e^{-}\\rightarrow\\;^{Z+1}X_{A-1}\\;+\\;h\\nu$$\n",
    "\n",
    "(where Z is the number of protons, A the number of neutons, and $h\\nu$ is an xray photon)\n",
    "\n",
    "The lightest element EC has been observed in is 7Be [3].  Curiously, being so light, the EC rate in 7Be can be  affected, by ~%1, by it's chemical environment [4].  \n",
    "\n",
    "The rate of EC can be computed using the Fermi VA-Theory [5]"
   ]
  },
  {
   "cell_type": "markdown",
   "metadata": {
    "ExecuteTime": {
     "end_time": "2016-09-05T22:06:14.989661",
     "start_time": "2016-09-05T22:06:14.987032"
    }
   },
   "source": [
    "#### Stellar Nucleosynthesis\n",
    "\n",
    "Electron Capture is also thought to occur in stars [expand here]\n",
    "\n",
    "For example, Bahcall and coworkers have studied the EC in stellar media [6], and have computed the rate of EC of 7Be in the Sun [7].\n",
    "\n",
    "It is beleived that a Hydrogen undergoes EC is in a collapsing star [8,8b]; in fact, EC is thought to create stellar instability. [8]  While we usually characterize a start by it's temperature, these are also very dense systems, with $\\rho\\sim 10^6\\;g\\;cm^{-3}$.  In contrast, the smallest star has density $\\rho\\sim 10^{2}-10^{3}\\;g\\;cm^{-3}$ [?]\n",
    "\n",
    "\n"
   ]
  },
  {
   "cell_type": "markdown",
   "metadata": {
    "ExecuteTime": {
     "end_time": "2016-09-05T23:51:57.433615",
     "start_time": "2016-09-05T23:51:57.430924"
    }
   },
   "source": [
    "#### Confinement Induced Electron Capture\n",
    "\n",
    "We pose the following Gedankenexperiment:  \n",
    "\n",
    "Suppose we confine an electron, proton pair as a classical particle-in-a-box of volumne $L^3$.  What box size (L) will 'induce' electron confinment ?\n",
    "\n",
    "The first obvious question is, should we use a classical or a relativisitic box?   We can safely use a classical box as long as $L_{min} \\ge \\dfrac{1}{2\\pi}\\lambda_{C,e}$, where $\\lambda_{C}$ is Compton wavelength of an electron [13,14, 16].  The Compton wavelength sets the scale, accounting for both quantum mechanics and special relativity. [15]\n",
    "\n",
    "$$\\lambda_{C}=\\dfrac{h}{m_{e}c}=\\dfrac{e^{2}}{m_{e}c^{2}}$$\n",
    "\n",
    "$$\\lambda_{C}\\approx2.426\\times 10^{-12}\\;m$$\n",
    "\n",
    "which sets the minimum L on the order of 0.004 Angstrom [13]\n",
    "$$L_{min,e}\\sim0.004\\;\\mathring{A}$$ \n",
    "\n",
    "So we use a classicial box, with minimum size $L_{min,e}$; we compute the maximum size below."
   ]
  },
  {
   "cell_type": "markdown",
   "metadata": {
    "ExecuteTime": {
     "end_time": "2016-09-05T23:36:55.786355",
     "start_time": "2016-09-05T23:36:55.782136"
    },
    "collapsed": true
   },
   "source": [
    "### Theory\n"
   ]
  },
  {
   "cell_type": "markdown",
   "metadata": {},
   "source": [
    "#### Particle production under the Weak interaction\n",
    "\n",
    "Electron capture is mediated by the Weak Interaction.  The particle production processes, for particles in a box, may  include electron capture and proton capture by protons. We only treat on electron capture here.  "
   ]
  },
  {
   "cell_type": "markdown",
   "metadata": {
    "ExecuteTime": {
     "end_time": "2016-09-06T13:46:51.757250",
     "start_time": "2016-09-06T13:46:51.752407"
    }
   },
   "source": [
    "<img src=\"img/feynman.png\" width=\"400\" height=\"400\" />\n",
    "<center>particle production process</center>"
   ]
  },
  {
   "cell_type": "markdown",
   "metadata": {},
   "source": [
    "The Lagrangian for the V-A theory is given by\n",
    "\n",
    "[fill in]\n",
    "\n",
    "\n",
    "\n"
   ]
  },
  {
   "cell_type": "markdown",
   "metadata": {},
   "source": [
    "The V-A theory provides a way to compute the cross section for orbital (K) Electron Capture.\n",
    "\n",
    "\n",
    "The cross section for the process\n",
    "\n",
    "$$p^{+}+e^{-}\\rightarrow n^{0}+\\nu_{e}$$\n",
    "\n",
    "is given by the Golden rule\n",
    "\n",
    "$$d\\sigma_{ep}=\\left(\\dfrac{1}{2\\pi}\\right)^{2}\\dfrac{\\sum_{fi}\\big\\vert\\mathcal{M}_{fi}\\big\\vert^{2}}{16\\;\\big\\vert\\mathbf{k}\\cdot(E{_n}\\mathbf{k}-k^{0}\\mathbf{p}_{n})\\big\\vert}\\dfrac{k^{3}p_{e}d\\Omega_{k}}{\\big\\vert\\mathbf{p}_{e}\\cdot(E_{p}\\mathbf{p}_{e}-E_{e}\\mathbf{p}_{e})\\big\\vert}$$\n",
    "\n",
    "Notice that when applying the VA theory this way, we assume that the electron-proton interaction is a contact potential, operating at the surface of the nucleus, and that the underlying quantum process is incoherent.  \n",
    "\n",
    "[explain k, other terms]\n"
   ]
  },
  {
   "cell_type": "markdown",
   "metadata": {
    "ExecuteTime": {
     "end_time": "2016-09-05T23:36:55.786355",
     "start_time": "2016-09-05T23:36:55.782136"
    },
    "collapsed": true
   },
   "source": [
    "\n",
    "#### VA Matrix Elements \n",
    "\n",
    "The matrix elements $\\mathcal{M}_{fi}$ are\n",
    "\n",
    "$$\\mathcal{M}_{fi}=\\dfrac{G_{F}}{\\sqrt{2}}\\bar{u}(p_{n},s_{n})(G_{V}-G_{A}\\gamma^{5})\\gamma^{\\mu}u(p_{p},s_{p})\\times\\bar{u}(k,s_{k})\\gamma_{u}(1-\\gamma^{5})u(s_{e},p_{e})$$\n",
    "\n",
    "where $G_{F}=1.16637\\times 10^{-5}\\;GeV$, the neutron lifetime is reproduced with $G_{A}=1$, and $G_{V}=-1.2857$.\n",
    "\n",
    "$$\\bar{u}(p_{n},s_{n}),u(p_{p},s_{p}),\\bar{u}(k,s_{k}),u(s_{e},p_{e})$$\n",
    "\n",
    "are Dirac spinors (see above), and\n",
    "\n",
    "$$s_{n}, s_{p},s_{e},s_{k}$$ \n",
    "\n",
    "are 2-component spin vectors for the neutron, proton, electron, and electron neutrino, resp. \n",
    "\n",
    "The $\\gamma$ are 4-component Gamma matrices, and  $(\\cdots\\gamma^{\\mu}\\cdots\\gamma_{u}\\cdots)$ is the Einstein summation convention.\n"
   ]
  },
  {
   "cell_type": "markdown",
   "metadata": {
    "ExecuteTime": {
     "end_time": "2016-09-06T00:20:30.931873",
     "start_time": "2016-09-06T00:20:30.927166"
    },
    "collapsed": true
   },
   "source": [
    "#### Particle-in-the-box Wavefunctions\n",
    "\n",
    "We treat the electron, proton pair as classical particle-in-a-box.\n",
    "\n",
    "$$\\psi_{ep}(\\mathbf{x})=\\left(\\dfrac{2}{L}\\right)^{\\frac{3}{2}}cos\\left(\\dfrac{\\pi x}{L}\\right)cos\\left(\\dfrac{\\pi y}{L}\\right)cos\\left(\\dfrac{\\pi z}{L}\\right)$$\n",
    "\n",
    "expressions for momentum\n",
    "\n",
    "Because the VA theory assumes an incoherent process, the electron, proton wavefunction is usually factored as an electron wavefunction, with a point-particle in the center\n",
    "\n",
    "$$\\psi_{ep}(\\mathbf{x})=\\psi_{p}(0)\\psi_{e}(\\mathbf{x})$$\n",
    "\n",
    "We only consider the  ground state $\\psi_{ep}^{0}$ wavefunction.\n",
    "\n",
    "\n",
    "We note, in *ab initio* electronic structure calculations, it is now generally possible to treat the Hydrogen prton wavefunction explicitly, and to treat the electron-proton coupling at the level of Hartree Fock (i.e. variational mean field) [12] This has proved useful for describing isotope effects on electronic structure\n",
    "\n",
    "Here, we treat the confined electron, proton pair in the c.m. frame so that the 3-momentum of the electron and proton related\n",
    "$$\\mathbf{p}_{e}=\\mathbf{p}_{pe}$$\n",
    "$$\\mathbf{p}_{p}=-\\mathbf{p}_{pe}$$\n"
   ]
  },
  {
   "cell_type": "markdown",
   "metadata": {},
   "source": [
    "#### Dirac Spinors\n",
    "\n",
    "We effectively represent the relativistic electronic wavefunctions in a form similar to plane wave solutions of the Dirac Equations\n",
    "\n",
    "$$\\Psi_{e}=u(\\overrightarrow{p},s)\\psi_{e}$$\n",
    "\n",
    "where $\\psi_{e}$ is the classical particle-in-the-box wavefunction.\n",
    "\n",
    "where the Dirac Spinors convention used is given by\n",
    "\n",
    "$$u(\\overrightarrow{p},s=up)=\\sqrt{E+m}\\left[\\begin{array}{c}\n",
    "0\\\\\n",
    "1\\\\\n",
    "\\dfrac{p_{3}}{E+m}\\\\\n",
    "\\dfrac{p_{1}+ip_{2}}{E+m}\n",
    "\\end{array}\\right]\\;\\;u(\\overrightarrow{p},s=down)=\\sqrt{E+m}\\left[\\begin{array}{c}\n",
    "1\\\\\n",
    "0\\\\\n",
    "\\dfrac{p_{1}-ip_{2}}{E+m}\\\\ \n",
    "\\dfrac{-p_{3}}{E+m} \n",
    "\\end{array}\\right]$$ \n",
    "\n"
   ]
  },
  {
   "cell_type": "markdown",
   "metadata": {},
   "source": [
    "##### comment on our approach\n",
    "\n",
    "We note that Blatt and Weisskopf describe the fermi VA theory in the non-relativisitic limit.  Here, they use classical plane wave solutions $(e^{i\\mathbf{p}\\mathbf{x}})$, with just box normalization $(\\frac{1}{L^{3}})$.  In contrast, we use the full classical particle-in-the-box wavefunctions, and analyze the problem just above the Componton scale using the low order VA theory.\n"
   ]
  },
  {
   "cell_type": "markdown",
   "metadata": {},
   "source": [
    "#### Relativistic Kinematics and Energetics\n",
    "\n",
    "\n",
    "For consistancy with the particle production process,\n",
    "\n",
    "$$ p+e\\rightarrow n+\\nu_{e} $$\n",
    "\n",
    "we treat all kinematics and energetics relativisitcally, such that\n",
    "\n",
    "$$\\overrightarrow{P}_{n}+\\overrightarrow{P}_{e}=\\overrightarrow{P}_{n}+\\overrightarrow{P}_{\\nu_{e}} $$\n",
    "\n",
    "$$E^{2}=M^{2}+p^{2}$$\n",
    "\n",
    "This gives\n",
    "\n",
    "$$E^{2}_{e}=m^{2}_{e}+3\\left(\\dfrac{\\pi}{L}\\right)^{2}$$ \n",
    "\n",
    "$$E^{2}_{p}=M^{2}_{p}+3\\left(\\dfrac{\\pi}{L}\\right)^{2}$$"
   ]
  },
  {
   "cell_type": "markdown",
   "metadata": {},
   "source": [
    "The threshold Kinetic energy in the center of momentum (c.m.) frame is given as\n",
    "\n",
    "$$EKe_{min}:\\;\\;K_{e}=E_{e}-m_{e}=\\dfrac{(M_{n}-m_{e}+m_{\\nu})^{2}-M^{2}_{p}}{2(M_{n}+m_{\\nu})}$$\n",
    " \n",
    "Giving the minimum momentum as\n",
    "\n",
    "$$pmin:\\;\\;\\mathbf{p}_{min}=\\sqrt{(K_{e}+m_{e})^{2}-m_{e}^{2}} $$\n",
    "\n",
    "(for the jupyter notebook, I will derive the results in the appendix)"
   ]
  },
  {
   "cell_type": "markdown",
   "metadata": {},
   "source": [
    "Of course, the proton rest frame is approximately the electron rest frame, but it should be mentioned that the in the electron rest frame, the threshold kinetic energy is 2000X greater.  \n",
    "\n",
    "Therefore, it is assumed that the energy transfer to induce electron capture is in the c.m. frame of the (e,p) pair."
   ]
  },
  {
   "cell_type": "markdown",
   "metadata": {},
   "source": [
    "The total energy in the c.m. frame is\n",
    "\n",
    "$$E_{tot}=E_{n}-E_{e}$$\n",
    "\n",
    "For the final state, the neutrino kinetic energy is\n",
    "\n",
    "$$K_{\\nu}=k^{0}-m_{\\nu}=\\dfrac{(E_{p}+E_{e}-m_{\\nu})^{2}-M^{2}_{n}}{2(E_{p}+E_{e})}$$\n",
    "\n",
    "and the neutron kinetic energy is\n",
    "\n",
    "$$K_{n}=E_{n}-M_{n}=\\dfrac{(E_{p}+E_{e}-M_{n})^{2}-m^{2}_{\\nu}}{2(E_{p}+E_{e})}$$\n",
    "\n",
    "\n"
   ]
  },
  {
   "cell_type": "markdown",
   "metadata": {
    "ExecuteTime": {
     "end_time": "2016-09-13T17:03:13.712979",
     "start_time": "2016-09-13T17:03:13.708719"
    }
   },
   "source": [
    "### Calculations\n",
    "\n",
    "#### Physical Constants\n",
    "see: http://pdg.lbl.gov/2015/reviews/rpp2015-rev-phys-constants.pdf"
   ]
  },
  {
   "cell_type": "code",
   "execution_count": 5,
   "metadata": {
    "ExecuteTime": {
     "end_time": "2016-09-15T14:52:18.925104",
     "start_time": "2016-09-15T14:52:16.927605"
    },
    "collapsed": false
   },
   "outputs": [
    {
     "name": "stderr",
     "output_type": "stream",
     "text": [
      "/Users/charlesmartin14/anaconda/lib/python2.7/site-packages/matplotlib/font_manager.py:273: UserWarning: Matplotlib is building the font cache using fc-list. This may take a moment.\n",
      "  warnings.warn('Matplotlib is building the font cache using fc-list. This may take a moment.')\n"
     ]
    }
   ],
   "source": [
    "import numpy as np\n",
    "import matplotlib\n",
    "import numpy as np\n",
    "import matplotlib.pyplot as plt\n",
    "import matplotlib.patches as mpatches\n",
    "\n",
    "%matplotlib inline "
   ]
  },
  {
   "cell_type": "code",
   "execution_count": 6,
   "metadata": {
    "ExecuteTime": {
     "end_time": "2016-09-15T14:52:19.512582",
     "start_time": "2016-09-15T14:52:18.926803"
    },
    "collapsed": true
   },
   "outputs": [],
   "source": [
    "# scipy contains mant of the basic units\n",
    "# in meters\n",
    "\n",
    "# http://docs.scipy.org/doc/scipy/reference/constants.html\n",
    "import scipy\n",
    "from scipy import constants\n",
    "\n",
    "# we use the python physics library sympy do to our calculations;\n",
    "#  we use the units module, and the Gamma matrices \n",
    "#  but we do not (yet) use the Tensor module\n",
    "import sympy\n",
    "from sympy import *\n",
    "from sympy.physics import units\n",
    "from sympy.physics.matrices import mgamma"
   ]
  },
  {
   "cell_type": "markdown",
   "metadata": {
    "ExecuteTime": {
     "end_time": "2016-09-13T17:05:31.048509",
     "start_time": "2016-09-13T17:05:31.045993"
    }
   },
   "source": [
    "#### Example use of constants and units imports"
   ]
  },
  {
   "cell_type": "code",
   "execution_count": 7,
   "metadata": {
    "ExecuteTime": {
     "end_time": "2016-09-15T14:52:19.519635",
     "start_time": "2016-09-15T14:52:19.514128"
    },
    "collapsed": false
   },
   "outputs": [
    {
     "name": "stdout",
     "output_type": "stream",
     "text": [
      "speed of light in meters / sec  299792458.0\n",
      "hbar in m2 kg / s  1.05457180014e-34\n",
      "angstrom in meters 1e-10\n",
      "angstrom in fm  100000.000000000\n"
     ]
    }
   ],
   "source": [
    "print \"speed of light in meters / sec \",constants.c\n",
    "print \"hbar in m2 kg / s \",constants.hbar\n",
    "\n",
    "print \"angstrom in meters\", constants.angstrom\n",
    "print \"angstrom in fm \",constants.angstrom/units.femto"
   ]
  },
  {
   "cell_type": "code",
   "execution_count": 8,
   "metadata": {
    "ExecuteTime": {
     "end_time": "2016-09-15T14:52:19.524670",
     "start_time": "2016-09-15T14:52:19.521082"
    },
    "collapsed": false
   },
   "outputs": [
    {
     "name": "stdout",
     "output_type": "stream",
     "text": [
      "197.3269788 MeV fm\n"
     ]
    }
   ],
   "source": [
    "hbarc =  constants.value('Planck constant over 2 pi times c in MeV fm')\n",
    "print hbarc, \"MeV fm\""
   ]
  },
  {
   "cell_type": "code",
   "execution_count": 9,
   "metadata": {
    "ExecuteTime": {
     "end_time": "2016-09-15T14:52:19.529996",
     "start_time": "2016-09-15T14:52:19.525999"
    },
    "collapsed": false
   },
   "outputs": [
    {
     "name": "stdout",
     "output_type": "stream",
     "text": [
      "Mass proton, neutron, electon (in MeV)\n",
      "938.2720813 939.5654133 0.5109989461\n"
     ]
    }
   ],
   "source": [
    "Mn =  constants.value('neutron mass energy equivalent in MeV')\n",
    "Mp = constants.value('proton mass energy equivalent in MeV')\n",
    "me = constants.value('electron mass energy equivalent in MeV')\n",
    "\n",
    "print \"Mass proton, neutron, electon (in MeV)\"\n",
    "print Mp, Mn, me"
   ]
  },
  {
   "cell_type": "code",
   "execution_count": 10,
   "metadata": {
    "ExecuteTime": {
     "end_time": "2016-09-15T14:52:19.534509",
     "start_time": "2016-09-15T14:52:19.531248"
    },
    "collapsed": false
   },
   "outputs": [
    {
     "name": "stdout",
     "output_type": "stream",
     "text": [
      "mass electron neutrino 1e-08\n"
     ]
    }
   ],
   "source": [
    "# useful constants: not in scypi (or sympy)\n",
    "# electron neutrino mass in MeV\n",
    "mnu = 1.e-8 # MeV\n",
    "print \"mass electron neutrino\", mnu"
   ]
  },
  {
   "cell_type": "code",
   "execution_count": 11,
   "metadata": {
    "ExecuteTime": {
     "end_time": "2016-09-15T14:52:19.540880",
     "start_time": "2016-09-15T14:52:19.536454"
    },
    "collapsed": false,
    "scrolled": true
   },
   "outputs": [
    {
     "name": "stdout",
     "output_type": "stream",
     "text": [
      "EKemin =  0.781581872048 MeV\n",
      "  pmin =  1.18728482199 MeV\n"
     ]
    }
   ],
   "source": [
    "Ekemin = (((Mn + mnu - me)**2) - (Mp**2))/(2.0*(Mn+mnu))\n",
    "pmin = np.sqrt(( Ekemin+me)**2 - me**2)\n",
    "print \"EKemin = \", Ekemin, \"MeV\"\n",
    "print \"  pmin = \", pmin, \"MeV\""
   ]
  },
  {
   "cell_type": "markdown",
   "metadata": {},
   "source": [
    "We find $EKe_{min}~782\\;KeV$ and $p_{min}~1.187MeV$"
   ]
  },
  {
   "cell_type": "markdown",
   "metadata": {
    "ExecuteTime": {
     "end_time": "2016-09-06T14:15:50.492282",
     "start_time": "2016-09-06T14:15:50.488580"
    }
   },
   "source": [
    "#### Maximum Allowed Confinment\n",
    "\n",
    "We can estimate of the maximum box size using some relativistic kinematics.\n",
    "\n",
    "For a classical 3-D particle-in-a-box, in units of $\\hbar c$,  we have [13]\n",
    "\n",
    "$$\\mathbf{p}_{n}=\\dfrac{3n\\pi}{L}$$\n",
    "\n",
    "so that for n=0, \n",
    "\n",
    "$$L_{max}=\\dfrac{3\\pi}{\\mathbf{p}_{min}}$$\n",
    "\n",
    "We can use the relativistic $\\mathbf{p}_{min}$ to get the maximum box size"
   ]
  },
  {
   "cell_type": "code",
   "execution_count": 12,
   "metadata": {
    "ExecuteTime": {
     "end_time": "2016-09-15T14:52:19.545779",
     "start_time": "2016-09-15T14:52:19.542179"
    },
    "collapsed": false,
    "scrolled": true
   },
   "outputs": [
    {
     "name": "stdout",
     "output_type": "stream",
     "text": [
      "The maximum box size is LMax =  0.00904361469289747 in Angstroms\n"
     ]
    }
   ],
   "source": [
    "Lmax =(np.sqrt(3.0)*np.pi*hbarc/pmin)*units.femto/constants.angstrom\n",
    "print \"The maximum box size is LMax = \",Lmax, \"in Angstroms\""
   ]
  },
  {
   "cell_type": "markdown",
   "metadata": {
    "ExecuteTime": {
     "end_time": "2016-09-06T16:11:54.552734",
     "start_time": "2016-09-06T16:11:54.548782"
    }
   },
   "source": [
    "$$L_{max}=0.0090\\;\\mathring{A}$$"
   ]
  },
  {
   "cell_type": "markdown",
   "metadata": {},
   "source": [
    "For a range size  $L\\in[L_{min},L_{\\max}]$,\n",
    "$$0.004\\le L \\le0.009\\;\\mathring{A},$$\n",
    "\n",
    "we will compute the relativistic Kinetic energies, the rate of electron capture, and the effective power (ratio) for our box-induced electron capture.\n"
   ]
  },
  {
   "cell_type": "markdown",
   "metadata": {
    "ExecuteTime": {
     "end_time": "2016-09-13T15:16:44.145497",
     "start_time": "2016-09-13T15:16:44.141270"
    }
   },
   "source": [
    "### Relatvisitic Kinematics\n",
    "\n",
    "Before we do the full VA-theory calcualtions of confined electron capture, we can compute the Relativistic Kinematics to examine the Kinetetic Energy for the particles involves\n",
    "\n"
   ]
  },
  {
   "cell_type": "markdown",
   "metadata": {
    "ExecuteTime": {
     "end_time": "2016-09-13T15:20:35.529245",
     "start_time": "2016-09-13T15:20:35.524882"
    }
   },
   "source": [
    "####  RLConf = Box confinment lengths\n",
    "Define the box sizes L, in units L (A°) for a classical particle-in-the-box\n",
    "\n",
    "(for completeness, we will use $ 0.0001\\le L \\le0.009\\;\\mathring{A} $, including boxes smaller than the Compton scale)\n",
    "\n"
   ]
  },
  {
   "cell_type": "markdown",
   "metadata": {},
   "source": [
    "## <font color='red'>Using old pmin and hbarc values for debugging</font>"
   ]
  },
  {
   "cell_type": "code",
   "execution_count": 13,
   "metadata": {
    "ExecuteTime": {
     "end_time": "2016-09-15T14:52:19.916146",
     "start_time": "2016-09-15T14:52:19.913602"
    },
    "collapsed": true
   },
   "outputs": [],
   "source": [
    "# use old hbarc, pmin to double check calculations\n",
    "pmin = 1.1872859246356673 # MeV\n",
    "hbarc = 197.3269631"
   ]
  },
  {
   "cell_type": "code",
   "execution_count": 14,
   "metadata": {
    "ExecuteTime": {
     "end_time": "2016-09-15T14:52:20.108441",
     "start_time": "2016-09-15T14:52:20.097753"
    },
    "collapsed": false
   },
   "outputs": [
    {
     "name": "stdout",
     "output_type": "stream",
     "text": [
      "The box size range in [] 0.00011257882444 0.00904360557438 ] Angstroms\n"
     ]
    }
   ],
   "source": [
    "# we may simplify this code\n",
    "rlconfs = []\n",
    "peps = []\n",
    "for iep in range(1,500):\n",
    "    pgrid =  np.exp(np.log(1e-11)+(float(iep)/500.0)*(np.log(100.0)-np.log(1e-11)))\n",
    "    pep = ( pmin + pgrid )/np.sqrt(3.0)\n",
    "    peps.append(pep)\n",
    "    rlconf = (1e-5)*hbarc*np.pi/pep\n",
    "    rlconfs.append(rlconf)\n",
    "    \n",
    "print \"The box size range in []\",min(rlconfs), max(rlconfs),\"] Angstroms\""
   ]
  },
  {
   "cell_type": "markdown",
   "metadata": {
    "ExecuteTime": {
     "end_time": "2016-09-13T15:24:26.256037",
     "start_time": "2016-09-13T15:24:26.252875"
    }
   },
   "source": [
    "### $ \\mathbf{p}_{min} $ vs L\n",
    "\n",
    "We can see how confinement causes the (proton/electon) $ \\mathbf{p}_{min} $ to increase"
   ]
  },
  {
   "cell_type": "code",
   "execution_count": 15,
   "metadata": {
    "ExecuteTime": {
     "end_time": "2016-09-15T14:52:21.109850",
     "start_time": "2016-09-15T14:52:20.476128"
    },
    "collapsed": false,
    "scrolled": false
   },
   "outputs": [
    {
     "data": {
      "image/png": "[encoded data removed]",
      "text/plain": [
       "<matplotlib.figure.Figure at 0x111158050>"
      ]
     },
     "metadata": {},
     "output_type": "display_data"
    }
   ],
   "source": [
    "plt.semilogx(np.array(rlconfs), np.array(peps))\n",
    "plt.xlabel(\"RLConf :  L (Angstrom)\")\n",
    "plt.ylabel(\"Pep (?)\")\n",
    "\n",
    "from pylab import rcParams\n",
    "rcParams['figure.figsize'] = 5,5\n",
    "plt.show()"
   ]
  },
  {
   "cell_type": "markdown",
   "metadata": {
    "ExecuteTime": {
     "end_time": "2016-09-13T14:17:43.413047",
     "start_time": "2016-09-13T14:17:42.813234"
    },
    "collapsed": false,
    "scrolled": true
   },
   "source": [
    "#### Kinetic Energy Calculations\n",
    "\n",
    "We now calculate and plot the all the Kinetic energies\n",
    "\n",
    "That is, we compute $ \\mathbf{p}^{0}_{ep} $ and $ K_{n},K_{p},K_{e},and\\;K_{\\nu} $ \n",
    "\n",
    "We will the full $ \\mathbf{p}_{ep} $ in the next section, below"
   ]
  },
  {
   "cell_type": "code",
   "execution_count": 16,
   "metadata": {
    "ExecuteTime": {
     "end_time": "2016-09-15T14:52:21.121066",
     "start_time": "2016-09-15T14:52:21.111358"
    },
    "collapsed": false
   },
   "outputs": [],
   "source": [
    "#  compute the [0] component of the 4 vectors:  p1 , p2 , pe, pk \n",
    "# p1 neutron\n",
    "# p2 proton\n",
    "# pe electron\n",
    "# pk neutrino\n",
    "#\n",
    "#  assumes exactly cubic lattic:  pep1 = pep2 = pep3 = +|- pep\n",
    "def pepKE(pep):\n",
    "    \n",
    "    p2 = np.sqrt((Mp**2) + 3.0*(pep**2) )\n",
    "    pe = np.sqrt((me**2) + 3.0*(pep**2) )\n",
    "    Etot = p2 + pe\n",
    "\n",
    "    Eknu = ( (Etot-mnu)**2 - (Mn**2) )/(2.0*Etot)\n",
    "    Ekn = ( (Etot-Mn)**2 - (mnu**2) )/(2.0*Etot)\n",
    "    pnu = np.sqrt( (Eknu+mnu)**2 - (mnu**2) ) \n",
    "    \n",
    "    pk = Eknu + mnu\n",
    "    p1 = p2 + pe - pk\n",
    "    \n",
    "    return p1, p2, pe, pk"
   ]
  },
  {
   "cell_type": "code",
   "execution_count": 17,
   "metadata": {
    "ExecuteTime": {
     "end_time": "2016-09-15T14:52:21.128656",
     "start_time": "2016-09-15T14:52:21.123309"
    },
    "collapsed": false,
    "scrolled": false
   },
   "outputs": [],
   "source": [
    "num = len(peps)\n",
    "EKn = np.zeros(num)\n",
    "EKp = np.zeros(num)\n",
    "EKe = np.zeros(num)\n",
    "EKnu = np.zeros(num)\n",
    "Etot = np.zeros(num)"
   ]
  },
  {
   "cell_type": "code",
   "execution_count": 18,
   "metadata": {
    "ExecuteTime": {
     "end_time": "2016-09-15T14:52:21.260035",
     "start_time": "2016-09-15T14:52:21.247927"
    },
    "collapsed": false,
    "scrolled": false
   },
   "outputs": [],
   "source": [
    "for i, pep in enumerate(peps):\n",
    "    p1, p2, pe, pk = pepKE(pep)\n",
    "    EKn[i] = p1 - Mn\n",
    "    EKp[i] = p2 - Mp\n",
    "    EKe[i] = pe - me\n",
    "    EKnu[i] = pk - mnu"
   ]
  },
  {
   "cell_type": "markdown",
   "metadata": {},
   "source": [
    "#### First, we restrict the box to L > 0.004"
   ]
  },
  {
   "cell_type": "code",
   "execution_count": 19,
   "metadata": {
    "ExecuteTime": {
     "end_time": "2016-09-15T14:52:22.202953",
     "start_time": "2016-09-15T14:52:21.630699"
    },
    "collapsed": false,
    "scrolled": false
   },
   "outputs": [
    {
     "data": {
      "image/png": "[encoded data removed]",
      "text/plain": [
       "<matplotlib.figure.Figure at 0x1137e2150>"
      ]
     },
     "metadata": {},
     "output_type": "display_data"
    }
   ],
   "source": [
    "plt.semilogy(rlconfs, EKe , color='magenta')\n",
    "plt.semilogy(rlconfs, EKnu, color='red' )\n",
    "plt.semilogy(rlconfs, EKn, color='blue')\n",
    "plt.semilogy(rlconfs, EKp, color='green')\n",
    "\n",
    "patches = [ mpatches.Patch(color='magenta', label='EKe'),\n",
    "            mpatches.Patch(color='red', label='EKnu'),\n",
    "            mpatches.Patch(color='blue', label='EKn'),\n",
    "            mpatches.Patch(color='green', label='EKp')          ]\n",
    "plt.legend(handles=patches)\n",
    "\n",
    "plt.xlabel(\"Box confinment (Angstrom)\")\n",
    "plt.ylim(ymin=0.000001)\n",
    "plt.ylim(ymax=100.0) \n",
    "\n",
    "from pylab import rcParams\n",
    "rcParams['figure.figsize'] = 5,5\n",
    "plt.show()"
   ]
  },
  {
   "cell_type": "code",
   "execution_count": 20,
   "metadata": {
    "ExecuteTime": {
     "end_time": "2016-09-15T14:52:22.819188",
     "start_time": "2016-09-15T14:52:22.204973"
    },
    "collapsed": false,
    "scrolled": false
   },
   "outputs": [
    {
     "data": {
      "image/png": "[encoded data removed]",
      "text/plain": [
       "<matplotlib.figure.Figure at 0x1137e2890>"
      ]
     },
     "metadata": {},
     "output_type": "display_data"
    }
   ],
   "source": [
    "plt.semilogy(rlconfs, EKe , color='magenta')\n",
    "plt.semilogy(rlconfs, EKnu, color='red' )\n",
    "plt.semilogy(rlconfs, EKn, color='blue')\n",
    "plt.semilogy(rlconfs, EKp, color='green')\n",
    "\n",
    "patches = [ mpatches.Patch(color='magenta', label='EKe'),\n",
    "            mpatches.Patch(color='red', label='EKnu'),\n",
    "            mpatches.Patch(color='blue', label='EKn'),\n",
    "            mpatches.Patch(color='green', label='EKp')          ]\n",
    "plt.legend(handles=patches)\n",
    "\n",
    "plt.xlabel(\"Box confinment (Angstrom) L > 0.004\")\n",
    "plt.ylim(ymin=0.000001)\n",
    "plt.ylim(ymax=100.0) \n",
    "plt.xlim(xmin=0.004)\n",
    "\n",
    "from pylab import rcParams\n",
    "rcParams['figure.figsize'] = 5,5\n",
    "plt.show()"
   ]
  },
  {
   "cell_type": "markdown",
   "metadata": {},
   "source": [
    "The electron and proton energies are failry constant, slighly descreasing, as the box size increases.\n",
    "\n",
    "In contrast, the energy of the neutron drops slowly as the box increases, and the electron neutrino energy drops marketed as the box approaches 0.009 $\\mathring{A}$\n",
    "\n",
    "What will be more interesting is to compute the "
   ]
  },
  {
   "cell_type": "markdown",
   "metadata": {
    "ExecuteTime": {
     "end_time": "2016-09-14T21:31:43.987070",
     "start_time": "2016-09-14T21:31:43.984749"
    }
   },
   "source": [
    "#### Second, lets add in the box sizes L < $0.004 \\mathring{A}$, below the Compton Length"
   ]
  },
  {
   "cell_type": "code",
   "execution_count": 21,
   "metadata": {
    "ExecuteTime": {
     "end_time": "2016-09-15T14:52:23.546862",
     "start_time": "2016-09-15T14:52:22.985887"
    },
    "collapsed": false,
    "scrolled": false
   },
   "outputs": [
    {
     "data": {
      "image/png": "[encoded data removed]",
      "text/plain": [
       "<matplotlib.figure.Figure at 0x11432dc90>"
      ]
     },
     "metadata": {},
     "output_type": "display_data"
    }
   ],
   "source": [
    "plt.semilogy(rlconfs, EKe , color='magenta')\n",
    "plt.semilogy(rlconfs, EKnu, color='red' )\n",
    "plt.semilogy(rlconfs, EKn, color='blue')\n",
    "plt.semilogy(rlconfs, EKp, color='green')\n",
    "\n",
    "patches = [ mpatches.Patch(color='magenta', label='EKe'),\n",
    "            mpatches.Patch(color='red', label='EKnu'),\n",
    "            mpatches.Patch(color='blue', label='EKn'),\n",
    "            mpatches.Patch(color='green', label='EKp')          ]\n",
    "plt.legend(handles=patches)\n",
    "\n",
    "plt.xlabel(\"Box confinment (Angstrom)\")\n",
    "plt.ylim(ymin=0.000001)\n",
    "plt.ylim(ymax=100.0) \n",
    "\n",
    "from pylab import rcParams\n",
    "rcParams['figure.figsize'] = 5,5\n",
    "plt.show()"
   ]
  },
  {
   "cell_type": "markdown",
   "metadata": {},
   "source": [
    "For $L < 0.004 \\mathring{A}$, the proton and electron energies are no longer constant, and, instead increase marketedly.  Likewise, the neutron and electron neutrino energies also blow up.\n",
    "\n",
    "The complete calculations should include the electron capture rates and associated power.  to get there, we need "
   ]
  },
  {
   "cell_type": "markdown",
   "metadata": {},
   "source": [
    "### Full Relativisitc Kinematic Calculations\n",
    "\n",
    "To compute the full Dirac 4-vectors, we need to treat the electron neutrino as a particle scattering 'out of the box'\n",
    "\n",
    "To do this, write the neutrino momentum as\n",
    "\n",
    "\n",
    "[ fill in, maybe have a diagram explaining the solid angle -> pitch ]\n",
    "\n",
    "it is has to be documented somewhere in the 1600 page doc, like\n",
    "\n",
    "http://pdg.lbl.gov/2015/reviews/rpp2015-rev-neutrino-mixing.pdf"
   ]
  },
  {
   "cell_type": "markdown",
   "metadata": {},
   "source": [
    "\n",
    "$$\\mathbf{p}_{\\nu}=\\sqrt{(E_{\\nu}-m_{\\nu})^{2}-m_{\\nu}^{2}}\\left[\\begin{array}{c}\n",
    "E_{\\nu}+m_{\\nu}\\\\\n",
    "\\sqrt{1-\\phi^2}cos(\\theta)\\\\\n",
    "\\sqrt{1-\\phi^2}sin(\\theta)\\\\\n",
    "\\phi\\end{array}\\right]\\;$$ \n",
    "\n",
    "It is not entirely obvious to get this out the guassian quadrature since we have explain how the weights arise explicitly...\n",
    "\n",
    "<font color='red'>I neeed to finish this part</font>"
   ]
  },
  {
   "cell_type": "markdown",
   "metadata": {
    "ExecuteTime": {
     "end_time": "2016-09-13T18:19:50.599387",
     "start_time": "2016-09-13T18:19:50.596753"
    }
   },
   "source": [
    "#### Gaussian Quadrature\n",
    "\n",
    "We treat the integral over the solid angle $ \\Omega=[\\phi,\\theta] $ using an 8-point Gaussian quadrature\n",
    "\n",
    "Where the quadrature points lie on the circle, $ \\phi\\in[0,2\\pi] $, and the weights  represent the angle $ theta\\in[0,pi] $\n"
   ]
  },
  {
   "cell_type": "code",
   "execution_count": 22,
   "metadata": {
    "ExecuteTime": {
     "end_time": "2016-09-15T14:52:24.220164",
     "start_time": "2016-09-15T14:52:24.215277"
    },
    "collapsed": true
   },
   "outputs": [],
   "source": [
    "import numpy as np\n",
    "\n",
    "from numpy.polynomial.legendre import leggauss\n",
    "lg_x, lg_w = leggauss(8)"
   ]
  },
  {
   "cell_type": "markdown",
   "metadata": {},
   "source": [
    "Note that the python points and weights need to be transformed\n",
    "\n",
    "$$ x: [-1,1] \\rightarrow \\phi: [0, 2\\pi] $$\n",
    "$$ w\\rightarrow \\theta: w\\pi $$"
   ]
  },
  {
   "cell_type": "code",
   "execution_count": 23,
   "metadata": {
    "ExecuteTime": {
     "end_time": "2016-09-15T14:52:24.583985",
     "start_time": "2016-09-15T14:52:24.580689"
    },
    "collapsed": false,
    "scrolled": true
   },
   "outputs": [],
   "source": [
    "lg_phi = (lg_x+1.0)*np.pi\n",
    "lg_theta = lg_w*np.pi"
   ]
  },
  {
   "cell_type": "markdown",
   "metadata": {
    "ExecuteTime": {
     "end_time": "2016-09-14T21:57:34.624949",
     "start_time": "2016-09-14T21:57:34.621885"
    }
   },
   "source": [
    "### <font color='red'>explain why we integrated over pep1 and the solid angle</font>"
   ]
  },
  {
   "cell_type": "code",
   "execution_count": 36,
   "metadata": {
    "ExecuteTime": {
     "end_time": "2016-09-15T14:53:09.399348",
     "start_time": "2016-09-15T14:53:09.375780"
    },
    "collapsed": false
   },
   "outputs": [],
   "source": [
    "#  full computation of 4 vectors:  p1 , p2 , pe, pk \n",
    "def pekin(phi , theta , pep_xyz):\n",
    "\n",
    "    pep_x = pep_xyz[0]\n",
    "    pep_y = pep_xyz[1]\n",
    "    pep_z = pep_xyz[2]\n",
    "\n",
    "    \n",
    "    p1 = np.zeros(4)\n",
    "    p2 = np.zeros(4)\n",
    "    pe = np.zeros(4)\n",
    "    pk = np.zeros(4)\n",
    "    \n",
    "    # proton\n",
    "    p2[0] = np.sqrt(Mp**2 + pep_x**2  + pep_y**2  + pep_z**2 )\n",
    "    p2[1] = -pep_x\n",
    "    p2[2] = -pep_y\n",
    "    p2[3] = -pep_z\n",
    "    \n",
    "    # electron\n",
    "    pe[0] = np.sqrt(me**2 + pep_x**2  + pep_y**2  + pep_z**2 )\n",
    "    pe[1] = pep_x\n",
    "    pe[2] = pep_y\n",
    "    pe[3] = pep_z\n",
    "    \n",
    "    Etot = p2[0] + pe[0]\n",
    "\n",
    "    Eknu = (( Etot-mnu)**2 - Mn**2)/(2.0*Etot )\n",
    "    Ekn = (( Etot-Mn)**2 - mnu**2)/(2.0*Etot )\n",
    "    pnu = np.sqrt((Eknu+mnu)**2 - mnu**2)\n",
    "    \n",
    "    pk[0] = Eknu + mnu\n",
    "    pk[1] = pnu*np.sqrt(1.0 - phi**2)*cos(theta)\n",
    "    pk[2] = pnu*np.sqrt(1.0 - phi**2)*sin(theta)\n",
    "    pk[3] = pnu*phi\n",
    "    \n",
    "    # vector element wise addition\n",
    "    # neutron\n",
    "    p1 = p2 + pe - pk\n",
    "    \n",
    "    return p1, p2, pe, pk"
   ]
  },
  {
   "cell_type": "markdown",
   "metadata": {
    "ExecuteTime": {
     "end_time": "2016-09-14T22:01:13.018595",
     "start_time": "2016-09-14T22:01:13.016097"
    }
   },
   "source": [
    "#### <font color='red'>write the full integral out, maybe give an example</font>"
   ]
  },
  {
   "cell_type": "markdown",
   "metadata": {
    "ExecuteTime": {
     "end_time": "2016-09-05T23:36:55.786355",
     "start_time": "2016-09-05T23:36:55.782136"
    },
    "collapsed": true
   },
   "source": [
    "\n",
    "### Rate of Confined Electron Capture\n",
    "\n",
    "Given the computed Dirac 4-vectors, we can compute the rate of electron capture using the VA-theory, for a given set of vectors\n",
    "\n",
    "Ror the process\n",
    "\n",
    "$$p^{+}+e^{-}\\rightarrow n^{0}+\\nu_{e}$$\n",
    "\n",
    "The rate is given by the Golden rule.\n",
    "\n",
    "We assume that the electron-proton interaction is a contact potential, operating at the surface of the nucleus, and that the underlying quantum process is incoherent.  \n",
    "\n",
    "So we simply evaluate the (electron,proton) wavefunction at the origin ($\\hbar c=1$ again)\n",
    "\n",
    "\n",
    "$$d\\lambda_{ep}=\\left(\\dfrac{1}{2\\pi}\\right)^{2}\\dfrac{\\sum_{fi}\\big\\vert\\mathcal{M}_{fi}\\left[\\mathcal{p}_{ep}\\rightarrow i\\nabla)\\right]\\psi_{ep}(\\mathbf{x})\\big\\vert_{\\mathbf{x}=0}\\big\\vert^{2}}{16E_{p}E_{e}\\;\\big\\vert\\mathbf{k}\\cdot(E{_n}\\mathbf{k}-k^{0}\\mathbf{p}_{n})\\big\\vert}k^{3}d\\Omega_{k}$$\n",
    "\n",
    "#### molecular side effects\n",
    "For very accurate calculations electron capture in an larger atom, we would need to treat the electronic wavefunction explicitly. Here, we could then include envrionmental effects, such as the atomic environment, and/or the effect of external fields.\n"
   ]
  },
  {
   "cell_type": "markdown",
   "metadata": {},
   "source": [
    "### Power\n",
    "\n",
    "We have to integrate over the phase space momentum $k^{3}d\\Omega_{k}$. \n",
    "\n",
    "We use the gaussian quadrature (above) to  evaluate the neutrino momentum in spherical momentum coordinates, integrating over both the pitch and the gyrophase of the outgoing neutrino.\n",
    "\n"
   ]
  },
  {
   "cell_type": "raw",
   "metadata": {},
   "source": []
  },
  {
   "cell_type": "markdown",
   "metadata": {},
   "source": [
    "#### Currents\n",
    "\n",
    "### [I need to finish this section and the power section]\n",
    "\n",
    "Let $\\mathbf{C}_{had}$ and $\\mathbf{C}_{lep}$ be the 4-vectors representing the Hadron and Lepton (current) matrix elements, respectively, such that\n",
    "\n",
    "$$\\mathbf{C}_{had}=\\bar{u}(p_{n},s_{n})(G_{V}-G_{A}\\gamma^{5})\\gamma^{\\mu}u(p_{p},s_{p})$$\n",
    "\n",
    "$$\\mathbf{C}_{lep}=\\bar{u}(k,s_{k})\\gamma_{u}(1-\\gamma^{5})u(s_{e},p_{e})$$\n",
    "\n",
    "The total (4-vector) current amplitude is given by\n",
    "\n",
    "$$C^{2}_{amp}=(\\mathbf{C}_{had})^{\\mu}(\\mathbf{C}_{lep})_{\\mu}=C^{0}_{had}C^{0}_{lep}-C^{1}_{had}C^{1}_{lep}-C^{2}_{had}C^{2}_{lep}-C^{3}_{had}C^{3}_{lep}$$\n",
    "\n",
    "To compute the power, we will need the Real part of the amplitude\n",
    "\n",
    "$$C^{2}_{Re}=Re(\\bar{C}^{2}_{amp}{C}^{2}_{amp})$$\n",
    "\n",
    "which will we need to compute by Guassian quadrature\n",
    "\n",
    "[redo this, add more details of where power comes from..why we integrate over the neutrino solid angle]\n",
    "\n",
    "TODO: use J instead of C for the currents...and clean up this messy notation\n",
    "\n"
   ]
  },
  {
   "cell_type": "code",
   "execution_count": null,
   "metadata": {
    "collapsed": true
   },
   "outputs": [],
   "source": [
    "\n"
   ]
  },
  {
   "cell_type": "markdown",
   "metadata": {
    "ExecuteTime": {
     "end_time": "2016-09-06T00:23:41.048398",
     "start_time": "2016-09-06T00:23:41.046002"
    }
   },
   "source": [
    "$$(\\mathbf{p}_{e}-m_{e})(\\mathbf{p}_{p}-M_{p})$$\n"
   ]
  },
  {
   "cell_type": "markdown",
   "metadata": {},
   "source": []
  },
  {
   "cell_type": "code",
   "execution_count": null,
   "metadata": {
    "collapsed": true
   },
   "outputs": [],
   "source": []
  },
  {
   "cell_type": "markdown",
   "metadata": {},
   "source": [
    "###  High Energy Physics(HEP) Calculations\n",
    "\n",
    "We use the python sympy physics module to obtain the Gamma matrices\n",
    "\n",
    "We do not use the Tensor module to do the matrix calculations since it would be more complicated to explain how to use it than just code up the dirac 4-vector matrix elements -- the Hadron and Lepton currents -- explicitly\n"
   ]
  },
  {
   "cell_type": "markdown",
   "metadata": {},
   "source": [
    "#### Constants\n",
    "\n",
    "We need the most recent versions of the Fermi coupling constant $ G_{F} $ and the (ratio of) the Vector-Axial coupling coffecients.\n"
   ]
  },
  {
   "cell_type": "code",
   "execution_count": 37,
   "metadata": {
    "ExecuteTime": {
     "end_time": "2016-09-15T14:53:12.588420",
     "start_time": "2016-09-15T14:53:12.582939"
    },
    "collapsed": false
   },
   "outputs": [
    {
     "name": "stdout",
     "output_type": "stream",
     "text": [
      "1.16637870000000e-11 1/MeV^2\n",
      "1.0 -1.2759\n"
     ]
    }
   ],
   "source": [
    "GF = GF = constants.value('Fermi coupling constant')*((units.mega/units.giga)**2)\n",
    "print GF, \"1/MeV^2\"\n",
    "\n",
    "# Vector Axial Couplings of the weak current to the nucleons\n",
    "# The currently accepted value of ga/gv is (2010?)\n",
    "# http://arxiv.org/pdf/1007.3790v2.pdf\n",
    "# (Im still looking for the most recent constant)\n",
    "GV = 1.0 \n",
    "GA = -1.27590*GV \n",
    "\n",
    "print GV, GA"
   ]
  },
  {
   "cell_type": "markdown",
   "metadata": {
    "ExecuteTime": {
     "end_time": "2016-09-06T17:29:48.133743",
     "start_time": "2016-09-06T17:29:48.129576"
    },
    "collapsed": true
   },
   "source": [
    "Let us define the matrics:\n",
    "\n",
    "$$C_{left} = 1-\\gamma^{5}$$\n",
    "$$C_{GVGA} = G_{V}-G_{A}\\gamma^{5}$$\n",
    "\n",
    "and use the python module to compute them, and then convert them to numpy arrays"
   ]
  },
  {
   "cell_type": "code",
   "execution_count": 38,
   "metadata": {
    "ExecuteTime": {
     "end_time": "2016-09-15T14:53:13.085742",
     "start_time": "2016-09-15T14:53:13.079993"
    },
    "collapsed": false
   },
   "outputs": [
    {
     "name": "stdout",
     "output_type": "stream",
     "text": [
      "[[ 1.  0. -1.  0.]\n",
      " [ 0.  1.  0. -1.]\n",
      " [-1.  0.  1.  0.]\n",
      " [ 0. -1.  0.  1.]]\n"
     ]
    }
   ],
   "source": [
    "cLEFT = diag(1.0,1.0,1.0,1.0) - mgamma(5)\n",
    "cLEFT = np.array(cLEFT).astype(np.float64)\n",
    "print cLEFT"
   ]
  },
  {
   "cell_type": "code",
   "execution_count": 39,
   "metadata": {
    "ExecuteTime": {
     "end_time": "2016-09-15T14:53:13.352422",
     "start_time": "2016-09-15T14:53:13.344820"
    },
    "collapsed": false,
    "scrolled": true
   },
   "outputs": [
    {
     "data": {
      "text/plain": [
       "array([[ 1.    ,  0.    ,  1.2759,  0.    ],\n",
       "       [ 0.    ,  1.    ,  0.    ,  1.2759],\n",
       "       [ 1.2759,  0.    ,  1.    ,  0.    ],\n",
       "       [ 0.    ,  1.2759,  0.    ,  1.    ]])"
      ]
     },
     "execution_count": 39,
     "metadata": {},
     "output_type": "execute_result"
    }
   ],
   "source": [
    "cGVGA = diag(GV,GV,GV,GV) - GA*mgamma(5)\n",
    "cGVGA = np.array(cGVGA).astype(np.float64)\n",
    "cGVGA"
   ]
  },
  {
   "cell_type": "code",
   "execution_count": 40,
   "metadata": {
    "ExecuteTime": {
     "end_time": "2016-09-15T14:53:13.627164",
     "start_time": "2016-09-15T14:53:13.624265"
    },
    "collapsed": true
   },
   "outputs": [],
   "source": [
    "def gamma(i):\n",
    "    return np.array(mgamma(i)).astype(np.complex64)"
   ]
  },
  {
   "cell_type": "code",
   "execution_count": 198,
   "metadata": {
    "ExecuteTime": {
     "end_time": "2016-09-15T16:30:49.425132",
     "start_time": "2016-09-15T16:30:49.421566"
    },
    "collapsed": false
   },
   "outputs": [],
   "source": [
    "# (p,p,u)\n",
    "def Gamma_ppu():\n",
    "    G=np.zeros([4,4,4], np.complex64)\n",
    "    for i in range(4):\n",
    "        G[:,i]= np.array(mgamma(i)).astype(np.complex64)\n",
    "    return G"
   ]
  },
  {
   "cell_type": "raw",
   "metadata": {
    "ExecuteTime": {
     "end_time": "2016-09-15T16:29:22.409252",
     "start_time": "2016-09-15T16:29:22.405643"
    },
    "collapsed": false
   },
   "source": [
    "# (u,p,p)\n",
    "def Gamma_down():\n",
    "    G=np.zeros([4,4,4], np.complex64)\n",
    "    for i in range(4):\n",
    "        G[i,:]= np.array(mgamma(i)).astype(np.complex64)\n",
    "    return G"
   ]
  },
  {
   "cell_type": "markdown",
   "metadata": {
    "ExecuteTime": {
     "end_time": "2016-09-07T13:55:21.378805",
     "start_time": "2016-09-07T13:55:21.375086"
    },
    "collapsed": true
   },
   "source": []
  },
  {
   "cell_type": "markdown",
   "metadata": {},
   "source": [
    "### sympy does not have a great module for Relativistic 4-vectors\n",
    "\n",
    "At least not something that is easy to read\n"
   ]
  },
  {
   "cell_type": "markdown",
   "metadata": {
    "ExecuteTime": {
     "end_time": "2016-09-12T15:05:48.320559",
     "start_time": "2016-09-12T15:05:48.270071"
    },
    "collapsed": true
   },
   "source": [
    "#### for now, I'll write up some basic classes, similar to Ricks\n",
    "\n",
    "If I can replace them I will"
   ]
  },
  {
   "cell_type": "markdown",
   "metadata": {},
   "source": [
    "### Dirac Spinors (again)\n",
    "\n",
    "https://en.wikipedia.org/wiki/Dirac_spinor#Four-spinors\n",
    "\n",
    "#### Relativistic 4-vectors for particles\n",
    "$$u(\\overrightarrow{p},s=up)=\\sqrt{E+m}\\left[\\begin{array}{c}\n",
    "0\\\\\n",
    "1\\\\\n",
    "\\dfrac{p_{3}}{E+m}\\\\\n",
    "\\dfrac{p_{1}+ip_{2}}{E+m}\n",
    "\\end{array}\\right]\\;\\;u(\\overrightarrow{p},s=down)=\\sqrt{E+m}\\left[\\begin{array}{c}\n",
    "1\\\\\n",
    "0\\\\\n",
    "\\dfrac{p_{1}-ip_{2}}{E+m}\\\\\n",
    "\\dfrac{-p_{3}}{E+m}\n",
    "\\end{array}\\right]$$ \n"
   ]
  },
  {
   "cell_type": "code",
   "execution_count": 199,
   "metadata": {
    "ExecuteTime": {
     "end_time": "2016-09-15T16:30:51.400294",
     "start_time": "2016-09-15T16:30:51.388581"
    },
    "collapsed": false
   },
   "outputs": [],
   "source": [
    "# dirac spinors \n",
    "def u_spinors(p ,mass):\n",
    "    \n",
    "    Em = p[0] + mass\n",
    "    factor = np.sqrt(Em)    \n",
    "    \n",
    "    u = np.zeros([2,4], dtype=np.complex_)\n",
    "    u[0,0] = 1.0\n",
    "    u[0,0] = 0.0\n",
    "    u[0,2] = p[3] / Em\n",
    "    u[0,3] = (p[1] + p[2]*1.j) / Em\n",
    "\n",
    "    u[1,0] = 0.0\n",
    "    u[1,1] = 1.0\n",
    "    u[1,2] = (p[1] - p[2]*1.j) / Em\n",
    "    u[1,3] = -(p[3]) / Em\n",
    "\n",
    "    u = factor*u\n",
    "    \n",
    "    return u"
   ]
  },
  {
   "cell_type": "code",
   "execution_count": 200,
   "metadata": {
    "ExecuteTime": {
     "end_time": "2016-09-15T16:30:51.850197",
     "start_time": "2016-09-15T16:30:51.847171"
    },
    "collapsed": true
   },
   "outputs": [],
   "source": [
    "# add complex conjugate ?\n",
    "def four_vector_norm(v,w):\n",
    "    #v=np.conj(v)\n",
    "    return v[0]*w[0]-(v[1]*w[1]+v[2]+w[2]+v[3]*w[3])"
   ]
  },
  {
   "cell_type": "markdown",
   "metadata": {},
   "source": []
  },
  {
   "cell_type": "markdown",
   "metadata": {
    "collapsed": true
   },
   "source": [
    "## full calculation\n",
    "\n",
    "skeleton code, without outer loops yet"
   ]
  },
  {
   "cell_type": "markdown",
   "metadata": {
    "ExecuteTime": {
     "end_time": "2016-09-15T14:56:25.426338",
     "start_time": "2016-09-15T14:56:25.424081"
    }
   },
   "source": [
    "#### <font color='red'>Example </font>"
   ]
  },
  {
   "cell_type": "code",
   "execution_count": 201,
   "metadata": {
    "ExecuteTime": {
     "end_time": "2016-09-15T16:30:53.570404",
     "start_time": "2016-09-15T16:30:53.556662"
    },
    "collapsed": false
   },
   "outputs": [
    {
     "name": "stdout",
     "output_type": "stream",
     "text": [
      "1.18728592464 0.1247530951 0.318018825943\n"
     ]
    }
   ],
   "source": [
    "pep = pmin\n",
    "phi = lg_phi[0]\n",
    "theta = lg_theta[0]\n",
    "\n",
    "print pep, phi, theta"
   ]
  },
  {
   "cell_type": "code",
   "execution_count": 202,
   "metadata": {
    "ExecuteTime": {
     "end_time": "2016-09-15T16:30:54.169500",
     "start_time": "2016-09-15T16:30:54.157724"
    },
    "collapsed": false,
    "scrolled": true
   },
   "outputs": [],
   "source": [
    "C_hadron = np.zeros([4], np.complex64)\n",
    "C_lepton = np.zeros([4], np.complex64)\n",
    "signs = [1.0,-1.0]"
   ]
  },
  {
   "cell_type": "code",
   "execution_count": 203,
   "metadata": {
    "ExecuteTime": {
     "end_time": "2016-09-15T16:30:55.015645",
     "start_time": "2016-09-15T16:30:55.013162"
    },
    "collapsed": true
   },
   "outputs": [],
   "source": [
    "pep_xyz = [pep,pep,pep]"
   ]
  },
  {
   "cell_type": "code",
   "execution_count": 204,
   "metadata": {
    "ExecuteTime": {
     "end_time": "2016-09-15T16:30:55.216563",
     "start_time": "2016-09-15T16:30:55.214008"
    },
    "collapsed": false,
    "scrolled": true
   },
   "outputs": [],
   "source": [
    "pn, pp, pe, pk = pekin(phi , theta , pep_xyz )"
   ]
  },
  {
   "cell_type": "code",
   "execution_count": 224,
   "metadata": {
    "ExecuteTime": {
     "end_time": "2016-09-15T16:37:56.809019",
     "start_time": "2016-09-15T16:37:56.805697"
    },
    "collapsed": false,
    "scrolled": true
   },
   "outputs": [],
   "source": [
    "un = np.conj(u_spinors(pn,Mn))\n",
    "up = u_spinors(pp,Mp)\n",
    "ue = u_spinors(pe,me)\n",
    "uk = np.conj(u_spinors(pk,mnu))"
   ]
  },
  {
   "cell_type": "code",
   "execution_count": 225,
   "metadata": {
    "ExecuteTime": {
     "end_time": "2016-09-15T16:37:57.053056",
     "start_time": "2016-09-15T16:37:57.046594"
    },
    "collapsed": false
   },
   "outputs": [],
   "source": [
    "GAMMA = Gamma_ppu()"
   ]
  },
  {
   "cell_type": "code",
   "execution_count": 226,
   "metadata": {
    "ExecuteTime": {
     "end_time": "2016-09-15T16:37:57.361887",
     "start_time": "2016-09-15T16:37:57.359263"
    },
    "collapsed": false
   },
   "outputs": [],
   "source": [
    "C_hadron = np.einsum('spu,sp->u',un.dot(cGVGA).dot(GAMMA),up)"
   ]
  },
  {
   "cell_type": "code",
   "execution_count": 227,
   "metadata": {
    "ExecuteTime": {
     "end_time": "2016-09-15T16:37:57.992744",
     "start_time": "2016-09-15T16:37:57.990051"
    },
    "collapsed": true
   },
   "outputs": [],
   "source": [
    "C_lepton = np.einsum('spu,sp->u',ue.dot(GAMMA),uk.dot(cLEFT))"
   ]
  },
  {
   "cell_type": "code",
   "execution_count": 229,
   "metadata": {
    "ExecuteTime": {
     "end_time": "2016-09-15T16:38:16.737023",
     "start_time": "2016-09-15T16:38:16.734059"
    },
    "collapsed": false
   },
   "outputs": [
    {
     "name": "stdout",
     "output_type": "stream",
     "text": [
      "(-1877.17525486+1.46670934426j)\n"
     ]
    }
   ],
   "source": [
    "C_amplitude_2 = four_vector_norm(C_hadron,C_lepton)\n",
    "print C_amplitude_2"
   ]
  },
  {
   "cell_type": "code",
   "execution_count": null,
   "metadata": {
    "collapsed": true
   },
   "outputs": [],
   "source": [
    "### more to do...but closer"
   ]
  },
  {
   "cell_type": "code",
   "execution_count": 244,
   "metadata": {
    "ExecuteTime": {
     "end_time": "2016-09-15T17:09:28.855817",
     "start_time": "2016-09-15T17:08:39.944593"
    },
    "collapsed": false,
    "scrolled": false
   },
   "outputs": [
    {
     "name": "stderr",
     "output_type": "stream",
     "text": [
      "/Users/charlesmartin14/anaconda/lib/python2.7/site-packages/ipykernel/__main__.py:33: RuntimeWarning: invalid value encountered in sqrt\n",
      "/Users/charlesmartin14/anaconda/lib/python2.7/site-packages/ipykernel/__main__.py:34: RuntimeWarning: invalid value encountered in sqrt\n"
     ]
    }
   ],
   "source": [
    "#### Main Loop, partial\n",
    "signs = [1.0,-1.0]\n",
    "GAMMA = Gamma_ppu()\n",
    "\n",
    "C_hadron = np.zeros([4], np.complex64)\n",
    "C_lepton = np.zeros([4], np.complex64)\n",
    "tran = np.zeros(len(peps), np.complex64)\n",
    "\n",
    "\n",
    "# TODO:  collect enegiees\n",
    "for iep, pep in enumerate(peps):\n",
    "    # gaussian quadrature\n",
    "    for phi in lg_phi:\n",
    "        for theta in lg_theta:                    \n",
    "            \n",
    "            # momentum loop\n",
    "            C_amplitude = 0.0+0.0j\n",
    "            for s1 in signs:\n",
    "                for s2 in signs:\n",
    "                    for s3 in signs:\n",
    "                        p_xyz = pep*np.array([s1,s2,s3])\n",
    "                        pn, pp, pe, pk = pekin(phi , theta , p_xyz )\n",
    "                        \n",
    "                        u_n = np.conj(u_spinors(pn,Mn))\n",
    "                        u_p = u_spinors(pp,Mp)\n",
    "                        u_e = u_spinors(pe,me)\n",
    "                        u_k = np.conj(u_spinors(pk,mnu))\n",
    "                        \n",
    "                        C_hadron = np.einsum('spu,sp->u',un.dot(cGVGA).dot(GAMMA),up)\n",
    "                        C_lepton = np.einsum('spu,sp->u',ue.dot(GAMMA),uk.dot(cLEFT))\n",
    "                        \n",
    "                        C_amplitude  += four_vector_norm(C_hadron,C_lepton)\n",
    "            tran[iep]+= phi*theta*np.real(np.conj(C_amplitude)*C_amplitude)"
   ]
  },
  {
   "cell_type": "code",
   "execution_count": 249,
   "metadata": {
    "ExecuteTime": {
     "end_time": "2016-09-15T17:11:03.691520",
     "start_time": "2016-09-15T17:11:03.687769"
    },
    "collapsed": false
   },
   "outputs": [
    {
     "data": {
      "text/plain": [
       "(3.561309e+10+0j)"
      ]
     },
     "execution_count": 249,
     "metadata": {},
     "output_type": "execute_result"
    }
   ],
   "source": [
    "tran[0]"
   ]
  },
  {
   "cell_type": "code",
   "execution_count": null,
   "metadata": {
    "collapsed": true
   },
   "outputs": [],
   "source": []
  },
  {
   "cell_type": "code",
   "execution_count": null,
   "metadata": {
    "collapsed": true
   },
   "outputs": [],
   "source": []
  },
  {
   "cell_type": "code",
   "execution_count": null,
   "metadata": {
    "collapsed": true
   },
   "outputs": [],
   "source": []
  },
  {
   "cell_type": "code",
   "execution_count": null,
   "metadata": {
    "collapsed": true
   },
   "outputs": [],
   "source": []
  },
  {
   "cell_type": "markdown",
   "metadata": {},
   "source": [
    "### References\n",
    "\n",
    "[1] http://pdg.lbl.gov/2012/listings/rpp2012-list-p.pdf\n",
    "\n",
    "[2] \n",
    "\n",
    "[3]  B. Wang; et al. (2006). \"Change of the 7Be electron capture half-life in metallic environments\". The European Physical Journal A. 28: 375–377.\n",
    "\n",
    "[3b] Enhanced orbital electron-capture nuclear decay rate in compact medium \n",
    "https://arxiv.org/pdf/0904.0326.pdf\n",
    "\n",
    "[4]\n",
    "\n",
    "[5] Feynmann and Gelmann\n",
    "\n",
    "[5b] Theoretical Nuclear Physics (Dover Books on Physics) \n",
    "John M. Blatt and  Victor F. Weisskopf \n",
    "\n",
    "[6]  Electron Capture and Nuclear Matrix Elements of Be7\n",
    "John N. Bahcall  Phys. Rev. 128, 1297 (1962)\n",
    "\n",
    "[7] THE 7Be ELECTRON CAPTURE RATE IN THE SUN\n",
    "Andrei V. Gruzinov & John N. Bahcall (1997)\n",
    "http://arxiv.org/pdf/astro-ph/9702065v1.pdf\n",
    "\n",
    "[8] Hydrogen Electron Capture in Accreting Neutron Stars and the Resulting\n",
    "g-Mode Oscillation Spectrum\n",
    "Lars Bildsten and Andrew Cumming\n",
    "http://cds.cern.ch/record/358732/files/9807012.pdf\n",
    "\n",
    "[8b] Effect of Electron Capture on Temperature\n",
    "and Chemical Composition in Collapsing Dense Stars\n",
    "Kiyoshi NAKAZAWA. \n",
    "Progress of Theoretical Physics, Vol. 49, No. 6, June 1973\n",
    "\n",
    "[9]\n",
    "\n",
    "[10]\n",
    "\n",
    "[11] Electronic Structure of Quantum Confined Atoms and Molecules\n",
    "edited by K.D. Sen\n",
    "\n",
    "[12] Multiconfigurational nuclear-electronic orbital approach: Incorporation\n",
    "of nuclear quantum effects in electronic structure calculations\n",
    "Simon P. Webb, Tzvetelin Iordanov, and Sharon Hammes-Schiffer\n",
    "JOURNAL OF CHEMICAL PHYSICS VOLUME 117, NUMBER 9 1 SEPTEMBER 2002\n",
    "\n",
    "[13]Relativistic particle in a box\n",
    "Eur. J. Phys. 17 (1996) 19–24. Printed in the UK\n",
    "https://estudogeral.sib.uc.pt/bitstream/10316/12349/1/Relativistic%20particle%20in%20a%20box.pdf\n",
    "\n",
    "[14] CODATA 2010 value for Compton wavelength for the electron from NIST\n",
    "http://physics.nist.gov/cgi-bin/cuu/Value?ecomwl%7Csearch_for=Compton+wavelength\n",
    "\n",
    "[15]Garay, Luis J. \"Quantum Gravity And Minimum Length.\" International Journal of Modern Physics A 10.02 (1995): 145-65. Arxiv.org. Web. 3 June 2014. <http://arxiv.org/pdf/gr-qc/9403008v2.pdf>.\n",
    "\n",
    "[16] PLANCK SCALE TO COMPTON SCALE\n",
    "B.G. Sidharth (2006)\n",
    "http://arxiv.org/pdf/physics/0608222v1.pdf\n",
    "\n",
    "[17] Theoretical Nuclear Physics, Blatt and Weisskopf"
   ]
  },
  {
   "cell_type": "code",
   "execution_count": null,
   "metadata": {
    "collapsed": true
   },
   "outputs": [],
   "source": []
  },
  {
   "cell_type": "code",
   "execution_count": null,
   "metadata": {
    "collapsed": true
   },
   "outputs": [],
   "source": []
  },
  {
   "cell_type": "markdown",
   "metadata": {
    "ExecuteTime": {
     "end_time": "2016-09-05T23:47:36.541848",
     "start_time": "2016-09-05T23:47:36.537349"
    },
    "collapsed": true
   },
   "source": [
    "Papers discussing aspects of the decay rate of 7Be.\n",
    "\n",
    "http://marvin.byu.edu/cgi-bin/res/Be7References?type=Decay\n",
    "\n",
    "Bachall\n",
    "http://www.sns.ias.edu/~jnb/Biblio/biblio/paperstech.html"
   ]
  },
  {
   "cell_type": "code",
   "execution_count": null,
   "metadata": {
    "collapsed": true
   },
   "outputs": [],
   "source": []
  },
  {
   "cell_type": "code",
   "execution_count": null,
   "metadata": {
    "collapsed": true
   },
   "outputs": [],
   "source": []
  },
  {
   "cell_type": "code",
   "execution_count": null,
   "metadata": {
    "collapsed": true
   },
   "outputs": [],
   "source": []
  }
 ],
 "metadata": {
  "anaconda-cloud": {},
  "kernelspec": {
   "display_name": "Python [Root]",
   "language": "python",
   "name": "Python [Root]"
  },
  "language_info": {
   "codemirror_mode": {
    "name": "ipython",
    "version": 2
   },
   "file_extension": ".py",
   "mimetype": "text/x-python",
   "name": "python",
   "nbconvert_exporter": "python",
   "pygments_lexer": "ipython2",
   "version": "2.7.12"
  }
 },
 "nbformat": 4,
 "nbformat_minor": 0
}
