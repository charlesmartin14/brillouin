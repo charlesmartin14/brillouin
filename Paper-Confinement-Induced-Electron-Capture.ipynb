{
 "cells": [
  {
   "cell_type": "markdown",
   "metadata": {
    "ExecuteTime": {
     "end_time": "2016-09-05T21:26:37.768269",
     "start_time": "2016-09-05T21:26:37.763464"
    }
   },
   "source": [
    "# Confinement Induced Electron Capture\n",
    "## Brillouin Energy Corporation\n"
   ]
  },
  {
   "cell_type": "markdown",
   "metadata": {},
   "source": [
    "#### Abstract: \n",
    "\n",
    "We describe a Gedandkenexperiment in which a bare proton can capture an electron due soley to confinement.  We provide numerical solution of the Fermi VA-Theory for K-electron capture for an electron-proton pair  confined in a classical box of size L.  Interestingly, we find that the capture is most likely for L=0.004-0.009 Angstroms, and unlikely for L < 0.004 Angstroms."
   ]
  },
  {
   "cell_type": "markdown",
   "metadata": {},
   "source": [
    "### Background:\n",
    "    \n",
    "#### Proton Decay\n",
    "Protons do not decay. At least, no experiment has observed a proton decay.  In the Standard Model, protons are the lightest baryon and therefore it has to decay to something other than a baryon. \n",
    "\n",
    "Current candidates for proton decay [1] place the proton lifetime at ~10^30 - 10^34 years, all of which are longer than the known lifetime of the universe.\n",
    "\n",
    "Indeed, most theoreticians beleive they must decay to have a matter-imbalance difference in the early universe. For example, the g the Georgi-Glashow Grand Unified Theory (GUT) predicts a proton would decay into an positron and a pion\n",
    "\n",
    "$$p^{+}\\rightarrow\\;e^{+}\\;+\\;\\pi^{0}$$\n",
    "\n",
    "(with a lifetime of 10^30-10^31 years)\n",
    "\n",
    "In contrast, neutrons decay in a process called inverse Beta decay\n",
    "\n",
    "$$n^{0}\\rightarrow\\;p^{+}+\\;e^{-}\\;+\\;\\bar{\\nu}^{e}$$\n",
    "\n",
    "with a halflife of ~15min."
   ]
  },
  {
   "cell_type": "markdown",
   "metadata": {},
   "source": [
    "#### K Electon Capture\n",
    "\n",
    "Protons do transform into neutrons in some light atoms, in a process called K-electron capture [2]. The proton, bound in the nucleus, captures a low lying, bound, atomic electon, forming a neutron and an electron neutrino\n",
    "\n",
    "$$p^{+}+\\;e^{-}\\rightarrow\\;n^{0}\\;+\\;\\bar{\\nu}^{e}$$\n",
    "\n",
    "K-electron capture (EC) usually occurs unstable radioisotopes which lack the (nuclear binding) energy to decay by positron emission (standard Beta decay).   \n",
    "\n",
    "In rare cases, a photon is emitted with the neutrino; this is called Radiative Electron Capture (REC). \n",
    "\n",
    "Because EC usually occurs in (proton-rich) nuclei, and, subsequently releases a gamma photon, the reaction is also written as\n",
    "\n",
    "$$^{Z}X_{A}+\\;e^{-}\\rightarrow\\;^{Z+1}X_{A-1}\\;+\\;\\gamma$$\n",
    "\n",
    "(where Z is the number of protons, and A the number of neutons)\n",
    "\n",
    "The lightest element EC has been observed in is 7Be [3].  Curiously, being so light, the EC rate in 7Be can be  affected, by ~%1, by it's chemical environment [4].  \n",
    "\n",
    "The rate of EC can be computed using the Fermi VA-Theory [5]"
   ]
  },
  {
   "cell_type": "markdown",
   "metadata": {
    "ExecuteTime": {
     "end_time": "2016-09-05T22:06:14.989661",
     "start_time": "2016-09-05T22:06:14.987032"
    }
   },
   "source": [
    "#### Stellar Nucleosynthesis\n",
    "\n",
    "Electron Capture is also thought to occur in stars [expand here]\n",
    "\n",
    "For example, Bahcall and coworkers have studied the EC in stellar media [6], and have computed the rate of EC of 7Be in the Sun [7].\n",
    "\n",
    "It is beleived that a Hydrogen undergoes EC is in a collapsing star [8,8b]; in fact, EC is thought to create stellar instability. [8]  While we usually characterize a start by it's temperature, these are also very dense systems, with ρ ∼ < 10^6 g cm−3.  In contrast, the smallest star has density ρ ∼ 10^2 - 10^3g cm−3 [?]\n",
    "\n",
    "\n"
   ]
  },
  {
   "cell_type": "markdown",
   "metadata": {
    "ExecuteTime": {
     "end_time": "2016-09-05T23:51:57.433615",
     "start_time": "2016-09-05T23:51:57.430924"
    }
   },
   "source": [
    "#### Confinement Induced Electron Capture\n",
    "\n",
    "We pose the following Gedankenexperiment:  suppose we confine an electron, proton pair as a classical particle-in-a-box of volumne L^3.  What box size (L) will 'induce' electron confinment ?\n",
    "\n"
   ]
  },
  {
   "cell_type": "markdown",
   "metadata": {
    "ExecuteTime": {
     "end_time": "2016-09-05T23:36:55.786355",
     "start_time": "2016-09-05T23:36:55.782136"
    },
    "collapsed": true
   },
   "source": [
    "### Theory\n",
    "\n",
    "The Hamiltonian for Electron Capture is \n",
    "\n"
   ]
  },
  {
   "cell_type": "code",
   "execution_count": null,
   "metadata": {
    "collapsed": true
   },
   "outputs": [],
   "source": []
  },
  {
   "cell_type": "markdown",
   "metadata": {},
   "source": [
    "### References\n",
    "\n",
    "[1] http://pdg.lbl.gov/2012/listings/rpp2012-list-p.pdf\n",
    "\n",
    "[2] \n",
    "\n",
    "[3]  B. Wang; et al. (2006). \"Change of the 7Be electron capture half-life in metallic environments\". The European Physical Journal A. 28: 375–377.\n",
    "\n",
    "[3b] Enhanced orbital electron-capture nuclear decay rate in compact medium \n",
    "https://arxiv.org/pdf/0904.0326.pdf\n",
    "\n",
    "[4]\n",
    "\n",
    "[5] VA theory references\n",
    "\n",
    "[5b] Theoretical Nuclear Physics (Dover Books on Physics) \n",
    "John M. Blatt and  Victor F. Weisskopf \n",
    "\n",
    "[6]  Electron Capture and Nuclear Matrix Elements of Be7\n",
    "John N. Bahcall  Phys. Rev. 128, 1297 (1962)\n",
    "\n",
    "[7] THE 7Be ELECTRON CAPTURE RATE IN THE SUN\n",
    "Andrei V. Gruzinov & John N. Bahcall (1997)\n",
    "http://arxiv.org/pdf/astro-ph/9702065v1.pdf\n",
    "\n",
    "[8] Hydrogen Electron Capture in Accreting Neutron Stars and the Resulting\n",
    "g-Mode Oscillation Spectrum\n",
    "Lars Bildsten and Andrew Cumming\n",
    "http://cds.cern.ch/record/358732/files/9807012.pdf\n",
    "\n",
    "[8b] Effect of Electron Capture on Temperature\n",
    "and Chemical Composition in Collapsing Dense Stars\n",
    "Kiyoshi NAKAZAWA. \n",
    "Progress of Theoretical Physics, Vol. 49, No. 6, June 1973\n",
    "\n"
   ]
  },
  {
   "cell_type": "markdown",
   "metadata": {
    "ExecuteTime": {
     "end_time": "2016-09-05T23:47:36.541848",
     "start_time": "2016-09-05T23:47:36.537349"
    },
    "collapsed": true
   },
   "source": [
    "Papers discussing aspects of the decay rate of 7Be.\n",
    "\n",
    "http://marvin.byu.edu/cgi-bin/res/Be7References?type=Decay\n",
    "\n",
    "Bachall\n",
    "http://www.sns.ias.edu/~jnb/Biblio/biblio/paperstech.html"
   ]
  },
  {
   "cell_type": "code",
   "execution_count": null,
   "metadata": {
    "collapsed": true
   },
   "outputs": [],
   "source": []
  }
 ],
 "metadata": {
  "anaconda-cloud": {},
  "kernelspec": {
   "display_name": "Python [Root]",
   "language": "python",
   "name": "Python [Root]"
  },
  "language_info": {
   "codemirror_mode": {
    "name": "ipython",
    "version": 2
   },
   "file_extension": ".py",
   "mimetype": "text/x-python",
   "name": "python",
   "nbconvert_exporter": "python",
   "pygments_lexer": "ipython2",
   "version": "2.7.12"
  }
 },
 "nbformat": 4,
 "nbformat_minor": 0
}
