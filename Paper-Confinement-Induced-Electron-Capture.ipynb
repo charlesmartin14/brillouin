{
 "cells": [
  {
   "cell_type": "markdown",
   "metadata": {
    "ExecuteTime": {
     "end_time": "2016-09-05T21:26:37.768269",
     "start_time": "2016-09-05T21:26:37.763464"
    }
   },
   "source": [
    "# Confinement Induced Electron Capture\n",
    "## Brillouin Energy Corporation\n"
   ]
  },
  {
   "cell_type": "markdown",
   "metadata": {},
   "source": [
    "#### Abstract: \n",
    "\n",
    "We describe a Gedandkenexperiment in which a bare proton can capture an electron due soley to confinement.  We provide numerical solution of the Fermi VA-Theory for K-electron capture for an electron-proton pair  confined in a classical box of size L.  Interestingly, we find that the capture is most likely for L=0.004-0.009 Angstroms, and unlikely for L < 0.004 Angstroms."
   ]
  },
  {
   "cell_type": "markdown",
   "metadata": {},
   "source": [
    "### Background:\n",
    "    \n",
    "#### Proton Decay\n",
    "Protons do not decay. At least, no experiment has observed a proton decay.  In the Standard Model, protons are the lightest baryon and therefore it has to decay to something other than a baryon. \n",
    "\n",
    "Current candidates for proton decay [1] place the proton lifetime at $~10^{30} - 10^{34}$ years, all of which are longer than the known lifetime of the universe.\n",
    "\n",
    "Indeed, most theoreticians beleive they must decay to have a matter-imbalance difference in the early universe. For example, the g the Georgi-Glashow Grand Unified Theory (GUT) predicts a proton would decay into an positron and a pion\n",
    "\n",
    "$$p^{+}\\rightarrow\\;e^{+}\\;+\\;\\pi^{0}$$\n",
    "\n",
    "(with a lifetime of $10^{30} - 10^{31}$ years)\n",
    "\n",
    "In contrast, neutrons readily decay \n",
    "\n",
    "$$n^{0}\\rightarrow\\;p^{+}+\\;e^{-}\\;+\\;\\bar{\\nu}^{e}$$\n",
    "\n",
    "with a halflife of ~15min."
   ]
  },
  {
   "cell_type": "markdown",
   "metadata": {},
   "source": [
    "#### K Electon Capture\n",
    "\n",
    "Protons do transform into neutrons in some light atoms, in a process called K-electron capture [2]. The proton, bound in the nucleus, captures a low lying, bound, atomic electon, forming a neutron and an electron neutrino\n",
    "\n",
    "$$p^{+}+\\;e^{-}\\rightarrow\\;n^{0}\\;+\\;\\bar{\\nu}^{e}$$\n",
    "\n",
    "K-electron capture (EC) usually occurs unstable radioisotopes which lack the (nuclear binding) energy to decay by positron emission (standard Beta decay).   \n",
    "\n",
    "The nucleus may absorb some energy, becoming excited.  It then undegoes internal conversion.  During this, a higher lying, bound atomic electron is aborbed, and an xray released.   In rare cases, a gamma ray photon is emitted with the neutrino; this is called Radiative Electron Capture (REC). \n",
    "\n",
    "Because electon capture occurs in (proton-rich) nuclei, and, subsequently, releases a xray photon, we may write reaction as\n",
    "\n",
    "$$^{Z}X_{A}+\\;e^{-}\\rightarrow\\;^{Z+1}X_{A-1}\\;+\\;h\\nu$$\n",
    "\n",
    "(where Z is the number of protons, A the number of neutons, and $h\\nu$ is an xray photon)\n",
    "\n",
    "The lightest element EC has been observed in is 7Be [3].  Curiously, being so light, the EC rate in 7Be can be  affected, by ~%1, by it's chemical environment [4].  \n",
    "\n",
    "The rate of EC can be computed using the Fermi VA-Theory [5]"
   ]
  },
  {
   "cell_type": "markdown",
   "metadata": {
    "ExecuteTime": {
     "end_time": "2016-09-05T22:06:14.989661",
     "start_time": "2016-09-05T22:06:14.987032"
    }
   },
   "source": [
    "#### Stellar Nucleosynthesis\n",
    "\n",
    "Electron Capture is also thought to occur in stars [expand here]\n",
    "\n",
    "For example, Bahcall and coworkers have studied the EC in stellar media [6], and have computed the rate of EC of 7Be in the Sun [7].\n",
    "\n",
    "It is beleived that a Hydrogen undergoes EC is in a collapsing star [8,8b]; in fact, EC is thought to create stellar instability. [8]  While we usually characterize a start by it's temperature, these are also very dense systems, with $\\rho\\sim 10^6\\;g\\;cm^{-3}$.  In contrast, the smallest star has density $\\rho\\sim 10^{2}-10^{3}\\;g\\;cm^{-3}$ [?]\n",
    "\n",
    "\n"
   ]
  },
  {
   "cell_type": "markdown",
   "metadata": {
    "ExecuteTime": {
     "end_time": "2016-09-05T23:51:57.433615",
     "start_time": "2016-09-05T23:51:57.430924"
    }
   },
   "source": [
    "#### Confinement Induced Electron Capture\n",
    "\n",
    "We pose the following Gedankenexperiment:  \n",
    "\n",
    "Suppose we confine an electron, proton pair as a classical particle-in-a-box of volumne $L^3$.  What box size (L) will 'induce' electron confinment ?\n",
    "\n",
    "The first obvious question is, should we use a classical or a relativisitic box?   We can safely use a classical box as long as $L_{min} \\ge \\dfrac{1}{2\\pi}\\lambda_{C,e}$, where $\\lambda_{C}$ is Compton wavelength of an electron [13,14, 16].  The Compton wavelength sets the scale, accounting for both quantum mechanics and special relativity. [15]\n",
    "\n",
    "$$\\lambda_{C}=\\dfrac{h}{m_{e}c}=\\dfrac{e^{2}}{m_{e}c^{2}}$$\n",
    "\n",
    "$$\\lambda_{C}\\approx2.426\\times 10^{-12}\\;m$$\n",
    "\n",
    "which sets the minimum L on the order of 0.004 Angstrom [13]\n",
    "$$L_{min,e}\\sim0.004\\;\\mathring{A}$$ \n",
    "\n",
    "So we use a classicial box, with minimum size $L_{min,e}$; we compute the maximum size below."
   ]
  },
  {
   "cell_type": "markdown",
   "metadata": {
    "ExecuteTime": {
     "end_time": "2016-09-05T23:36:55.786355",
     "start_time": "2016-09-05T23:36:55.782136"
    },
    "collapsed": true
   },
   "source": [
    "### Theory\n"
   ]
  },
  {
   "cell_type": "markdown",
   "metadata": {},
   "source": [
    "#### Particle production under the Weak interaction\n",
    "\n",
    "Electron capture is mediated by the Weak Interaction.  The particle production processes, for particles in a box, may  include electron capture and proton capture by protons. We only treat on electron capture here.  "
   ]
  },
  {
   "cell_type": "markdown",
   "metadata": {
    "ExecuteTime": {
     "end_time": "2016-09-06T13:46:51.757250",
     "start_time": "2016-09-06T13:46:51.752407"
    }
   },
   "source": [
    "<img src=\"img/feynman.png\" width=\"400\" height=\"400\" />\n",
    "<center>particle production process</center>"
   ]
  },
  {
   "cell_type": "markdown",
   "metadata": {},
   "source": [
    "The Lagrangian for the V-A theory is given by\n",
    "\n",
    "[fill in]\n",
    "\n",
    "\n",
    "\n"
   ]
  },
  {
   "cell_type": "markdown",
   "metadata": {},
   "source": [
    "The V-A theory provides a way to compute the cross section for orbital (K) Electron Capture.\n",
    "\n",
    "\n",
    "The cross section for the process\n",
    "\n",
    "$$p^{+}+e^{-}\\rightarrow n^{0}+\\nu_{e}$$\n",
    "\n",
    "is given by the Golden rule\n",
    "\n",
    "$$d\\sigma_{ep}=\\left(\\dfrac{1}{2\\pi}\\right)^{2}\\dfrac{\\sum_{fi}\\big\\vert\\mathcal{M}_{fi}\\big\\vert^{2}}{16\\;\\big\\vert\\mathbf{k}\\cdot(E{_n}\\mathbf{k}-k^{0}\\mathbf{p}_{n})\\big\\vert}\\dfrac{k^{3}p_{e}d\\Omega_{k}}{\\big\\vert\\mathbf{p}_{e}\\cdot(E_{p}\\mathbf{p}_{e}-E_{e}\\mathbf{p}_{e})\\big\\vert}$$\n",
    "\n",
    "Notice that when applying the VA theory this way, we assume that the electron-proton interaction is a contact potential, operating at the surface of the nucleus, and that the underlying quantum process is incoherent.  \n",
    "\n",
    "[explain k, other terms]\n"
   ]
  },
  {
   "cell_type": "markdown",
   "metadata": {
    "ExecuteTime": {
     "end_time": "2016-09-06T11:59:43.780773",
     "start_time": "2016-09-06T11:59:43.767307"
    }
   },
   "source": []
  },
  {
   "cell_type": "markdown",
   "metadata": {
    "ExecuteTime": {
     "end_time": "2016-09-06T00:20:30.931873",
     "start_time": "2016-09-06T00:20:30.927166"
    },
    "collapsed": true
   },
   "source": [
    "#### Particle-in-the-box Wavefunctions\n",
    "\n",
    "We treat the electron, proton pair as classical particle-in-a-box.\n",
    "\n",
    "$$\\psi_{ep}(\\mathbf{x})=\\left(\\dfrac{2}{L}\\right)^{\\frac{3}{2}}cos\\left(\\dfrac{\\pi x}{L}\\right)cos\\left(\\dfrac{\\pi y}{L}\\right)cos\\left(\\dfrac{\\pi z}{L}\\right)$$\n",
    "\n",
    "expressions for momentum\n",
    "\n",
    "Because the VA theory assumes an incoherent process, the electron, proton wavefunction is usually factored as an electron wavefunction, with a point-particle in the center\n",
    "\n",
    "$$\\psi_{ep}(\\mathbf{x})=\\psi_{p}(0)\\psi_{e}(\\mathbf{x})$$\n",
    "\n",
    "We only consider the  ground state $\\psi_{ep}^{0}$ wavefunction.\n",
    "\n",
    "\n",
    "We note, in *ab initio* electronic structure calculations, it is now generally possible to treat the Hydrogen prton wavefunction explicitly, and to treat the electron-proton coupling at the level of Hartree Fock (i.e. variational mean field) [12] This has proved useful for describing isotope effects on electronic structure\n",
    "\n",
    "Here, we treat the confined electron, proton pair in the c.m. frame so that the 3-momentum of the electron and proton related\n",
    "$$\\mathbf{p}_{e}=\\mathbf{p}_{pe}$$\n",
    "$$\\mathbf{p}_{p}=-\\mathbf{p}_{pe}$$\n"
   ]
  },
  {
   "cell_type": "markdown",
   "metadata": {},
   "source": [
    "#### Dirac Spinors\n",
    "\n",
    "We effectively represent the relativistic electronic wavefunctions in a form similar to plane wave solutions of the Dirac Equations\n",
    "\n",
    "$$\\Psi_{e}=u(\\overrightarrow{p},s)\\psi_{e}$$\n",
    "\n",
    "where $\\psi_{e}$ is the classical particle-in-the-box wavefunction.\n",
    "\n",
    "where the Dirac Spinors convention used is given by\n",
    "\n",
    "$$u(\\overrightarrow{p},s=up)=\\sqrt{E+m}\\left[\\begin{array}{c}\n",
    "0\\\\\n",
    "1\\\\\n",
    "\\dfrac{p_{3}}{E+m}\\\\\n",
    "\\dfrac{p_{1}+ip_{2}}{E+m}\n",
    "\\end{array}\\right]\\;\\;u(\\overrightarrow{p},s=down)=\\sqrt{E+m}\\left[\\begin{array}{c}\n",
    "1\\\\\n",
    "0\\\\\n",
    "\\dfrac{p_{1}-ip_{2}}{E+m}\\\\ \n",
    "\\dfrac{-p_{3}}{E+m} \n",
    "\\end{array}\\right]$$ \n",
    "\n"
   ]
  },
  {
   "cell_type": "markdown",
   "metadata": {},
   "source": [
    "##### comment on our approach\n",
    "\n",
    "We note that Blatt and Weisskopf describe the fermi VA theory in the non-relativisitic limit.  Here, they use classical plane wave solutions $(e^{i\\mathbf{p}\\mathbf{x}})$, with just box normalization $(\\frac{1}{L^{3}})$.  In contrast, we use the full classical particle-in-the-box wavefunctions, and analyze the problem just above the Componton scale using the low order VA theory.\n"
   ]
  },
  {
   "cell_type": "markdown",
   "metadata": {},
   "source": [
    "#### Relativistic Kinematics and Energetics\n",
    "\n",
    "\n",
    "For consistancy with the particle production process,\n",
    "\n",
    "$$ p+e\\rightarrow n+\\nu_{e} $$\n",
    "\n",
    "we treat all kinematics and energetics relativisitcally, such that\n",
    "\n",
    "$$\\overrightarrow{P}_{n}+\\overrightarrow{P}_{e}=\\overrightarrow{P}_{n}+\\overrightarrow{P}_{\\nu_{e}} $$\n",
    "\n",
    "$$E^{2}=M^{2}+p^{2}$$\n",
    "\n",
    "This gives\n",
    "\n",
    "$$E^{2}_{e}=m^{2}_{e}+3\\left(\\dfrac{\\pi}{L}\\right)^{2}$$ \n",
    "\n",
    "$$E^{2}_{p}=M^{2}_{p}+3\\left(\\dfrac{\\pi}{L}\\right)^{2}$$"
   ]
  },
  {
   "cell_type": "markdown",
   "metadata": {},
   "source": [
    "The threshold Kinetic energy in the center of momentum (c.m.) frame is given as\n",
    "\n",
    "$$EKe_{min}:\\;\\;K_{e}=E_{e}-m_{e}=\\dfrac{(M_{n}-m_{e}+m_{\\nu})^{2}-M^{2}_{p}}{2(M_{n}+m_{\\nu})}$$\n",
    " \n",
    "Giving the minimum momentum as\n",
    "\n",
    "$$pmin:\\;\\;\\mathbf{p}_{min}=\\sqrt{(K_{e}+m_{e})^{2}-m_{e}^{2}} $$\n",
    "\n",
    "(for the jupyter notebook, I will derive the results in the appendix)"
   ]
  },
  {
   "cell_type": "markdown",
   "metadata": {},
   "source": [
    "Of course, the proton rest frame is approximately the electron rest frame, but it should be mentioned that the in the electron rest frame, the threshold kinetic energy is 2000X greater.  \n",
    "\n",
    "Therefore, it is assumed that the energy transfer to induce electron capture is in the c.m. frame of the (e,p) pair."
   ]
  },
  {
   "cell_type": "markdown",
   "metadata": {},
   "source": [
    "The total energy in the c.m. frame is\n",
    "\n",
    "$$E_{tot}=E_{n}-E_{e}$$\n",
    "\n",
    "For the final state, the neutrino kinetic energy is\n",
    "\n",
    "$$K_{\\nu}=k^{0}-m_{\\nu}=\\dfrac{(E_{p}+E_{e}-m_{\\nu})^{2}-M^{2}_{n}}{2(E_{p}+E_{e})}$$\n",
    "\n",
    "and the neutron kinetic energy is\n",
    "\n",
    "$$K_{n}=E_{n}-M_{n}=\\dfrac{(E_{p}+E_{e}-M_{n})^{2}-m^{2}_{\\nu}}{2(E_{p}+E_{e})}$$\n",
    "\n",
    "\n"
   ]
  },
  {
   "cell_type": "code",
   "execution_count": 36,
   "metadata": {
    "ExecuteTime": {
     "end_time": "2016-09-13T00:03:49.301350",
     "start_time": "2016-09-13T00:03:49.294334"
    },
    "collapsed": false
   },
   "outputs": [],
   "source": [
    "import numpy as np\n",
    "import matplotlib\n",
    "import numpy as np\n",
    "import matplotlib.pyplot as plt\n",
    "%matplotlib inline "
   ]
  },
  {
   "cell_type": "code",
   "execution_count": 37,
   "metadata": {
    "ExecuteTime": {
     "end_time": "2016-09-13T00:03:49.485565",
     "start_time": "2016-09-13T00:03:49.479751"
    },
    "collapsed": false
   },
   "outputs": [],
   "source": [
    "import numpy as np\n",
    "# Hbar * c \n",
    "hbarc = 197.3269631 # MeV−fm\n",
    "\n",
    "# Masses of proton, neutron, elecron in MeV\n",
    "Mp = 938.272013 # MeV\n",
    "Mn = 939.565346 # MeV\n",
    "me = 0.510998910 # MeV\n",
    "mnu = 1.e-8 # MeV\n",
    "\n",
    "# units\n",
    "NM = 1e-9\n",
    "FM = 1e-15\n",
    "ANG = 1e-10"
   ]
  },
  {
   "cell_type": "code",
   "execution_count": 38,
   "metadata": {
    "ExecuteTime": {
     "end_time": "2016-09-13T00:03:49.658364",
     "start_time": "2016-09-13T00:03:49.654078"
    },
    "collapsed": false
   },
   "outputs": [
    {
     "name": "stdout",
     "output_type": "stream",
     "text": [
      "EKemin =  0.781582906698 MeV\n",
      "  pmin =  1.18728592464 MeV\n"
     ]
    }
   ],
   "source": [
    "Ekemin = ((Mn + mnu - me)**2 - Mp**2)/(2.0*(Mn+mnu))\n",
    "pmin = np.sqrt(( Ekemin+me)**2 - me**2)\n",
    "print \"EKemin = \", Ekemin, \"MeV\"\n",
    "print \"  pmin = \", pmin, \"MeV\""
   ]
  },
  {
   "cell_type": "markdown",
   "metadata": {},
   "source": [
    "We find $EKe_{min}~782\\;KeV$ and $p_{min}~1.187MeV$"
   ]
  },
  {
   "cell_type": "markdown",
   "metadata": {
    "ExecuteTime": {
     "end_time": "2016-09-06T14:15:50.492282",
     "start_time": "2016-09-06T14:15:50.488580"
    }
   },
   "source": [
    "#### Maximum Allowed Confinment\n",
    "\n",
    "We can estimate of the maximum box size using some relativistic kinematics.\n",
    "\n",
    "For a classical 3-D particle-in-a-box, in units of $\\hbar c$,  we have [13]\n",
    "\n",
    "$$\\mathbf{p}_{n}=\\dfrac{3n\\pi}{L}$$\n",
    "\n",
    "so that for n=0, \n",
    "\n",
    "$$L_{max}=\\dfrac{3\\pi}{\\mathbf{p}_{min}}$$\n",
    "\n",
    "We can use the relativistic $\\mathbf{p}_{min}$ to get the maximum box size"
   ]
  },
  {
   "cell_type": "code",
   "execution_count": 39,
   "metadata": {
    "ExecuteTime": {
     "end_time": "2016-09-13T00:03:50.202493",
     "start_time": "2016-09-13T00:03:50.198888"
    },
    "collapsed": false
   },
   "outputs": [
    {
     "name": "stdout",
     "output_type": "stream",
     "text": [
      "The maximum box size is LMax =  0.00904360557446\n"
     ]
    }
   ],
   "source": [
    "Lmax =(np.sqrt(3.0)*np.pi*hbarc/pmin)*FM /ANG\n",
    "print \"The maximum box size is LMax = \",Lmax"
   ]
  },
  {
   "cell_type": "markdown",
   "metadata": {
    "ExecuteTime": {
     "end_time": "2016-09-06T16:11:54.552734",
     "start_time": "2016-09-06T16:11:54.548782"
    }
   },
   "source": [
    "$$L_{max}=0.0090\\;\\mathring{A}$$"
   ]
  },
  {
   "cell_type": "markdown",
   "metadata": {},
   "source": [
    "For a range size  $L\\in[L_{min},L_{\\max}]$,\n",
    "$$0.004\\le L \\le0.009\\;\\mathring{A},$$\n",
    "\n",
    "we will compute the relativistic Kinetic energies, the rate of electron capture, and the effective power (ratio) for our box-induced electron capture.\n"
   ]
  },
  {
   "cell_type": "markdown",
   "metadata": {
    "ExecuteTime": {
     "end_time": "2016-09-05T23:36:55.786355",
     "start_time": "2016-09-05T23:36:55.782136"
    },
    "collapsed": true
   },
   "source": [
    "\n",
    "#### Rate of Confined Electron Capture\n",
    "\n",
    "We evaluate the (electron,proton) wavefunction at the origin ($\\hbar c=1$ again)\n",
    "\n",
    "\n",
    "$$d\\lambda_{ep}=\\left(\\dfrac{1}{2\\pi}\\right)^{2}\\dfrac{\\sum_{fi}\\big\\vert\\mathcal{M}_{fi}\\left[\\mathcal{p}_{ep}\\rightarrow i\\nabla)\\right]\\psi_{ep}(\\mathbf{x})\\big\\vert_{\\mathbf{x}=0}\\big\\vert^{2}}{16E_{p}E_{e}\\;\\big\\vert\\mathbf{k}\\cdot(E{_n}\\mathbf{k}-k^{0}\\mathbf{p}_{n})\\big\\vert}k^{3}d\\Omega_{k}$$\n",
    "\n",
    "\n"
   ]
  },
  {
   "cell_type": "code",
   "execution_count": null,
   "metadata": {
    "collapsed": true
   },
   "outputs": [],
   "source": []
  },
  {
   "cell_type": "code",
   "execution_count": null,
   "metadata": {
    "collapsed": true
   },
   "outputs": [],
   "source": []
  },
  {
   "cell_type": "markdown",
   "metadata": {
    "ExecuteTime": {
     "end_time": "2016-09-07T14:46:48.324226",
     "start_time": "2016-09-07T14:46:48.317861"
    }
   },
   "source": [
    "\n",
    "\n",
    "\n"
   ]
  },
  {
   "cell_type": "markdown",
   "metadata": {
    "ExecuteTime": {
     "end_time": "2016-09-05T23:36:55.786355",
     "start_time": "2016-09-05T23:36:55.782136"
    },
    "collapsed": true
   },
   "source": [
    "\n",
    "#### Matrix Elements \n",
    "\n",
    "The matrix elements $\\mathcal{M}_{fi}$ are\n",
    "\n",
    "$$\\mathcal{M}_{fi}=\\dfrac{G_{F}}{\\sqrt{2}}\\bar{u}(p_{n},s_{n})(G_{V}-G_{A}\\gamma^{5})\\gamma^{\\mu}u(p_{p},s_{p})\\times\\bar{u}(k,s_{k})\\gamma_{u}(1-\\gamma^{5})u(s_{e},p_{e})$$\n",
    "\n",
    "where $G_{F}=1.16637\\times 10^{-5}\\;GeV$, the neutron lifetime is reproduced with $G_{A}=1$, and $G_{V}=-1.2857$.\n",
    "\n",
    "$$\\bar{u}(p_{n},s_{n}),u(p_{p},s_{p}),\\bar{u}(k,s_{k}),u(s_{e},p_{e})$$\n",
    "\n",
    "are Dirac spinors (see above), and\n",
    "\n",
    "$$s_{n}, s_{p},s_{e},s_{k}$$ \n",
    "\n",
    "are 2-component spin vectors for the neutron, proton, electron, and electron neutrino, resp. \n",
    "\n",
    "The $\\gamma$ are 4-component Gamma matrices, and  $(\\cdots\\gamma^{\\mu}\\cdots\\gamma_{u}\\cdots)$ is the Einstein summation convention.\n"
   ]
  },
  {
   "cell_type": "raw",
   "metadata": {},
   "source": []
  },
  {
   "cell_type": "markdown",
   "metadata": {},
   "source": [
    "### Calculations\n",
    "\n",
    "Let $\\mathbf{C}_{had}$ and $\\mathbf{C}_{lep}$ be the 4-vectors representing the Hadron and Lepton (currents?), respectively, such that\n",
    "\n",
    "$$\\mathbf{C}_{had}=\\bar{u}(p_{n},s_{n})(G_{V}-G_{A}\\gamma^{5})\\gamma^{\\mu}u(p_{p},s_{p})$$\n",
    "\n",
    "$$\\mathbf{C}_{lep}=\\bar{u}(k,s_{k})\\gamma_{u}(1-\\gamma^{5})u(s_{e},p_{e})$$\n",
    "\n",
    "The total (4-vector) current amplitude is given by\n",
    "\n",
    "$$C^{2}_{amp}=(\\mathbf{C}_{had})^{\\mu}(\\mathbf{C}_{lep})_{\\mu}=C^{0}_{had}C^{0}_{lep}-C^{1}_{had}C^{1}_{lep}-C^{2}_{had}C^{2}_{lep}-C^{3}_{had}C^{3}_{lep}$$\n",
    "\n",
    "To compute the power, we will need the Real part of the amplitude\n",
    "\n",
    "$$C^{2}_{Re}=Re(\\bar{C}^{2}_{amp}{C}^{2}_{amp})$$\n",
    "\n",
    "which will we need to compute by Guassian quadrature\n",
    "\n",
    "[redo this, add more details of where power comes from..why we integrate over the neutrino solid angle]\n",
    "\n",
    "TODO: use J instead of C for the currents...and clean up this messy notation\n",
    "#### Power\n",
    "\n",
    "We have to integrate over the phase space momentum $k^{3}d\\Omega_{k}$.  We use an 8 point gaussian quadrature to  evaluate the neutrino momentum in spherical momentum coordinates, integrating over both the pitch and the gyrophase of the outgoing neutrino\n"
   ]
  },
  {
   "cell_type": "markdown",
   "metadata": {
    "ExecuteTime": {
     "end_time": "2016-09-06T00:23:41.048398",
     "start_time": "2016-09-06T00:23:41.046002"
    }
   },
   "source": [
    "$$(\\mathbf{p}_{e}-m_{e})(\\mathbf{p}_{p}-M_{p})$$\n"
   ]
  },
  {
   "cell_type": "raw",
   "metadata": {},
   "source": [
    "<pre> fact =rc*((pep/(2.d0*pi))**3)*(GF**2)*(dsqrt(pk(0)**2-dmnu**2))**3\n",
    "     1     /(512.d0 *(pi **2)* p2(0)* pe(0)* hbarc * 1.d-15*\n",
    "     1     dabs((pk(1) *(p1(0)* pk(1)-pk(0)* p1(1))) +\n",
    "     1     (pk(2)*(p1(0)* pk(2)-pk(0)* p1(2))) +\n",
    "     1     (pk(3)*(p1(0)* pk(3)-pk(0)* p1(3)))))\n",
    "     \n",
    "     1 N, 2 p\n",
    "</pre>    "
   ]
  },
  {
   "cell_type": "markdown",
   "metadata": {},
   "source": [
    "$$Power=Re(\\bar{C}^{2}_{amp}{C}^{2}_{amp})\\times\\left(\\dfrac{\\mathbf{p}_{ep}}{2\\pi}\\right)^{3}\\times\\dfrac{G_{F}^{2}(E^{2}_{\\nu}-m^{2}_{\\nu})^{3}}{512\\pi^{2}\\hbar cE_{p}E_{e}\\Big\\lvert\\sum_{i=1,3} p^{i}_{\\nu}(E_{N}p^{i}_{\\nu}-E_{\\nu}p^{i}_{N})\\Big\\rvert}$$\n",
    "\n",
    "I think this is correct...need to dervive from scratch.\n",
    "\n",
    "Of course, $\\mathbf{p}_{ep}$ is simply given by our particle-in-the-box expresson\n",
    "\n",
    "So the hard part is to integrate over the neutrino momentum"
   ]
  },
  {
   "cell_type": "markdown",
   "metadata": {
    "ExecuteTime": {
     "end_time": "2016-09-12T11:39:05.264294",
     "start_time": "2016-09-12T11:39:05.253310"
    },
    "collapsed": true
   },
   "source": [
    "### recoding PNNL in a few lines of python\n",
    "\n",
    "Note: we need to check the values of the physical constants\n",
    "\n",
    "http://pdg.lbl.gov/2015/reviews/rpp2015-rev-phys-constants.pdf"
   ]
  },
  {
   "cell_type": "code",
   "execution_count": null,
   "metadata": {
    "collapsed": true
   },
   "outputs": [],
   "source": []
  },
  {
   "cell_type": "code",
   "execution_count": 40,
   "metadata": {
    "ExecuteTime": {
     "end_time": "2016-09-13T00:03:52.896127",
     "start_time": "2016-09-13T00:03:52.878946"
    },
    "collapsed": false
   },
   "outputs": [
    {
     "name": "stdout",
     "output_type": "stream",
     "text": [
      "speed of light in meters / sec  299792458.0\n",
      "hbar in m2 kg / s  1.05457180014e-34\n",
      "angstrom in meters 1e-10\n",
      "angstrom in fm "
     ]
    },
    {
     "ename": "NameError",
     "evalue": "name 'u' is not defined",
     "output_type": "error",
     "traceback": [
      "\u001b[0;31m---------------------------------------------------------------------------\u001b[0m",
      "\u001b[0;31mNameError\u001b[0m                                 Traceback (most recent call last)",
      "\u001b[0;32m<ipython-input-40-5a4a83e3232e>\u001b[0m in \u001b[0;36m<module>\u001b[0;34m()\u001b[0m\n\u001b[1;32m     10\u001b[0m \u001b[0;34m\u001b[0m\u001b[0m\n\u001b[1;32m     11\u001b[0m \u001b[0;32mprint\u001b[0m \u001b[0;34m\"angstrom in meters\"\u001b[0m\u001b[0;34m,\u001b[0m \u001b[0mconstants\u001b[0m\u001b[0;34m.\u001b[0m\u001b[0mangstrom\u001b[0m\u001b[0;34m\u001b[0m\u001b[0m\n\u001b[0;32m---> 12\u001b[0;31m \u001b[0;32mprint\u001b[0m \u001b[0;34m\"angstrom in fm \"\u001b[0m\u001b[0;34m,\u001b[0m\u001b[0mconstants\u001b[0m\u001b[0;34m.\u001b[0m\u001b[0mangstrom\u001b[0m\u001b[0;34m/\u001b[0m\u001b[0mu\u001b[0m\u001b[0;34m.\u001b[0m\u001b[0mfemto\u001b[0m\u001b[0;34m\u001b[0m\u001b[0m\n\u001b[0m",
      "\u001b[0;31mNameError\u001b[0m: name 'u' is not defined"
     ]
    }
   ],
   "source": [
    "# scipy contains mant of the basic units\n",
    "# in meters\n",
    "\n",
    "# http://docs.scipy.org/doc/scipy/reference/constants.html\n",
    "import scipy\n",
    "from scipy import constants\n",
    "\n",
    "print \"speed of light in meters / sec \",constants.c\n",
    "print \"hbar in m2 kg / s \",constants.hbar\n",
    "\n",
    "print \"angstrom in meters\", constants.angstrom\n",
    "print \"angstrom in fm \",constants.angstrom/u.femto"
   ]
  },
  {
   "cell_type": "code",
   "execution_count": 41,
   "metadata": {
    "ExecuteTime": {
     "end_time": "2016-09-13T00:03:53.056093",
     "start_time": "2016-09-13T00:03:53.053013"
    },
    "collapsed": false
   },
   "outputs": [
    {
     "name": "stdout",
     "output_type": "stream",
     "text": [
      " 197.3269788 MeV fm\n"
     ]
    }
   ],
   "source": [
    "hbarc =  constants.value('Planck constant over 2 pi times c in MeV fm')\n",
    "print hbarc, \"MeV fm\""
   ]
  },
  {
   "cell_type": "code",
   "execution_count": 42,
   "metadata": {
    "ExecuteTime": {
     "end_time": "2016-09-13T00:03:53.232919",
     "start_time": "2016-09-13T00:03:53.229109"
    },
    "collapsed": false
   },
   "outputs": [
    {
     "name": "stdout",
     "output_type": "stream",
     "text": [
      "Mass proton, neutron, electon (in MeV)\n",
      "939.5654133 938.2720813 0.5109989461\n"
     ]
    }
   ],
   "source": [
    "Mp =  constants.value('neutron mass energy equivalent in MeV')\n",
    "Mn = constants.value('proton mass energy equivalent in MeV')\n",
    "me = constants.value('electron mass energy equivalent in MeV')\n",
    "\n",
    "print \"Mass proton, neutron, electon (in MeV)\"\n",
    "print Mp, Mn, me"
   ]
  },
  {
   "cell_type": "code",
   "execution_count": 43,
   "metadata": {
    "ExecuteTime": {
     "end_time": "2016-09-13T00:03:53.431920",
     "start_time": "2016-09-13T00:03:53.428766"
    },
    "collapsed": true
   },
   "outputs": [],
   "source": [
    "# useful constants: not in scypi (or sympy)\n",
    "\n",
    "# Hbar * c  in MeV-fm\n",
    "# see:  https://en.wikipedia.org/wiki/Planck_constant\n",
    "# iRick's value is different that the standatrd\n",
    "# hbarc = 197.3269631 # MeV−fm\n",
    "\n",
    "# electron neutrino mass in MeV\n",
    "# not available \n",
    "mnu = 1.e-8 # MeV\n"
   ]
  },
  {
   "cell_type": "code",
   "execution_count": 44,
   "metadata": {
    "ExecuteTime": {
     "end_time": "2016-09-13T00:03:53.995345",
     "start_time": "2016-09-13T00:03:53.991877"
    },
    "collapsed": false,
    "scrolled": true
   },
   "outputs": [],
   "source": [
    "# we use the python physics library sympy do to our calculations; the matrices are included\n",
    "import sympy\n",
    "from sympy import *\n",
    "from sympy.physics import units\n",
    "from sympy.physics.matrices import mgamma"
   ]
  },
  {
   "cell_type": "code",
   "execution_count": 45,
   "metadata": {
    "ExecuteTime": {
     "end_time": "2016-09-13T00:03:54.203127",
     "start_time": "2016-09-13T00:03:54.197028"
    },
    "collapsed": false
   },
   "outputs": [
    {
     "name": "stdout",
     "output_type": "stream",
     "text": [
      "1.16637870000000e-11 1/MeV^2\n",
      "1.0 -1.2759\n"
     ]
    }
   ],
   "source": [
    "#  High Energy Physics(HEP) Constants\n",
    "GF = GF = constants.value('Fermi coupling constant')*((units.mega/units.giga)**2)\n",
    "print GF, \"1/MeV^2\"\n",
    "\n",
    "# Vector Axial Couplings of the weak current to the nucleons\n",
    "# The currently accepted value of ga/gv is (2010?)\n",
    "# http://arxiv.org/pdf/1007.3790v2.pdf\n",
    "# (Im still looking for the most recent constant)\n",
    "GV = 1.0 \n",
    "GA = -1.27590*GV \n",
    "\n",
    "print GV, GA"
   ]
  },
  {
   "cell_type": "code",
   "execution_count": null,
   "metadata": {
    "ExecuteTime": {
     "end_time": "2016-09-12T12:57:38.236354",
     "start_time": "2016-09-12T12:57:38.230702"
    },
    "collapsed": false,
    "scrolled": false
   },
   "outputs": [],
   "source": []
  },
  {
   "cell_type": "markdown",
   "metadata": {
    "ExecuteTime": {
     "end_time": "2016-09-06T00:21:21.849706",
     "start_time": "2016-09-06T00:21:21.844824"
    }
   },
   "source": []
  },
  {
   "cell_type": "markdown",
   "metadata": {
    "ExecuteTime": {
     "end_time": "2016-09-06T17:29:48.133743",
     "start_time": "2016-09-06T17:29:48.129576"
    },
    "collapsed": true
   },
   "source": [
    "$$C_{left} = 1-\\gamma^{5}$$\n",
    "$$C_{GVGA} = G_{V}-G_{A}\\gamma^{5}$$\n"
   ]
  },
  {
   "cell_type": "code",
   "execution_count": 46,
   "metadata": {
    "ExecuteTime": {
     "end_time": "2016-09-13T00:03:55.020168",
     "start_time": "2016-09-13T00:03:55.014272"
    },
    "collapsed": false
   },
   "outputs": [
    {
     "data": {
      "text/plain": [
       "Matrix([\n",
       "[1.0,   0,  -1,   0],\n",
       "[  0, 1.0,   0,  -1],\n",
       "[ -1,   0, 1.0,   0],\n",
       "[  0,  -1,   0, 1.0]])"
      ]
     },
     "execution_count": 46,
     "metadata": {},
     "output_type": "execute_result"
    }
   ],
   "source": [
    "cLEFT = diag(1.0,1.0,1.0,1.0) - mgamma(5)\n",
    "cLEFT"
   ]
  },
  {
   "cell_type": "code",
   "execution_count": 47,
   "metadata": {
    "ExecuteTime": {
     "end_time": "2016-09-13T00:03:55.226584",
     "start_time": "2016-09-13T00:03:55.220344"
    },
    "collapsed": false
   },
   "outputs": [
    {
     "data": {
      "text/plain": [
       "Matrix([\n",
       "[   1.0,      0, 1.2759,      0],\n",
       "[     0,    1.0,      0, 1.2759],\n",
       "[1.2759,      0,    1.0,      0],\n",
       "[     0, 1.2759,      0,    1.0]])"
      ]
     },
     "execution_count": 47,
     "metadata": {},
     "output_type": "execute_result"
    }
   ],
   "source": [
    "cGVGA = diag(GV,GV,GV,GV) - GA*mgamma(5)\n",
    "cGVGA"
   ]
  },
  {
   "cell_type": "markdown",
   "metadata": {
    "ExecuteTime": {
     "end_time": "2016-09-07T13:55:21.378805",
     "start_time": "2016-09-07T13:55:21.375086"
    },
    "collapsed": true
   },
   "source": []
  },
  {
   "cell_type": "markdown",
   "metadata": {},
   "source": [
    "### sympy does not have a great module for Relativistic 4-vectors\n",
    "\n",
    "At least not something that is easy to read\n"
   ]
  },
  {
   "cell_type": "markdown",
   "metadata": {
    "ExecuteTime": {
     "end_time": "2016-09-12T15:05:48.320559",
     "start_time": "2016-09-12T15:05:48.270071"
    },
    "collapsed": true
   },
   "source": [
    "#### for now, I'll write up some basic classes, similar to Ricks\n",
    "\n",
    "If I can replace them I will"
   ]
  },
  {
   "cell_type": "markdown",
   "metadata": {},
   "source": [
    "### Dirac Spinors\n",
    "\n",
    "https://en.wikipedia.org/wiki/Dirac_spinor#Four-spinors\n",
    "\n",
    "#### Relativistic 4-vectors for particles\n",
    "$$u(\\overrightarrow{p},s=up)=\\sqrt{E+m}\\left[\\begin{array}{c}\n",
    "0\\\\\n",
    "1\\\\\n",
    "\\dfrac{p_{3}}{E+m}\\\\\n",
    "\\dfrac{p_{1}+ip_{2}}{E+m}\n",
    "\\end{array}\\right]\\;\\;u(\\overrightarrow{p},s=down)=\\sqrt{E+m}\\left[\\begin{array}{c}\n",
    "1\\\\\n",
    "0\\\\\n",
    "\\dfrac{p_{1}-ip_{2}}{E+m}\\\\\n",
    "\\dfrac{-p_{3}}{E+m}\n",
    "\\end{array}\\right]$$ \n"
   ]
  },
  {
   "cell_type": "code",
   "execution_count": 48,
   "metadata": {
    "ExecuteTime": {
     "end_time": "2016-09-13T00:03:56.105043",
     "start_time": "2016-09-13T00:03:56.094650"
    },
    "collapsed": false
   },
   "outputs": [],
   "source": [
    "# dirac spinors \n",
    "def spinu(p ,mass):\n",
    "    s = np.diag([1,1])\n",
    "    \n",
    "    denom = p[0] + mass\n",
    "    \n",
    "    fac = np.sqrt(denom)\n",
    "    phi = fac*cs\n",
    "    \n",
    "    wu = np.zeros([4,2], dtype=np.complex_)\n",
    "    wu[0,0] = 1.0\n",
    "    wu[1,1] = 1.0\n",
    "\n",
    "    wu[2,0] = p[3] / denom\n",
    "    wu[2,1] = (p[1] - p[2]*1.j) / denom\n",
    "    wu[3,0] = (p[1] + p[2]*1.j) / denom\n",
    "    wu[3,1] = -(p[3]) / denom\n",
    "\n",
    "    u = wu*phi\n",
    "    \n",
    "    return u"
   ]
  },
  {
   "cell_type": "code",
   "execution_count": 49,
   "metadata": {
    "ExecuteTime": {
     "end_time": "2016-09-13T00:03:56.298035",
     "start_time": "2016-09-13T00:03:56.295133"
    },
    "collapsed": false
   },
   "outputs": [],
   "source": [
    "# current 4-vector\n",
    "# <congj(ubar)| M | ubar>\n",
    "def ubaru(bra,mat,ket):\n",
    "    return 0"
   ]
  },
  {
   "cell_type": "markdown",
   "metadata": {
    "ExecuteTime": {
     "end_time": "2016-09-12T22:49:43.671025",
     "start_time": "2016-09-12T22:49:43.642618"
    }
   },
   "source": [
    "### Relativisitic Kinematic Calculations\n",
    "\n",
    "[need docs]"
   ]
  },
  {
   "cell_type": "code",
   "execution_count": 50,
   "metadata": {
    "ExecuteTime": {
     "end_time": "2016-09-13T00:03:56.650494",
     "start_time": "2016-09-13T00:03:56.647177"
    },
    "collapsed": true
   },
   "outputs": [],
   "source": [
    "# no complex conjugate ?\n",
    "def four_vector_norm(v,w):\n",
    "    return v[0]*w[0]-(v[1]*w[1]+v[2]+w[2]+v[3]*w[3])"
   ]
  },
  {
   "cell_type": "code",
   "execution_count": 51,
   "metadata": {
    "ExecuteTime": {
     "end_time": "2016-09-13T00:03:56.840175",
     "start_time": "2016-09-13T00:03:56.837992"
    },
    "collapsed": true
   },
   "outputs": [],
   "source": [
    "# maybe use\n",
    "# https://pypi.python.org/pypi/lorentz/0.0.1"
   ]
  },
  {
   "cell_type": "markdown",
   "metadata": {},
   "source": [
    "### Guassian Quadrature Code\n",
    "\n",
    "We use an 8-point Gaussian Quadrature to explicitly compute the Relativistic Kinematics\n",
    "\n",
    "=> need to explain the explicit integral over the neutrino KKE\n",
    "\n",
    "Integrate over solid angle 2.PI"
   ]
  },
  {
   "cell_type": "code",
   "execution_count": 52,
   "metadata": {
    "ExecuteTime": {
     "end_time": "2016-09-13T00:03:57.225342",
     "start_time": "2016-09-13T00:03:57.221637"
    },
    "collapsed": true
   },
   "outputs": [],
   "source": [
    "import numpy as np\n",
    "\n",
    "from numpy.polynomial.legendre import leggauss\n",
    "pg, wpg = leggauss(8)"
   ]
  },
  {
   "cell_type": "markdown",
   "metadata": {},
   "source": [
    "#### Transform gaussian quadrature points and weights\n",
    "\n",
    "$$ [-1,1] \\rightarrow [0, 2\\pi] $$\n",
    "$$ w\\rightarrow w\\pi $$"
   ]
  },
  {
   "cell_type": "code",
   "execution_count": 53,
   "metadata": {
    "ExecuteTime": {
     "end_time": "2016-09-13T00:03:57.585467",
     "start_time": "2016-09-13T00:03:57.582303"
    },
    "collapsed": false
   },
   "outputs": [],
   "source": [
    "pg = np.pi*(pg + 1.0) # x\n",
    "wpg = np.pi*wpg  # phi"
   ]
  },
  {
   "cell_type": "markdown",
   "metadata": {
    "ExecuteTime": {
     "end_time": "2016-09-12T23:28:24.331573",
     "start_time": "2016-09-12T23:28:24.327181"
    }
   },
   "source": [
    "### RLConf = Box confinment scale\n",
    "\n",
    "in units L (A°)\n",
    "\n",
    "for now, we use a box smaller than the Compton scale\n",
    "\n",
    "Also computes $ \\mathbf{p}_{ep} $ for a classical particle-in-the-box\n"
   ]
  },
  {
   "cell_type": "code",
   "execution_count": 65,
   "metadata": {
    "ExecuteTime": {
     "end_time": "2016-09-13T00:05:41.796515",
     "start_time": "2016-09-13T00:05:41.782356"
    },
    "collapsed": false
   },
   "outputs": [],
   "source": [
    "# this is totally stupid code and I will try to replace with sane pythone\n",
    "# there must be a simple function to get the grid\n",
    "rlconfs = []\n",
    "peps = []\n",
    "for iep in range(500):\n",
    "    pgrid =  np.exp(np.log(1e-11)+(float(iep)/500.0)*(np.log(100.0)-np.log(1e-11)))\n",
    "    pep = ( pmin + pgrid )/np.sqrt(3.0)\n",
    "    peps.append(pep)\n",
    "    rlconf = (1e-5)*hbarc*np.pi/pep\n",
    "    rlconfs.append(rlconf)"
   ]
  },
  {
   "cell_type": "code",
   "execution_count": 66,
   "metadata": {
    "ExecuteTime": {
     "end_time": "2016-09-13T00:05:44.081583",
     "start_time": "2016-09-13T00:05:44.078364"
    },
    "collapsed": false,
    "scrolled": true
   },
   "outputs": [
    {
     "name": "stdout",
     "output_type": "stream",
     "text": [
      "The box size is  0.000112578833397 0.000112578833397  Angstroms\n"
     ]
    }
   ],
   "source": [
    "print \"The box size is \",min(rlconfs), min(rlconfs),\" Angstroms\""
   ]
  },
  {
   "cell_type": "markdown",
   "metadata": {
    "ExecuteTime": {
     "end_time": "2016-09-12T23:41:28.434257",
     "start_time": "2016-09-12T23:41:28.431719"
    }
   },
   "source": [
    "### p vs L\n",
    "\n",
    "We can see how confinement causes the (proton/electon) to increase"
   ]
  },
  {
   "cell_type": "code",
   "execution_count": 67,
   "metadata": {
    "ExecuteTime": {
     "end_time": "2016-09-13T00:05:45.452743",
     "start_time": "2016-09-13T00:05:45.062969"
    },
    "collapsed": false
   },
   "outputs": [
    {
     "data": {
      "text/plain": [
       "<matplotlib.text.Text at 0x1152ee950>"
      ]
     },
     "execution_count": 67,
     "metadata": {},
     "output_type": "execute_result"
    },
    {
     "data": {
      "image/png": "[encoded data removed]",
      "text/plain": [
       "<matplotlib.figure.Figure at 0x11527e850>"
      ]
     },
     "metadata": {},
     "output_type": "display_data"
    }
   ],
   "source": [
    "plt.semilogx(np.array(rlconfs), np.array(peps))\n",
    "plt.xlabel(\"RLConf :  L (Angstrom)\")\n",
    "plt.ylabel(\"Pep (?)\")"
   ]
  },
  {
   "cell_type": "markdown",
   "metadata": {
    "ExecuteTime": {
     "end_time": "2016-09-12T23:35:55.984103",
     "start_time": "2016-09-12T23:35:55.981842"
    }
   },
   "source": [
    "### Calculaton of just kinetic energies\n",
    "\n",
    "#### No power calculation yet"
   ]
  },
  {
   "cell_type": "code",
   "execution_count": 68,
   "metadata": {
    "ExecuteTime": {
     "end_time": "2016-09-13T00:05:45.987996",
     "start_time": "2016-09-13T00:05:45.967796"
    },
    "collapsed": true
   },
   "outputs": [],
   "source": [
    "#  returns 4 vectors:  p1 , p2 , pe, pk \n",
    "\n",
    "#  assumes exactly cubic lattic:  pep1 = pep2 = pep3 = +|- pep\n",
    "def pekin(x , phi , pep ):\n",
    "    \n",
    "    p1 = np.zeros(4)\n",
    "    p2 = np.zeros(4)\n",
    "    pe = np.zeros(4)\n",
    "    pk = np.zeros(4)\n",
    "    \n",
    "    # proton\n",
    "    p2[0] = np.sqrt(Mp**2 + 3.0*pep**2)\n",
    "    p2[1] = -pep\n",
    "    p2[2] = -pep\n",
    "    p2[3] = -pep\n",
    "    \n",
    "    # electron\n",
    "    pe[0] = np.sqrt(me**2 + 3.0*pep**2)\n",
    "    pe[1] = pep\n",
    "    pe[2] = pep\n",
    "    pe[3] = pep\n",
    "    \n",
    "    Etot = p2[0] + pe[0]\n",
    "\n",
    "    Eknu = (( Etot-mnu)**2 - Mn**2)/(2.0*Etot )\n",
    "    Ekn = (( Etot-Mn)**2 - mnu**2)/(2.0*Etot )\n",
    "    pnu = np.sqrt((Eknu+mnu)**2 - mnu**2)\n",
    "    \n",
    "    pk[0] = Eknu + mnu\n",
    "    pk[1] = pnu*np.sqrt(1.0 - x**2)*cos(phi)\n",
    "    pk[2] = pnu*np.sqrt(1.0 - x**2)*sin(phi)\n",
    "    pk[3] = pnu*x\n",
    "    \n",
    "    # vector element wise addition\n",
    "    # neutron\n",
    "    p1 = p2 + pe - pk\n",
    "    \n",
    "    return p1, p2, pe, pk"
   ]
  },
  {
   "cell_type": "markdown",
   "metadata": {
    "ExecuteTime": {
     "end_time": "2016-09-13T00:01:53.108311",
     "start_time": "2016-09-13T00:01:53.104444"
    }
   },
   "source": [
    "### Let's just compute the Kinematics first\n",
    "\n",
    "This explains the integral over the neutrino KE\n",
    "\n",
    "And the sum  (not present yet) over pep1,pep2,pep3\n",
    "\n"
   ]
  },
  {
   "cell_type": "code",
   "execution_count": 69,
   "metadata": {
    "ExecuteTime": {
     "end_time": "2016-09-13T00:05:49.584766",
     "start_time": "2016-09-13T00:05:49.239120"
    },
    "collapsed": false,
    "scrolled": true
   },
   "outputs": [
    {
     "name": "stderr",
     "output_type": "stream",
     "text": [
      "/Users/charlesmartin14/anaconda/lib/python2.7/site-packages/ipykernel/__main__.py:30: RuntimeWarning: invalid value encountered in sqrt\n",
      "/Users/charlesmartin14/anaconda/lib/python2.7/site-packages/ipykernel/__main__.py:31: RuntimeWarning: invalid value encountered in sqrt\n"
     ]
    }
   ],
   "source": [
    "for i in range(8):\n",
    "    x, phi = pg[i], wpg[i]\n",
    "    for pep in peps:\n",
    "        p1, p2, pe, pk = pekin(x,phi,x)\n",
    "        "
   ]
  },
  {
   "cell_type": "markdown",
   "metadata": {},
   "source": [
    "### References\n",
    "\n",
    "[1] http://pdg.lbl.gov/2012/listings/rpp2012-list-p.pdf\n",
    "\n",
    "[2] \n",
    "\n",
    "[3]  B. Wang; et al. (2006). \"Change of the 7Be electron capture half-life in metallic environments\". The European Physical Journal A. 28: 375–377.\n",
    "\n",
    "[3b] Enhanced orbital electron-capture nuclear decay rate in compact medium \n",
    "https://arxiv.org/pdf/0904.0326.pdf\n",
    "\n",
    "[4]\n",
    "\n",
    "[5] Feynmann and Gelmann\n",
    "\n",
    "[5b] Theoretical Nuclear Physics (Dover Books on Physics) \n",
    "John M. Blatt and  Victor F. Weisskopf \n",
    "\n",
    "[6]  Electron Capture and Nuclear Matrix Elements of Be7\n",
    "John N. Bahcall  Phys. Rev. 128, 1297 (1962)\n",
    "\n",
    "[7] THE 7Be ELECTRON CAPTURE RATE IN THE SUN\n",
    "Andrei V. Gruzinov & John N. Bahcall (1997)\n",
    "http://arxiv.org/pdf/astro-ph/9702065v1.pdf\n",
    "\n",
    "[8] Hydrogen Electron Capture in Accreting Neutron Stars and the Resulting\n",
    "g-Mode Oscillation Spectrum\n",
    "Lars Bildsten and Andrew Cumming\n",
    "http://cds.cern.ch/record/358732/files/9807012.pdf\n",
    "\n",
    "[8b] Effect of Electron Capture on Temperature\n",
    "and Chemical Composition in Collapsing Dense Stars\n",
    "Kiyoshi NAKAZAWA. \n",
    "Progress of Theoretical Physics, Vol. 49, No. 6, June 1973\n",
    "\n",
    "[9]\n",
    "\n",
    "[10]\n",
    "\n",
    "[11] Electronic Structure of Quantum Confined Atoms and Molecules\n",
    "edited by K.D. Sen\n",
    "\n",
    "[12] Multiconfigurational nuclear-electronic orbital approach: Incorporation\n",
    "of nuclear quantum effects in electronic structure calculations\n",
    "Simon P. Webb, Tzvetelin Iordanov, and Sharon Hammes-Schiffer\n",
    "JOURNAL OF CHEMICAL PHYSICS VOLUME 117, NUMBER 9 1 SEPTEMBER 2002\n",
    "\n",
    "[13]Relativistic particle in a box\n",
    "Eur. J. Phys. 17 (1996) 19–24. Printed in the UK\n",
    "https://estudogeral.sib.uc.pt/bitstream/10316/12349/1/Relativistic%20particle%20in%20a%20box.pdf\n",
    "\n",
    "[14] CODATA 2010 value for Compton wavelength for the electron from NIST\n",
    "http://physics.nist.gov/cgi-bin/cuu/Value?ecomwl%7Csearch_for=Compton+wavelength\n",
    "\n",
    "[15]Garay, Luis J. \"Quantum Gravity And Minimum Length.\" International Journal of Modern Physics A 10.02 (1995): 145-65. Arxiv.org. Web. 3 June 2014. <http://arxiv.org/pdf/gr-qc/9403008v2.pdf>.\n",
    "\n",
    "[16] PLANCK SCALE TO COMPTON SCALE\n",
    "B.G. Sidharth (2006)\n",
    "http://arxiv.org/pdf/physics/0608222v1.pdf\n",
    "\n",
    "[17] Theoretical Nuclear Physics, Blatt and Weisskopf"
   ]
  },
  {
   "cell_type": "markdown",
   "metadata": {
    "ExecuteTime": {
     "end_time": "2016-09-05T23:47:36.541848",
     "start_time": "2016-09-05T23:47:36.537349"
    },
    "collapsed": true
   },
   "source": [
    "Papers discussing aspects of the decay rate of 7Be.\n",
    "\n",
    "http://marvin.byu.edu/cgi-bin/res/Be7References?type=Decay\n",
    "\n",
    "Bachall\n",
    "http://www.sns.ias.edu/~jnb/Biblio/biblio/paperstech.html"
   ]
  },
  {
   "cell_type": "code",
   "execution_count": null,
   "metadata": {
    "collapsed": true
   },
   "outputs": [],
   "source": []
  },
  {
   "cell_type": "code",
   "execution_count": null,
   "metadata": {
    "collapsed": true
   },
   "outputs": [],
   "source": []
  },
  {
   "cell_type": "code",
   "execution_count": null,
   "metadata": {
    "collapsed": true
   },
   "outputs": [],
   "source": []
  }
 ],
 "metadata": {
  "anaconda-cloud": {},
  "kernelspec": {
   "display_name": "Python [Root]",
   "language": "python",
   "name": "Python [Root]"
  },
  "language_info": {
   "codemirror_mode": {
    "name": "ipython",
    "version": 2
   },
   "file_extension": ".py",
   "mimetype": "text/x-python",
   "name": "python",
   "nbconvert_exporter": "python",
   "pygments_lexer": "ipython2",
   "version": "2.7.12"
  }
 },
 "nbformat": 4,
 "nbformat_minor": 0
}
