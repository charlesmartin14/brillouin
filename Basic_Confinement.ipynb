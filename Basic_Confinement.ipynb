{
 "cells": [
  {
   "cell_type": "code",
   "execution_count": null,
   "metadata": {
    "collapsed": true
   },
   "outputs": [],
   "source": []
  },
  {
   "cell_type": "markdown",
   "metadata": {
    "ExecuteTime": {
     "end_time": "2016-08-05T12:22:48.260040",
     "start_time": "2016-08-05T12:22:48.256867"
    }
   },
   "source": [
    "### Examples of using the Heisenberg Uncertainity Principle to compute energetics and distances for confinement\n",
    "\n",
    "#### Based on:\n",
    "\n",
    "http://hyperphysics.phy-astr.gsu.edu/hbase/quantum/carbconfine.html#c1\n",
    "\n",
    "\n",
    "$$\\Delta x\\Delta p\\geq \\dfrac{\\hbar}{2}$$\n",
    "\n",
    "#### We really need a units package\n",
    "\n",
    "For now, using units MeV, fm\n",
    "\n",
    "$$\\hbar c\\;\\;:\\;\\;MeV−fm$$\n",
    "\n",
    "### I wanted to recompute this and provide some references for others\n"
   ]
  },
  {
   "cell_type": "code",
   "execution_count": 32,
   "metadata": {
    "ExecuteTime": {
     "end_time": "2016-08-27T22:43:10.265643",
     "start_time": "2016-08-27T22:43:10.259585"
    },
    "collapsed": false,
    "scrolled": true
   },
   "outputs": [],
   "source": [
    "import matplotlib\n",
    "import numpy as np\n",
    "import matplotlib.pyplot as plt\n",
    "%matplotlib inline "
   ]
  },
  {
   "cell_type": "markdown",
   "metadata": {
    "ExecuteTime": {
     "end_time": "2016-07-29T13:30:28.405463",
     "start_time": "2016-07-29T13:30:28.402986"
    }
   },
   "source": [
    "#### constants"
   ]
  },
  {
   "cell_type": "code",
   "execution_count": 33,
   "metadata": {
    "ExecuteTime": {
     "end_time": "2016-08-27T22:43:10.565935",
     "start_time": "2016-08-27T22:43:10.554708"
    },
    "collapsed": false
   },
   "outputs": [],
   "source": [
    "pi = np.pi\n",
    "\n",
    "# Hbar * c \n",
    "hbarc = 197.3269631 # MeV−fm\n",
    "\n",
    "# ?\n",
    "rc = 299792458 # m/s\n",
    "alpha = 7.2973525376*1e-3\n",
    "e = 1.602176487*1e-13 # J/MeV\n",
    "\n",
    "# Avagadro's number\n",
    "dN0 = 6.02214179*1e23 # molˆ−1\n",
    "\n",
    "# Masses of proton, neutron, elecron in MeV\n",
    "dMp = 938.272013 # MeV\n",
    "dMn = 939.565346 # MeV\n",
    "dme = 0.510998910 # MeV\n",
    "\n",
    "\n",
    "dmnu = 1.e-8 # MeV\n",
    "dMd = 1875.612793 # MeV\n",
    "Gf = 1.16637*1e-11 # 1/MeVˆ2\n",
    "GV = 1.0 # 1.013 d0\n",
    "GA = -1.285*GV # −1.267\n",
    "gnpd = 10.6617553 #  11.3 in 9704031 v5 . pdf (pg 8−9)\n",
    "dkapp= 1.793 \n",
    "dkapn= -1.913\n",
    "dufac= 0.0"
   ]
  },
  {
   "cell_type": "markdown",
   "metadata": {
    "ExecuteTime": {
     "end_time": "2016-08-05T12:22:48.260040",
     "start_time": "2016-08-05T12:22:48.256867"
    }
   },
   "source": [
    "#### confinement examples\n",
    "\n",
    "$$\\Delta x\\geq \\dfrac{\\hbar}{2\\Delta p}$$\n",
    "\n",
    "http://hyperphysics.phy-astr.gsu.edu/hbase/quantum/carbconfine.html#c1"
   ]
  },
  {
   "cell_type": "code",
   "execution_count": 84,
   "metadata": {
    "ExecuteTime": {
     "end_time": "2016-08-27T23:32:40.310896",
     "start_time": "2016-08-27T23:32:40.308243"
    },
    "collapsed": true
   },
   "outputs": [],
   "source": [
    "NM = 1e-9\n",
    "FM = 1e-15\n",
    "ANG = 1e-10"
   ]
  },
  {
   "cell_type": "code",
   "execution_count": 62,
   "metadata": {
    "ExecuteTime": {
     "end_time": "2016-08-27T22:49:18.922681",
     "start_time": "2016-08-27T22:49:18.919167"
    },
    "collapsed": false
   },
   "outputs": [
    {
     "name": "stdout",
     "output_type": "stream",
     "text": [
      "182000.0 fm\n"
     ]
    }
   ],
   "source": [
    "C14_atom_diameter = (0.182*NM)/FM\n",
    "print C14_atom_diameter, \"fm\""
   ]
  },
  {
   "cell_type": "markdown",
   "metadata": {
    "ExecuteTime": {
     "end_time": "2016-08-27T22:26:43.574842",
     "start_time": "2016-08-27T22:26:43.571481"
    }
   },
   "source": [
    "$$ E_{min}=\\dfrac{9\\hbar^{2}}{2mL^{2}} $$"
   ]
  },
  {
   "cell_type": "code",
   "execution_count": 63,
   "metadata": {
    "ExecuteTime": {
     "end_time": "2016-08-27T22:49:21.289202",
     "start_time": "2016-08-27T22:49:21.285709"
    },
    "collapsed": false
   },
   "outputs": [],
   "source": [
    "# units:  L (fm);  m (MeV)\n",
    "# E  MeV\n",
    "def E_min_uncertain(L, m):\n",
    "    return 9.0*hbarc*hbarc/(2.0*m*(L**2))"
   ]
  },
  {
   "cell_type": "markdown",
   "metadata": {},
   "source": [
    "#### estimate first ionization potential"
   ]
  },
  {
   "cell_type": "code",
   "execution_count": 64,
   "metadata": {
    "ExecuteTime": {
     "end_time": "2016-08-27T22:49:21.645398",
     "start_time": "2016-08-27T22:49:21.643063"
    },
    "collapsed": false
   },
   "outputs": [],
   "source": [
    "C14_KEe_min = E_min_uncertain(C14_atom_diameter, dme)"
   ]
  },
  {
   "cell_type": "markdown",
   "metadata": {
    "ExecuteTime": {
     "end_time": "2016-08-27T22:44:39.363058",
     "start_time": "2016-08-27T22:44:39.360259"
    }
   },
   "source": [
    "\n",
    "convert MeV to eV"
   ]
  },
  {
   "cell_type": "code",
   "execution_count": 65,
   "metadata": {
    "ExecuteTime": {
     "end_time": "2016-08-27T22:49:22.137769",
     "start_time": "2016-08-27T22:49:22.134251"
    },
    "collapsed": false
   },
   "outputs": [
    {
     "name": "stdout",
     "output_type": "stream",
     "text": [
      "10.3519610241 eV\n"
     ]
    }
   ],
   "source": [
    "print C14_KEe_min/1e-6, \"eV\""
   ]
  },
  {
   "cell_type": "markdown",
   "metadata": {},
   "source": [
    "#### estimate nuclear binding energy"
   ]
  },
  {
   "cell_type": "code",
   "execution_count": 67,
   "metadata": {
    "ExecuteTime": {
     "end_time": "2016-08-27T22:49:27.921875",
     "start_time": "2016-08-27T22:49:27.918335"
    },
    "collapsed": false
   },
   "outputs": [
    {
     "name": "stdout",
     "output_type": "stream",
     "text": [
      "5.8 fm\n"
     ]
    }
   ],
   "source": [
    "C14_nuclear_diameter = 5.8\n",
    "print C14_nuclear_diameter, \"fm\""
   ]
  },
  {
   "cell_type": "code",
   "execution_count": 68,
   "metadata": {
    "ExecuteTime": {
     "end_time": "2016-08-27T22:50:06.423564",
     "start_time": "2016-08-27T22:50:06.419961"
    },
    "collapsed": true
   },
   "outputs": [],
   "source": [
    "C14_KEp_min = E_min_uncertain(C14_nuclear_diameter, dMp)"
   ]
  },
  {
   "cell_type": "code",
   "execution_count": 69,
   "metadata": {
    "ExecuteTime": {
     "end_time": "2016-08-27T22:50:14.591872",
     "start_time": "2016-08-27T22:50:14.587776"
    },
    "collapsed": false
   },
   "outputs": [
    {
     "name": "stdout",
     "output_type": "stream",
     "text": [
      "5.55137580806 MeV\n"
     ]
    }
   ],
   "source": [
    "print C14_KEp_min, \"MeV\""
   ]
  },
  {
   "cell_type": "markdown",
   "metadata": {
    "ExecuteTime": {
     "end_time": "2016-08-27T22:52:27.616468",
     "start_time": "2016-08-27T22:52:27.613540"
    }
   },
   "source": [
    "#### estimate L for confinement\n",
    "\n",
    "What is the minimum confinement of the electron (or proton) necessary to generate 782 MeV"
   ]
  },
  {
   "cell_type": "code",
   "execution_count": 72,
   "metadata": {
    "ExecuteTime": {
     "end_time": "2016-08-27T22:57:50.374837",
     "start_time": "2016-08-27T22:57:50.369880"
    },
    "collapsed": false
   },
   "outputs": [],
   "source": [
    "# units:  L (fm);  m (MeV)\n",
    "# E  MeV\n",
    "def L_min_uncertain(Emin, m):\n",
    "    return 3.0*hbarc/np.sqrt(2.0*m*Emin)"
   ]
  },
  {
   "cell_type": "code",
   "execution_count": 76,
   "metadata": {
    "ExecuteTime": {
     "end_time": "2016-08-27T22:59:56.739573",
     "start_time": "2016-08-27T22:59:56.735633"
    },
    "collapsed": false
   },
   "outputs": [
    {
     "name": "stdout",
     "output_type": "stream",
     "text": [
      "5.77476471665 fm\n"
     ]
    }
   ],
   "source": [
    "# check\n",
    "Emin = 5.6 # MeV\n",
    "print L_min_uncertain(Emin, dMp), \"fm\""
   ]
  },
  {
   "cell_type": "code",
   "execution_count": 79,
   "metadata": {
    "ExecuteTime": {
     "end_time": "2016-08-27T23:31:04.967951",
     "start_time": "2016-08-27T23:31:04.963287"
    },
    "collapsed": false
   },
   "outputs": [
    {
     "name": "stdout",
     "output_type": "stream",
     "text": [
      "0.782 MeV\n"
     ]
    }
   ],
   "source": [
    "Emin_EC = 782 / 1e3\n",
    "print Emin_EC, \"MeV\""
   ]
  },
  {
   "cell_type": "code",
   "execution_count": 88,
   "metadata": {
    "ExecuteTime": {
     "end_time": "2016-08-27T23:33:45.178597",
     "start_time": "2016-08-27T23:33:45.173757"
    },
    "collapsed": false
   },
   "outputs": [
    {
     "name": "stdout",
     "output_type": "stream",
     "text": [
      "662.184979837 fm\n"
     ]
    }
   ],
   "source": [
    "L_EC = L_min_uncertain(Emin_EC, dme)\n",
    "print L_EC, 'fm'"
   ]
  },
  {
   "cell_type": "code",
   "execution_count": 92,
   "metadata": {
    "ExecuteTime": {
     "end_time": "2016-08-27T23:35:00.861349",
     "start_time": "2016-08-27T23:35:00.857420"
    },
    "collapsed": false
   },
   "outputs": [
    {
     "name": "stdout",
     "output_type": "stream",
     "text": [
      "minimum electron confinment is  0.00662184979837  Ang\n"
     ]
    }
   ],
   "source": [
    "print \"minimum electron confinment is \",L_EC *FM /ANG, \" Ang\""
   ]
  },
  {
   "cell_type": "markdown",
   "metadata": {
    "ExecuteTime": {
     "end_time": "2016-08-27T23:38:50.074508",
     "start_time": "2016-08-27T23:38:50.071553"
    }
   },
   "source": [
    "### And this is the order of magnitude we see with the VA Calculation"
   ]
  },
  {
   "cell_type": "code",
   "execution_count": null,
   "metadata": {
    "collapsed": true
   },
   "outputs": [],
   "source": []
  }
 ],
 "metadata": {
  "anaconda-cloud": {},
  "kernelspec": {
   "display_name": "Python [Root]",
   "language": "python",
   "name": "Python [Root]"
  },
  "language_info": {
   "codemirror_mode": {
    "name": "ipython",
    "version": 2
   },
   "file_extension": ".py",
   "mimetype": "text/x-python",
   "name": "python",
   "nbconvert_exporter": "python",
   "pygments_lexer": "ipython2",
   "version": "2.7.12"
  }
 },
 "nbformat": 4,
 "nbformat_minor": 0
}
