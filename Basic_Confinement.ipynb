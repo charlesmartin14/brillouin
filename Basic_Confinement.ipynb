{
 "cells": [
  {
   "cell_type": "markdown",
   "metadata": {
    "ExecuteTime": {
     "end_time": "2016-08-05T12:22:48.260040",
     "start_time": "2016-08-05T12:22:48.256867"
    }
   },
   "source": [
    "### Examples of using the Heisenberg Uncertainity Principle to compute energetics and distances for confinement\n",
    "\n",
    "#### Based on:\n",
    "\n",
    "http://hyperphysics.phy-astr.gsu.edu/hbase/quantum/carbconfine.html#c1\n",
    "\n",
    "\n",
    "$$\\Delta x\\Delta p\\geq \\dfrac{\\hbar}{2}$$\n",
    "\n",
    "#### We really need a units package\n",
    "\n",
    "For now, using units MeV, fm\n",
    "\n",
    "$$\\hbar c\\;\\;:\\;\\;MeV−fm$$\n",
    "\n",
    "### I wanted to recompute this and provide some references for others\n"
   ]
  },
  {
   "cell_type": "code",
   "execution_count": 69,
   "metadata": {
    "ExecuteTime": {
     "end_time": "2016-08-28T19:45:45.907324",
     "start_time": "2016-08-28T19:45:45.897291"
    },
    "collapsed": false,
    "scrolled": true
   },
   "outputs": [
    {
     "name": "stdout",
     "output_type": "stream",
     "text": [
      "\n"
     ]
    }
   ],
   "source": [
    "import matplotlib\n",
    "import numpy as np\n",
    "import matplotlib.pyplot as plt\n",
    "%matplotlib inline "
   ]
  },
  {
   "cell_type": "markdown",
   "metadata": {
    "ExecuteTime": {
     "end_time": "2016-07-29T13:30:28.405463",
     "start_time": "2016-07-29T13:30:28.402986"
    }
   },
   "source": [
    "#### constants"
   ]
  },
  {
   "cell_type": "code",
   "execution_count": 70,
   "metadata": {
    "ExecuteTime": {
     "end_time": "2016-08-28T19:45:46.204480",
     "start_time": "2016-08-28T19:45:46.194004"
    },
    "collapsed": false
   },
   "outputs": [],
   "source": [
    "pi = np.pi\n",
    "\n",
    "# Hbar * c \n",
    "hbarc = 197.3269631 # MeV−fm\n",
    "\n",
    "# ?\n",
    "rc = 299792458 # m/s\n",
    "alpha = 7.2973525376*1e-3\n",
    "e = 1.602176487*1e-13 # J/MeV\n",
    "\n",
    "# Avagadro's number\n",
    "dN0 = 6.02214179*1e23 # molˆ−1\n",
    "\n",
    "# Masses of proton, neutron, elecron in MeV\n",
    "dMp = 938.272013 # MeV\n",
    "dMn = 939.565346 # MeV\n",
    "dme = 0.510998910 # MeV\n",
    "\n",
    "\n",
    "dmnu = 1.e-8 # MeV\n",
    "dMd = 1875.612793 # MeV\n",
    "Gf = 1.16637*1e-11 # 1/MeVˆ2\n",
    "GV = 1.0 # 1.013 d0\n",
    "GA = -1.285*GV # −1.267\n",
    "gnpd = 10.6617553 #  11.3 in 9704031 v5 . pdf (pg 8−9)\n",
    "dkapp= 1.793 \n",
    "dkapn= -1.913\n",
    "dufac= 0.0"
   ]
  },
  {
   "cell_type": "markdown",
   "metadata": {
    "ExecuteTime": {
     "end_time": "2016-08-05T12:22:48.260040",
     "start_time": "2016-08-05T12:22:48.256867"
    }
   },
   "source": [
    "#### confinement examples\n",
    "\n",
    "$$\\Delta x\\geq \\dfrac{\\hbar}{2\\Delta p}\\;\\;\\;\\;$$\n",
    "\n",
    "http://hyperphysics.phy-astr.gsu.edu/hbase/quantum/carbconfine.html#c1"
   ]
  },
  {
   "cell_type": "code",
   "execution_count": 71,
   "metadata": {
    "ExecuteTime": {
     "end_time": "2016-08-28T19:45:46.492688",
     "start_time": "2016-08-28T19:45:46.489875"
    },
    "collapsed": true
   },
   "outputs": [],
   "source": [
    "NM = 1e-9\n",
    "FM = 1e-15\n",
    "ANG = 1e-10"
   ]
  },
  {
   "cell_type": "code",
   "execution_count": 72,
   "metadata": {
    "ExecuteTime": {
     "end_time": "2016-08-28T19:45:46.640825",
     "start_time": "2016-08-28T19:45:46.637592"
    },
    "collapsed": false
   },
   "outputs": [
    {
     "name": "stdout",
     "output_type": "stream",
     "text": [
      "182000.0 fm\n"
     ]
    }
   ],
   "source": [
    "C14_atom_diameter = (0.182*NM)/FM\n",
    "print C14_atom_diameter, \"fm\""
   ]
  },
  {
   "cell_type": "markdown",
   "metadata": {
    "ExecuteTime": {
     "end_time": "2016-08-27T22:26:43.574842",
     "start_time": "2016-08-27T22:26:43.571481"
    }
   },
   "source": [
    "$$ E_{min}=\\dfrac{9\\hbar^{2}}{2mL^{2}} $$"
   ]
  },
  {
   "cell_type": "code",
   "execution_count": 73,
   "metadata": {
    "ExecuteTime": {
     "end_time": "2016-08-28T19:45:46.933835",
     "start_time": "2016-08-28T19:45:46.929742"
    },
    "collapsed": false
   },
   "outputs": [],
   "source": [
    "# units:  L (fm);  m (MeV)\n",
    "# E  MeV\n",
    "def E_min_uncertain(L, m):\n",
    "    return 9.0*hbarc*hbarc/(2.0*m*(L**2))"
   ]
  },
  {
   "cell_type": "markdown",
   "metadata": {},
   "source": [
    "#### estimate first ionization potential"
   ]
  },
  {
   "cell_type": "code",
   "execution_count": 74,
   "metadata": {
    "ExecuteTime": {
     "end_time": "2016-08-28T19:45:47.227390",
     "start_time": "2016-08-28T19:45:47.224827"
    },
    "collapsed": false
   },
   "outputs": [],
   "source": [
    "C14_KEe_min = E_min_uncertain(C14_atom_diameter, dme)"
   ]
  },
  {
   "cell_type": "markdown",
   "metadata": {
    "ExecuteTime": {
     "end_time": "2016-08-27T22:44:39.363058",
     "start_time": "2016-08-27T22:44:39.360259"
    }
   },
   "source": [
    "\n",
    "convert MeV to eV"
   ]
  },
  {
   "cell_type": "code",
   "execution_count": 75,
   "metadata": {
    "ExecuteTime": {
     "end_time": "2016-08-28T19:45:47.532147",
     "start_time": "2016-08-28T19:45:47.529175"
    },
    "collapsed": false
   },
   "outputs": [
    {
     "name": "stdout",
     "output_type": "stream",
     "text": [
      "10.3519610241 eV\n"
     ]
    }
   ],
   "source": [
    "print C14_KEe_min/1e-6, \"eV\""
   ]
  },
  {
   "cell_type": "markdown",
   "metadata": {},
   "source": [
    "#### estimate nuclear binding energy"
   ]
  },
  {
   "cell_type": "code",
   "execution_count": 76,
   "metadata": {
    "ExecuteTime": {
     "end_time": "2016-08-28T19:45:47.838676",
     "start_time": "2016-08-28T19:45:47.835204"
    },
    "collapsed": false
   },
   "outputs": [
    {
     "name": "stdout",
     "output_type": "stream",
     "text": [
      "5.8 fm\n"
     ]
    }
   ],
   "source": [
    "C14_nuclear_diameter = 5.8\n",
    "print C14_nuclear_diameter, \"fm\""
   ]
  },
  {
   "cell_type": "code",
   "execution_count": 77,
   "metadata": {
    "ExecuteTime": {
     "end_time": "2016-08-28T19:45:47.988939",
     "start_time": "2016-08-28T19:45:47.986264"
    },
    "collapsed": true
   },
   "outputs": [],
   "source": [
    "C14_KEp_min = E_min_uncertain(C14_nuclear_diameter, dMp)"
   ]
  },
  {
   "cell_type": "code",
   "execution_count": 78,
   "metadata": {
    "ExecuteTime": {
     "end_time": "2016-08-28T19:45:48.133823",
     "start_time": "2016-08-28T19:45:48.129859"
    },
    "collapsed": false
   },
   "outputs": [
    {
     "name": "stdout",
     "output_type": "stream",
     "text": [
      "5.55137580806 MeV\n"
     ]
    }
   ],
   "source": [
    "print C14_KEp_min, \"MeV\""
   ]
  },
  {
   "cell_type": "markdown",
   "metadata": {
    "ExecuteTime": {
     "end_time": "2016-08-27T22:52:27.616468",
     "start_time": "2016-08-27T22:52:27.613540"
    }
   },
   "source": [
    "#### estimate L for confinement\n",
    "\n",
    "What is the minimum confinement of the electron (or proton) necessary to generate 782 MeV"
   ]
  },
  {
   "cell_type": "markdown",
   "metadata": {},
   "source": [
    "\n",
    "For a 3D particle in a Box\n",
    "\n",
    "$$L=\\dfrac{3\\hbar}{\\sqrt{2m_{e}KE_{min}}}$$"
   ]
  },
  {
   "cell_type": "code",
   "execution_count": 79,
   "metadata": {
    "ExecuteTime": {
     "end_time": "2016-08-28T19:45:48.612829",
     "start_time": "2016-08-28T19:45:48.610036"
    },
    "collapsed": false
   },
   "outputs": [],
   "source": [
    "# units:  L (fm);  m (MeV)\n",
    "# E  MeV\n",
    "def L_min_uncertain(Emin, m):\n",
    "    return 3.0*hbarc/np.sqrt(2.0*m*Emin)"
   ]
  },
  {
   "cell_type": "code",
   "execution_count": 80,
   "metadata": {
    "ExecuteTime": {
     "end_time": "2016-08-28T19:45:48.777873",
     "start_time": "2016-08-28T19:45:48.774680"
    },
    "collapsed": false
   },
   "outputs": [
    {
     "name": "stdout",
     "output_type": "stream",
     "text": [
      "5.77476471665 fm\n"
     ]
    }
   ],
   "source": [
    "# check\n",
    "Emin = 5.6 # MeV\n",
    "print L_min_uncertain(Emin, dMp), \"fm\""
   ]
  },
  {
   "cell_type": "code",
   "execution_count": 81,
   "metadata": {
    "ExecuteTime": {
     "end_time": "2016-08-28T19:45:48.934054",
     "start_time": "2016-08-28T19:45:48.930136"
    },
    "collapsed": false
   },
   "outputs": [
    {
     "name": "stdout",
     "output_type": "stream",
     "text": [
      "0.782 MeV\n"
     ]
    }
   ],
   "source": [
    "Emin_EC = 782 / 1e3\n",
    "print Emin_EC, \"MeV\""
   ]
  },
  {
   "cell_type": "code",
   "execution_count": 82,
   "metadata": {
    "ExecuteTime": {
     "end_time": "2016-08-28T19:45:49.085208",
     "start_time": "2016-08-28T19:45:49.081456"
    },
    "collapsed": false
   },
   "outputs": [
    {
     "name": "stdout",
     "output_type": "stream",
     "text": [
      "662.184979837 fm\n"
     ]
    }
   ],
   "source": [
    "L_EC = L_min_uncertain(Emin_EC, dme)\n",
    "print L_EC, 'fm'"
   ]
  },
  {
   "cell_type": "code",
   "execution_count": 83,
   "metadata": {
    "ExecuteTime": {
     "end_time": "2016-08-28T19:45:49.238037",
     "start_time": "2016-08-28T19:45:49.234630"
    },
    "collapsed": false
   },
   "outputs": [
    {
     "name": "stdout",
     "output_type": "stream",
     "text": [
      "minimum electron confinment is  0.00662184979837  Ang\n"
     ]
    }
   ],
   "source": [
    "print \"minimum electron confinment is \",L_EC *FM /ANG, \" Ang\""
   ]
  },
  {
   "cell_type": "markdown",
   "metadata": {
    "ExecuteTime": {
     "end_time": "2016-08-27T23:38:50.074508",
     "start_time": "2016-08-27T23:38:50.071553"
    }
   },
   "source": [
    "### And this is the order of magnitude we see with the VA Calculation"
   ]
  },
  {
   "cell_type": "markdown",
   "metadata": {
    "ExecuteTime": {
     "end_time": "2016-08-28T19:38:38.662699",
     "start_time": "2016-08-28T19:38:38.660078"
    }
   },
   "source": []
  },
  {
   "cell_type": "markdown",
   "metadata": {},
   "source": [
    "##  TAP Relativistic Calculations\n",
    "\n",
    "### Uncertaintity Principle for 3D Particle in a Box"
   ]
  },
  {
   "cell_type": "markdown",
   "metadata": {},
   "source": [
    "We use the uncertainty principle to obtain\n",
    "\n",
    "$$ \\Delta x\\Delta p\\ge \\dfrac{\\hbar}{2} =\\dfrac{h}{2\\pi} $$\n",
    "\n",
    "For a 3D particle in a Box\n",
    "\n",
    "$$L=\\dfrac{3\\hbar}{\\sqrt{2m_{e}KE_{min}}}=\\dfrac{3\\hbar}{pmin}$$\n",
    "\n",
    "Where we use EKEmin to compute pmin\n"
   ]
  },
  {
   "cell_type": "markdown",
   "metadata": {
    "ExecuteTime": {
     "end_time": "2016-08-28T19:57:48.707494",
     "start_time": "2016-08-28T19:57:48.702100"
    }
   },
   "source": [
    "### The  TAP expresses L in terms of pmin\n",
    "\n",
    "## But TAP has\n",
    "\n",
    "$$L=\\dfrac{3\\hbar\\pi}{pmin}$$\n"
   ]
  },
  {
   "cell_type": "markdown",
   "metadata": {
    "ExecuteTime": {
     "end_time": "2016-08-28T19:58:13.518725",
     "start_time": "2016-08-28T19:58:13.515754"
    }
   },
   "source": [
    "### Relativistic KE, pmin"
   ]
  },
  {
   "cell_type": "markdown",
   "metadata": {
    "ExecuteTime": {
     "end_time": "2016-08-28T18:50:17.822985",
     "start_time": "2016-08-28T18:50:17.818732"
    }
   },
   "source": [
    "\n",
    "$$EKemin:\\;\\;K_{e}=E_{e}-m_{e}=\\dfrac{(M_{n}−m_{e}+m_{\\nu})^{2}−M^{2}_{p}}{2(M_{n}+m_{\\nu})}$$\n",
    " "
   ]
  },
  {
   "cell_type": "markdown",
   "metadata": {
    "ExecuteTime": {
     "end_time": "2016-08-28T19:37:10.126684",
     "start_time": "2016-08-28T19:37:10.118981"
    }
   },
   "source": [
    " \n",
    " $$ pmin:\\;\\;\\sqrt{(K_{e}+m_{e})^{2}-m_{e}^{2}} $$"
   ]
  },
  {
   "cell_type": "code",
   "execution_count": 122,
   "metadata": {
    "ExecuteTime": {
     "end_time": "2016-08-28T19:58:51.505327",
     "start_time": "2016-08-28T19:58:51.500034"
    },
    "collapsed": false
   },
   "outputs": [
    {
     "name": "stdout",
     "output_type": "stream",
     "text": [
      "Kinetic Energy terms (EKemin, pmin) 0.781582906698 1.18728592464 MeV\n"
     ]
    }
   ],
   "source": [
    "Ekemin = ((dMn + dmnu - dme)**2 - dMp**2)/(2.0*(dMn+dmnu))\n",
    "pmin = np.sqrt(( Ekemin+dme)**2 - dme**2)\n",
    "print \"Kinetic Energy terms (EKemin, pmin)\", Ekemin, pmin, \"MeV\""
   ]
  },
  {
   "cell_type": "code",
   "execution_count": 123,
   "metadata": {
    "ExecuteTime": {
     "end_time": "2016-08-28T19:58:51.977044",
     "start_time": "2016-08-28T19:58:51.973645"
    },
    "collapsed": false
   },
   "outputs": [
    {
     "name": "stdout",
     "output_type": "stream",
     "text": [
      "minimum electron confinment is  0.00662361644449  Ang\n"
     ]
    }
   ],
   "source": [
    "L_EC = L_min_uncertain(Ekemin, dme)\n",
    "print \"minimum electron confinment is \",L_EC *FM /ANG, \" Ang\""
   ]
  },
  {
   "cell_type": "code",
   "execution_count": 133,
   "metadata": {
    "ExecuteTime": {
     "end_time": "2016-08-28T20:12:55.925826",
     "start_time": "2016-08-28T20:12:55.922685"
    },
    "collapsed": true
   },
   "outputs": [],
   "source": [
    "def L_min_for_pmin(pmin, me):\n",
    "    return np.sqrt(3.0)*hbarc/pmin"
   ]
  },
  {
   "cell_type": "code",
   "execution_count": 134,
   "metadata": {
    "ExecuteTime": {
     "end_time": "2016-08-28T20:12:56.106388",
     "start_time": "2016-08-28T20:12:56.101211"
    },
    "collapsed": false
   },
   "outputs": [
    {
     "name": "stdout",
     "output_type": "stream",
     "text": [
      "minimum electron confinment is  0.0028786690611  Ang\n",
      "X PI  0.00904360557446  Ang\n"
     ]
    }
   ],
   "source": [
    "L_EC = L_min_for_pmin(pmin, dme)\n",
    "print \"minimum electron confinment is \",L_EC *FM /ANG, \" Ang\"\n",
    "print \"X PI \",pi*L_EC *FM /ANG, \" Ang\""
   ]
  },
  {
   "cell_type": "markdown",
   "metadata": {},
   "source": [
    "### Why is my equation off by pi ?"
   ]
  },
  {
   "cell_type": "code",
   "execution_count": null,
   "metadata": {
    "collapsed": true
   },
   "outputs": [],
   "source": []
  }
 ],
 "metadata": {
  "anaconda-cloud": {},
  "kernelspec": {
   "display_name": "Python [Root]",
   "language": "python",
   "name": "Python [Root]"
  },
  "language_info": {
   "codemirror_mode": {
    "name": "ipython",
    "version": 2
   },
   "file_extension": ".py",
   "mimetype": "text/x-python",
   "name": "python",
   "nbconvert_exporter": "python",
   "pygments_lexer": "ipython2",
   "version": "2.7.12"
  }
 },
 "nbformat": 4,
 "nbformat_minor": 0
}
